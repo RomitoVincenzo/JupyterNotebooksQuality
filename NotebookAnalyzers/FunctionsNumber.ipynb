{
 "cells": [
  {
   "cell_type": "markdown",
   "id": "bulgarian-assets",
   "metadata": {},
   "source": [
    "LOAD METHOD "
   ]
  },
  {
   "cell_type": "code",
   "execution_count": 36,
   "id": "binding-update",
   "metadata": {
    "scrolled": true
   },
   "outputs": [],
   "source": [
    "import json\n",
    "def notebookToPyCodeLoad(filename):\n",
    "    #The function takes the name of the desired .ipynb file in the target notebooks folder and returns a python code string\n",
    "    f = open(\"../TargetNotebooks/\"+(filename),)\n",
    "    data = json.load(f)\n",
    "    code=[]\n",
    "    for cell in data[\"cells\"]:\n",
    "        if cell[\"cell_type\"] == 'code':\n",
    "            code.append(''.join(cell[\"source\"]))\n",
    "    code = ''.join(code)\n",
    "    return code"
   ]
  },
  {
   "cell_type": "markdown",
   "id": "surgical-consultancy",
   "metadata": {},
   "source": [
    "NB CONVERTER METHOD"
   ]
  },
  {
   "cell_type": "code",
   "execution_count": 37,
   "id": "stuck-mountain",
   "metadata": {},
   "outputs": [],
   "source": [
    "from notebooktoall.transform import transform_notebook"
   ]
  },
  {
   "cell_type": "code",
   "execution_count": 38,
   "id": "closed-universal",
   "metadata": {},
   "outputs": [],
   "source": [
    "def notebookToPyFile(filename):\n",
    "    #The function takes the name of the desired .ipynb file in the target notebooks folder, converts it into a .py file,\n",
    "    #and returns the name of the .py file\n",
    "    transform_notebook(ipynb_file=\"../TargetNotebooks/\"+(filename), export_list=[\"py\"])\n",
    "    return filename.replace(\".ipynb\",\".py\")"
   ]
  },
  {
   "cell_type": "code",
   "execution_count": 39,
   "id": "terminal-speech",
   "metadata": {},
   "outputs": [],
   "source": [
    "def notebookToPyCodeNb(filename):\n",
    "    #The function takes the name of the desired .ipynb file in the target notebooks folder\n",
    "    #transform it into a .py file thanks to the notebookToPyFile() function\n",
    "    #and returns a python code string\n",
    "    with open(notebookToPyFile(filename), 'r') as file:\n",
    "        code = file.read().replace('\\n', '')\n",
    "    return code"
   ]
  },
  {
   "cell_type": "markdown",
   "id": "cordless-produce",
   "metadata": {},
   "source": [
    "_______________"
   ]
  },
  {
   "cell_type": "code",
   "execution_count": 46,
   "id": "close-appraisal",
   "metadata": {},
   "outputs": [],
   "source": [
    "import ast\n",
    "def FunctionNumberNbTree(filename):\n",
    "    #The function takes the desired .ipynb file in the target notebooks folder, \n",
    "    #converts to a .py it thanks to the notebookToPyFile function\n",
    "    #and returns the number of function definitions thanks to the parse tree of the .py file\n",
    "    with open(notebookToPyFile(filename), 'r') as f:\n",
    "        tree = ast.parse(f.read())\n",
    "        f_num=sum(isinstance(exp, ast.FunctionDef) for exp in tree.body)\n",
    "    return f_num"
   ]
  },
  {
   "cell_type": "code",
   "execution_count": null,
   "id": "interracial-smile",
   "metadata": {},
   "outputs": [],
   "source": [
    "def FunctionNumberNb(filename):\n",
    "    #The function takes the desired .ipynb file,\n",
    "    #extract the code from the NB Converted file thanks to notebookToPyCodeNb() function\n",
    "    #and returns the number of function definitions in the Python code\n",
    "    return notebookToPyCodeNb(filename).count(\"def \")"
   ]
  },
  {
   "cell_type": "code",
   "execution_count": null,
   "id": "radical-imagination",
   "metadata": {},
   "outputs": [],
   "source": [
    "def FunctionNumberLoad(filename):\n",
    "    #The function takes the desired .ipynb file, thanks to the notebookToPyCodeLoad() extracts the code from the full JSON file\n",
    "    #and returns the number of function definitions in the Python code\n",
    "    return notebookToPyCodeLoad(filename).count(\"def \")"
   ]
  },
  {
   "cell_type": "markdown",
   "id": "neither-press",
   "metadata": {},
   "source": [
    "___________________________________________________________________________________________________________________"
   ]
  },
  {
   "cell_type": "code",
   "execution_count": 47,
   "id": "russian-angel",
   "metadata": {},
   "outputs": [
    {
     "data": {
      "text/plain": [
       "3"
      ]
     },
     "execution_count": 47,
     "metadata": {},
     "output_type": "execute_result"
    }
   ],
   "source": [
    "FunctionNumberNbTree(\"my-attempt-at-analytics-vidhya-job-a-thon.ipynb\")"
   ]
  },
  {
   "cell_type": "code",
   "execution_count": 48,
   "id": "willing-celebrity",
   "metadata": {},
   "outputs": [
    {
     "data": {
      "text/plain": [
       "3"
      ]
     },
     "execution_count": 48,
     "metadata": {},
     "output_type": "execute_result"
    }
   ],
   "source": [
    "FunctionNumberLoad(\"my-attempt-at-analytics-vidhya-job-a-thon.ipynb\")"
   ]
  },
  {
   "cell_type": "code",
   "execution_count": 49,
   "id": "charitable-carbon",
   "metadata": {},
   "outputs": [
    {
     "data": {
      "text/plain": [
       "3"
      ]
     },
     "execution_count": 49,
     "metadata": {},
     "output_type": "execute_result"
    }
   ],
   "source": [
    "FunctionNumberNb(\"my-attempt-at-analytics-vidhya-job-a-thon.ipynb\")"
   ]
  },
  {
   "cell_type": "code",
   "execution_count": null,
   "id": "continued-bahamas",
   "metadata": {},
   "outputs": [],
   "source": []
  }
 ],
 "metadata": {
  "kernelspec": {
   "display_name": "testEnvKernel",
   "language": "python",
   "name": "testenvkernel"
  },
  "language_info": {
   "codemirror_mode": {
    "name": "ipython",
    "version": 3
   },
   "file_extension": ".py",
   "mimetype": "text/x-python",
   "name": "python",
   "nbconvert_exporter": "python",
   "pygments_lexer": "ipython3",
   "version": "3.6.13"
  }
 },
 "nbformat": 4,
 "nbformat_minor": 5
}
