{
 "cells": [
  {
   "cell_type": "markdown",
   "id": "pacific-synthetic",
   "metadata": {},
   "source": [
    "# Cells order of execution"
   ]
  },
  {
   "cell_type": "code",
   "execution_count": 1,
   "id": "military-earthquake",
   "metadata": {},
   "outputs": [],
   "source": [
    "import utils"
   ]
  },
  {
   "cell_type": "code",
   "execution_count": 2,
   "id": "frequent-assembly",
   "metadata": {},
   "outputs": [],
   "source": [
    "notebook=utils.notebook_to_json(\"my-attempt-at-analytics-vidhya-job-a-thon.ipynb\")"
   ]
  },
  {
   "cell_type": "code",
   "execution_count": 3,
   "id": "identical-astronomy",
   "metadata": {},
   "outputs": [
    {
     "data": {
      "text/plain": "True"
     },
     "execution_count": 3,
     "metadata": {},
     "output_type": "execute_result"
    }
   ],
   "source": [
    "utils.cells_correct_order(notebook)"
   ]
  }
 ],
 "metadata": {
  "kernelspec": {
   "display_name": "myenvKernel",
   "language": "python",
   "name": "myenvkernel"
  },
  "language_info": {
   "codemirror_mode": {
    "name": "ipython",
    "version": 3
   },
   "file_extension": ".py",
   "mimetype": "text/x-python",
   "name": "python",
   "nbconvert_exporter": "python",
   "pygments_lexer": "ipython3",
   "version": "3.6.13"
  }
 },
 "nbformat": 4,
 "nbformat_minor": 5
}