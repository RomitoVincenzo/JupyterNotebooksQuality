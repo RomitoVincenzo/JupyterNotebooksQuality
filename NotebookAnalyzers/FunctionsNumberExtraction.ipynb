{
 "cells": [
  {
   "cell_type": "markdown",
   "id": "statutory-helicopter",
   "metadata": {},
   "source": [
    "# Number of functions extraction"
   ]
  },
  {
   "cell_type": "code",
   "execution_count": 23,
   "id": "institutional-castle",
   "metadata": {},
   "outputs": [],
   "source": [
    "import utils"
   ]
  },
  {
   "cell_type": "code",
   "execution_count": 24,
   "id": "norwegian-finance",
   "metadata": {},
   "outputs": [],
   "source": [
    "code = utils.notebookToCode(\"my-attempt-at-analytics-vidhya-job-a-thon.ipynb\")"
   ]
  },
  {
   "cell_type": "code",
   "execution_count": 25,
   "id": "sorted-shock",
   "metadata": {},
   "outputs": [
    {
     "data": {
      "text/plain": [
       "3"
      ]
     },
     "execution_count": 25,
     "metadata": {},
     "output_type": "execute_result"
    }
   ],
   "source": [
    "functionsNumber(code)"
   ]
  },
  {
   "cell_type": "code",
   "execution_count": null,
   "id": "intimate-lambda",
   "metadata": {},
   "outputs": [],
   "source": []
  }
 ],
 "metadata": {
  "kernelspec": {
   "display_name": "myenvKernel",
   "language": "python",
   "name": "myenvkernel"
  },
  "language_info": {
   "codemirror_mode": {
    "name": "ipython",
    "version": 3
   },
   "file_extension": ".py",
   "mimetype": "text/x-python",
   "name": "python",
   "nbconvert_exporter": "python",
   "pygments_lexer": "ipython3",
   "version": "3.6.13"
  }
 },
 "nbformat": 4,
 "nbformat_minor": 5
}
