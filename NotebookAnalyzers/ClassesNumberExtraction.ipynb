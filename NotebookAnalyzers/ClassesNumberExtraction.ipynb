{
 "cells": [
  {
   "cell_type": "markdown",
   "id": "complicated-reason",
   "metadata": {},
   "source": [
    "# Number of classes example"
   ]
  },
  {
   "cell_type": "code",
   "execution_count": 1,
   "id": "physical-chassis",
   "metadata": {},
   "outputs": [],
   "source": [
    "import utils"
   ]
  },
  {
   "cell_type": "code",
   "execution_count": 2,
   "id": "adult-topic",
   "metadata": {},
   "outputs": [],
   "source": [
    "pyCode=utils.notebook_to_code(\"my-attempt-at-analytics-vidhya-job-a-thon.ipynb\")"
   ]
  },
  {
   "cell_type": "code",
   "execution_count": 3,
   "id": "spatial-claim",
   "metadata": {},
   "outputs": [
    {
     "data": {
      "text/plain": "0"
     },
     "execution_count": 3,
     "metadata": {},
     "output_type": "execute_result"
    }
   ],
   "source": [
    "utils.classes_number(pyCode)"
   ]
  }
 ],
 "metadata": {
  "kernelspec": {
   "display_name": "myenvKernel",
   "language": "python",
   "name": "myenvkernel"
  },
  "language_info": {
   "codemirror_mode": {
    "name": "ipython",
    "version": 3
   },
   "file_extension": ".py",
   "mimetype": "text/x-python",
   "name": "python",
   "nbconvert_exporter": "python",
   "pygments_lexer": "ipython3",
   "version": "3.6.13"
  }
 },
 "nbformat": 4,
 "nbformat_minor": 5
}