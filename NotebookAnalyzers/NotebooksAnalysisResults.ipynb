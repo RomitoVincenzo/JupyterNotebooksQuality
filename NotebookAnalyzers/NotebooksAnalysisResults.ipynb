{
 "cells": [
  {
   "cell_type": "markdown",
   "metadata": {},
   "source": [
    "# Notebooks Analysis Results"
   ]
  },
  {
   "cell_type": "markdown",
   "metadata": {},
   "source": [
    "### Imports\n",
    "* \"os\" per la gestione dei file,\n",
    "* \"pandas\" per la creazione del dataframe con i risultati di analisi\n",
    "* \"pynblint\", il modulo contenente le operazionalizzazioni delle best practice\n",
    "* \"config\" per la dinamicità dei percorsi di progetto\n",
    "* \"entities\" per modellare i soggetti dello studio (Notebooks, ecc.)"
   ]
  },
  {
   "cell_type": "code",
   "execution_count": 1,
   "metadata": {},
   "outputs": [],
   "source": [
    "import os\n",
    "import pynblint\n",
    "import pandas\n",
    "import config\n",
    "import entities"
   ]
  },
  {
   "cell_type": "markdown",
   "metadata": {},
   "source": [
    "### Processing"
   ]
  },
  {
   "cell_type": "markdown",
   "metadata": {},
   "source": [
    "Ogni target notebook viene analizzato applicando le funzioni per l'analisi della qualità che rispecchiano le best practice individuate"
   ]
  },
  {
   "cell_type": "code",
   "execution_count": 2,
   "metadata": {
    "scrolled": true
   },
   "outputs": [],
   "source": [
    "data=[]\n",
    "for filename in os.listdir(config.data_path):\n",
    "       if filename.endswith(\".ipynb\"):\n",
    "              notebook = entities.Notebook(config.data_path+filename)\n",
    "              result = notebook.get_pynblint_results()\n",
    "              data.append(result)\n",
    "              os.remove(filename[:-5]+\"py\")"
   ]
  },
  {
   "cell_type": "markdown",
   "metadata": {},
   "source": [
    "### Display results"
   ]
  },
  {
   "cell_type": "markdown",
   "metadata": {},
   "source": [
    "Tutte le osservazioni riguardanti un notebook sono contenute in un'unica tupla, il dataframe viene dunque creato come una lista di tuple, assegnando i corrispondenti nomi alle osservazioni sulle colonne. Ogni riga è un target notebook."
   ]
  },
  {
   "cell_type": "code",
   "execution_count": 3,
   "metadata": {},
   "outputs": [
    {
     "data": {
      "text/html": [
       "<div>\n",
       "<style scoped>\n",
       "    .dataframe tbody tr th:only-of-type {\n",
       "        vertical-align: middle;\n",
       "    }\n",
       "\n",
       "    .dataframe tbody tr th {\n",
       "        vertical-align: top;\n",
       "    }\n",
       "\n",
       "    .dataframe thead th {\n",
       "        text-align: right;\n",
       "    }\n",
       "</style>\n",
       "<table border=\"1\" class=\"dataframe\">\n",
       "  <thead>\n",
       "    <tr style=\"text-align: right;\">\n",
       "      <th></th>\n",
       "      <th>notebookName</th>\n",
       "      <th>numberOfCells</th>\n",
       "      <th>numberOfMDCells</th>\n",
       "      <th>numberOfCodeCells</th>\n",
       "      <th>numberOfRawCells</th>\n",
       "      <th>linearExecutionOrder</th>\n",
       "      <th>numberOfClassDefinitions</th>\n",
       "      <th>numberOfFunctionDefinitions</th>\n",
       "      <th>allImportsInFirstCell</th>\n",
       "      <th>numberOfMarkdownLines</th>\n",
       "      <th>numberOfMarkdownTitles</th>\n",
       "      <th>bottomMarkdownLinesRatio</th>\n",
       "      <th>nonExecutedCells</th>\n",
       "      <th>emptyCells</th>\n",
       "      <th>bottomNonExecutedCells</th>\n",
       "      <th>bottomEmptyCells</th>\n",
       "    </tr>\n",
       "  </thead>\n",
       "  <tbody>\n",
       "    <tr>\n",
       "      <th>0</th>\n",
       "      <td>my-attempt-at-analytics-vidhya-job-a-thon.ipynb</td>\n",
       "      <td>78</td>\n",
       "      <td>4</td>\n",
       "      <td>74</td>\n",
       "      <td>0</td>\n",
       "      <td>True</td>\n",
       "      <td>0</td>\n",
       "      <td>3</td>\n",
       "      <td>False</td>\n",
       "      <td>7</td>\n",
       "      <td>2</td>\n",
       "      <td>0.0</td>\n",
       "      <td>0</td>\n",
       "      <td>3</td>\n",
       "      <td>0</td>\n",
       "      <td>2</td>\n",
       "    </tr>\n",
       "  </tbody>\n",
       "</table>\n",
       "</div>"
      ],
      "text/plain": [
       "                                      notebookName  numberOfCells  \\\n",
       "0  my-attempt-at-analytics-vidhya-job-a-thon.ipynb             78   \n",
       "\n",
       "   numberOfMDCells  numberOfCodeCells  numberOfRawCells  linearExecutionOrder  \\\n",
       "0                4                 74                 0                  True   \n",
       "\n",
       "   numberOfClassDefinitions  numberOfFunctionDefinitions  \\\n",
       "0                         0                            3   \n",
       "\n",
       "   allImportsInFirstCell  numberOfMarkdownLines  numberOfMarkdownTitles  \\\n",
       "0                  False                      7                       2   \n",
       "\n",
       "   bottomMarkdownLinesRatio  nonExecutedCells  emptyCells  \\\n",
       "0                       0.0                 0           3   \n",
       "\n",
       "   bottomNonExecutedCells  bottomEmptyCells  \n",
       "0                       0                 2  "
      ]
     },
     "execution_count": 3,
     "metadata": {},
     "output_type": "execute_result"
    }
   ],
   "source": [
    "df = pandas.DataFrame(data)\n",
    "df"
   ]
  },
  {
   "cell_type": "markdown",
   "metadata": {},
   "source": [
    "## Analysis of a github repository"
   ]
  },
  {
   "cell_type": "code",
   "execution_count": 4,
   "metadata": {},
   "outputs": [],
   "source": [
    "repo = entities.GitHubRepository('https://github.com/collab-uniba/Sentiment_Analysis_4SE_BERT')"
   ]
  },
  {
   "cell_type": "code",
   "execution_count": 5,
   "metadata": {},
   "outputs": [
    {
     "data": {
      "text/html": [
       "<div>\n",
       "<style scoped>\n",
       "    .dataframe tbody tr th:only-of-type {\n",
       "        vertical-align: middle;\n",
       "    }\n",
       "\n",
       "    .dataframe tbody tr th {\n",
       "        vertical-align: top;\n",
       "    }\n",
       "\n",
       "    .dataframe thead th {\n",
       "        text-align: right;\n",
       "    }\n",
       "</style>\n",
       "<table border=\"1\" class=\"dataframe\">\n",
       "  <thead>\n",
       "    <tr style=\"text-align: right;\">\n",
       "      <th></th>\n",
       "      <th>notebookName</th>\n",
       "      <th>numberOfCells</th>\n",
       "      <th>numberOfMDCells</th>\n",
       "      <th>numberOfCodeCells</th>\n",
       "      <th>numberOfRawCells</th>\n",
       "      <th>linearExecutionOrder</th>\n",
       "      <th>numberOfClassDefinitions</th>\n",
       "      <th>numberOfFunctionDefinitions</th>\n",
       "      <th>allImportsInFirstCell</th>\n",
       "      <th>numberOfMarkdownLines</th>\n",
       "      <th>numberOfMarkdownTitles</th>\n",
       "      <th>bottomMarkdownLinesRatio</th>\n",
       "      <th>nonExecutedCells</th>\n",
       "      <th>emptyCells</th>\n",
       "      <th>bottomNonExecutedCells</th>\n",
       "      <th>bottomEmptyCells</th>\n",
       "    </tr>\n",
       "  </thead>\n",
       "  <tbody>\n",
       "    <tr>\n",
       "      <th>0</th>\n",
       "      <td>Sentiment_Analysis_4SE_BERT/notebooks/cross-pl...</td>\n",
       "      <td>13</td>\n",
       "      <td>0</td>\n",
       "      <td>13</td>\n",
       "      <td>0</td>\n",
       "      <td>True</td>\n",
       "      <td>0</td>\n",
       "      <td>0</td>\n",
       "      <td>False</td>\n",
       "      <td>0</td>\n",
       "      <td>0</td>\n",
       "      <td>0.0</td>\n",
       "      <td>0</td>\n",
       "      <td>0</td>\n",
       "      <td>0</td>\n",
       "      <td>0</td>\n",
       "    </tr>\n",
       "    <tr>\n",
       "      <th>1</th>\n",
       "      <td>Sentiment_Analysis_4SE_BERT/notebooks/github-w...</td>\n",
       "      <td>17</td>\n",
       "      <td>0</td>\n",
       "      <td>17</td>\n",
       "      <td>0</td>\n",
       "      <td>True</td>\n",
       "      <td>0</td>\n",
       "      <td>0</td>\n",
       "      <td>False</td>\n",
       "      <td>0</td>\n",
       "      <td>0</td>\n",
       "      <td>0.0</td>\n",
       "      <td>0</td>\n",
       "      <td>0</td>\n",
       "      <td>0</td>\n",
       "      <td>0</td>\n",
       "    </tr>\n",
       "    <tr>\n",
       "      <th>2</th>\n",
       "      <td>Sentiment_Analysis_4SE_BERT/notebooks/jira-w-b...</td>\n",
       "      <td>17</td>\n",
       "      <td>0</td>\n",
       "      <td>17</td>\n",
       "      <td>0</td>\n",
       "      <td>True</td>\n",
       "      <td>0</td>\n",
       "      <td>0</td>\n",
       "      <td>False</td>\n",
       "      <td>0</td>\n",
       "      <td>0</td>\n",
       "      <td>0.0</td>\n",
       "      <td>0</td>\n",
       "      <td>0</td>\n",
       "      <td>0</td>\n",
       "      <td>0</td>\n",
       "    </tr>\n",
       "    <tr>\n",
       "      <th>3</th>\n",
       "      <td>Sentiment_Analysis_4SE_BERT/notebooks/stackove...</td>\n",
       "      <td>18</td>\n",
       "      <td>1</td>\n",
       "      <td>17</td>\n",
       "      <td>0</td>\n",
       "      <td>True</td>\n",
       "      <td>0</td>\n",
       "      <td>0</td>\n",
       "      <td>False</td>\n",
       "      <td>1</td>\n",
       "      <td>0</td>\n",
       "      <td>0.0</td>\n",
       "      <td>0</td>\n",
       "      <td>0</td>\n",
       "      <td>0</td>\n",
       "      <td>0</td>\n",
       "    </tr>\n",
       "  </tbody>\n",
       "</table>\n",
       "</div>"
      ],
      "text/plain": [
       "                                        notebookName  numberOfCells  \\\n",
       "0  Sentiment_Analysis_4SE_BERT/notebooks/cross-pl...             13   \n",
       "1  Sentiment_Analysis_4SE_BERT/notebooks/github-w...             17   \n",
       "2  Sentiment_Analysis_4SE_BERT/notebooks/jira-w-b...             17   \n",
       "3  Sentiment_Analysis_4SE_BERT/notebooks/stackove...             18   \n",
       "\n",
       "   numberOfMDCells  numberOfCodeCells  numberOfRawCells  linearExecutionOrder  \\\n",
       "0                0                 13                 0                  True   \n",
       "1                0                 17                 0                  True   \n",
       "2                0                 17                 0                  True   \n",
       "3                1                 17                 0                  True   \n",
       "\n",
       "   numberOfClassDefinitions  numberOfFunctionDefinitions  \\\n",
       "0                         0                            0   \n",
       "1                         0                            0   \n",
       "2                         0                            0   \n",
       "3                         0                            0   \n",
       "\n",
       "   allImportsInFirstCell  numberOfMarkdownLines  numberOfMarkdownTitles  \\\n",
       "0                  False                      0                       0   \n",
       "1                  False                      0                       0   \n",
       "2                  False                      0                       0   \n",
       "3                  False                      1                       0   \n",
       "\n",
       "   bottomMarkdownLinesRatio  nonExecutedCells  emptyCells  \\\n",
       "0                       0.0                 0           0   \n",
       "1                       0.0                 0           0   \n",
       "2                       0.0                 0           0   \n",
       "3                       0.0                 0           0   \n",
       "\n",
       "   bottomNonExecutedCells  bottomEmptyCells  \n",
       "0                       0                 0  \n",
       "1                       0                 0  \n",
       "2                       0                 0  \n",
       "3                       0                 0  "
      ]
     },
     "execution_count": 5,
     "metadata": {},
     "output_type": "execute_result"
    }
   ],
   "source": [
    "data=[]\n",
    "for notebook in repo.notebooks:\n",
    "    result = notebook.get_pynblint_results()\n",
    "    data.append(result)\n",
    "dataframe = pandas.DataFrame(data)\n",
    "dataframe"
   ]
  }
 ],
 "metadata": {
  "kernelspec": {
   "display_name": "myenvKernel",
   "language": "python",
   "name": "myenvkernel"
  },
  "language_info": {
   "codemirror_mode": {
    "name": "ipython",
    "version": 3
   },
   "file_extension": ".py",
   "mimetype": "text/x-python",
   "name": "python",
   "nbconvert_exporter": "python",
   "pygments_lexer": "ipython3",
   "version": "3.6.13"
  }
 },
 "nbformat": 4,
 "nbformat_minor": 1
}
