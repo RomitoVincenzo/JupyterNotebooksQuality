{
 "cells": [
  {
   "cell_type": "markdown",
   "metadata": {},
   "source": [
    "# Notebooks Analysis Results"
   ]
  },
  {
   "cell_type": "markdown",
   "metadata": {},
   "source": [
    "### Imports\n",
    "* \"os\" per la gestione dei file,\n",
    "* \"pandas\" per la creazione del dataframe con i risultati di analisi\n",
    "* \"pynblint\", il modulo contenente le operazionalizzazioni delle best practice"
   ]
  },
  {
   "cell_type": "code",
   "execution_count": 1,
   "metadata": {},
   "outputs": [],
   "source": [
    "import os\n",
    "import pynblint\n",
    "import pandas"
   ]
  },
  {
   "cell_type": "markdown",
   "metadata": {},
   "source": [
    "### Processing"
   ]
  },
  {
   "cell_type": "markdown",
   "metadata": {},
   "source": [
    "Ogni target notebook viene analizzato applicando le funzioni per l'analisi della qualità che rispecchiano le best practice individuate"
   ]
  },
  {
   "cell_type": "code",
   "execution_count": 2,
   "metadata": {},
   "outputs": [],
   "source": [
    "data=[]\n",
    "for filename in os.listdir(\"../TargetNotebooks/\"):\n",
    "       if filename.endswith(\".ipynb\"):\n",
    "              script = pynblint.notebook_to_script(filename)\n",
    "              nb_dict = pynblint.notebook_to_dict(filename)\n",
    "              distribution = pynblint.markdown_distribution(nb_dict)\n",
    "              notebook_tuple=(filename,\n",
    "                              pynblint.has_linear_execution_order(nb_dict),\n",
    "                              pynblint.count_class_defs(script),\n",
    "                              pynblint.count_func_defs(script),\n",
    "                              pynblint.are_imports_in_first_cell(script),\n",
    "                              pynblint.count_md_lines(nb_dict),\n",
    "                              pynblint.count_md_titles(nb_dict),\n",
    "                              distribution[0],\n",
    "                              distribution[1],\n",
    "                              distribution[2],\n",
    "                              distribution[3],\n",
    "                              pynblint.count_non_executed_cells(nb_dict),\n",
    "                              pynblint.count_empty_cells(nb_dict),\n",
    "                              utils.count_bottom_non_executed_cells(notebook_dict,20),\n",
    "                              utils.count_bottom_empty_cells(notebook_dict,20)\n",
    "                              pynblint.count_cells(nb_dict),\n",
    "                              pynblint.count_md_cells(nb_dict),\n",
    "                              pynblint.count_code_cells(nb_dict),\n",
    "                              pynblint.count_raw_cells(nb_dict)\n",
    "                             )\n",
    "              data.append(notebook_tuple)\n",
    "              os.remove(filename[:-5]+\"py\")"
   ]
  },
  {
   "cell_type": "markdown",
   "metadata": {},
   "source": [
    "### Display results"
   ]
  },
  {
   "cell_type": "markdown",
   "metadata": {},
   "source": [
    "Tutte le osservazioni riguardanti un notebook sono contenute in un'unica tupla, il dataframe viene dunque creato come una lista di tuple, assegnando i corrispondenti nomi alle osservazioni sulle colonne. Ogni riga è un target notebook."
   ]
  },
  {
   "cell_type": "code",
   "execution_count": 3,
   "metadata": {},
   "outputs": [
    {
     "data": {
     },
     "execution_count": 3,
     "metadata": {},
     "output_type": "execute_result"
    }
   ],
   "source": [
    "df = pandas.DataFrame(data, columns =[\"Notebook Name\",\"Correc Execution Order\",\"Classes\",\"Functions\",\"Imports Correct Position\",\"Markdown Rows\",\"Markdown Titles\",\"Markdown Distribution 1\",\"Markdown Distribution 2\",\"Markdown Distribution 3\",\"Markdown Distribution 4\",\"Non-executed Cells\",\"Empty Cells\",\"Bottom Non-executed Cells\",\"Bottom Empty Cells\",\"Total cells\",\"MD cells\",\"Code cells\",\"Raw cells\"])\n",
    "df"
   ]
  },
  {
   "cell_type": "code",
   "execution_count": 3,
   "metadata": {},
   "outputs": [],
   "source": []
  }
 ],
 "metadata": {
  "kernelspec": {
   "display_name": "myenvKernel",
   "language": "python",
   "name": "myenvkernel"
  },
  "language_info": {
   "codemirror_mode": {
    "name": "ipython",
    "version": 3
   },
   "file_extension": ".py",
   "mimetype": "text/x-python",
   "name": "python",
   "nbconvert_exporter": "python",
   "pygments_lexer": "ipython3",
   "version": "3.6.13"
  }
 },
 "nbformat": 4,
 "nbformat_minor": 1
}
