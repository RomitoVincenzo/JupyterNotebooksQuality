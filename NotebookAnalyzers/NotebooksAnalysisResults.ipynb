{
 "cells": [
  {
   "cell_type": "markdown",
   "metadata": {},
   "source": [
    "# Notebooks Analysis Results"
   ]
  },
  {
   "cell_type": "markdown",
   "metadata": {},
   "source": [
    "### Imports\n",
    "* \"os\" per la gestione dei file,\n",
    "* \"pandas\" per la creazione del dataframe con i risultati di analisi\n",
    "* \"pynblint\", il modulo contenente le operazionalizzazioni delle best practice\n",
    "* \"config\" per la dinamicità dei percorsi di progetto\n",
    "* \"entities\" per modellare i soggetti dello studio (Notebooks, ecc.)"
   ]
  },
  {
   "cell_type": "code",
   "execution_count": 1,
   "metadata": {},
   "outputs": [],
   "source": [
    "import os\n",
    "import pynblint\n",
    "import pandas\n",
    "import config\n",
    "import entities"
   ]
  },
  {
   "cell_type": "markdown",
   "metadata": {},
   "source": [
    "### Processing"
   ]
  },
  {
   "cell_type": "markdown",
   "metadata": {},
   "source": [
    "Ogni target notebook viene analizzato applicando le funzioni per l'analisi della qualità che rispecchiano le best practice individuate"
   ]
  },
  {
   "cell_type": "code",
   "execution_count": 2,
   "metadata": {
    "scrolled": true
   },
   "outputs": [],
   "source": [
    "data=[]\n",
    "for filename in os.listdir(config.data_path):\n",
    "       if filename.endswith(\".ipynb\"):\n",
    "              notebook = entities.Notebook(config.data_path+filename)\n",
    "              notebook_tuple=(filename,\n",
    "                              pynblint.has_linear_execution_order(notebook),\n",
    "                              pynblint.count_class_defs(notebook),\n",
    "                              pynblint.count_func_defs(notebook),\n",
    "                              pynblint.are_imports_in_first_cell(notebook),\n",
    "                              pynblint.count_md_lines(notebook),\n",
    "                              pynblint.count_md_titles(notebook),\n",
    "                              pynblint.get_bottom_md_lines_ratio(notebook),\n",
    "                              pynblint.count_non_executed_cells(notebook),\n",
    "                              pynblint.count_empty_cells(notebook),\n",
    "                              pynblint.count_bottom_non_executed_cells(notebook,20),\n",
    "                              pynblint.count_bottom_empty_cells(notebook,20),\n",
    "                              pynblint.count_cells(notebook),\n",
    "                              pynblint.count_md_cells(notebook),\n",
    "                              pynblint.count_code_cells(notebook),\n",
    "                              pynblint.count_raw_cells(notebook)\n",
    "                             )\n",
    "              data.append(notebook_tuple)\n",
    "              os.remove(filename[:-5]+\"py\")"
   ]
  },
  {
   "cell_type": "markdown",
   "metadata": {},
   "source": [
    "### Display results"
   ]
  },
  {
   "cell_type": "markdown",
   "metadata": {},
   "source": [
    "Tutte le osservazioni riguardanti un notebook sono contenute in un'unica tupla, il dataframe viene dunque creato come una lista di tuple, assegnando i corrispondenti nomi alle osservazioni sulle colonne. Ogni riga è un target notebook."
   ]
  },
  {
   "cell_type": "code",
   "execution_count": 3,
   "metadata": {},
   "outputs": [
    {
     "data": {
      "text/html": [
       "<div>\n",
       "<style scoped>\n",
       "    .dataframe tbody tr th:only-of-type {\n",
       "        vertical-align: middle;\n",
       "    }\n",
       "\n",
       "    .dataframe tbody tr th {\n",
       "        vertical-align: top;\n",
       "    }\n",
       "\n",
       "    .dataframe thead th {\n",
       "        text-align: right;\n",
       "    }\n",
       "</style>\n",
       "<table border=\"1\" class=\"dataframe\">\n",
       "  <thead>\n",
       "    <tr style=\"text-align: right;\">\n",
       "      <th></th>\n",
       "      <th>Notebook Name</th>\n",
       "      <th>Correc Execution Order</th>\n",
       "      <th>Classes</th>\n",
       "      <th>Functions</th>\n",
       "      <th>Imports Correct Position</th>\n",
       "      <th>Markdown Rows</th>\n",
       "      <th>Markdown Titles</th>\n",
       "      <th>Bottom md percentage</th>\n",
       "      <th>Non-executed Cells</th>\n",
       "      <th>Empty Cells</th>\n",
       "      <th>Bottom Non-executed Cells</th>\n",
       "      <th>Bottom Empty Cells</th>\n",
       "      <th>Total cells</th>\n",
       "      <th>MD cells</th>\n",
       "      <th>Code cells</th>\n",
       "      <th>Raw cells</th>\n",
       "    </tr>\n",
       "  </thead>\n",
       "  <tbody>\n",
       "    <tr>\n",
       "      <th>0</th>\n",
       "      <td>my-attempt-at-analytics-vidhya-job-a-thon.ipynb</td>\n",
       "      <td>True</td>\n",
       "      <td>0</td>\n",
       "      <td>3</td>\n",
       "      <td>False</td>\n",
       "      <td>7</td>\n",
       "      <td>2</td>\n",
       "      <td>0.0</td>\n",
       "      <td>0</td>\n",
       "      <td>3</td>\n",
       "      <td>0</td>\n",
       "      <td>2</td>\n",
       "      <td>78</td>\n",
       "      <td>4</td>\n",
       "      <td>74</td>\n",
       "      <td>0</td>\n",
       "    </tr>\n",
       "  </tbody>\n",
       "</table>\n",
       "</div>"
      ],
      "text/plain": [
       "                                     Notebook Name  Correc Execution Order  \\\n",
       "0  my-attempt-at-analytics-vidhya-job-a-thon.ipynb                    True   \n",
       "\n",
       "   Classes  Functions  Imports Correct Position  Markdown Rows  \\\n",
       "0        0          3                     False              7   \n",
       "\n",
       "   Markdown Titles  Bottom md percentage  Non-executed Cells  Empty Cells  \\\n",
       "0                2                   0.0                   0            3   \n",
       "\n",
       "   Bottom Non-executed Cells  Bottom Empty Cells  Total cells  MD cells  \\\n",
       "0                          0                   2           78         4   \n",
       "\n",
       "   Code cells  Raw cells  \n",
       "0          74          0  "
      ]
     },
     "execution_count": 3,
     "metadata": {},
     "output_type": "execute_result"
    }
   ],
   "source": [
    "df = pandas.DataFrame(data, columns =[\"Notebook Name\",\"Correc Execution Order\",\"Classes\",\"Functions\",\"Imports Correct Position\",\"Markdown Rows\",\"Markdown Titles\",\"Bottom md percentage\",\"Non-executed Cells\",\"Empty Cells\",\"Bottom Non-executed Cells\",\"Bottom Empty Cells\",\"Total cells\",\"MD cells\",\"Code cells\",\"Raw cells\"])\n",
    "df"
   ]
  }
 ],
 "metadata": {
  "kernelspec": {
   "display_name": "myenvKernel",
   "language": "python",
   "name": "myenvkernel"
  },
  "language_info": {
   "codemirror_mode": {
    "name": "ipython",
    "version": 3
   },
   "file_extension": ".py",
   "mimetype": "text/x-python",
   "name": "python",
   "nbconvert_exporter": "python",
   "pygments_lexer": "ipython3",
   "version": "3.6.13"
  }
 },
 "nbformat": 4,
 "nbformat_minor": 1
}