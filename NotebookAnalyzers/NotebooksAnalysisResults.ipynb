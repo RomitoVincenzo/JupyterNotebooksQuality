{
 "cells": [
  {
   "cell_type": "markdown",
   "metadata": {},
   "source": [
    "# Notebooks Analysis Results"
   ]
  },
  {
   "cell_type": "markdown",
   "metadata": {},
   "source": [
    "### Imports\n",
    "* \"os\" per la gestione dei file,\n",
    "* \"pandas\" per la creazione del dataframe con i risultati di analisi\n",
    "* \"pynblint\", il modulo contenente le operazionalizzazioni delle best practice"
   ]
  },
  {
   "cell_type": "code",
   "execution_count": 1,
   "metadata": {},
   "outputs": [],
   "source": [
    "import os\n",
    "import pynblint\n",
    "import pandas"
   ]
  },
  {
   "cell_type": "markdown",
   "metadata": {},
   "source": [
    "### Processing"
   ]
  },
  {
   "cell_type": "markdown",
   "metadata": {},
   "source": [
    "Ogni target notebook viene analizzato applicando le funzioni per l'analisi della qualità che rispecchiano le best practice individuate"
   ]
  },
  {
   "cell_type": "code",
   "execution_count": 2,
   "metadata": {},
   "outputs": [
    {
     "ename": "NameError",
     "evalue": "name 'pynblintcount_bottom_non_executed_cells' is not defined",
     "output_type": "error",
     "traceback": [
      "\u001b[1;31m---------------------------------------------------------------------------\u001b[0m",
      "\u001b[1;31mNameError\u001b[0m                                 Traceback (most recent call last)",
      "\u001b[1;32m<ipython-input-2-ad149d89d756>\u001b[0m in \u001b[0;36m<module>\u001b[1;34m\u001b[0m\n\u001b[0;32m     18\u001b[0m                               \u001b[0mpynblint\u001b[0m\u001b[1;33m.\u001b[0m\u001b[0mcount_non_executed_cells\u001b[0m\u001b[1;33m(\u001b[0m\u001b[0mnb_dict\u001b[0m\u001b[1;33m)\u001b[0m\u001b[1;33m,\u001b[0m\u001b[1;33m\u001b[0m\u001b[1;33m\u001b[0m\u001b[0m\n\u001b[0;32m     19\u001b[0m                               \u001b[0mpynblint\u001b[0m\u001b[1;33m.\u001b[0m\u001b[0mcount_empty_cells\u001b[0m\u001b[1;33m(\u001b[0m\u001b[0mnb_dict\u001b[0m\u001b[1;33m)\u001b[0m\u001b[1;33m,\u001b[0m\u001b[1;33m\u001b[0m\u001b[1;33m\u001b[0m\u001b[0m\n\u001b[1;32m---> 20\u001b[1;33m                               \u001b[0mpynblintcount_bottom_non_executed_cells\u001b[0m\u001b[1;33m(\u001b[0m\u001b[0mnotebook_dict\u001b[0m\u001b[1;33m,\u001b[0m\u001b[1;36m20\u001b[0m\u001b[1;33m)\u001b[0m\u001b[1;33m,\u001b[0m\u001b[1;33m\u001b[0m\u001b[1;33m\u001b[0m\u001b[0m\n\u001b[0m\u001b[0;32m     21\u001b[0m                               \u001b[0mpynblintcount_bottom_empty_cells\u001b[0m\u001b[1;33m(\u001b[0m\u001b[0mnotebook_dict\u001b[0m\u001b[1;33m,\u001b[0m\u001b[1;36m20\u001b[0m\u001b[1;33m)\u001b[0m\u001b[1;33m,\u001b[0m\u001b[1;33m\u001b[0m\u001b[1;33m\u001b[0m\u001b[0m\n\u001b[0;32m     22\u001b[0m                               \u001b[0mpynblint\u001b[0m\u001b[1;33m.\u001b[0m\u001b[0mcount_cells\u001b[0m\u001b[1;33m(\u001b[0m\u001b[0mnb_dict\u001b[0m\u001b[1;33m)\u001b[0m\u001b[1;33m,\u001b[0m\u001b[1;33m\u001b[0m\u001b[1;33m\u001b[0m\u001b[0m\n",
      "\u001b[1;31mNameError\u001b[0m: name 'pynblintcount_bottom_non_executed_cells' is not defined"
     ]
    }
   ],
   "source": [
    "data=[]\n",
    "for filename in os.listdir(\"../TargetNotebooks/\"):\n",
    "       if filename.endswith(\".ipynb\"):\n",
    "              script = pynblint.notebook_to_script(filename)\n",
    "              nb_dict = pynblint.notebook_to_dict(filename)\n",
    "              distribution = pynblint.markdown_distribution(nb_dict)\n",
    "              notebook_tuple=(filename,\n",
    "                              pynblint.has_linear_execution_order(nb_dict),\n",
    "                              pynblint.count_class_defs(script),\n",
    "                              pynblint.count_func_defs(script),\n",
    "                              pynblint.are_imports_in_first_cell(script),\n",
    "                              pynblint.count_md_lines(nb_dict),\n",
    "                              pynblint.count_md_titles(nb_dict),\n",
    "                              distribution[0],\n",
    "                              distribution[1],\n",
    "                              distribution[2],\n",
    "                              distribution[3],\n",
    "                              pynblint.count_non_executed_cells(nb_dict),\n",
    "                              pynblint.count_empty_cells(nb_dict),\n",
    "                              pynblintcount_bottom_non_executed_cells(notebook_dict,20),\n",
    "                              pynblintcount_bottom_empty_cells(notebook_dict,20),\n",
    "                              pynblint.count_cells(nb_dict),\n",
    "                              pynblint.count_md_cells(nb_dict),\n",
    "                              pynblint.count_code_cells(nb_dict),\n",
    "                              pynblint.count_raw_cells(nb_dict)\n",
    "                             )\n",
    "              data.append(notebook_tuple)\n",
    "              os.remove(filename[:-5]+\"py\")"
   ]
  },
  {
   "cell_type": "markdown",
   "metadata": {},
   "source": [
    "### Display results"
   ]
  },
  {
   "cell_type": "markdown",
   "metadata": {},
   "source": [
    "Tutte le osservazioni riguardanti un notebook sono contenute in un'unica tupla, il dataframe viene dunque creato come una lista di tuple, assegnando i corrispondenti nomi alle osservazioni sulle colonne. Ogni riga è un target notebook."
   ]
  },
  {
   "cell_type": "code",
   "execution_count": null,
   "metadata": {},
   "outputs": [],
   "source": [
    "df = pandas.DataFrame(data, columns =[\"Notebook Name\",\"Correc Execution Order\",\"Classes\",\"Functions\",\"Imports Correct Position\",\"Markdown Rows\",\"Markdown Titles\",\"Markdown Distribution 1\",\"Markdown Distribution 2\",\"Markdown Distribution 3\",\"Markdown Distribution 4\",\"Non-executed Cells\",\"Empty Cells\",\"Bottom Non-executed Cells\",\"Bottom Empty Cells\",\"Total cells\",\"MD cells\",\"Code cells\",\"Raw cells\"])\n",
    "df"
   ]
  },
  {
   "cell_type": "code",
   "execution_count": null,
   "metadata": {},
   "outputs": [],
   "source": []
  }
 ],
 "metadata": {
  "kernelspec": {
   "display_name": "myenvKernel",
   "language": "python",
   "name": "myenvkernel"
  },
  "language_info": {
   "codemirror_mode": {
    "name": "ipython",
    "version": 3
   },
   "file_extension": ".py",
   "mimetype": "text/x-python",
   "name": "python",
   "nbconvert_exporter": "python",
   "pygments_lexer": "ipython3",
   "version": "3.6.13"
  }
 },
 "nbformat": 4,
 "nbformat_minor": 1
}
