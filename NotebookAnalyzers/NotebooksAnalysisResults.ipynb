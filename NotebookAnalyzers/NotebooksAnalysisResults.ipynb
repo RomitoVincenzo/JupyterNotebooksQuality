{
 "cells": [
  {
   "cell_type": "markdown",
   "metadata": {},
   "source": [
    "# Notebooks Analysis Results"
   ]
  },
  {
   "cell_type": "markdown",
   "metadata": {},
   "source": [
    "### Imports\n",
    "* \"os\" per la gestione dei file,\n",
    "* \"pandas\" per la creazione del dataframe con i risultati di analisi\n",
    "* \"pynblint\", il modulo contenente le operazionalizzazioni delle best practice\n",
    "* \"config\" per la dinamicità dei percorsi di progetto\n",
    "* \"entities\" per modellare i soggetti dello studio (Notebooks, ecc.)"
   ]
  },
  {
   "cell_type": "code",
   "execution_count": 1,
   "metadata": {},
   "outputs": [],
   "source": [
    "import os\n",
    "import pandas\n",
    "\n",
    "from pathlib import Path\n",
    "\n",
    "import config\n",
    "import pynblint\n",
    "\n",
    "from entities import Notebook, GitHubRepository, LocalRepository"
   ]
  },
  {
   "cell_type": "markdown",
   "metadata": {},
   "source": [
    "### Processing"
   ]
  },
  {
   "cell_type": "markdown",
   "metadata": {},
   "source": [
    "Ogni target notebook viene analizzato applicando le funzioni per l'analisi della qualità che rispecchiano le best practice individuate"
   ]
  },
  {
   "cell_type": "code",
   "execution_count": 2,
   "metadata": {
    "scrolled": true
   },
   "outputs": [],
   "source": [
    "data=[]\n",
    "for filename in os.listdir(config.data_path):\n",
    "       if filename.endswith(\".ipynb\"):\n",
    "              notebook_path = Path(config.data_path) / filename\n",
    "              notebook = Notebook(notebook_path)\n",
    "              data.append(notebook.get_pynblint_results())"
   ]
  },
  {
   "cell_type": "markdown",
   "metadata": {},
   "source": [
    "### Display results"
   ]
  },
  {
   "cell_type": "markdown",
   "metadata": {},
   "source": [
    "Tutte le osservazioni riguardanti un notebook sono contenute in un'unica tupla, il dataframe viene dunque creato come una lista di tuple, assegnando i corrispondenti nomi alle osservazioni sulle colonne. Ogni riga è un target notebook."
   ]
  },
  {
   "cell_type": "code",
   "execution_count": 3,
   "metadata": {},
   "outputs": [
    {
     "data": {
      "text/html": [
       "<div>\n",
       "<style scoped>\n",
       "    .dataframe tbody tr th:only-of-type {\n",
       "        vertical-align: middle;\n",
       "    }\n",
       "\n",
       "    .dataframe tbody tr th {\n",
       "        vertical-align: top;\n",
       "    }\n",
       "\n",
       "    .dataframe thead th {\n",
       "        text-align: right;\n",
       "    }\n",
       "</style>\n",
       "<table border=\"1\" class=\"dataframe\">\n",
       "  <thead>\n",
       "    <tr style=\"text-align: right;\">\n",
       "      <th></th>\n",
       "      <th>Notebook Name</th>\n",
       "      <th>Correc Execution Order</th>\n",
       "      <th>Classes</th>\n",
       "      <th>Functions</th>\n",
       "      <th>Imports Correct Position</th>\n",
       "      <th>Markdown Rows</th>\n",
       "      <th>Markdown Titles</th>\n",
       "      <th>Bottom md percentage</th>\n",
       "      <th>Non-executed Cells</th>\n",
       "      <th>Empty Cells</th>\n",
       "      <th>Bottom Non-executed Cells</th>\n",
       "      <th>Bottom Empty Cells</th>\n",
       "      <th>Total cells</th>\n",
       "      <th>MD cells</th>\n",
       "      <th>Code cells</th>\n",
       "      <th>Raw cells</th>\n",
       "    </tr>\n",
       "  </thead>\n",
       "  <tbody>\n",
       "    <tr>\n",
       "      <th>0</th>\n",
       "      <td>my-attempt-at-analytics-vidhya-job-a-thon.ipynb</td>\n",
       "      <td>True</td>\n",
       "      <td>0</td>\n",
       "      <td>3</td>\n",
       "      <td>False</td>\n",
       "      <td>7</td>\n",
       "      <td>2</td>\n",
       "      <td>0.0</td>\n",
       "      <td>0</td>\n",
       "      <td>3</td>\n",
       "      <td>0</td>\n",
       "      <td>2</td>\n",
       "      <td>78</td>\n",
       "      <td>4</td>\n",
       "      <td>74</td>\n",
       "      <td>0</td>\n",
       "    </tr>\n",
       "  </tbody>\n",
       "</table>\n",
       "</div>"
      ],
      "text/plain": [
       "                                     Notebook Name  Correc Execution Order  \\\n",
       "0  my-attempt-at-analytics-vidhya-job-a-thon.ipynb                    True   \n",
       "\n",
       "   Classes  Functions  Imports Correct Position  Markdown Rows  \\\n",
       "0        0          3                     False              7   \n",
       "\n",
       "   Markdown Titles  Bottom md percentage  Non-executed Cells  Empty Cells  \\\n",
       "0                2                   0.0                   0            3   \n",
       "\n",
       "   Bottom Non-executed Cells  Bottom Empty Cells  Total cells  MD cells  \\\n",
       "0                          0                   2           78         4   \n",
       "\n",
       "   Code cells  Raw cells  \n",
       "0          74          0  "
      ]
     },
     "execution_count": 3,
     "metadata": {},
     "output_type": "execute_result"
    }
   ],
   "source": [
    "df = pandas.DataFrame(data, columns =[\"Notebook Name\",\"Correc Execution Order\",\"Classes\",\"Functions\",\"Imports Correct Position\",\"Markdown Rows\",\"Markdown Titles\",\"Bottom md percentage\",\"Non-executed Cells\",\"Empty Cells\",\"Bottom Non-executed Cells\",\"Bottom Empty Cells\",\"Total cells\",\"MD cells\",\"Code cells\",\"Raw cells\"])\n",
    "df"
   ]
  },
  {
   "cell_type": "markdown",
   "metadata": {},
   "source": [
    "## Analysis of a github repository"
   ]
  },
  {
   "cell_type": "code",
   "execution_count": 4,
   "metadata": {},
   "outputs": [],
   "source": [
    "repo = GitHubRepository('https://github.com/collab-uniba/Sentiment_Analysis_4SE_BERT')"
   ]
  },
  {
   "cell_type": "code",
   "execution_count": 6,
   "metadata": {},
   "outputs": [
    {
     "data": {
      "text/html": [
       "<div>\n",
       "<style scoped>\n",
       "    .dataframe tbody tr th:only-of-type {\n",
       "        vertical-align: middle;\n",
       "    }\n",
       "\n",
       "    .dataframe tbody tr th {\n",
       "        vertical-align: top;\n",
       "    }\n",
       "\n",
       "    .dataframe thead th {\n",
       "        text-align: right;\n",
       "    }\n",
       "</style>\n",
       "<table border=\"1\" class=\"dataframe\">\n",
       "  <thead>\n",
       "    <tr style=\"text-align: right;\">\n",
       "      <th></th>\n",
       "      <th>Notebook Name</th>\n",
       "      <th>Correc Execution Order</th>\n",
       "      <th>Classes</th>\n",
       "      <th>Functions</th>\n",
       "      <th>Imports Correct Position</th>\n",
       "      <th>Markdown Rows</th>\n",
       "      <th>Markdown Titles</th>\n",
       "      <th>Bottom md percentage</th>\n",
       "      <th>Non-executed Cells</th>\n",
       "      <th>Empty Cells</th>\n",
       "      <th>Bottom Non-executed Cells</th>\n",
       "      <th>Bottom Empty Cells</th>\n",
       "      <th>Total cells</th>\n",
       "      <th>MD cells</th>\n",
       "      <th>Code cells</th>\n",
       "      <th>Raw cells</th>\n",
       "    </tr>\n",
       "  </thead>\n",
       "  <tbody>\n",
       "    <tr>\n",
       "      <th>0</th>\n",
       "      <td>Sentiment_Analysis_4SE_BERT/notebooks/stackove...</td>\n",
       "      <td>True</td>\n",
       "      <td>0</td>\n",
       "      <td>0</td>\n",
       "      <td>False</td>\n",
       "      <td>1</td>\n",
       "      <td>0</td>\n",
       "      <td>0.0</td>\n",
       "      <td>0</td>\n",
       "      <td>0</td>\n",
       "      <td>0</td>\n",
       "      <td>0</td>\n",
       "      <td>18</td>\n",
       "      <td>1</td>\n",
       "      <td>17</td>\n",
       "      <td>0</td>\n",
       "    </tr>\n",
       "    <tr>\n",
       "      <th>1</th>\n",
       "      <td>Sentiment_Analysis_4SE_BERT/notebooks/github-w...</td>\n",
       "      <td>True</td>\n",
       "      <td>0</td>\n",
       "      <td>0</td>\n",
       "      <td>False</td>\n",
       "      <td>0</td>\n",
       "      <td>0</td>\n",
       "      <td>0.0</td>\n",
       "      <td>0</td>\n",
       "      <td>0</td>\n",
       "      <td>0</td>\n",
       "      <td>0</td>\n",
       "      <td>17</td>\n",
       "      <td>0</td>\n",
       "      <td>17</td>\n",
       "      <td>0</td>\n",
       "    </tr>\n",
       "    <tr>\n",
       "      <th>2</th>\n",
       "      <td>Sentiment_Analysis_4SE_BERT/notebooks/cross-pl...</td>\n",
       "      <td>True</td>\n",
       "      <td>0</td>\n",
       "      <td>0</td>\n",
       "      <td>False</td>\n",
       "      <td>0</td>\n",
       "      <td>0</td>\n",
       "      <td>0.0</td>\n",
       "      <td>0</td>\n",
       "      <td>0</td>\n",
       "      <td>0</td>\n",
       "      <td>0</td>\n",
       "      <td>13</td>\n",
       "      <td>0</td>\n",
       "      <td>13</td>\n",
       "      <td>0</td>\n",
       "    </tr>\n",
       "    <tr>\n",
       "      <th>3</th>\n",
       "      <td>Sentiment_Analysis_4SE_BERT/notebooks/jira-w-b...</td>\n",
       "      <td>True</td>\n",
       "      <td>0</td>\n",
       "      <td>0</td>\n",
       "      <td>False</td>\n",
       "      <td>0</td>\n",
       "      <td>0</td>\n",
       "      <td>0.0</td>\n",
       "      <td>0</td>\n",
       "      <td>0</td>\n",
       "      <td>0</td>\n",
       "      <td>0</td>\n",
       "      <td>17</td>\n",
       "      <td>0</td>\n",
       "      <td>17</td>\n",
       "      <td>0</td>\n",
       "    </tr>\n",
       "  </tbody>\n",
       "</table>\n",
       "</div>"
      ],
      "text/plain": [
       "                                       Notebook Name  Correc Execution Order  \\\n",
       "0  Sentiment_Analysis_4SE_BERT/notebooks/stackove...                    True   \n",
       "1  Sentiment_Analysis_4SE_BERT/notebooks/github-w...                    True   \n",
       "2  Sentiment_Analysis_4SE_BERT/notebooks/cross-pl...                    True   \n",
       "3  Sentiment_Analysis_4SE_BERT/notebooks/jira-w-b...                    True   \n",
       "\n",
       "   Classes  Functions  Imports Correct Position  Markdown Rows  \\\n",
       "0        0          0                     False              1   \n",
       "1        0          0                     False              0   \n",
       "2        0          0                     False              0   \n",
       "3        0          0                     False              0   \n",
       "\n",
       "   Markdown Titles  Bottom md percentage  Non-executed Cells  Empty Cells  \\\n",
       "0                0                   0.0                   0            0   \n",
       "1                0                   0.0                   0            0   \n",
       "2                0                   0.0                   0            0   \n",
       "3                0                   0.0                   0            0   \n",
       "\n",
       "   Bottom Non-executed Cells  Bottom Empty Cells  Total cells  MD cells  \\\n",
       "0                          0                   0           18         1   \n",
       "1                          0                   0           17         0   \n",
       "2                          0                   0           13         0   \n",
       "3                          0                   0           17         0   \n",
       "\n",
       "   Code cells  Raw cells  \n",
       "0          17          0  \n",
       "1          17          0  \n",
       "2          13          0  \n",
       "3          17          0  "
      ]
     },
     "execution_count": 6,
     "metadata": {},
     "output_type": "execute_result"
    }
   ],
   "source": [
    "data=[]\n",
    "for notebook in repo.notebooks:\n",
    "    data.append(notebook.get_pynblint_results())\n",
    "    \n",
    "cols = [\n",
    "    \"Notebook Name\", \n",
    "    \"Correc Execution Order\",\n",
    "    \"Classes\",\"Functions\",\n",
    "    \"Imports Correct Position\",\n",
    "    \"Markdown Rows\",\n",
    "    \"Markdown Titles\",\n",
    "    \"Bottom md percentage\",\n",
    "    \"Non-executed Cells\",\n",
    "    \"Empty Cells\",\n",
    "    \"Bottom Non-executed Cells\",\n",
    "    \"Bottom Empty Cells\",\n",
    "    \"Total cells\",\n",
    "    \"MD cells\",\n",
    "    \"Code cells\",\n",
    "    \"Raw cells\"\n",
    "]\n",
    "    \n",
    "dataframe = pandas.DataFrame(data, columns=cols)\n",
    "dataframe"
   ]
  }
 ],
 "metadata": {
  "kernelspec": {
   "display_name": "pynblint",
   "language": "python",
   "name": "pynblint"
  },
  "language_info": {
   "codemirror_mode": {
    "name": "ipython",
    "version": 3
   },
   "file_extension": ".py",
   "mimetype": "text/x-python",
   "name": "python",
   "nbconvert_exporter": "python",
   "pygments_lexer": "ipython3",
   "version": "3.9.4"
  },
  "toc": {
   "base_numbering": 1,
   "nav_menu": {},
   "number_sections": true,
   "sideBar": true,
   "skip_h1_title": false,
   "title_cell": "Table of Contents",
   "title_sidebar": "Contents",
   "toc_cell": false,
   "toc_position": {},
   "toc_section_display": true,
   "toc_window_display": false
  },
  "varInspector": {
   "cols": {
    "lenName": 16,
    "lenType": 16,
    "lenVar": 40
   },
   "kernels_config": {
    "python": {
     "delete_cmd_postfix": "",
     "delete_cmd_prefix": "del ",
     "library": "var_list.py",
     "varRefreshCmd": "print(var_dic_list())"
    },
    "r": {
     "delete_cmd_postfix": ") ",
     "delete_cmd_prefix": "rm(",
     "library": "var_list.r",
     "varRefreshCmd": "cat(var_dic_list()) "
    }
   },
   "types_to_exclude": [
    "module",
    "function",
    "builtin_function_or_method",
    "instance",
    "_Feature"
   ],
   "window_display": false
  }
 },
 "nbformat": 4,
 "nbformat_minor": 1
}
