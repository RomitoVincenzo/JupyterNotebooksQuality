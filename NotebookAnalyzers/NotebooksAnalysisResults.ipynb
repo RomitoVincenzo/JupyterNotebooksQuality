{
 "cells": [
  {
   "cell_type": "markdown",
   "metadata": {},
   "source": [
    "# Notebooks Analysis Results"
   ]
  },
  {
   "cell_type": "markdown",
   "metadata": {},
   "source": [
    "### Imports\n",
    "* \"os\" per la gestione dei file,\n",
    "* \"pandas\" per la creazione del dataframe con i risultati di analisi\n",
    "* \"pynblint\", il modulo contenente le operazionalizzazioni delle best practice\n",
    "* \"config\" per la dinamicità dei percorsi di progetto"
   ]
  },
  {
   "cell_type": "code",
   "execution_count": 1,
   "metadata": {},
   "outputs": [],
   "source": [
    "import os\n",
    "import pynblint\n",
    "import pandas\n",
    "import config"
   ]
  },
  {
   "cell_type": "markdown",
   "metadata": {},
   "source": [
    "### Processing"
   ]
  },
  {
   "cell_type": "markdown",
   "metadata": {},
   "source": [
    "Ogni target notebook viene analizzato applicando le funzioni per l'analisi della qualità che rispecchiano le best practice individuate"
   ]
  },
  {
   "cell_type": "code",
   "execution_count": 2,
   "metadata": {},
   "outputs": [],
   "source": [
    "data=[]\n",
    "for filename in os.listdir(config.data_path):\n",
    "       if filename.endswith(\".ipynb\"):\n",
    "              script = pynblint.notebook_to_script(filename)\n",
    "              nb_dict = pynblint.notebook_to_dict(filename)\n",
    "              notebook_tuple=(filename,\n",
    "                              pynblint.has_linear_execution_order(nb_dict),\n",
    "                              pynblint.count_class_defs(script),\n",
    "                              pynblint.count_func_defs(script),\n",
    "                              pynblint.are_imports_in_first_cell(script),\n",
    "                              pynblint.count_md_lines(nb_dict),\n",
    "                              pynblint.count_md_titles(nb_dict),\n",
    "                              pynblint.get_bottom_md_lines_ratio(nb_dict),\n",
    "                              pynblint.count_non_executed_cells(nb_dict),\n",
    "                              pynblint.count_empty_cells(nb_dict),\n",
    "                              pynblint.count_bottom_non_executed_cells(nb_dict,20),\n",
    "                              pynblint.count_bottom_empty_cells(nb_dict,20),\n",
    "                              pynblint.count_cells(nb_dict),\n",
    "                              pynblint.count_md_cells(nb_dict),\n",
    "                              pynblint.count_code_cells(nb_dict),\n",
    "                              pynblint.count_raw_cells(nb_dict)\n",
    "                             )\n",
    "              data.append(notebook_tuple)\n",
    "              os.remove(filename[:-5]+\"py\")"
   ]
  },
  {
   "cell_type": "markdown",
   "metadata": {},
   "source": [
    "### Display results"
   ]
  },
  {
   "cell_type": "markdown",
   "metadata": {},
   "source": [
    "Tutte le osservazioni riguardanti un notebook sono contenute in un'unica tupla, il dataframe viene dunque creato come una lista di tuple, assegnando i corrispondenti nomi alle osservazioni sulle colonne. Ogni riga è un target notebook."
   ]
  },
  {
   "cell_type": "code",
   "execution_count": 3,
   "metadata": {
    "pycharm": {
     "name": "#%%\n"
    }
   },
   "outputs": [
    {
     "data": {
     },
     "execution_count": 3,
     "metadata": {},
     "output_type": "execute_result"
    }
   ],
   "source": [
    "df = pandas.DataFrame(data, columns =[\"Notebook Name\",\"Linear Execution Order\",\"Classes\",\"Functions\",\"Imports only in first cell\",\"Markdown Rows\",\"Markdown Titles\",\"Bottom md percentage\",\"Non-executed Cells\",\"Empty Cells\",\"Bottom Non-executed Cells\",\"Bottom Empty Cells\",\"Total cells\",\"MD cells\",\"Code cells\",\"Raw cells\"])\n",
    "df\n",
    "\n"
   ]
  }
 ],
 "metadata": {
  "kernelspec": {
   "display_name": "myenvKernel",
   "language": "python",
   "name": "myenvkernel"
  },
  "language_info": {
   "codemirror_mode": {
    "name": "ipython",
    "version": 3
   },
   "file_extension": ".py",
   "mimetype": "text/x-python",
   "name": "python",
   "nbconvert_exporter": "python",
   "pygments_lexer": "ipython3",
   "version": "3.6.13"
  }
 },
 "nbformat": 4,
 "nbformat_minor": 1
}