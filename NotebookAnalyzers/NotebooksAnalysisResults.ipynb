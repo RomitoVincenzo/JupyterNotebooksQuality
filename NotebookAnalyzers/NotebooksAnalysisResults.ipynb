{
 "cells": [
  {
   "cell_type": "markdown",
   "metadata": {},
   "source": [
    "# Notebooks Analysis Results"
   ]
  },
  {
   "cell_type": "markdown",
   "metadata": {},
   "source": [
    "### Vengono importate\n",
    "##### \"os\" per la gestione dei file,\n",
    "##### \"pandas\" per la creazione del dataframe con i risultati di analisi\n",
    "##### \"utils\", il modulo contenente le operazionalizzazioni delle best practice"
   ]
  },
  {
   "cell_type": "code",
   "execution_count": 1,
   "metadata": {},
   "outputs": [],
   "source": [
    "import os\n",
    "import utils\n",
    "import pandas"
   ]
  },
  {
   "cell_type": "markdown",
   "metadata": {},
   "source": [
    "### Ogni target notebook viene analizzato applicando le funzioni per l'analisi della qualità che rispecchiano le best practice individuate"
   ]
  },
  {
   "cell_type": "code",
   "execution_count": 2,
   "metadata": {},
   "outputs": [],
   "source": [
    "data=[]\n",
    "for filename in os.listdir(\"../TargetNotebooks/\"):\n",
    "       if filename.endswith(\".ipynb\"):\n",
    "              py_code = utils.notebook_to_code(filename)\n",
    "              notebook_dict = utils.notebook_to_json(filename)\n",
    "              distribution = utils.markdown_distribution(notebook_dict)\n",
    "              if utils.markdown_distribution(notebook_dict) is not None:\n",
    "                     notebook_tuple=(filename,\n",
    "                            utils.cells_correct_order(notebook_dict),\n",
    "                            utils.classes_number(py_code),\n",
    "                            utils.functions_number(py_code),\n",
    "                            utils.imports_correct_position(py_code),\n",
    "                            utils.markdown_lines(notebook_dict),\n",
    "                            utils.markdown_titles(notebook_dict),\n",
    "                            distribution[0],\n",
    "                            distribution[1],\n",
    "                            distribution[2],\n",
    "                            distribution[3],\n",
    "                            utils.not_executed_cells(notebook_dict),\n",
    "                            utils.empty_cells(notebook_dict)\n",
    "                            )\n",
    "              else:\n",
    "                     notebook_tuple=(filename,\n",
    "                            utils.cells_correct_order(notebook_dict),\n",
    "                            utils.classes_number(py_code),\n",
    "                            utils.functions_number(py_code),\n",
    "                            utils.imports_correct_position(py_code),\n",
    "                            utils.markdown_lines(notebook_dict),\n",
    "                            utils.markdown_titles(notebook_dict),\n",
    "                            None,\n",
    "                            None,\n",
    "                            None,\n",
    "                            None,\n",
    "                            utils.not_executed_cells(notebook_dict),\n",
    "                            utils.empty_cells(notebook_dict)\n",
    "                            )\n",
    "              data.append(notebook_tuple)\n",
    "              os.remove(filename[:-5]+\"py\")\n",
    "              continue\n",
    "       else:\n",
    "              continue"
   ]
  },
  {
   "cell_type": "markdown",
   "metadata": {},
   "source": [
    "### Tutte le osservazioni riguardanti un notebook sono contenute in un'unica tupla, il dataframe viene dunque creato come una lista di tuple, assegnando i corrispondenti nomi alle osservazioni sulle colonne. Ogni riga è un target notebook."
   ]
  },
  {
   "cell_type": "code",
   "execution_count": 3,
   "metadata": {},
   "outputs": [
    {
     "data": {
      "text/html": [
       "<div>\n",
       "<style scoped>\n",
       "    .dataframe tbody tr th:only-of-type {\n",
       "        vertical-align: middle;\n",
       "    }\n",
       "\n",
       "    .dataframe tbody tr th {\n",
       "        vertical-align: top;\n",
       "    }\n",
       "\n",
       "    .dataframe thead th {\n",
       "        text-align: right;\n",
       "    }\n",
       "</style>\n",
       "<table border=\"1\" class=\"dataframe\">\n",
       "  <thead>\n",
       "    <tr style=\"text-align: right;\">\n",
       "      <th></th>\n",
       "      <th>Notebook Name</th>\n",
       "      <th>Correc Execution Order</th>\n",
       "      <th>Classes</th>\n",
       "      <th>Functions</th>\n",
       "      <th>Imports Correct Position</th>\n",
       "      <th>Markdown Rows</th>\n",
       "      <th>Markdown Titles</th>\n",
       "      <th>Markdown Distribution 1</th>\n",
       "      <th>Markdown Distribution 2</th>\n",
       "      <th>Markdown Distribution 3</th>\n",
       "      <th>Markdown Distribution 4</th>\n",
       "      <th>Non-executed Cells</th>\n",
       "      <th>Empty Cells</th>\n",
       "    </tr>\n",
       "  </thead>\n",
       "  <tbody>\n",
       "    <tr>\n",
       "      <th>0</th>\n",
       "      <td>my-attempt-at-analytics-vidhya-job-a-thon.ipynb</td>\n",
       "      <td>True</td>\n",
       "      <td>0</td>\n",
       "      <td>3</td>\n",
       "      <td>False</td>\n",
       "      <td>7</td>\n",
       "      <td>2</td>\n",
       "      <td>0.285714</td>\n",
       "      <td>0.571429</td>\n",
       "      <td>0.142857</td>\n",
       "      <td>0.000000</td>\n",
       "      <td>0</td>\n",
       "      <td>3</td>\n",
       "    </tr>\n",
       "    <tr>\n",
       "      <th>1</th>\n",
       "      <td>statistics-for-ml-data-analysis.ipynb</td>\n",
       "      <td>True</td>\n",
       "      <td>0</td>\n",
       "      <td>0</td>\n",
       "      <td>False</td>\n",
       "      <td>120</td>\n",
       "      <td>21</td>\n",
       "      <td>0.364407</td>\n",
       "      <td>0.135593</td>\n",
       "      <td>0.118644</td>\n",
       "      <td>0.381356</td>\n",
       "      <td>0</td>\n",
       "      <td>35</td>\n",
       "    </tr>\n",
       "    <tr>\n",
       "      <th>2</th>\n",
       "      <td>stroke-prediction-beginner-s-guide.ipynb</td>\n",
       "      <td>True</td>\n",
       "      <td>0</td>\n",
       "      <td>1</td>\n",
       "      <td>False</td>\n",
       "      <td>58</td>\n",
       "      <td>2</td>\n",
       "      <td>0.068966</td>\n",
       "      <td>0.413793</td>\n",
       "      <td>0.465517</td>\n",
       "      <td>0.051724</td>\n",
       "      <td>0</td>\n",
       "      <td>0</td>\n",
       "    </tr>\n",
       "  </tbody>\n",
       "</table>\n",
       "</div>"
      ],
      "text/plain": [
       "                                     Notebook Name  Correc Execution Order  \\\n",
       "0  my-attempt-at-analytics-vidhya-job-a-thon.ipynb                    True   \n",
       "1            statistics-for-ml-data-analysis.ipynb                    True   \n",
       "2         stroke-prediction-beginner-s-guide.ipynb                    True   \n",
       "\n",
       "   Classes  Functions  Imports Correct Position  Markdown Rows  \\\n",
       "0        0          3                     False              7   \n",
       "1        0          0                     False            120   \n",
       "2        0          1                     False             58   \n",
       "\n",
       "   Markdown Titles  Markdown Distribution 1  Markdown Distribution 2  \\\n",
       "0                2                 0.285714                 0.571429   \n",
       "1               21                 0.364407                 0.135593   \n",
       "2                2                 0.068966                 0.413793   \n",
       "\n",
       "   Markdown Distribution 3  Markdown Distribution 4  Non-executed Cells  \\\n",
       "0                 0.142857                 0.000000                   0   \n",
       "1                 0.118644                 0.381356                   0   \n",
       "2                 0.465517                 0.051724                   0   \n",
       "\n",
       "   Empty Cells  \n",
       "0            3  \n",
       "1           35  \n",
       "2            0  "
      ]
     },
     "execution_count": 3,
     "metadata": {},
     "output_type": "execute_result"
    }
   ],
   "source": [
    "df = pandas.DataFrame(data, columns =[\"Notebook Name\",\"Correc Execution Order\",\"Classes\",\"Functions\",\"Imports Correct Position\",\"Markdown Rows\",\"Markdown Titles\",\"Markdown Distribution 1\",\"Markdown Distribution 2\",\"Markdown Distribution 3\",\"Markdown Distribution 4\",\"Non-executed Cells\",\"Empty Cells\"])\n",
    "df"
   ]
  }
 ],
 "metadata": {
  "kernelspec": {
   "display_name": "myenvKernel",
   "language": "python",
   "name": "myenvkernel"
  },
  "language_info": {
   "codemirror_mode": {
    "name": "ipython",
    "version": 3
   },
   "file_extension": ".py",
   "mimetype": "text/x-python",
   "name": "python",
   "nbconvert_exporter": "python",
   "pygments_lexer": "ipython3",
   "version": "3.6.13"
  }
 },
 "nbformat": 4,
 "nbformat_minor": 1
}