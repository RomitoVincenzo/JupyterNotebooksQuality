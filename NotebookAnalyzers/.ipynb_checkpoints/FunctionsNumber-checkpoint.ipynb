{
 "cells": [
  {
   "cell_type": "markdown",
   "id": "bulgarian-assets",
   "metadata": {},
   "source": [
    "LOAD METHOD "
   ]
  },
  {
   "cell_type": "code",
   "execution_count": 1,
   "id": "quarterly-wholesale",
   "metadata": {},
   "outputs": [],
   "source": [
    "import json"
   ]
  },
  {
   "cell_type": "code",
   "execution_count": 2,
   "id": "white-isaac",
   "metadata": {},
   "outputs": [],
   "source": [
    "# Opening JSON file \n",
    "f = open('../TargetNotebooks/my-attempt-at-analytics-vidhya-job-a-thon.ipynb',)"
   ]
  },
  {
   "cell_type": "code",
   "execution_count": 3,
   "id": "meaningful-protocol",
   "metadata": {},
   "outputs": [],
   "source": [
    "# returns JSON object as  \n",
    "# a dictionary \n",
    "data = json.load(f)"
   ]
  },
  {
   "cell_type": "code",
   "execution_count": 4,
   "id": "criminal-reducing",
   "metadata": {},
   "outputs": [
    {
     "name": "stdout",
     "output_type": "stream",
     "text": [
      "3\n"
     ]
    }
   ],
   "source": [
    "#cell_list=json.dumps(data)\n",
    "num_def = 0\n",
    "for cell in data[\"cells\"]:\n",
    "    if cell[\"cell_type\"] == 'code':\n",
    "        sentence= ' '.join(cell[\"source\"])\n",
    "        #print(sentence)\n",
    "        num_def = num_def + sentence.count(\"def \")\n",
    "num_def"
   ]
  },
  {
   "cell_type": "markdown",
   "id": "surgical-consultancy",
   "metadata": {},
   "source": [
    "NB CONVERTER METHOD"
   ]
  },
  {
   "cell_type": "code",
   "execution_count": 5,
   "id": "stuck-mountain",
   "metadata": {},
   "outputs": [],
   "source": [
    "from notebooktoall.transform import transform_notebook"
   ]
  },
  {
   "cell_type": "code",
   "execution_count": 6,
   "id": "specified-start",
   "metadata": {},
   "outputs": [],
   "source": [
    "transform_notebook(ipynb_file=\"../TargetNotebooks/my-attempt-at-analytics-vidhya-job-a-thon.ipynb\", export_list=[\"py\"])"
   ]
  },
  {
   "cell_type": "markdown",
   "id": "precise-agenda",
   "metadata": {},
   "source": [
    "you can just count the number of definitions once converted the file in py\n",
    "don't run the following if you did not run the transform_notebook command"
   ]
  },
  {
   "cell_type": "code",
   "execution_count": 7,
   "id": "extra-saver",
   "metadata": {},
   "outputs": [
    {
     "data": {
      "text/plain": [
       "3"
      ]
     },
     "execution_count": 7,
     "metadata": {},
     "output_type": "execute_result"
    }
   ],
   "source": [
    "with open('my-attempt-at-analytics-vidhya-job-a-thon.py', 'r') as file:\n",
    "    data = file.read().replace('\\n', '')\n",
    "data.count(\"def \")"
   ]
  },
  {
   "cell_type": "markdown",
   "id": "trying-compound",
   "metadata": {},
   "source": [
    "or analyze the sintax tree of the py file\n",
    "don't run the following if you did not run the transform_notebook command"
   ]
  },
  {
   "cell_type": "code",
   "execution_count": 8,
   "id": "closed-suggestion",
   "metadata": {},
   "outputs": [
    {
     "data": {
      "text/plain": [
       "3"
      ]
     },
     "execution_count": 8,
     "metadata": {},
     "output_type": "execute_result"
    }
   ],
   "source": [
    "import ast\n",
    "with open(\"my-attempt-at-analytics-vidhya-job-a-thon.py\") as f:\n",
    "    tree = ast.parse(f.read())\n",
    "    f_num=sum(isinstance(exp, ast.FunctionDef) for exp in tree.body)\n",
    "f_num"
   ]
  },
  {
   "cell_type": "code",
   "execution_count": null,
   "id": "close-appraisal",
   "metadata": {},
   "outputs": [],
   "source": []
  }
 ],
 "metadata": {
  "kernelspec": {
   "display_name": "testEnvKernel",
   "language": "python",
   "name": "testenvkernel"
  },
  "language_info": {
   "codemirror_mode": {
    "name": "ipython",
    "version": 3
   },
   "file_extension": ".py",
   "mimetype": "text/x-python",
   "name": "python",
   "nbconvert_exporter": "python",
   "pygments_lexer": "ipython3",
   "version": "3.6.13"
  }
 },
 "nbformat": 4,
 "nbformat_minor": 5
}
