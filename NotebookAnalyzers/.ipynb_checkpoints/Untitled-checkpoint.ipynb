{
 "cells": [
  {
   "cell_type": "markdown",
   "id": "excessive-threshold",
   "metadata": {},
   "source": [
    "# Number of functions extraction"
   ]
  },
  {
   "cell_type": "code",
   "execution_count": 19,
   "id": "monetary-bernard",
   "metadata": {},
   "outputs": [],
   "source": [
    "import json\n",
    "def notebookToCode(filename):\n",
    "    \"\"\"The function takes the name of the desired .ipynb file in the target notebooks folder and return a python code string\"\"\"\n",
    "    f=open(\"../TargetNotebooks/\"+(filename),)\n",
    "    data = json.load(f)\n",
    "    code=[]\n",
    "    for cell in data[\"cells\"]:\n",
    "        if cell[\"cell_type\"] == 'code':\n",
    "            code.append(''.join(cell[\"source\"]))\n",
    "    code = ''.join(code)\n",
    "    return code"
   ]
  },
  {
   "cell_type": "code",
   "execution_count": 20,
   "id": "spoken-corps",
   "metadata": {},
   "outputs": [],
   "source": [
    "def functionsNumber(code):\n",
    "    \"\"\"The function takes the a python code string and return the number of declared functions in it\"\"\"\n",
    "    return code.count(\"def \")"
   ]
  }
 ],
 "metadata": {
  "kernelspec": {
   "display_name": "myenvKernel",
   "language": "python",
   "name": "myenvkernel"
  },
  "language_info": {
   "codemirror_mode": {
    "name": "ipython",
    "version": 3
   },
   "file_extension": ".py",
   "mimetype": "text/x-python",
   "name": "python",
   "nbconvert_exporter": "python",
   "pygments_lexer": "ipython3",
   "version": "3.6.13"
  }
 },
 "nbformat": 4,
 "nbformat_minor": 5
}
