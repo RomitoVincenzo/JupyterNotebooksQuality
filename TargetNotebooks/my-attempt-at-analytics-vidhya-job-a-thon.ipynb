{
 "cells": [
  {
   "cell_type": "code",
   "execution_count": 1,
   "metadata": {
    "_cell_guid": "b1076dfc-b9ad-4769-8c92-a6c4dae69d19",
    "_uuid": "8f2839f25d086af736a60e9eeb907d3b93b6e0e5",
    "execution": {
     "iopub.execute_input": "2021-03-16T07:38:18.012455Z",
     "iopub.status.busy": "2021-03-16T07:38:18.011685Z",
     "iopub.status.idle": "2021-03-16T07:38:18.026673Z",
     "shell.execute_reply": "2021-03-16T07:38:18.025980Z"
    },
    "papermill": {
     "duration": 0.067936,
     "end_time": "2021-03-16T07:38:18.026943",
     "exception": false,
     "start_time": "2021-03-16T07:38:17.959007",
     "status": "completed"
    },
    "tags": []
   },
   "outputs": [
    {
     "name": "stdout",
     "output_type": "stream",
     "text": [
      "/kaggle/input/jobathon-analytics-vidhya-health-insurance/sample_submission.csv\n",
      "/kaggle/input/jobathon-analytics-vidhya-health-insurance/Test_data_dictionary.csv\n",
      "/kaggle/input/jobathon-analytics-vidhya-health-insurance/Train_data_dictionary.csv\n",
      "/kaggle/input/jobathon-analytics-vidhya-health-insurance/Train.csv\n",
      "/kaggle/input/jobathon-analytics-vidhya-health-insurance/Test.csv\n"
     ]
    }
   ],
   "source": [
    "# This Python 3 environment comes with many helpful analytics libraries installed\n",
    "# It is defined by the kaggle/python Docker image: https://github.com/kaggle/docker-python\n",
    "# For example, here's several helpful packages to load\n",
    "\n",
    "import numpy as np # linear algebra\n",
    "import pandas as pd # data processing, CSV file I/O (e.g. pd.read_csv)\n",
    "\n",
    "# Input data files are available in the read-only \"../input/\" directory\n",
    "# For example, running this (by clicking run or pressing Shift+Enter) will list all files under the input directory\n",
    "\n",
    "import os\n",
    "for dirname, _, filenames in os.walk('/kaggle/input'):\n",
    "    for filename in filenames:\n",
    "        print(os.path.join(dirname, filename))\n",
    "\n",
    "# You can write up to 20GB to the current directory (/kaggle/working/) that gets preserved as output when you create a version using \"Save & Run All\" \n",
    "# You can also write temporary files to /kaggle/temp/, but they won't be saved outside of the current session"
   ]
  },
  {
   "cell_type": "markdown",
   "metadata": {
    "papermill": {
     "duration": 0.04513,
     "end_time": "2021-03-16T07:38:18.116604",
     "exception": false,
     "start_time": "2021-03-16T07:38:18.071474",
     "status": "completed"
    },
    "tags": []
   },
   "source": [
    "# **Rank in top 15% on Private Leader Board**"
   ]
  },
  {
   "cell_type": "markdown",
   "metadata": {
    "papermill": {
     "duration": 0.042571,
     "end_time": "2021-03-16T07:38:18.202793",
     "exception": false,
     "start_time": "2021-03-16T07:38:18.160222",
     "status": "completed"
    },
    "tags": []
   },
   "source": [
    "### Hope This Notebook Helps others prepare for the same "
   ]
  },
  {
   "cell_type": "code",
   "execution_count": 2,
   "metadata": {
    "execution": {
     "iopub.execute_input": "2021-03-16T07:38:18.296618Z",
     "iopub.status.busy": "2021-03-16T07:38:18.295902Z",
     "iopub.status.idle": "2021-03-16T07:38:20.238207Z",
     "shell.execute_reply": "2021-03-16T07:38:20.237588Z"
    },
    "papermill": {
     "duration": 1.992597,
     "end_time": "2021-03-16T07:38:20.238390",
     "exception": false,
     "start_time": "2021-03-16T07:38:18.245793",
     "status": "completed"
    },
    "tags": []
   },
   "outputs": [],
   "source": [
    "import seaborn as sns\n",
    "import pandas as pd\n",
    "import matplotlib.pyplot as plt\n",
    "import numpy as np\n",
    "\n",
    "from sklearn.preprocessing import LabelEncoder\n",
    "from imblearn.over_sampling import SMOTE\n",
    "\n",
    "# pd.set_option('display.max_rows',None)\n",
    "# pd.set_option('display.max_columns',None)\n",
    "\n",
    "from sklearn.ensemble import RandomForestClassifier\n",
    "from sklearn.tree import DecisionTreeClassifier\n",
    "from sklearn.linear_model import LogisticRegression\n",
    "from xgboost import XGBClassifier\n",
    "\n",
    "from sklearn.model_selection import train_test_split,cross_val_score\n",
    "from sklearn.preprocessing import StandardScaler \n",
    "from sklearn.metrics import roc_auc_score"
   ]
  },
  {
   "cell_type": "code",
   "execution_count": 3,
   "metadata": {
    "execution": {
     "iopub.execute_input": "2021-03-16T07:38:20.335043Z",
     "iopub.status.busy": "2021-03-16T07:38:20.334190Z",
     "iopub.status.idle": "2021-03-16T07:38:20.540799Z",
     "shell.execute_reply": "2021-03-16T07:38:20.539692Z"
    },
    "papermill": {
     "duration": 0.25691,
     "end_time": "2021-03-16T07:38:20.540988",
     "exception": false,
     "start_time": "2021-03-16T07:38:20.284078",
     "status": "completed"
    },
    "tags": []
   },
   "outputs": [],
   "source": [
    "train=pd.read_csv('/kaggle/input/jobathon-analytics-vidhya-health-insurance/Train.csv')\n",
    "test=pd.read_csv('/kaggle/input/jobathon-analytics-vidhya-health-insurance/Test.csv')\n",
    "sub=pd.read_csv('/kaggle/input/jobathon-analytics-vidhya-health-insurance/sample_submission.csv')"
   ]
  },
  {
   "cell_type": "code",
   "execution_count": 4,
   "metadata": {
    "execution": {
     "iopub.execute_input": "2021-03-16T07:38:20.646004Z",
     "iopub.status.busy": "2021-03-16T07:38:20.644987Z",
     "iopub.status.idle": "2021-03-16T07:38:20.663395Z",
     "shell.execute_reply": "2021-03-16T07:38:20.662846Z"
    },
    "papermill": {
     "duration": 0.078614,
     "end_time": "2021-03-16T07:38:20.663536",
     "exception": false,
     "start_time": "2021-03-16T07:38:20.584922",
     "status": "completed"
    },
    "tags": []
   },
   "outputs": [
    {
     "data": {
      "text/html": [
       "<div>\n",
       "<style scoped>\n",
       "    .dataframe tbody tr th:only-of-type {\n",
       "        vertical-align: middle;\n",
       "    }\n",
       "\n",
       "    .dataframe tbody tr th {\n",
       "        vertical-align: top;\n",
       "    }\n",
       "\n",
       "    .dataframe thead th {\n",
       "        text-align: right;\n",
       "    }\n",
       "</style>\n",
       "<table border=\"1\" class=\"dataframe\">\n",
       "  <thead>\n",
       "    <tr style=\"text-align: right;\">\n",
       "      <th></th>\n",
       "      <th>ID</th>\n",
       "      <th>Response</th>\n",
       "    </tr>\n",
       "  </thead>\n",
       "  <tbody>\n",
       "    <tr>\n",
       "      <th>0</th>\n",
       "      <td>50883</td>\n",
       "      <td>0</td>\n",
       "    </tr>\n",
       "    <tr>\n",
       "      <th>1</th>\n",
       "      <td>50884</td>\n",
       "      <td>0</td>\n",
       "    </tr>\n",
       "    <tr>\n",
       "      <th>2</th>\n",
       "      <td>50885</td>\n",
       "      <td>0</td>\n",
       "    </tr>\n",
       "    <tr>\n",
       "      <th>3</th>\n",
       "      <td>50886</td>\n",
       "      <td>0</td>\n",
       "    </tr>\n",
       "    <tr>\n",
       "      <th>4</th>\n",
       "      <td>50887</td>\n",
       "      <td>0</td>\n",
       "    </tr>\n",
       "  </tbody>\n",
       "</table>\n",
       "</div>"
      ],
      "text/plain": [
       "      ID  Response\n",
       "0  50883         0\n",
       "1  50884         0\n",
       "2  50885         0\n",
       "3  50886         0\n",
       "4  50887         0"
      ]
     },
     "execution_count": 4,
     "metadata": {},
     "output_type": "execute_result"
    }
   ],
   "source": [
    "sub.head()"
   ]
  },
  {
   "cell_type": "code",
   "execution_count": 5,
   "metadata": {
    "execution": {
     "iopub.execute_input": "2021-03-16T07:38:20.755325Z",
     "iopub.status.busy": "2021-03-16T07:38:20.754563Z",
     "iopub.status.idle": "2021-03-16T07:38:20.777028Z",
     "shell.execute_reply": "2021-03-16T07:38:20.776251Z"
    },
    "papermill": {
     "duration": 0.06982,
     "end_time": "2021-03-16T07:38:20.777182",
     "exception": false,
     "start_time": "2021-03-16T07:38:20.707362",
     "status": "completed"
    },
    "tags": []
   },
   "outputs": [
    {
     "data": {
      "text/html": [
       "<div>\n",
       "<style scoped>\n",
       "    .dataframe tbody tr th:only-of-type {\n",
       "        vertical-align: middle;\n",
       "    }\n",
       "\n",
       "    .dataframe tbody tr th {\n",
       "        vertical-align: top;\n",
       "    }\n",
       "\n",
       "    .dataframe thead th {\n",
       "        text-align: right;\n",
       "    }\n",
       "</style>\n",
       "<table border=\"1\" class=\"dataframe\">\n",
       "  <thead>\n",
       "    <tr style=\"text-align: right;\">\n",
       "      <th></th>\n",
       "      <th>ID</th>\n",
       "      <th>City_Code</th>\n",
       "      <th>Region_Code</th>\n",
       "      <th>Accomodation_Type</th>\n",
       "      <th>Reco_Insurance_Type</th>\n",
       "      <th>Upper_Age</th>\n",
       "      <th>Lower_Age</th>\n",
       "      <th>Is_Spouse</th>\n",
       "      <th>Health Indicator</th>\n",
       "      <th>Holding_Policy_Duration</th>\n",
       "      <th>Holding_Policy_Type</th>\n",
       "      <th>Reco_Policy_Cat</th>\n",
       "      <th>Reco_Policy_Premium</th>\n",
       "      <th>Response</th>\n",
       "    </tr>\n",
       "  </thead>\n",
       "  <tbody>\n",
       "    <tr>\n",
       "      <th>0</th>\n",
       "      <td>1</td>\n",
       "      <td>C3</td>\n",
       "      <td>3213</td>\n",
       "      <td>Rented</td>\n",
       "      <td>Individual</td>\n",
       "      <td>36</td>\n",
       "      <td>36</td>\n",
       "      <td>No</td>\n",
       "      <td>X1</td>\n",
       "      <td>14+</td>\n",
       "      <td>3.0</td>\n",
       "      <td>22</td>\n",
       "      <td>11628.0</td>\n",
       "      <td>0</td>\n",
       "    </tr>\n",
       "    <tr>\n",
       "      <th>1</th>\n",
       "      <td>2</td>\n",
       "      <td>C5</td>\n",
       "      <td>1117</td>\n",
       "      <td>Owned</td>\n",
       "      <td>Joint</td>\n",
       "      <td>75</td>\n",
       "      <td>22</td>\n",
       "      <td>No</td>\n",
       "      <td>X2</td>\n",
       "      <td>NaN</td>\n",
       "      <td>NaN</td>\n",
       "      <td>22</td>\n",
       "      <td>30510.0</td>\n",
       "      <td>0</td>\n",
       "    </tr>\n",
       "    <tr>\n",
       "      <th>2</th>\n",
       "      <td>3</td>\n",
       "      <td>C5</td>\n",
       "      <td>3732</td>\n",
       "      <td>Owned</td>\n",
       "      <td>Individual</td>\n",
       "      <td>32</td>\n",
       "      <td>32</td>\n",
       "      <td>No</td>\n",
       "      <td>NaN</td>\n",
       "      <td>1.0</td>\n",
       "      <td>1.0</td>\n",
       "      <td>19</td>\n",
       "      <td>7450.0</td>\n",
       "      <td>1</td>\n",
       "    </tr>\n",
       "    <tr>\n",
       "      <th>3</th>\n",
       "      <td>4</td>\n",
       "      <td>C24</td>\n",
       "      <td>4378</td>\n",
       "      <td>Owned</td>\n",
       "      <td>Joint</td>\n",
       "      <td>52</td>\n",
       "      <td>48</td>\n",
       "      <td>No</td>\n",
       "      <td>X1</td>\n",
       "      <td>14+</td>\n",
       "      <td>3.0</td>\n",
       "      <td>19</td>\n",
       "      <td>17780.0</td>\n",
       "      <td>0</td>\n",
       "    </tr>\n",
       "    <tr>\n",
       "      <th>4</th>\n",
       "      <td>5</td>\n",
       "      <td>C8</td>\n",
       "      <td>2190</td>\n",
       "      <td>Rented</td>\n",
       "      <td>Individual</td>\n",
       "      <td>44</td>\n",
       "      <td>44</td>\n",
       "      <td>No</td>\n",
       "      <td>X2</td>\n",
       "      <td>3.0</td>\n",
       "      <td>1.0</td>\n",
       "      <td>16</td>\n",
       "      <td>10404.0</td>\n",
       "      <td>0</td>\n",
       "    </tr>\n",
       "  </tbody>\n",
       "</table>\n",
       "</div>"
      ],
      "text/plain": [
       "   ID City_Code  Region_Code Accomodation_Type Reco_Insurance_Type  Upper_Age  \\\n",
       "0   1        C3         3213            Rented          Individual         36   \n",
       "1   2        C5         1117             Owned               Joint         75   \n",
       "2   3        C5         3732             Owned          Individual         32   \n",
       "3   4       C24         4378             Owned               Joint         52   \n",
       "4   5        C8         2190            Rented          Individual         44   \n",
       "\n",
       "   Lower_Age Is_Spouse Health Indicator Holding_Policy_Duration  \\\n",
       "0         36        No               X1                     14+   \n",
       "1         22        No               X2                     NaN   \n",
       "2         32        No              NaN                     1.0   \n",
       "3         48        No               X1                     14+   \n",
       "4         44        No               X2                     3.0   \n",
       "\n",
       "   Holding_Policy_Type  Reco_Policy_Cat  Reco_Policy_Premium  Response  \n",
       "0                  3.0               22              11628.0         0  \n",
       "1                  NaN               22              30510.0         0  \n",
       "2                  1.0               19               7450.0         1  \n",
       "3                  3.0               19              17780.0         0  \n",
       "4                  1.0               16              10404.0         0  "
      ]
     },
     "execution_count": 5,
     "metadata": {},
     "output_type": "execute_result"
    }
   ],
   "source": [
    "train.head()"
   ]
  },
  {
   "cell_type": "code",
   "execution_count": 6,
   "metadata": {
    "execution": {
     "iopub.execute_input": "2021-03-16T07:38:20.876803Z",
     "iopub.status.busy": "2021-03-16T07:38:20.875835Z",
     "iopub.status.idle": "2021-03-16T07:38:20.949284Z",
     "shell.execute_reply": "2021-03-16T07:38:20.949802Z"
    },
    "papermill": {
     "duration": 0.12833,
     "end_time": "2021-03-16T07:38:20.950006",
     "exception": false,
     "start_time": "2021-03-16T07:38:20.821676",
     "status": "completed"
    },
    "tags": []
   },
   "outputs": [],
   "source": [
    "train['Diff']=train['Upper_Age']-train['Lower_Age']\n",
    "test['Diff']=test['Upper_Age']-test['Lower_Age']\n",
    "\n",
    "def set_range_age(x):\n",
    "    if(x<15):\n",
    "        return 1\n",
    "    elif((x>=15) and (x<30)):\n",
    "        return 2\n",
    "    elif(x>=30 and x<45):\n",
    "        return 3\n",
    "    elif(x>=45):\n",
    "        return 4\n",
    "    \n",
    "train['New']=train['Diff'].apply(set_range_age)\n",
    "test['New']=test['Diff'].apply(set_range_age)"
   ]
  },
  {
   "cell_type": "code",
   "execution_count": 7,
   "metadata": {
    "execution": {
     "iopub.execute_input": "2021-03-16T07:38:21.046054Z",
     "iopub.status.busy": "2021-03-16T07:38:21.045329Z",
     "iopub.status.idle": "2021-03-16T07:38:21.058539Z",
     "shell.execute_reply": "2021-03-16T07:38:21.057963Z"
    },
    "papermill": {
     "duration": 0.061833,
     "end_time": "2021-03-16T07:38:21.058701",
     "exception": false,
     "start_time": "2021-03-16T07:38:20.996868",
     "status": "completed"
    },
    "tags": []
   },
   "outputs": [
    {
     "data": {
      "text/plain": [
       "1    48282\n",
       "2     1415\n",
       "3     1038\n",
       "4      147\n",
       "Name: New, dtype: int64"
      ]
     },
     "execution_count": 7,
     "metadata": {},
     "output_type": "execute_result"
    }
   ],
   "source": [
    "train['New'].value_counts()"
   ]
  },
  {
   "cell_type": "code",
   "execution_count": 8,
   "metadata": {
    "execution": {
     "iopub.execute_input": "2021-03-16T07:38:21.153514Z",
     "iopub.status.busy": "2021-03-16T07:38:21.152855Z",
     "iopub.status.idle": "2021-03-16T07:38:21.194570Z",
     "shell.execute_reply": "2021-03-16T07:38:21.195072Z"
    },
    "papermill": {
     "duration": 0.091752,
     "end_time": "2021-03-16T07:38:21.195288",
     "exception": false,
     "start_time": "2021-03-16T07:38:21.103536",
     "status": "completed"
    },
    "tags": []
   },
   "outputs": [
    {
     "data": {
      "text/plain": [
       "ID                             0\n",
       "City_Code                      0\n",
       "Region_Code                    0\n",
       "Accomodation_Type              0\n",
       "Reco_Insurance_Type            0\n",
       "Upper_Age                      0\n",
       "Lower_Age                      0\n",
       "Is_Spouse                      0\n",
       "Health Indicator           11691\n",
       "Holding_Policy_Duration    20251\n",
       "Holding_Policy_Type        20251\n",
       "Reco_Policy_Cat                0\n",
       "Reco_Policy_Premium            0\n",
       "Response                       0\n",
       "Diff                           0\n",
       "New                            0\n",
       "dtype: int64"
      ]
     },
     "execution_count": 8,
     "metadata": {},
     "output_type": "execute_result"
    }
   ],
   "source": [
    "train.isnull().sum()"
   ]
  },
  {
   "cell_type": "code",
   "execution_count": 9,
   "metadata": {
    "execution": {
     "iopub.execute_input": "2021-03-16T07:38:21.302620Z",
     "iopub.status.busy": "2021-03-16T07:38:21.301478Z",
     "iopub.status.idle": "2021-03-16T07:38:21.306966Z",
     "shell.execute_reply": "2021-03-16T07:38:21.306141Z"
    },
    "papermill": {
     "duration": 0.063537,
     "end_time": "2021-03-16T07:38:21.307138",
     "exception": false,
     "start_time": "2021-03-16T07:38:21.243601",
     "status": "completed"
    },
    "tags": []
   },
   "outputs": [
    {
     "data": {
      "text/plain": [
       "50882"
      ]
     },
     "execution_count": 9,
     "metadata": {},
     "output_type": "execute_result"
    }
   ],
   "source": [
    "len(train)"
   ]
  },
  {
   "cell_type": "code",
   "execution_count": 10,
   "metadata": {
    "execution": {
     "iopub.execute_input": "2021-03-16T07:38:21.421670Z",
     "iopub.status.busy": "2021-03-16T07:38:21.420483Z",
     "iopub.status.idle": "2021-03-16T07:38:21.465190Z",
     "shell.execute_reply": "2021-03-16T07:38:21.465657Z"
    },
    "papermill": {
     "duration": 0.102109,
     "end_time": "2021-03-16T07:38:21.465900",
     "exception": false,
     "start_time": "2021-03-16T07:38:21.363791",
     "status": "completed"
    },
    "tags": []
   },
   "outputs": [
    {
     "data": {
      "text/plain": [
       "Health Indicator           22.976691\n",
       "Holding_Policy_Duration    39.799929\n",
       "Holding_Policy_Type        39.799929\n",
       "dtype: float64"
      ]
     },
     "execution_count": 10,
     "metadata": {},
     "output_type": "execute_result"
    }
   ],
   "source": [
    "a = train.isnull().sum()/len(train)*100\n",
    "a[a>0]"
   ]
  },
  {
   "cell_type": "code",
   "execution_count": 11,
   "metadata": {
    "execution": {
     "iopub.execute_input": "2021-03-16T07:38:21.569644Z",
     "iopub.status.busy": "2021-03-16T07:38:21.568548Z",
     "iopub.status.idle": "2021-03-16T07:38:21.593040Z",
     "shell.execute_reply": "2021-03-16T07:38:21.593509Z"
    },
    "papermill": {
     "duration": 0.079589,
     "end_time": "2021-03-16T07:38:21.593736",
     "exception": false,
     "start_time": "2021-03-16T07:38:21.514147",
     "status": "completed"
    },
    "tags": []
   },
   "outputs": [
    {
     "data": {
      "text/plain": [
       "Health Indicator           23.054345\n",
       "Holding_Policy_Duration    39.454254\n",
       "Holding_Policy_Type        39.454254\n",
       "dtype: float64"
      ]
     },
     "execution_count": 11,
     "metadata": {},
     "output_type": "execute_result"
    }
   ],
   "source": [
    "a = test.isnull().sum()/len(test)*100\n",
    "a[a>0]"
   ]
  },
  {
   "cell_type": "code",
   "execution_count": 12,
   "metadata": {
    "execution": {
     "iopub.execute_input": "2021-03-16T07:38:21.698549Z",
     "iopub.status.busy": "2021-03-16T07:38:21.697865Z",
     "iopub.status.idle": "2021-03-16T07:38:21.763829Z",
     "shell.execute_reply": "2021-03-16T07:38:21.763095Z"
    },
    "papermill": {
     "duration": 0.120926,
     "end_time": "2021-03-16T07:38:21.764002",
     "exception": false,
     "start_time": "2021-03-16T07:38:21.643076",
     "status": "completed"
    },
    "tags": []
   },
   "outputs": [
    {
     "data": {
      "text/html": [
       "<div>\n",
       "<style scoped>\n",
       "    .dataframe tbody tr th:only-of-type {\n",
       "        vertical-align: middle;\n",
       "    }\n",
       "\n",
       "    .dataframe tbody tr th {\n",
       "        vertical-align: top;\n",
       "    }\n",
       "\n",
       "    .dataframe thead th {\n",
       "        text-align: right;\n",
       "    }\n",
       "</style>\n",
       "<table border=\"1\" class=\"dataframe\">\n",
       "  <thead>\n",
       "    <tr style=\"text-align: right;\">\n",
       "      <th></th>\n",
       "      <th>ID</th>\n",
       "      <th>Region_Code</th>\n",
       "      <th>Upper_Age</th>\n",
       "      <th>Lower_Age</th>\n",
       "      <th>Holding_Policy_Type</th>\n",
       "      <th>Reco_Policy_Cat</th>\n",
       "      <th>Reco_Policy_Premium</th>\n",
       "      <th>Response</th>\n",
       "      <th>Diff</th>\n",
       "      <th>New</th>\n",
       "    </tr>\n",
       "  </thead>\n",
       "  <tbody>\n",
       "    <tr>\n",
       "      <th>count</th>\n",
       "      <td>50882.000000</td>\n",
       "      <td>50882.000000</td>\n",
       "      <td>50882.000000</td>\n",
       "      <td>50882.000000</td>\n",
       "      <td>30631.000000</td>\n",
       "      <td>50882.000000</td>\n",
       "      <td>50882.000000</td>\n",
       "      <td>50882.000000</td>\n",
       "      <td>50882.000000</td>\n",
       "      <td>50882.000000</td>\n",
       "    </tr>\n",
       "    <tr>\n",
       "      <th>mean</th>\n",
       "      <td>25441.500000</td>\n",
       "      <td>1732.788707</td>\n",
       "      <td>44.856275</td>\n",
       "      <td>42.738866</td>\n",
       "      <td>2.439228</td>\n",
       "      <td>15.115188</td>\n",
       "      <td>14183.950069</td>\n",
       "      <td>0.239947</td>\n",
       "      <td>2.117409</td>\n",
       "      <td>1.077277</td>\n",
       "    </tr>\n",
       "    <tr>\n",
       "      <th>std</th>\n",
       "      <td>14688.512535</td>\n",
       "      <td>1424.081652</td>\n",
       "      <td>17.310271</td>\n",
       "      <td>17.319375</td>\n",
       "      <td>1.025923</td>\n",
       "      <td>6.340663</td>\n",
       "      <td>6590.074873</td>\n",
       "      <td>0.427055</td>\n",
       "      <td>6.865406</td>\n",
       "      <td>0.359781</td>\n",
       "    </tr>\n",
       "    <tr>\n",
       "      <th>min</th>\n",
       "      <td>1.000000</td>\n",
       "      <td>1.000000</td>\n",
       "      <td>18.000000</td>\n",
       "      <td>16.000000</td>\n",
       "      <td>1.000000</td>\n",
       "      <td>1.000000</td>\n",
       "      <td>2280.000000</td>\n",
       "      <td>0.000000</td>\n",
       "      <td>0.000000</td>\n",
       "      <td>1.000000</td>\n",
       "    </tr>\n",
       "    <tr>\n",
       "      <th>25%</th>\n",
       "      <td>12721.250000</td>\n",
       "      <td>523.000000</td>\n",
       "      <td>28.000000</td>\n",
       "      <td>27.000000</td>\n",
       "      <td>1.000000</td>\n",
       "      <td>12.000000</td>\n",
       "      <td>9248.000000</td>\n",
       "      <td>0.000000</td>\n",
       "      <td>0.000000</td>\n",
       "      <td>1.000000</td>\n",
       "    </tr>\n",
       "    <tr>\n",
       "      <th>50%</th>\n",
       "      <td>25441.500000</td>\n",
       "      <td>1391.000000</td>\n",
       "      <td>44.000000</td>\n",
       "      <td>40.000000</td>\n",
       "      <td>3.000000</td>\n",
       "      <td>17.000000</td>\n",
       "      <td>13178.000000</td>\n",
       "      <td>0.000000</td>\n",
       "      <td>0.000000</td>\n",
       "      <td>1.000000</td>\n",
       "    </tr>\n",
       "    <tr>\n",
       "      <th>75%</th>\n",
       "      <td>38161.750000</td>\n",
       "      <td>2667.000000</td>\n",
       "      <td>59.000000</td>\n",
       "      <td>57.000000</td>\n",
       "      <td>3.000000</td>\n",
       "      <td>20.000000</td>\n",
       "      <td>18096.000000</td>\n",
       "      <td>0.000000</td>\n",
       "      <td>0.000000</td>\n",
       "      <td>1.000000</td>\n",
       "    </tr>\n",
       "    <tr>\n",
       "      <th>max</th>\n",
       "      <td>50882.000000</td>\n",
       "      <td>6194.000000</td>\n",
       "      <td>75.000000</td>\n",
       "      <td>75.000000</td>\n",
       "      <td>4.000000</td>\n",
       "      <td>22.000000</td>\n",
       "      <td>43350.400000</td>\n",
       "      <td>1.000000</td>\n",
       "      <td>59.000000</td>\n",
       "      <td>4.000000</td>\n",
       "    </tr>\n",
       "  </tbody>\n",
       "</table>\n",
       "</div>"
      ],
      "text/plain": [
       "                 ID   Region_Code     Upper_Age     Lower_Age  \\\n",
       "count  50882.000000  50882.000000  50882.000000  50882.000000   \n",
       "mean   25441.500000   1732.788707     44.856275     42.738866   \n",
       "std    14688.512535   1424.081652     17.310271     17.319375   \n",
       "min        1.000000      1.000000     18.000000     16.000000   \n",
       "25%    12721.250000    523.000000     28.000000     27.000000   \n",
       "50%    25441.500000   1391.000000     44.000000     40.000000   \n",
       "75%    38161.750000   2667.000000     59.000000     57.000000   \n",
       "max    50882.000000   6194.000000     75.000000     75.000000   \n",
       "\n",
       "       Holding_Policy_Type  Reco_Policy_Cat  Reco_Policy_Premium  \\\n",
       "count         30631.000000     50882.000000         50882.000000   \n",
       "mean              2.439228        15.115188         14183.950069   \n",
       "std               1.025923         6.340663          6590.074873   \n",
       "min               1.000000         1.000000          2280.000000   \n",
       "25%               1.000000        12.000000          9248.000000   \n",
       "50%               3.000000        17.000000         13178.000000   \n",
       "75%               3.000000        20.000000         18096.000000   \n",
       "max               4.000000        22.000000         43350.400000   \n",
       "\n",
       "           Response          Diff           New  \n",
       "count  50882.000000  50882.000000  50882.000000  \n",
       "mean       0.239947      2.117409      1.077277  \n",
       "std        0.427055      6.865406      0.359781  \n",
       "min        0.000000      0.000000      1.000000  \n",
       "25%        0.000000      0.000000      1.000000  \n",
       "50%        0.000000      0.000000      1.000000  \n",
       "75%        0.000000      0.000000      1.000000  \n",
       "max        1.000000     59.000000      4.000000  "
      ]
     },
     "execution_count": 12,
     "metadata": {},
     "output_type": "execute_result"
    }
   ],
   "source": [
    "train.describe()"
   ]
  },
  {
   "cell_type": "code",
   "execution_count": 13,
   "metadata": {
    "execution": {
     "iopub.execute_input": "2021-03-16T07:38:21.898918Z",
     "iopub.status.busy": "2021-03-16T07:38:21.868974Z",
     "iopub.status.idle": "2021-03-16T07:38:21.915824Z",
     "shell.execute_reply": "2021-03-16T07:38:21.916480Z"
    },
    "papermill": {
     "duration": 0.10237,
     "end_time": "2021-03-16T07:38:21.916738",
     "exception": false,
     "start_time": "2021-03-16T07:38:21.814368",
     "status": "completed"
    },
    "tags": []
   },
   "outputs": [
    {
     "name": "stdout",
     "output_type": "stream",
     "text": [
      "<class 'pandas.core.frame.DataFrame'>\n",
      "RangeIndex: 50882 entries, 0 to 50881\n",
      "Data columns (total 16 columns):\n",
      " #   Column                   Non-Null Count  Dtype  \n",
      "---  ------                   --------------  -----  \n",
      " 0   ID                       50882 non-null  int64  \n",
      " 1   City_Code                50882 non-null  object \n",
      " 2   Region_Code              50882 non-null  int64  \n",
      " 3   Accomodation_Type        50882 non-null  object \n",
      " 4   Reco_Insurance_Type      50882 non-null  object \n",
      " 5   Upper_Age                50882 non-null  int64  \n",
      " 6   Lower_Age                50882 non-null  int64  \n",
      " 7   Is_Spouse                50882 non-null  object \n",
      " 8   Health Indicator         39191 non-null  object \n",
      " 9   Holding_Policy_Duration  30631 non-null  object \n",
      " 10  Holding_Policy_Type      30631 non-null  float64\n",
      " 11  Reco_Policy_Cat          50882 non-null  int64  \n",
      " 12  Reco_Policy_Premium      50882 non-null  float64\n",
      " 13  Response                 50882 non-null  int64  \n",
      " 14  Diff                     50882 non-null  int64  \n",
      " 15  New                      50882 non-null  int64  \n",
      "dtypes: float64(2), int64(8), object(6)\n",
      "memory usage: 6.2+ MB\n"
     ]
    }
   ],
   "source": [
    "train.info()"
   ]
  },
  {
   "cell_type": "code",
   "execution_count": 14,
   "metadata": {
    "execution": {
     "iopub.execute_input": "2021-03-16T07:38:22.025193Z",
     "iopub.status.busy": "2021-03-16T07:38:22.024477Z",
     "iopub.status.idle": "2021-03-16T07:38:22.028911Z",
     "shell.execute_reply": "2021-03-16T07:38:22.028226Z"
    },
    "papermill": {
     "duration": 0.062944,
     "end_time": "2021-03-16T07:38:22.029080",
     "exception": false,
     "start_time": "2021-03-16T07:38:21.966136",
     "status": "completed"
    },
    "tags": []
   },
   "outputs": [
    {
     "data": {
      "text/plain": [
       "Index(['ID', 'City_Code', 'Region_Code', 'Accomodation_Type',\n",
       "       'Reco_Insurance_Type', 'Upper_Age', 'Lower_Age', 'Is_Spouse',\n",
       "       'Health Indicator', 'Holding_Policy_Duration', 'Holding_Policy_Type',\n",
       "       'Reco_Policy_Cat', 'Reco_Policy_Premium', 'Response', 'Diff', 'New'],\n",
       "      dtype='object')"
      ]
     },
     "execution_count": 14,
     "metadata": {},
     "output_type": "execute_result"
    }
   ],
   "source": [
    "train.columns"
   ]
  },
  {
   "cell_type": "code",
   "execution_count": 15,
   "metadata": {
    "execution": {
     "iopub.execute_input": "2021-03-16T07:38:22.136249Z",
     "iopub.status.busy": "2021-03-16T07:38:22.135066Z",
     "iopub.status.idle": "2021-03-16T07:38:22.140133Z",
     "shell.execute_reply": "2021-03-16T07:38:22.139311Z"
    },
    "papermill": {
     "duration": 0.059434,
     "end_time": "2021-03-16T07:38:22.140349",
     "exception": false,
     "start_time": "2021-03-16T07:38:22.080915",
     "status": "completed"
    },
    "tags": []
   },
   "outputs": [
    {
     "name": "stdout",
     "output_type": "stream",
     "text": [
      "50882\n"
     ]
    }
   ],
   "source": [
    "print(len(train))"
   ]
  },
  {
   "cell_type": "code",
   "execution_count": 16,
   "metadata": {
    "execution": {
     "iopub.execute_input": "2021-03-16T07:38:22.248319Z",
     "iopub.status.busy": "2021-03-16T07:38:22.247563Z",
     "iopub.status.idle": "2021-03-16T07:38:22.335190Z",
     "shell.execute_reply": "2021-03-16T07:38:22.334109Z"
    },
    "papermill": {
     "duration": 0.144139,
     "end_time": "2021-03-16T07:38:22.335435",
     "exception": false,
     "start_time": "2021-03-16T07:38:22.191296",
     "status": "completed"
    },
    "tags": []
   },
   "outputs": [
    {
     "name": "stdout",
     "output_type": "stream",
     "text": [
      "Column :ID Number of unique columns:50882\n",
      "Column :City_Code Number of unique columns:36\n",
      "Column :Region_Code Number of unique columns:5316\n",
      "Column :Accomodation_Type Number of unique columns:2\n",
      "Column :Reco_Insurance_Type Number of unique columns:2\n",
      "Column :Upper_Age Number of unique columns:58\n",
      "Column :Lower_Age Number of unique columns:60\n",
      "Column :Is_Spouse Number of unique columns:2\n",
      "Column :Health Indicator Number of unique columns:9\n",
      "Column :Holding_Policy_Duration Number of unique columns:15\n",
      "Column :Holding_Policy_Type Number of unique columns:4\n",
      "Column :Reco_Policy_Cat Number of unique columns:22\n",
      "Column :Reco_Policy_Premium Number of unique columns:6977\n",
      "Column :Response Number of unique columns:2\n",
      "Column :Diff Number of unique columns:60\n",
      "Column :New Number of unique columns:4\n"
     ]
    }
   ],
   "source": [
    "for i in train.columns:\n",
    "    print(f'Column :{i} Number of unique columns:{train[i].nunique()}')  "
   ]
  },
  {
   "cell_type": "code",
   "execution_count": 17,
   "metadata": {
    "execution": {
     "iopub.execute_input": "2021-03-16T07:38:22.443572Z",
     "iopub.status.busy": "2021-03-16T07:38:22.442900Z",
     "iopub.status.idle": "2021-03-16T07:38:22.934566Z",
     "shell.execute_reply": "2021-03-16T07:38:22.933331Z"
    },
    "papermill": {
     "duration": 0.548264,
     "end_time": "2021-03-16T07:38:22.934758",
     "exception": false,
     "start_time": "2021-03-16T07:38:22.386494",
     "status": "completed"
    },
    "tags": []
   },
   "outputs": [
    {
     "name": "stderr",
     "output_type": "stream",
     "text": [
      "/opt/conda/lib/python3.7/site-packages/seaborn/_decorators.py:43: FutureWarning: Pass the following variable as a keyword arg: x. From version 0.12, the only valid positional argument will be `data`, and passing other arguments without an explicit keyword will result in an error or misinterpretation.\n",
      "  FutureWarning\n"
     ]
    },
    {
     "data": {
      "text/plain": [
       "<AxesSubplot:xlabel='City_Code', ylabel='count'>"
      ]
     },
     "execution_count": 17,
     "metadata": {},
     "output_type": "execute_result"
    },
    {
     "data": {
      "image/png": "[encoded data removed]",
      "text/plain": [
       "<Figure size 864x504 with 1 Axes>"
      ]
     },
     "metadata": {
      "needs_background": "light"
     },
     "output_type": "display_data"
    }
   ],
   "source": [
    "plt.figure(figsize=(12,7))\n",
    "sns.countplot(train['City_Code'])"
   ]
  },
  {
   "cell_type": "code",
   "execution_count": 18,
   "metadata": {
    "execution": {
     "iopub.execute_input": "2021-03-16T07:38:23.055296Z",
     "iopub.status.busy": "2021-03-16T07:38:23.054163Z",
     "iopub.status.idle": "2021-03-16T07:38:23.065920Z",
     "shell.execute_reply": "2021-03-16T07:38:23.065271Z"
    },
    "papermill": {
     "duration": 0.078264,
     "end_time": "2021-03-16T07:38:23.066089",
     "exception": false,
     "start_time": "2021-03-16T07:38:22.987825",
     "status": "completed"
    },
    "tags": []
   },
   "outputs": [
    {
     "data": {
      "text/plain": [
       "36"
      ]
     },
     "execution_count": 18,
     "metadata": {},
     "output_type": "execute_result"
    }
   ],
   "source": [
    "train['City_Code'].nunique()"
   ]
  },
  {
   "cell_type": "code",
   "execution_count": 19,
   "metadata": {
    "execution": {
     "iopub.execute_input": "2021-03-16T07:38:23.174966Z",
     "iopub.status.busy": "2021-03-16T07:38:23.174271Z",
     "iopub.status.idle": "2021-03-16T07:38:23.195409Z",
     "shell.execute_reply": "2021-03-16T07:38:23.194783Z"
    },
    "papermill": {
     "duration": 0.076476,
     "end_time": "2021-03-16T07:38:23.195558",
     "exception": false,
     "start_time": "2021-03-16T07:38:23.119082",
     "status": "completed"
    },
    "tags": []
   },
   "outputs": [
    {
     "data": {
      "text/plain": [
       "C1     8973\n",
       "C2     7747\n",
       "C3     4889\n",
       "C4     3671\n",
       "C9     2185\n",
       "C6     1950\n",
       "C7     1910\n",
       "C8     1806\n",
       "C10    1611\n",
       "C5     1364\n",
       "C15    1186\n",
       "C17    1159\n",
       "C11    1147\n",
       "C16    1135\n",
       "C13    1005\n",
       "C20     926\n",
       "C19     899\n",
       "C12     868\n",
       "C18     797\n",
       "C14     746\n",
       "C21     679\n",
       "C23     587\n",
       "C24     553\n",
       "C22     516\n",
       "C26     499\n",
       "C29     387\n",
       "C25     366\n",
       "C27     295\n",
       "C33     286\n",
       "C28     285\n",
       "C32     160\n",
       "C34     130\n",
       "C30      58\n",
       "C35      56\n",
       "C36      36\n",
       "C31      15\n",
       "Name: City_Code, dtype: int64"
      ]
     },
     "execution_count": 19,
     "metadata": {},
     "output_type": "execute_result"
    }
   ],
   "source": [
    "train['City_Code'].value_counts()"
   ]
  },
  {
   "cell_type": "code",
   "execution_count": 20,
   "metadata": {
    "execution": {
     "iopub.execute_input": "2021-03-16T07:38:23.305783Z",
     "iopub.status.busy": "2021-03-16T07:38:23.304778Z",
     "iopub.status.idle": "2021-03-16T07:38:23.308556Z",
     "shell.execute_reply": "2021-03-16T07:38:23.307904Z"
    },
    "papermill": {
     "duration": 0.060894,
     "end_time": "2021-03-16T07:38:23.308704",
     "exception": false,
     "start_time": "2021-03-16T07:38:23.247810",
     "status": "completed"
    },
    "tags": []
   },
   "outputs": [],
   "source": [
    "# train['Region_Code'].value_counts()"
   ]
  },
  {
   "cell_type": "code",
   "execution_count": 21,
   "metadata": {
    "execution": {
     "iopub.execute_input": "2021-03-16T07:38:23.423169Z",
     "iopub.status.busy": "2021-03-16T07:38:23.422450Z",
     "iopub.status.idle": "2021-03-16T07:38:23.927736Z",
     "shell.execute_reply": "2021-03-16T07:38:23.927041Z"
    },
    "papermill": {
     "duration": 0.563722,
     "end_time": "2021-03-16T07:38:23.927893",
     "exception": false,
     "start_time": "2021-03-16T07:38:23.364171",
     "status": "completed"
    },
    "tags": []
   },
   "outputs": [
    {
     "name": "stderr",
     "output_type": "stream",
     "text": [
      "/opt/conda/lib/python3.7/site-packages/seaborn/distributions.py:2557: FutureWarning: `distplot` is a deprecated function and will be removed in a future version. Please adapt your code to use either `displot` (a figure-level function with similar flexibility) or `histplot` (an axes-level function for histograms).\n",
      "  warnings.warn(msg, FutureWarning)\n"
     ]
    },
    {
     "data": {
      "text/plain": [
       "<AxesSubplot:xlabel='Upper_Age', ylabel='Density'>"
      ]
     },
     "execution_count": 21,
     "metadata": {},
     "output_type": "execute_result"
    },
    {
     "data": {
      "image/png": "[encoded data removed]",
      "text/plain": [
       "<Figure size 720x504 with 1 Axes>"
      ]
     },
     "metadata": {
      "needs_background": "light"
     },
     "output_type": "display_data"
    }
   ],
   "source": [
    "plt.figure(figsize=(10,7))\n",
    "sns.distplot(train['Upper_Age'])"
   ]
  },
  {
   "cell_type": "code",
   "execution_count": 22,
   "metadata": {
    "execution": {
     "iopub.execute_input": "2021-03-16T07:38:24.059301Z",
     "iopub.status.busy": "2021-03-16T07:38:24.058585Z",
     "iopub.status.idle": "2021-03-16T07:38:24.530871Z",
     "shell.execute_reply": "2021-03-16T07:38:24.530141Z"
    },
    "papermill": {
     "duration": 0.549096,
     "end_time": "2021-03-16T07:38:24.531038",
     "exception": false,
     "start_time": "2021-03-16T07:38:23.981942",
     "status": "completed"
    },
    "tags": []
   },
   "outputs": [
    {
     "name": "stderr",
     "output_type": "stream",
     "text": [
      "/opt/conda/lib/python3.7/site-packages/seaborn/distributions.py:2557: FutureWarning: `distplot` is a deprecated function and will be removed in a future version. Please adapt your code to use either `displot` (a figure-level function with similar flexibility) or `histplot` (an axes-level function for histograms).\n",
      "  warnings.warn(msg, FutureWarning)\n"
     ]
    },
    {
     "data": {
      "text/plain": [
       "<AxesSubplot:xlabel='Lower_Age', ylabel='Density'>"
      ]
     },
     "execution_count": 22,
     "metadata": {},
     "output_type": "execute_result"
    },
    {
     "data": {
      "image/png": "[encoded data removed]",
      "text/plain": [
       "<Figure size 720x504 with 1 Axes>"
      ]
     },
     "metadata": {
      "needs_background": "light"
     },
     "output_type": "display_data"
    }
   ],
   "source": [
    "plt.figure(figsize=(10,7))\n",
    "sns.distplot(train['Lower_Age'])"
   ]
  },
  {
   "cell_type": "code",
   "execution_count": 23,
   "metadata": {
    "execution": {
     "iopub.execute_input": "2021-03-16T07:38:24.662664Z",
     "iopub.status.busy": "2021-03-16T07:38:24.662011Z",
     "iopub.status.idle": "2021-03-16T07:38:24.667253Z",
     "shell.execute_reply": "2021-03-16T07:38:24.666573Z"
    },
    "papermill": {
     "duration": 0.080423,
     "end_time": "2021-03-16T07:38:24.667408",
     "exception": false,
     "start_time": "2021-03-16T07:38:24.586985",
     "status": "completed"
    },
    "tags": []
   },
   "outputs": [
    {
     "data": {
      "text/plain": [
       "X1    13010\n",
       "X2    10332\n",
       "X3     6762\n",
       "X4     5743\n",
       "X5     1727\n",
       "X6     1280\n",
       "X7      196\n",
       "X8       78\n",
       "X9       63\n",
       "Name: Health Indicator, dtype: int64"
      ]
     },
     "execution_count": 23,
     "metadata": {},
     "output_type": "execute_result"
    }
   ],
   "source": [
    "train['Health Indicator'].value_counts()"
   ]
  },
  {
   "cell_type": "code",
   "execution_count": 24,
   "metadata": {
    "execution": {
     "iopub.execute_input": "2021-03-16T07:38:24.789692Z",
     "iopub.status.busy": "2021-03-16T07:38:24.788965Z",
     "iopub.status.idle": "2021-03-16T07:38:24.814944Z",
     "shell.execute_reply": "2021-03-16T07:38:24.814219Z"
    },
    "papermill": {
     "duration": 0.091569,
     "end_time": "2021-03-16T07:38:24.815090",
     "exception": false,
     "start_time": "2021-03-16T07:38:24.723521",
     "status": "completed"
    },
    "tags": []
   },
   "outputs": [
    {
     "data": {
      "text/plain": [
       "City_Code  Health Indicator\n",
       "C1         X1                  2235\n",
       "           X2                  1792\n",
       "           X3                  1092\n",
       "           X4                  1077\n",
       "           X5                   433\n",
       "                               ... \n",
       "C9         X5                    65\n",
       "           X6                    46\n",
       "           X7                     8\n",
       "           X9                     7\n",
       "           X8                     6\n",
       "Name: Health Indicator, Length: 287, dtype: int64"
      ]
     },
     "execution_count": 24,
     "metadata": {},
     "output_type": "execute_result"
    }
   ],
   "source": [
    "train.groupby('City_Code')['Health Indicator'].value_counts()"
   ]
  },
  {
   "cell_type": "markdown",
   "metadata": {
    "papermill": {
     "duration": 0.056344,
     "end_time": "2021-03-16T07:38:24.927706",
     "exception": false,
     "start_time": "2021-03-16T07:38:24.871362",
     "status": "completed"
    },
    "tags": []
   },
   "source": [
    "c28=x2\n",
    "c31=x2\n",
    "c35=x3\n",
    "c36=x2"
   ]
  },
  {
   "cell_type": "code",
   "execution_count": 25,
   "metadata": {
    "execution": {
     "iopub.execute_input": "2021-03-16T07:38:25.051256Z",
     "iopub.status.busy": "2021-03-16T07:38:25.050543Z",
     "iopub.status.idle": "2021-03-16T07:38:26.033128Z",
     "shell.execute_reply": "2021-03-16T07:38:26.032443Z"
    },
    "papermill": {
     "duration": 1.049001,
     "end_time": "2021-03-16T07:38:26.033279",
     "exception": false,
     "start_time": "2021-03-16T07:38:24.984278",
     "status": "completed"
    },
    "tags": []
   },
   "outputs": [],
   "source": [
    "def set_health_indicator(x):\n",
    "    city=x[0]\n",
    "    health=x[1]\n",
    "    if pd.isnull(health):\n",
    "        if (city=='C28') | (city=='C31') | (city=='C36'):\n",
    "            return 'X2'\n",
    "        elif city=='C35':\n",
    "            return 'X3'\n",
    "        else:\n",
    "            return 'X1'\n",
    "    else:\n",
    "        return health\n",
    "train['Health Indicator']=train[['City_Code','Health Indicator']].apply(set_health_indicator,axis=1)\n",
    "test['Health Indicator']=test[['City_Code','Health Indicator']].apply(set_health_indicator,axis=1)"
   ]
  },
  {
   "cell_type": "code",
   "execution_count": 26,
   "metadata": {
    "execution": {
     "iopub.execute_input": "2021-03-16T07:38:26.186074Z",
     "iopub.status.busy": "2021-03-16T07:38:26.155875Z",
     "iopub.status.idle": "2021-03-16T07:38:26.195741Z",
     "shell.execute_reply": "2021-03-16T07:38:26.195049Z"
    },
    "papermill": {
     "duration": 0.103094,
     "end_time": "2021-03-16T07:38:26.195955",
     "exception": false,
     "start_time": "2021-03-16T07:38:26.092861",
     "status": "completed"
    },
    "tags": []
   },
   "outputs": [
    {
     "data": {
      "text/plain": [
       "ID                             0\n",
       "City_Code                      0\n",
       "Region_Code                    0\n",
       "Accomodation_Type              0\n",
       "Reco_Insurance_Type            0\n",
       "Upper_Age                      0\n",
       "Lower_Age                      0\n",
       "Is_Spouse                      0\n",
       "Health Indicator               0\n",
       "Holding_Policy_Duration    20251\n",
       "Holding_Policy_Type        20251\n",
       "Reco_Policy_Cat                0\n",
       "Reco_Policy_Premium            0\n",
       "Response                       0\n",
       "Diff                           0\n",
       "New                            0\n",
       "dtype: int64"
      ]
     },
     "execution_count": 26,
     "metadata": {},
     "output_type": "execute_result"
    }
   ],
   "source": [
    "train.isnull().sum()"
   ]
  },
  {
   "cell_type": "code",
   "execution_count": 27,
   "metadata": {
    "execution": {
     "iopub.execute_input": "2021-03-16T07:38:26.325916Z",
     "iopub.status.busy": "2021-03-16T07:38:26.325241Z",
     "iopub.status.idle": "2021-03-16T07:38:26.329139Z",
     "shell.execute_reply": "2021-03-16T07:38:26.329777Z"
    },
    "papermill": {
     "duration": 0.077303,
     "end_time": "2021-03-16T07:38:26.329972",
     "exception": false,
     "start_time": "2021-03-16T07:38:26.252669",
     "status": "completed"
    },
    "tags": []
   },
   "outputs": [
    {
     "data": {
      "text/plain": [
       "1.0     4499\n",
       "14+     4335\n",
       "2.0     4260\n",
       "3.0     3586\n",
       "4.0     2771\n",
       "5.0     2362\n",
       "6.0     1894\n",
       "7.0     1645\n",
       "8.0     1316\n",
       "9.0     1114\n",
       "10.0     813\n",
       "11.0     546\n",
       "12.0     513\n",
       "13.0     511\n",
       "14.0     466\n",
       "Name: Holding_Policy_Duration, dtype: int64"
      ]
     },
     "execution_count": 27,
     "metadata": {},
     "output_type": "execute_result"
    }
   ],
   "source": [
    "train['Holding_Policy_Duration'].value_counts()"
   ]
  },
  {
   "cell_type": "code",
   "execution_count": 28,
   "metadata": {
    "execution": {
     "iopub.execute_input": "2021-03-16T07:38:26.480914Z",
     "iopub.status.busy": "2021-03-16T07:38:26.480233Z",
     "iopub.status.idle": "2021-03-16T07:38:26.489534Z",
     "shell.execute_reply": "2021-03-16T07:38:26.488990Z"
    },
    "papermill": {
     "duration": 0.102111,
     "end_time": "2021-03-16T07:38:26.489688",
     "exception": false,
     "start_time": "2021-03-16T07:38:26.387577",
     "status": "completed"
    },
    "tags": []
   },
   "outputs": [
    {
     "data": {
      "text/plain": [
       "ID                             0\n",
       "City_Code                      0\n",
       "Region_Code                    0\n",
       "Accomodation_Type              0\n",
       "Reco_Insurance_Type            0\n",
       "Upper_Age                      0\n",
       "Lower_Age                      0\n",
       "Is_Spouse                      0\n",
       "Health Indicator               0\n",
       "Holding_Policy_Duration    20251\n",
       "Holding_Policy_Type        20251\n",
       "Reco_Policy_Cat                0\n",
       "Reco_Policy_Premium            0\n",
       "Response                       0\n",
       "Diff                           0\n",
       "New                            0\n",
       "dtype: int64"
      ]
     },
     "execution_count": 28,
     "metadata": {},
     "output_type": "execute_result"
    }
   ],
   "source": [
    "train.isnull().sum()"
   ]
  },
  {
   "cell_type": "code",
   "execution_count": 29,
   "metadata": {
    "execution": {
     "iopub.execute_input": "2021-03-16T07:38:26.617645Z",
     "iopub.status.busy": "2021-03-16T07:38:26.612573Z",
     "iopub.status.idle": "2021-03-16T07:38:26.661987Z",
     "shell.execute_reply": "2021-03-16T07:38:26.661293Z"
    },
    "papermill": {
     "duration": 0.114214,
     "end_time": "2021-03-16T07:38:26.662140",
     "exception": false,
     "start_time": "2021-03-16T07:38:26.547926",
     "status": "completed"
    },
    "tags": []
   },
   "outputs": [],
   "source": [
    "train['Holding_Policy_Duration']=train['Holding_Policy_Duration'].apply(lambda x:15.0 if x =='14+' else float(x))\n",
    "test['Holding_Policy_Duration']=test['Holding_Policy_Duration'].apply(lambda x:15.0 if x =='14+' else float(x))"
   ]
  },
  {
   "cell_type": "code",
   "execution_count": 30,
   "metadata": {
    "execution": {
     "iopub.execute_input": "2021-03-16T07:38:26.784098Z",
     "iopub.status.busy": "2021-03-16T07:38:26.783279Z",
     "iopub.status.idle": "2021-03-16T07:38:26.789603Z",
     "shell.execute_reply": "2021-03-16T07:38:26.790219Z"
    },
    "papermill": {
     "duration": 0.069956,
     "end_time": "2021-03-16T07:38:26.790392",
     "exception": false,
     "start_time": "2021-03-16T07:38:26.720436",
     "status": "completed"
    },
    "tags": []
   },
   "outputs": [
    {
     "data": {
      "text/plain": [
       "1.0     4499\n",
       "15.0    4335\n",
       "2.0     4260\n",
       "3.0     3586\n",
       "4.0     2771\n",
       "5.0     2362\n",
       "6.0     1894\n",
       "7.0     1645\n",
       "8.0     1316\n",
       "9.0     1114\n",
       "10.0     813\n",
       "11.0     546\n",
       "12.0     513\n",
       "13.0     511\n",
       "14.0     466\n",
       "Name: Holding_Policy_Duration, dtype: int64"
      ]
     },
     "execution_count": 30,
     "metadata": {},
     "output_type": "execute_result"
    }
   ],
   "source": [
    "train['Holding_Policy_Duration'].value_counts()"
   ]
  },
  {
   "cell_type": "code",
   "execution_count": 31,
   "metadata": {
    "execution": {
     "iopub.execute_input": "2021-03-16T07:38:26.910318Z",
     "iopub.status.busy": "2021-03-16T07:38:26.909705Z",
     "iopub.status.idle": "2021-03-16T07:38:26.920794Z",
     "shell.execute_reply": "2021-03-16T07:38:26.921402Z"
    },
    "papermill": {
     "duration": 0.072768,
     "end_time": "2021-03-16T07:38:26.921581",
     "exception": false,
     "start_time": "2021-03-16T07:38:26.848813",
     "status": "completed"
    },
    "tags": []
   },
   "outputs": [
    {
     "data": {
      "text/plain": [
       "count    30631.000000\n",
       "mean         6.156769\n",
       "std          4.758830\n",
       "min          1.000000\n",
       "25%          2.000000\n",
       "50%          5.000000\n",
       "75%          9.000000\n",
       "max         15.000000\n",
       "Name: Holding_Policy_Duration, dtype: float64"
      ]
     },
     "execution_count": 31,
     "metadata": {},
     "output_type": "execute_result"
    }
   ],
   "source": [
    "train['Holding_Policy_Duration'].describe()"
   ]
  },
  {
   "cell_type": "code",
   "execution_count": 32,
   "metadata": {
    "execution": {
     "iopub.execute_input": "2021-03-16T07:38:27.043663Z",
     "iopub.status.busy": "2021-03-16T07:38:27.043027Z",
     "iopub.status.idle": "2021-03-16T07:38:27.047375Z",
     "shell.execute_reply": "2021-03-16T07:38:27.046704Z"
    },
    "papermill": {
     "duration": 0.066236,
     "end_time": "2021-03-16T07:38:27.047526",
     "exception": false,
     "start_time": "2021-03-16T07:38:26.981290",
     "status": "completed"
    },
    "tags": []
   },
   "outputs": [],
   "source": [
    "# train['Holding_Policy_Duration'].fillna(5.0,inplace=)"
   ]
  },
  {
   "cell_type": "code",
   "execution_count": 33,
   "metadata": {
    "execution": {
     "iopub.execute_input": "2021-03-16T07:38:27.173195Z",
     "iopub.status.busy": "2021-03-16T07:38:27.172233Z",
     "iopub.status.idle": "2021-03-16T07:38:27.177195Z",
     "shell.execute_reply": "2021-03-16T07:38:27.177681Z"
    },
    "papermill": {
     "duration": 0.071194,
     "end_time": "2021-03-16T07:38:27.177895",
     "exception": false,
     "start_time": "2021-03-16T07:38:27.106701",
     "status": "completed"
    },
    "tags": []
   },
   "outputs": [],
   "source": [
    "train['Holding_Policy_Duration'].fillna(5.0,inplace=True)\n",
    "test['Holding_Policy_Duration'].fillna(5.0,inplace=True)"
   ]
  },
  {
   "cell_type": "code",
   "execution_count": 34,
   "metadata": {
    "execution": {
     "iopub.execute_input": "2021-03-16T07:38:27.328579Z",
     "iopub.status.busy": "2021-03-16T07:38:27.327319Z",
     "iopub.status.idle": "2021-03-16T07:38:27.337949Z",
     "shell.execute_reply": "2021-03-16T07:38:27.337404Z"
    },
    "papermill": {
     "duration": 0.100393,
     "end_time": "2021-03-16T07:38:27.338101",
     "exception": false,
     "start_time": "2021-03-16T07:38:27.237708",
     "status": "completed"
    },
    "tags": []
   },
   "outputs": [
    {
     "data": {
      "text/plain": [
       "ID                             0\n",
       "City_Code                      0\n",
       "Region_Code                    0\n",
       "Accomodation_Type              0\n",
       "Reco_Insurance_Type            0\n",
       "Upper_Age                      0\n",
       "Lower_Age                      0\n",
       "Is_Spouse                      0\n",
       "Health Indicator               0\n",
       "Holding_Policy_Duration        0\n",
       "Holding_Policy_Type        20251\n",
       "Reco_Policy_Cat                0\n",
       "Reco_Policy_Premium            0\n",
       "Response                       0\n",
       "Diff                           0\n",
       "New                            0\n",
       "dtype: int64"
      ]
     },
     "execution_count": 34,
     "metadata": {},
     "output_type": "execute_result"
    }
   ],
   "source": [
    "train.isnull().sum()"
   ]
  },
  {
   "cell_type": "code",
   "execution_count": 35,
   "metadata": {
    "execution": {
     "iopub.execute_input": "2021-03-16T07:38:27.460536Z",
     "iopub.status.busy": "2021-03-16T07:38:27.459923Z",
     "iopub.status.idle": "2021-03-16T07:38:27.467923Z",
     "shell.execute_reply": "2021-03-16T07:38:27.468465Z"
    },
    "papermill": {
     "duration": 0.071267,
     "end_time": "2021-03-16T07:38:27.468645",
     "exception": false,
     "start_time": "2021-03-16T07:38:27.397378",
     "status": "completed"
    },
    "tags": []
   },
   "outputs": [
    {
     "data": {
      "text/plain": [
       "3.0    13279\n",
       "1.0     8173\n",
       "2.0     5005\n",
       "4.0     4174\n",
       "Name: Holding_Policy_Type, dtype: int64"
      ]
     },
     "execution_count": 35,
     "metadata": {},
     "output_type": "execute_result"
    }
   ],
   "source": [
    "train['Holding_Policy_Type'].value_counts()"
   ]
  },
  {
   "cell_type": "code",
   "execution_count": 36,
   "metadata": {
    "execution": {
     "iopub.execute_input": "2021-03-16T07:38:27.593169Z",
     "iopub.status.busy": "2021-03-16T07:38:27.592508Z",
     "iopub.status.idle": "2021-03-16T07:38:27.614128Z",
     "shell.execute_reply": "2021-03-16T07:38:27.613425Z"
    },
    "papermill": {
     "duration": 0.08435,
     "end_time": "2021-03-16T07:38:27.614280",
     "exception": false,
     "start_time": "2021-03-16T07:38:27.529930",
     "status": "completed"
    },
    "tags": []
   },
   "outputs": [
    {
     "data": {
      "text/plain": [
       "City_Code  Holding_Policy_Type\n",
       "C1         3.0                    2415\n",
       "           1.0                    1592\n",
       "           4.0                    1007\n",
       "           2.0                     729\n",
       "C10        3.0                     370\n",
       "Name: Holding_Policy_Type, dtype: int64"
      ]
     },
     "execution_count": 36,
     "metadata": {},
     "output_type": "execute_result"
    }
   ],
   "source": [
    "train.groupby('City_Code')['Holding_Policy_Type'].value_counts().head()"
   ]
  },
  {
   "cell_type": "code",
   "execution_count": 37,
   "metadata": {
    "execution": {
     "iopub.execute_input": "2021-03-16T07:38:27.743496Z",
     "iopub.status.busy": "2021-03-16T07:38:27.742843Z",
     "iopub.status.idle": "2021-03-16T07:38:28.742431Z",
     "shell.execute_reply": "2021-03-16T07:38:28.742965Z"
    },
    "papermill": {
     "duration": 1.068439,
     "end_time": "2021-03-16T07:38:28.743151",
     "exception": false,
     "start_time": "2021-03-16T07:38:27.674712",
     "status": "completed"
    },
    "tags": []
   },
   "outputs": [],
   "source": [
    "list_city=['c12','c15','c17','c18','c19','c24']\n",
    "def set_Holding_Policy(x):\n",
    "    city=x[0]\n",
    "    policy=x[1]\n",
    "    if pd.isnull(policy):\n",
    "        if (city in list_city):\n",
    "            return 1\n",
    "        else:\n",
    "            return 3\n",
    "    return policy\n",
    "train['Holding_Policy_Type']=train[['City_Code','Holding_Policy_Type']].apply(set_Holding_Policy,axis=1)\n",
    "test['Holding_Policy_Type']=test[['City_Code','Holding_Policy_Type']].apply(set_Holding_Policy,axis=1)"
   ]
  },
  {
   "cell_type": "code",
   "execution_count": 38,
   "metadata": {
    "execution": {
     "iopub.execute_input": "2021-03-16T07:38:28.871485Z",
     "iopub.status.busy": "2021-03-16T07:38:28.870558Z",
     "iopub.status.idle": "2021-03-16T07:38:28.911899Z",
     "shell.execute_reply": "2021-03-16T07:38:28.911358Z"
    },
    "papermill": {
     "duration": 0.107117,
     "end_time": "2021-03-16T07:38:28.912048",
     "exception": false,
     "start_time": "2021-03-16T07:38:28.804931",
     "status": "completed"
    },
    "tags": []
   },
   "outputs": [
    {
     "name": "stdout",
     "output_type": "stream",
     "text": [
      "<class 'pandas.core.frame.DataFrame'>\n",
      "RangeIndex: 50882 entries, 0 to 50881\n",
      "Data columns (total 16 columns):\n",
      " #   Column                   Non-Null Count  Dtype  \n",
      "---  ------                   --------------  -----  \n",
      " 0   ID                       50882 non-null  int64  \n",
      " 1   City_Code                50882 non-null  object \n",
      " 2   Region_Code              50882 non-null  int64  \n",
      " 3   Accomodation_Type        50882 non-null  object \n",
      " 4   Reco_Insurance_Type      50882 non-null  object \n",
      " 5   Upper_Age                50882 non-null  int64  \n",
      " 6   Lower_Age                50882 non-null  int64  \n",
      " 7   Is_Spouse                50882 non-null  object \n",
      " 8   Health Indicator         50882 non-null  object \n",
      " 9   Holding_Policy_Duration  50882 non-null  float64\n",
      " 10  Holding_Policy_Type      50882 non-null  float64\n",
      " 11  Reco_Policy_Cat          50882 non-null  int64  \n",
      " 12  Reco_Policy_Premium      50882 non-null  float64\n",
      " 13  Response                 50882 non-null  int64  \n",
      " 14  Diff                     50882 non-null  int64  \n",
      " 15  New                      50882 non-null  int64  \n",
      "dtypes: float64(3), int64(8), object(5)\n",
      "memory usage: 6.2+ MB\n"
     ]
    }
   ],
   "source": [
    "train.info()"
   ]
  },
  {
   "cell_type": "code",
   "execution_count": 39,
   "metadata": {
    "execution": {
     "iopub.execute_input": "2021-03-16T07:38:29.040127Z",
     "iopub.status.busy": "2021-03-16T07:38:29.039406Z",
     "iopub.status.idle": "2021-03-16T07:38:29.046748Z",
     "shell.execute_reply": "2021-03-16T07:38:29.046001Z"
    },
    "papermill": {
     "duration": 0.073798,
     "end_time": "2021-03-16T07:38:29.046961",
     "exception": false,
     "start_time": "2021-03-16T07:38:28.973163",
     "status": "completed"
    },
    "tags": []
   },
   "outputs": [
    {
     "data": {
      "text/plain": [
       "0    38673\n",
       "1    12209\n",
       "Name: Response, dtype: int64"
      ]
     },
     "execution_count": 39,
     "metadata": {},
     "output_type": "execute_result"
    }
   ],
   "source": [
    "train['Response'].value_counts()"
   ]
  },
  {
   "cell_type": "code",
   "execution_count": 40,
   "metadata": {
    "execution": {
     "iopub.execute_input": "2021-03-16T07:38:29.180004Z",
     "iopub.status.busy": "2021-03-16T07:38:29.178824Z",
     "iopub.status.idle": "2021-03-16T07:38:29.252211Z",
     "shell.execute_reply": "2021-03-16T07:38:29.253034Z"
    },
    "papermill": {
     "duration": 0.143615,
     "end_time": "2021-03-16T07:38:29.253299",
     "exception": false,
     "start_time": "2021-03-16T07:38:29.109684",
     "status": "completed"
    },
    "tags": []
   },
   "outputs": [
    {
     "name": "stdout",
     "output_type": "stream",
     "text": [
      "Column :ID Number of unique columns:50882\n",
      "Column :City_Code Number of unique columns:36\n",
      "Column :Region_Code Number of unique columns:5316\n",
      "Column :Accomodation_Type Number of unique columns:2\n",
      "Column :Reco_Insurance_Type Number of unique columns:2\n",
      "Column :Upper_Age Number of unique columns:58\n",
      "Column :Lower_Age Number of unique columns:60\n",
      "Column :Is_Spouse Number of unique columns:2\n",
      "Column :Health Indicator Number of unique columns:9\n",
      "Column :Holding_Policy_Duration Number of unique columns:15\n",
      "Column :Holding_Policy_Type Number of unique columns:4\n",
      "Column :Reco_Policy_Cat Number of unique columns:22\n",
      "Column :Reco_Policy_Premium Number of unique columns:6977\n",
      "Column :Response Number of unique columns:2\n",
      "Column :Diff Number of unique columns:60\n",
      "Column :New Number of unique columns:4\n"
     ]
    }
   ],
   "source": [
    "for i in train.columns:\n",
    "    print(f'Column :{i} Number of unique columns:{train[i].nunique()}')  "
   ]
  },
  {
   "cell_type": "code",
   "execution_count": null,
   "metadata": {
    "papermill": {
     "duration": 0.061763,
     "end_time": "2021-03-16T07:38:29.379401",
     "exception": false,
     "start_time": "2021-03-16T07:38:29.317638",
     "status": "completed"
    },
    "tags": []
   },
   "outputs": [],
   "source": []
  },
  {
   "cell_type": "code",
   "execution_count": 41,
   "metadata": {
    "execution": {
     "iopub.execute_input": "2021-03-16T07:38:29.522877Z",
     "iopub.status.busy": "2021-03-16T07:38:29.521978Z",
     "iopub.status.idle": "2021-03-16T07:38:29.527266Z",
     "shell.execute_reply": "2021-03-16T07:38:29.526604Z"
    },
    "papermill": {
     "duration": 0.086123,
     "end_time": "2021-03-16T07:38:29.527407",
     "exception": false,
     "start_time": "2021-03-16T07:38:29.441284",
     "status": "completed"
    },
    "tags": []
   },
   "outputs": [
    {
     "data": {
      "text/html": [
       "<div>\n",
       "<style scoped>\n",
       "    .dataframe tbody tr th:only-of-type {\n",
       "        vertical-align: middle;\n",
       "    }\n",
       "\n",
       "    .dataframe tbody tr th {\n",
       "        vertical-align: top;\n",
       "    }\n",
       "\n",
       "    .dataframe thead th {\n",
       "        text-align: right;\n",
       "    }\n",
       "</style>\n",
       "<table border=\"1\" class=\"dataframe\">\n",
       "  <thead>\n",
       "    <tr style=\"text-align: right;\">\n",
       "      <th></th>\n",
       "      <th>ID</th>\n",
       "      <th>City_Code</th>\n",
       "      <th>Region_Code</th>\n",
       "      <th>Accomodation_Type</th>\n",
       "      <th>Reco_Insurance_Type</th>\n",
       "      <th>Upper_Age</th>\n",
       "      <th>Lower_Age</th>\n",
       "      <th>Is_Spouse</th>\n",
       "      <th>Health Indicator</th>\n",
       "      <th>Holding_Policy_Duration</th>\n",
       "      <th>Holding_Policy_Type</th>\n",
       "      <th>Reco_Policy_Cat</th>\n",
       "      <th>Reco_Policy_Premium</th>\n",
       "      <th>Response</th>\n",
       "      <th>Diff</th>\n",
       "      <th>New</th>\n",
       "    </tr>\n",
       "  </thead>\n",
       "  <tbody>\n",
       "    <tr>\n",
       "      <th>0</th>\n",
       "      <td>1</td>\n",
       "      <td>C3</td>\n",
       "      <td>3213</td>\n",
       "      <td>Rented</td>\n",
       "      <td>Individual</td>\n",
       "      <td>36</td>\n",
       "      <td>36</td>\n",
       "      <td>No</td>\n",
       "      <td>X1</td>\n",
       "      <td>15.0</td>\n",
       "      <td>3.0</td>\n",
       "      <td>22</td>\n",
       "      <td>11628.0</td>\n",
       "      <td>0</td>\n",
       "      <td>0</td>\n",
       "      <td>1</td>\n",
       "    </tr>\n",
       "    <tr>\n",
       "      <th>1</th>\n",
       "      <td>2</td>\n",
       "      <td>C5</td>\n",
       "      <td>1117</td>\n",
       "      <td>Owned</td>\n",
       "      <td>Joint</td>\n",
       "      <td>75</td>\n",
       "      <td>22</td>\n",
       "      <td>No</td>\n",
       "      <td>X2</td>\n",
       "      <td>5.0</td>\n",
       "      <td>3.0</td>\n",
       "      <td>22</td>\n",
       "      <td>30510.0</td>\n",
       "      <td>0</td>\n",
       "      <td>53</td>\n",
       "      <td>4</td>\n",
       "    </tr>\n",
       "    <tr>\n",
       "      <th>2</th>\n",
       "      <td>3</td>\n",
       "      <td>C5</td>\n",
       "      <td>3732</td>\n",
       "      <td>Owned</td>\n",
       "      <td>Individual</td>\n",
       "      <td>32</td>\n",
       "      <td>32</td>\n",
       "      <td>No</td>\n",
       "      <td>X1</td>\n",
       "      <td>1.0</td>\n",
       "      <td>1.0</td>\n",
       "      <td>19</td>\n",
       "      <td>7450.0</td>\n",
       "      <td>1</td>\n",
       "      <td>0</td>\n",
       "      <td>1</td>\n",
       "    </tr>\n",
       "    <tr>\n",
       "      <th>3</th>\n",
       "      <td>4</td>\n",
       "      <td>C24</td>\n",
       "      <td>4378</td>\n",
       "      <td>Owned</td>\n",
       "      <td>Joint</td>\n",
       "      <td>52</td>\n",
       "      <td>48</td>\n",
       "      <td>No</td>\n",
       "      <td>X1</td>\n",
       "      <td>15.0</td>\n",
       "      <td>3.0</td>\n",
       "      <td>19</td>\n",
       "      <td>17780.0</td>\n",
       "      <td>0</td>\n",
       "      <td>4</td>\n",
       "      <td>1</td>\n",
       "    </tr>\n",
       "    <tr>\n",
       "      <th>4</th>\n",
       "      <td>5</td>\n",
       "      <td>C8</td>\n",
       "      <td>2190</td>\n",
       "      <td>Rented</td>\n",
       "      <td>Individual</td>\n",
       "      <td>44</td>\n",
       "      <td>44</td>\n",
       "      <td>No</td>\n",
       "      <td>X2</td>\n",
       "      <td>3.0</td>\n",
       "      <td>1.0</td>\n",
       "      <td>16</td>\n",
       "      <td>10404.0</td>\n",
       "      <td>0</td>\n",
       "      <td>0</td>\n",
       "      <td>1</td>\n",
       "    </tr>\n",
       "  </tbody>\n",
       "</table>\n",
       "</div>"
      ],
      "text/plain": [
       "   ID City_Code  Region_Code Accomodation_Type Reco_Insurance_Type  Upper_Age  \\\n",
       "0   1        C3         3213            Rented          Individual         36   \n",
       "1   2        C5         1117             Owned               Joint         75   \n",
       "2   3        C5         3732             Owned          Individual         32   \n",
       "3   4       C24         4378             Owned               Joint         52   \n",
       "4   5        C8         2190            Rented          Individual         44   \n",
       "\n",
       "   Lower_Age Is_Spouse Health Indicator  Holding_Policy_Duration  \\\n",
       "0         36        No               X1                     15.0   \n",
       "1         22        No               X2                      5.0   \n",
       "2         32        No               X1                      1.0   \n",
       "3         48        No               X1                     15.0   \n",
       "4         44        No               X2                      3.0   \n",
       "\n",
       "   Holding_Policy_Type  Reco_Policy_Cat  Reco_Policy_Premium  Response  Diff  \\\n",
       "0                  3.0               22              11628.0         0     0   \n",
       "1                  3.0               22              30510.0         0    53   \n",
       "2                  1.0               19               7450.0         1     0   \n",
       "3                  3.0               19              17780.0         0     4   \n",
       "4                  1.0               16              10404.0         0     0   \n",
       "\n",
       "   New  \n",
       "0    1  \n",
       "1    4  \n",
       "2    1  \n",
       "3    1  \n",
       "4    1  "
      ]
     },
     "execution_count": 41,
     "metadata": {},
     "output_type": "execute_result"
    }
   ],
   "source": [
    "train.head()"
   ]
  },
  {
   "cell_type": "code",
   "execution_count": 42,
   "metadata": {
    "execution": {
     "iopub.execute_input": "2021-03-16T07:38:29.660654Z",
     "iopub.status.busy": "2021-03-16T07:38:29.659667Z",
     "iopub.status.idle": "2021-03-16T07:38:30.033632Z",
     "shell.execute_reply": "2021-03-16T07:38:30.032920Z"
    },
    "papermill": {
     "duration": 0.442826,
     "end_time": "2021-03-16T07:38:30.033814",
     "exception": false,
     "start_time": "2021-03-16T07:38:29.590988",
     "status": "completed"
    },
    "tags": []
   },
   "outputs": [
    {
     "data": {
      "text/plain": [
       "<AxesSubplot:>"
      ]
     },
     "execution_count": 42,
     "metadata": {},
     "output_type": "execute_result"
    },
    {
     "data": {
      "image/png": "[encoded data removed]",
      "text/plain": [
       "<Figure size 720x432 with 2 Axes>"
      ]
     },
     "metadata": {
      "needs_background": "light"
     },
     "output_type": "display_data"
    }
   ],
   "source": [
    "plt.figure(figsize=(10,6))\n",
    "sns.heatmap(train.corr(),cmap='coolwarm')"
   ]
  },
  {
   "cell_type": "code",
   "execution_count": 43,
   "metadata": {
    "execution": {
     "iopub.execute_input": "2021-03-16T07:38:30.174009Z",
     "iopub.status.busy": "2021-03-16T07:38:30.173292Z",
     "iopub.status.idle": "2021-03-16T07:38:30.176603Z",
     "shell.execute_reply": "2021-03-16T07:38:30.175930Z"
    },
    "papermill": {
     "duration": 0.075849,
     "end_time": "2021-03-16T07:38:30.176768",
     "exception": false,
     "start_time": "2021-03-16T07:38:30.100919",
     "status": "completed"
    },
    "tags": []
   },
   "outputs": [],
   "source": [
    "columns_to_drop=['ID','Region_Code','Reco_Policy_Premium','Diff','Upper_Age','Lower_Age']\n",
    "dummies_columns=['City_Code','Accomodation_Type','Reco_Insurance_Type','Is_Spouse'\n",
    "                 ,'Holding_Policy_Type','Reco_Policy_Cat']\n",
    "label_encode=['Health Indicator']"
   ]
  },
  {
   "cell_type": "code",
   "execution_count": 44,
   "metadata": {
    "execution": {
     "iopub.execute_input": "2021-03-16T07:38:30.313696Z",
     "iopub.status.busy": "2021-03-16T07:38:30.313007Z",
     "iopub.status.idle": "2021-03-16T07:38:30.316298Z",
     "shell.execute_reply": "2021-03-16T07:38:30.315661Z"
    },
    "papermill": {
     "duration": 0.071957,
     "end_time": "2021-03-16T07:38:30.316442",
     "exception": false,
     "start_time": "2021-03-16T07:38:30.244485",
     "status": "completed"
    },
    "tags": []
   },
   "outputs": [],
   "source": [
    "# train[(train['Is_Spouse']=='Yes')&(train['Reco_Insurance_Type']=='Individual')]"
   ]
  },
  {
   "cell_type": "code",
   "execution_count": 45,
   "metadata": {
    "execution": {
     "iopub.execute_input": "2021-03-16T07:38:30.450915Z",
     "iopub.status.busy": "2021-03-16T07:38:30.449910Z",
     "iopub.status.idle": "2021-03-16T07:38:30.453217Z",
     "shell.execute_reply": "2021-03-16T07:38:30.452623Z"
    },
    "papermill": {
     "duration": 0.072274,
     "end_time": "2021-03-16T07:38:30.453360",
     "exception": false,
     "start_time": "2021-03-16T07:38:30.381086",
     "status": "completed"
    },
    "tags": []
   },
   "outputs": [],
   "source": [
    "# a=train[(train['Is_Spouse']=='No')&(train['Reco_Insurance_Type']=='Joint')].index\n",
    "# train.drop(a,inplace=True)"
   ]
  },
  {
   "cell_type": "code",
   "execution_count": 46,
   "metadata": {
    "execution": {
     "iopub.execute_input": "2021-03-16T07:38:30.593111Z",
     "iopub.status.busy": "2021-03-16T07:38:30.591603Z",
     "iopub.status.idle": "2021-03-16T07:38:30.596704Z",
     "shell.execute_reply": "2021-03-16T07:38:30.596079Z"
    },
    "papermill": {
     "duration": 0.078241,
     "end_time": "2021-03-16T07:38:30.596889",
     "exception": false,
     "start_time": "2021-03-16T07:38:30.518648",
     "status": "completed"
    },
    "tags": []
   },
   "outputs": [],
   "source": [
    "train.drop(columns=columns_to_drop,inplace=True)\n",
    "test.drop(columns=columns_to_drop,inplace=True)"
   ]
  },
  {
   "cell_type": "code",
   "execution_count": 47,
   "metadata": {
    "execution": {
     "iopub.execute_input": "2021-03-16T07:38:30.735931Z",
     "iopub.status.busy": "2021-03-16T07:38:30.735217Z",
     "iopub.status.idle": "2021-03-16T07:38:30.828123Z",
     "shell.execute_reply": "2021-03-16T07:38:30.827430Z"
    },
    "papermill": {
     "duration": 0.16519,
     "end_time": "2021-03-16T07:38:30.828277",
     "exception": false,
     "start_time": "2021-03-16T07:38:30.663087",
     "status": "completed"
    },
    "tags": []
   },
   "outputs": [],
   "source": [
    "train_1=train.copy()\n",
    "train_1=pd.get_dummies(train_1,drop_first=True,columns=dummies_columns)\n",
    "test_1=test.copy()\n",
    "test_1=pd.get_dummies(test_1,drop_first=True,columns=dummies_columns)\n",
    "\n",
    "le=LabelEncoder()\n",
    "for col in label_encode:\n",
    "    train_1[col]=le.fit_transform(train_1[col])\n",
    "    test_1[col]=le.transform(test_1[col])"
   ]
  },
  {
   "cell_type": "markdown",
   "metadata": {
    "papermill": {
     "duration": 0.065296,
     "end_time": "2021-03-16T07:38:30.958999",
     "exception": false,
     "start_time": "2021-03-16T07:38:30.893703",
     "status": "completed"
    },
    "tags": []
   },
   "source": [
    "XXXXXXXXXXXXXXXXXXXXXXXXXXXXXXXXXXXXXXXXXXXXXXXXXXXXXXXXXXXXXXXXXXXXXXXXXXXXXXXXXXXXXXXXXXXXXXXXXXXX"
   ]
  },
  {
   "cell_type": "code",
   "execution_count": 48,
   "metadata": {
    "execution": {
     "iopub.execute_input": "2021-03-16T07:38:31.096549Z",
     "iopub.status.busy": "2021-03-16T07:38:31.095915Z",
     "iopub.status.idle": "2021-03-16T07:38:31.100478Z",
     "shell.execute_reply": "2021-03-16T07:38:31.099696Z"
    },
    "papermill": {
     "duration": 0.075134,
     "end_time": "2021-03-16T07:38:31.100637",
     "exception": false,
     "start_time": "2021-03-16T07:38:31.025503",
     "status": "completed"
    },
    "tags": []
   },
   "outputs": [
    {
     "data": {
      "text/plain": [
       "(50882, 66)"
      ]
     },
     "execution_count": 48,
     "metadata": {},
     "output_type": "execute_result"
    }
   ],
   "source": [
    "train_1.shape"
   ]
  },
  {
   "cell_type": "code",
   "execution_count": 49,
   "metadata": {
    "execution": {
     "iopub.execute_input": "2021-03-16T07:38:31.240913Z",
     "iopub.status.busy": "2021-03-16T07:38:31.240236Z",
     "iopub.status.idle": "2021-03-16T07:38:31.251165Z",
     "shell.execute_reply": "2021-03-16T07:38:31.250303Z"
    },
    "papermill": {
     "duration": 0.082935,
     "end_time": "2021-03-16T07:38:31.251436",
     "exception": false,
     "start_time": "2021-03-16T07:38:31.168501",
     "status": "completed"
    },
    "tags": []
   },
   "outputs": [],
   "source": [
    "X=train_1.drop(columns=['Response'])\n",
    "y=train_1['Response']"
   ]
  },
  {
   "cell_type": "code",
   "execution_count": 50,
   "metadata": {
    "execution": {
     "iopub.execute_input": "2021-03-16T07:38:31.392414Z",
     "iopub.status.busy": "2021-03-16T07:38:31.391446Z",
     "iopub.status.idle": "2021-03-16T07:38:31.411071Z",
     "shell.execute_reply": "2021-03-16T07:38:31.410303Z"
    },
    "papermill": {
     "duration": 0.09242,
     "end_time": "2021-03-16T07:38:31.411229",
     "exception": false,
     "start_time": "2021-03-16T07:38:31.318809",
     "status": "completed"
    },
    "tags": []
   },
   "outputs": [],
   "source": [
    " X_train, X_test, y_train, y_test = train_test_split(X, y, test_size=0.3, random_state=101)"
   ]
  },
  {
   "cell_type": "code",
   "execution_count": 51,
   "metadata": {
    "execution": {
     "iopub.execute_input": "2021-03-16T07:38:31.577053Z",
     "iopub.status.busy": "2021-03-16T07:38:31.576321Z",
     "iopub.status.idle": "2021-03-16T07:38:31.675596Z",
     "shell.execute_reply": "2021-03-16T07:38:31.676246Z"
    },
    "papermill": {
     "duration": 0.180569,
     "end_time": "2021-03-16T07:38:31.676432",
     "exception": false,
     "start_time": "2021-03-16T07:38:31.495863",
     "status": "completed"
    },
    "tags": []
   },
   "outputs": [],
   "source": [
    "scaler=StandardScaler()\n",
    "X_train=scaler.fit_transform(X_train)\n",
    "X_test=scaler.transform(X_test)\n",
    "test_1=scaler.transform(test_1)"
   ]
  },
  {
   "cell_type": "code",
   "execution_count": 52,
   "metadata": {
    "execution": {
     "iopub.execute_input": "2021-03-16T07:38:31.831221Z",
     "iopub.status.busy": "2021-03-16T07:38:31.830205Z",
     "iopub.status.idle": "2021-03-16T07:38:31.833244Z",
     "shell.execute_reply": "2021-03-16T07:38:31.832567Z"
    },
    "papermill": {
     "duration": 0.076569,
     "end_time": "2021-03-16T07:38:31.833389",
     "exception": false,
     "start_time": "2021-03-16T07:38:31.756820",
     "status": "completed"
    },
    "tags": []
   },
   "outputs": [],
   "source": [
    "# cvs_random=cross_val_score(RandomForestClassifier(),X=X_train,y=y_train,cv=5,scoring='accuracy')\n",
    "# print(cvs_random.mean())\n",
    "# print(cvs_random.std())"
   ]
  },
  {
   "cell_type": "code",
   "execution_count": 53,
   "metadata": {
    "execution": {
     "iopub.execute_input": "2021-03-16T07:38:31.971205Z",
     "iopub.status.busy": "2021-03-16T07:38:31.970186Z",
     "iopub.status.idle": "2021-03-16T07:38:31.973711Z",
     "shell.execute_reply": "2021-03-16T07:38:31.974299Z"
    },
    "papermill": {
     "duration": 0.074194,
     "end_time": "2021-03-16T07:38:31.974489",
     "exception": false,
     "start_time": "2021-03-16T07:38:31.900295",
     "status": "completed"
    },
    "tags": []
   },
   "outputs": [],
   "source": [
    "# cvs_random=cross_val_score(DecisionTreeClassifier(),X=X_train,y=y_train,cv=5,scoring='accuracy')\n",
    "# print(cvs_random.mean())\n",
    "# print(cvs_random.std())"
   ]
  },
  {
   "cell_type": "code",
   "execution_count": 54,
   "metadata": {
    "execution": {
     "iopub.execute_input": "2021-03-16T07:38:32.112306Z",
     "iopub.status.busy": "2021-03-16T07:38:32.111328Z",
     "iopub.status.idle": "2021-03-16T07:38:32.114980Z",
     "shell.execute_reply": "2021-03-16T07:38:32.115507Z"
    },
    "papermill": {
     "duration": 0.073721,
     "end_time": "2021-03-16T07:38:32.115676",
     "exception": false,
     "start_time": "2021-03-16T07:38:32.041955",
     "status": "completed"
    },
    "tags": []
   },
   "outputs": [],
   "source": [
    "# cvs_random=cross_val_score(LogisticRegression(),X=X_train,y=y_train,cv=5,scoring='accuracy')\n",
    "# print(cvs_random.mean())\n",
    "# print(cvs_random.std())"
   ]
  },
  {
   "cell_type": "code",
   "execution_count": 55,
   "metadata": {
    "execution": {
     "iopub.execute_input": "2021-03-16T07:38:32.259907Z",
     "iopub.status.busy": "2021-03-16T07:38:32.259083Z",
     "iopub.status.idle": "2021-03-16T07:38:32.264667Z",
     "shell.execute_reply": "2021-03-16T07:38:32.264024Z"
    },
    "papermill": {
     "duration": 0.080759,
     "end_time": "2021-03-16T07:38:32.264864",
     "exception": false,
     "start_time": "2021-03-16T07:38:32.184105",
     "status": "completed"
    },
    "tags": []
   },
   "outputs": [],
   "source": [
    "# cvs_random=cross_val_score(XGBClassifier(),X=X_train,y=y_train,cv=5)\n",
    "# print(cvs_random.mean())\n",
    "# print(cvs_random.std())"
   ]
  },
  {
   "cell_type": "code",
   "execution_count": 56,
   "metadata": {
    "execution": {
     "iopub.execute_input": "2021-03-16T07:38:32.430003Z",
     "iopub.status.busy": "2021-03-16T07:38:32.429002Z",
     "iopub.status.idle": "2021-03-16T07:38:32.431439Z",
     "shell.execute_reply": "2021-03-16T07:38:32.431951Z"
    },
    "papermill": {
     "duration": 0.084674,
     "end_time": "2021-03-16T07:38:32.432123",
     "exception": false,
     "start_time": "2021-03-16T07:38:32.347449",
     "status": "completed"
    },
    "tags": []
   },
   "outputs": [],
   "source": [
    "# sm = SMOTE(random_state = 2) \n",
    "# X_train_res, y_train_res = sm.fit_resample(X_train, y_train.ravel()) \n",
    "\n",
    "# model=LogisticRegression(solver=\"liblinear\")\n",
    "\n",
    "# model.fit(X_train_res,y_train_res)\n",
    "# pred_logistic=model.predict_proba(X_test)[:, 1]\n",
    "\n",
    "# roc_auc_score(y_test,pred_logistic)"
   ]
  },
  {
   "cell_type": "code",
   "execution_count": 57,
   "metadata": {
    "execution": {
     "iopub.execute_input": "2021-03-16T07:38:32.568716Z",
     "iopub.status.busy": "2021-03-16T07:38:32.567762Z",
     "iopub.status.idle": "2021-03-16T07:38:32.571508Z",
     "shell.execute_reply": "2021-03-16T07:38:32.572084Z"
    },
    "papermill": {
     "duration": 0.074067,
     "end_time": "2021-03-16T07:38:32.572269",
     "exception": false,
     "start_time": "2021-03-16T07:38:32.498202",
     "status": "completed"
    },
    "tags": []
   },
   "outputs": [],
   "source": [
    "# model=LogisticRegression(solver=\"liblinear\")\n",
    "\n",
    "# model.fit(X_train,y_train)\n",
    "# pred_logistic=model.predict_proba(X_test)[:, 1]\n",
    "\n",
    "# roc_auc_score(y_test,pred_logistic)"
   ]
  },
  {
   "cell_type": "code",
   "execution_count": 58,
   "metadata": {
    "execution": {
     "iopub.execute_input": "2021-03-16T07:38:32.709804Z",
     "iopub.status.busy": "2021-03-16T07:38:32.708834Z",
     "iopub.status.idle": "2021-03-16T07:38:32.712581Z",
     "shell.execute_reply": "2021-03-16T07:38:32.713144Z"
    },
    "papermill": {
     "duration": 0.074302,
     "end_time": "2021-03-16T07:38:32.713321",
     "exception": false,
     "start_time": "2021-03-16T07:38:32.639019",
     "status": "completed"
    },
    "tags": []
   },
   "outputs": [],
   "source": [
    "# model=RandomForestClassifier()\n",
    "\n",
    "# model.fit(X_train,y_train)\n",
    "# pred_random=model.predict_proba(X_test)[:, 1]\n",
    "\n",
    "# roc_auc_score(y_test,pred_random)"
   ]
  },
  {
   "cell_type": "code",
   "execution_count": 59,
   "metadata": {
    "execution": {
     "iopub.execute_input": "2021-03-16T07:38:32.852312Z",
     "iopub.status.busy": "2021-03-16T07:38:32.851276Z",
     "iopub.status.idle": "2021-03-16T07:38:32.855485Z",
     "shell.execute_reply": "2021-03-16T07:38:32.856074Z"
    },
    "papermill": {
     "duration": 0.075192,
     "end_time": "2021-03-16T07:38:32.856273",
     "exception": false,
     "start_time": "2021-03-16T07:38:32.781081",
     "status": "completed"
    },
    "tags": []
   },
   "outputs": [],
   "source": [
    "# model=DecisionTreeClassifier()\n",
    "\n",
    "# model.fit(X_train,y_train)\n",
    "# pred_decision=model.predict_proba(X_test)[:, 1]\n",
    "\n",
    "# roc_auc_score(y_test,pred_decision)"
   ]
  },
  {
   "cell_type": "code",
   "execution_count": 60,
   "metadata": {
    "execution": {
     "iopub.execute_input": "2021-03-16T07:38:32.995037Z",
     "iopub.status.busy": "2021-03-16T07:38:32.994095Z",
     "iopub.status.idle": "2021-03-16T07:38:32.999301Z",
     "shell.execute_reply": "2021-03-16T07:38:32.998630Z"
    },
    "papermill": {
     "duration": 0.075664,
     "end_time": "2021-03-16T07:38:32.999451",
     "exception": false,
     "start_time": "2021-03-16T07:38:32.923787",
     "status": "completed"
    },
    "tags": []
   },
   "outputs": [],
   "source": [
    "# test_predictions=model.predict_proba(test_1)[:, 1]\n",
    "\n",
    "# sub['Response']=test_predictions\n",
    "\n",
    "# sub.to_csv('JOB-A-THON-LOGISTICS(PREDICTIONS)-1.csv',index=False)"
   ]
  },
  {
   "cell_type": "code",
   "execution_count": 61,
   "metadata": {
    "execution": {
     "iopub.execute_input": "2021-03-16T07:38:33.140274Z",
     "iopub.status.busy": "2021-03-16T07:38:33.139531Z",
     "iopub.status.idle": "2021-03-16T07:38:33.143781Z",
     "shell.execute_reply": "2021-03-16T07:38:33.143215Z"
    },
    "papermill": {
     "duration": 0.075956,
     "end_time": "2021-03-16T07:38:33.143949",
     "exception": false,
     "start_time": "2021-03-16T07:38:33.067993",
     "status": "completed"
    },
    "tags": []
   },
   "outputs": [],
   "source": [
    "# from sklearn.model_selection import GridSearchCV\n",
    "# param_test1 = {'n_estimators':range(20,81,10)}\n",
    "# gsearch1 = GridSearchCV(estimator = XGBClassifier(learning_rate=0.1, min_samples_split=500,min_samples_leaf=50,max_depth=8,max_features='sqrt',subsample=0.8,random_state=10), \n",
    "# param_grid = param_test1, scoring='roc_auc',n_jobs=4, cv=5)\n",
    "# gsearch1.fit(X_train,y_train)"
   ]
  },
  {
   "cell_type": "code",
   "execution_count": 62,
   "metadata": {
    "execution": {
     "iopub.execute_input": "2021-03-16T07:38:33.284995Z",
     "iopub.status.busy": "2021-03-16T07:38:33.284333Z",
     "iopub.status.idle": "2021-03-16T07:38:33.287651Z",
     "shell.execute_reply": "2021-03-16T07:38:33.288230Z"
    },
    "papermill": {
     "duration": 0.074346,
     "end_time": "2021-03-16T07:38:33.288406",
     "exception": false,
     "start_time": "2021-03-16T07:38:33.214060",
     "status": "completed"
    },
    "tags": []
   },
   "outputs": [],
   "source": [
    "# gsearch1.get_params, gsearch1.best_params_, gsearch1.best_score_"
   ]
  },
  {
   "cell_type": "code",
   "execution_count": 63,
   "metadata": {
    "execution": {
     "iopub.execute_input": "2021-03-16T07:38:33.430025Z",
     "iopub.status.busy": "2021-03-16T07:38:33.429330Z",
     "iopub.status.idle": "2021-03-16T07:38:33.432844Z",
     "shell.execute_reply": "2021-03-16T07:38:33.433324Z"
    },
    "papermill": {
     "duration": 0.075666,
     "end_time": "2021-03-16T07:38:33.433508",
     "exception": false,
     "start_time": "2021-03-16T07:38:33.357842",
     "status": "completed"
    },
    "tags": []
   },
   "outputs": [],
   "source": [
    "# from sklearn.model_selection import RandomizedSearchCV\n",
    "# from sklearn.model_selection import StratifiedKFold\n",
    "# params = {\n",
    "#         'min_child_weight': [1, 5, 10],\n",
    "#         'gamma': [0.5, 1, 1.5, 2, 5],\n",
    "#         'subsample': [0.6, 0.8, 1.0],\n",
    "#         'colsample_bytree': [0.6, 0.8, 1.0],\n",
    "#         'max_depth': [3, 4, 5]\n",
    "#         }\n",
    "# xgb = XGBClassifier(learning_rate=0.02, n_estimators=600, objective='binary:logistic',\n",
    "#                     silent=True, nthread=1)\n",
    "# folds = 3\n",
    "# param_comb = 5\n",
    "\n",
    "# skf = StratifiedKFold(n_splits=folds, shuffle = True, random_state = 1001)\n",
    "\n",
    "# random_search = RandomizedSearchCV(xgb, param_distributions=params, n_iter=param_comb, scoring='roc_auc', n_jobs=4, cv=skf.split(X_train,y_train), verbose=3, random_state=1001 )\n",
    "\n",
    "# # Here we go\n",
    "# # start_time = timer(None) # timing starts from this point for \"start_time\" variable\n",
    "# random_search.fit(X_train, y_train)\n",
    "# # timer(start_time) # timing ends here for \"start_time\" variable\n",
    "\n",
    "# random_search.best_params_"
   ]
  },
  {
   "cell_type": "code",
   "execution_count": 64,
   "metadata": {
    "execution": {
     "iopub.execute_input": "2021-03-16T07:38:33.573199Z",
     "iopub.status.busy": "2021-03-16T07:38:33.572437Z",
     "iopub.status.idle": "2021-03-16T07:39:47.167958Z",
     "shell.execute_reply": "2021-03-16T07:39:47.168469Z"
    },
    "papermill": {
     "duration": 73.666881,
     "end_time": "2021-03-16T07:39:47.168667",
     "exception": false,
     "start_time": "2021-03-16T07:38:33.501786",
     "status": "completed"
    },
    "tags": []
   },
   "outputs": [
    {
     "name": "stderr",
     "output_type": "stream",
     "text": [
      "/opt/conda/lib/python3.7/site-packages/xgboost/sklearn.py:888: UserWarning: The use of label encoder in XGBClassifier is deprecated and will be removed in a future release. To remove this warning, do the following: 1) Pass option use_label_encoder=False when constructing XGBClassifier object; and 2) Encode your labels (y) as integers starting with 0, i.e. 0, 1, 2, ..., [num_class - 1].\n",
      "  warnings.warn(label_encoder_deprecation_msg, UserWarning)\n"
     ]
    },
    {
     "name": "stdout",
     "output_type": "stream",
     "text": [
      "[07:38:33] WARNING: ../src/learner.cc:1061: Starting in XGBoost 1.3.0, the default evaluation metric used with the objective 'binary:logistic' was changed from 'error' to 'logloss'. Explicitly set eval_metric if you'd like to restore the old behavior.\n",
      "[07:39:10] WARNING: ../src/learner.cc:1061: Starting in XGBoost 1.3.0, the default evaluation metric used with the objective 'binary:logistic' was changed from 'error' to 'logloss'. Explicitly set eval_metric if you'd like to restore the old behavior.\n"
     ]
    },
    {
     "data": {
      "text/plain": [
       "0.6630047606517206"
      ]
     },
     "execution_count": 64,
     "metadata": {},
     "output_type": "execute_result"
    }
   ],
   "source": [
    "xgb1 = XGBClassifier(\n",
    " learning_rate =0.1,\n",
    " n_estimators=1000,\n",
    " max_depth=5,\n",
    " min_child_weight=1,\n",
    " gamma=1.5,\n",
    " subsample=0.6,\n",
    " colsample_bytree=0.8,\n",
    " objective= 'binary:logistic',\n",
    " nthread=4,\n",
    " scale_pos_weight=1,\n",
    " seed=27)\n",
    "xgb1.fit(X_train,y_train)\n",
    "\n",
    "# model=XGBClassifier()\n",
    "\n",
    "xgb1.fit(X_train,y_train)\n",
    "pred_xgb=xgb1.predict_proba(X_test)[:, 1]\n",
    "\n",
    "roc_auc_score(y_test,pred_xgb)"
   ]
  },
  {
   "cell_type": "code",
   "execution_count": 65,
   "metadata": {
    "execution": {
     "iopub.execute_input": "2021-03-16T07:39:47.314489Z",
     "iopub.status.busy": "2021-03-16T07:39:47.313820Z",
     "iopub.status.idle": "2021-03-16T07:39:47.316983Z",
     "shell.execute_reply": "2021-03-16T07:39:47.316430Z"
    },
    "papermill": {
     "duration": 0.076837,
     "end_time": "2021-03-16T07:39:47.317127",
     "exception": false,
     "start_time": "2021-03-16T07:39:47.240290",
     "status": "completed"
    },
    "tags": []
   },
   "outputs": [],
   "source": [
    "# train[train['Diff']>0]['Diff'].describe()"
   ]
  },
  {
   "cell_type": "code",
   "execution_count": 66,
   "metadata": {
    "execution": {
     "iopub.execute_input": "2021-03-16T07:39:47.460816Z",
     "iopub.status.busy": "2021-03-16T07:39:47.460011Z",
     "iopub.status.idle": "2021-03-16T07:39:47.463184Z",
     "shell.execute_reply": "2021-03-16T07:39:47.462553Z"
    },
    "papermill": {
     "duration": 0.076257,
     "end_time": "2021-03-16T07:39:47.463336",
     "exception": false,
     "start_time": "2021-03-16T07:39:47.387079",
     "status": "completed"
    },
    "tags": []
   },
   "outputs": [],
   "source": [
    "# train['Diff']=train['Upper_Age']-train['Lower_Age']\n",
    "# pd.cut(train['Diff'],bins=4)"
   ]
  },
  {
   "cell_type": "code",
   "execution_count": 67,
   "metadata": {
    "execution": {
     "iopub.execute_input": "2021-03-16T07:39:47.606678Z",
     "iopub.status.busy": "2021-03-16T07:39:47.605883Z",
     "iopub.status.idle": "2021-03-16T07:39:47.609153Z",
     "shell.execute_reply": "2021-03-16T07:39:47.608610Z"
    },
    "papermill": {
     "duration": 0.076688,
     "end_time": "2021-03-16T07:39:47.609309",
     "exception": false,
     "start_time": "2021-03-16T07:39:47.532621",
     "status": "completed"
    },
    "tags": []
   },
   "outputs": [],
   "source": [
    "# param_test1 = {\n",
    "#  'max_depth':range(3,10,2),\n",
    "#  'min_child_weight':range(1,6,2)\n",
    "# }\n",
    "# gsearch1 = GridSearchCV(estimator = XGBClassifier( learning_rate =0.1, n_estimators=140, max_depth=5,\n",
    "#  min_child_weight=1, gamma=0, subsample=0.8, colsample_bytree=0.8,\n",
    "#  objective= 'binary:logistic', nthread=4, scale_pos_weight=1, seed=27), \n",
    "#  param_grid = param_test1, scoring='roc_auc',n_jobs=4, cv=5)\n",
    "# gsearch1.fit(X_train,y_train)\n",
    "# gsearch1.best_estimator_, gsearch1.best_params_, gsearch1.best_score_"
   ]
  },
  {
   "cell_type": "code",
   "execution_count": 68,
   "metadata": {
    "execution": {
     "iopub.execute_input": "2021-03-16T07:39:47.766600Z",
     "iopub.status.busy": "2021-03-16T07:39:47.765345Z",
     "iopub.status.idle": "2021-03-16T07:39:47.769435Z",
     "shell.execute_reply": "2021-03-16T07:39:47.767629Z"
    },
    "papermill": {
     "duration": 0.090263,
     "end_time": "2021-03-16T07:39:47.769687",
     "exception": false,
     "start_time": "2021-03-16T07:39:47.679424",
     "status": "completed"
    },
    "tags": []
   },
   "outputs": [],
   "source": [
    "# sm = SMOTE(random_state = 2) \n",
    "# X_train_res, y_train_res = sm.fit_resample(X_train, y_train.ravel()) \n",
    "# from imblearn.under_sampling import NearMiss \n",
    "# nr = NearMiss() \n",
    "  \n",
    "# X_train_res, y_train_res = nr.fit_resample(X_train, y_train.ravel())\n",
    "\n",
    "# model=XGBClassifier()\n",
    "\n",
    "# model.fit(X_train_res,y_train_res)\n",
    "# pred_xgb=model.predict_proba(X_test)[:, 1]\n",
    "\n",
    "# roc_auc_score(y_test,pred_xgb)"
   ]
  },
  {
   "cell_type": "code",
   "execution_count": 69,
   "metadata": {
    "execution": {
     "iopub.execute_input": "2021-03-16T07:39:47.919544Z",
     "iopub.status.busy": "2021-03-16T07:39:47.918605Z",
     "iopub.status.idle": "2021-03-16T07:39:47.922503Z",
     "shell.execute_reply": "2021-03-16T07:39:47.921899Z"
    },
    "papermill": {
     "duration": 0.080745,
     "end_time": "2021-03-16T07:39:47.922652",
     "exception": false,
     "start_time": "2021-03-16T07:39:47.841907",
     "status": "completed"
    },
    "tags": []
   },
   "outputs": [],
   "source": [
    "# model.predict_proba(test_1)[:,1]"
   ]
  },
  {
   "cell_type": "code",
   "execution_count": 70,
   "metadata": {
    "execution": {
     "iopub.execute_input": "2021-03-16T07:39:48.067634Z",
     "iopub.status.busy": "2021-03-16T07:39:48.066997Z",
     "iopub.status.idle": "2021-03-16T07:39:48.343213Z",
     "shell.execute_reply": "2021-03-16T07:39:48.342502Z"
    },
    "papermill": {
     "duration": 0.350246,
     "end_time": "2021-03-16T07:39:48.343359",
     "exception": false,
     "start_time": "2021-03-16T07:39:47.993113",
     "status": "completed"
    },
    "tags": []
   },
   "outputs": [],
   "source": [
    "test_predictions=xgb1.predict_proba(test_1)[:, 1]\n",
    "\n",
    "sub['Response']=test_predictions\n",
    "\n",
    "sub.to_csv('JOB-A-THON-XGB(PREDICTIONS)-1.csv',index=False)"
   ]
  },
  {
   "cell_type": "code",
   "execution_count": 71,
   "metadata": {
    "execution": {
     "iopub.execute_input": "2021-03-16T07:39:48.496281Z",
     "iopub.status.busy": "2021-03-16T07:39:48.495470Z",
     "iopub.status.idle": "2021-03-16T07:39:48.500310Z",
     "shell.execute_reply": "2021-03-16T07:39:48.499780Z"
    },
    "papermill": {
     "duration": 0.086642,
     "end_time": "2021-03-16T07:39:48.500462",
     "exception": false,
     "start_time": "2021-03-16T07:39:48.413820",
     "status": "completed"
    },
    "tags": []
   },
   "outputs": [
    {
     "data": {
      "text/html": [
       "<div>\n",
       "<style scoped>\n",
       "    .dataframe tbody tr th:only-of-type {\n",
       "        vertical-align: middle;\n",
       "    }\n",
       "\n",
       "    .dataframe tbody tr th {\n",
       "        vertical-align: top;\n",
       "    }\n",
       "\n",
       "    .dataframe thead th {\n",
       "        text-align: right;\n",
       "    }\n",
       "</style>\n",
       "<table border=\"1\" class=\"dataframe\">\n",
       "  <thead>\n",
       "    <tr style=\"text-align: right;\">\n",
       "      <th></th>\n",
       "      <th>ID</th>\n",
       "      <th>Response</th>\n",
       "    </tr>\n",
       "  </thead>\n",
       "  <tbody>\n",
       "    <tr>\n",
       "      <th>0</th>\n",
       "      <td>50883</td>\n",
       "      <td>0.244737</td>\n",
       "    </tr>\n",
       "    <tr>\n",
       "      <th>1</th>\n",
       "      <td>50884</td>\n",
       "      <td>0.164278</td>\n",
       "    </tr>\n",
       "    <tr>\n",
       "      <th>2</th>\n",
       "      <td>50885</td>\n",
       "      <td>0.206349</td>\n",
       "    </tr>\n",
       "    <tr>\n",
       "      <th>3</th>\n",
       "      <td>50886</td>\n",
       "      <td>0.181954</td>\n",
       "    </tr>\n",
       "    <tr>\n",
       "      <th>4</th>\n",
       "      <td>50887</td>\n",
       "      <td>0.234947</td>\n",
       "    </tr>\n",
       "    <tr>\n",
       "      <th>...</th>\n",
       "      <td>...</td>\n",
       "      <td>...</td>\n",
       "    </tr>\n",
       "    <tr>\n",
       "      <th>21800</th>\n",
       "      <td>72683</td>\n",
       "      <td>0.107873</td>\n",
       "    </tr>\n",
       "    <tr>\n",
       "      <th>21801</th>\n",
       "      <td>72684</td>\n",
       "      <td>0.383770</td>\n",
       "    </tr>\n",
       "    <tr>\n",
       "      <th>21802</th>\n",
       "      <td>72685</td>\n",
       "      <td>0.073992</td>\n",
       "    </tr>\n",
       "    <tr>\n",
       "      <th>21803</th>\n",
       "      <td>72686</td>\n",
       "      <td>0.401287</td>\n",
       "    </tr>\n",
       "    <tr>\n",
       "      <th>21804</th>\n",
       "      <td>72687</td>\n",
       "      <td>0.150854</td>\n",
       "    </tr>\n",
       "  </tbody>\n",
       "</table>\n",
       "<p>21805 rows × 2 columns</p>\n",
       "</div>"
      ],
      "text/plain": [
       "          ID  Response\n",
       "0      50883  0.244737\n",
       "1      50884  0.164278\n",
       "2      50885  0.206349\n",
       "3      50886  0.181954\n",
       "4      50887  0.234947\n",
       "...      ...       ...\n",
       "21800  72683  0.107873\n",
       "21801  72684  0.383770\n",
       "21802  72685  0.073992\n",
       "21803  72686  0.401287\n",
       "21804  72687  0.150854\n",
       "\n",
       "[21805 rows x 2 columns]"
      ]
     },
     "execution_count": 71,
     "metadata": {},
     "output_type": "execute_result"
    }
   ],
   "source": [
    "sub"
   ]
  },
  {
   "cell_type": "code",
   "execution_count": null,
   "metadata": {
    "papermill": {
     "duration": 0.07072,
     "end_time": "2021-03-16T07:39:48.643111",
     "exception": false,
     "start_time": "2021-03-16T07:39:48.572391",
     "status": "completed"
    },
    "tags": []
   },
   "outputs": [],
   "source": []
  },
  {
   "cell_type": "code",
   "execution_count": null,
   "metadata": {
    "papermill": {
     "duration": 0.071113,
     "end_time": "2021-03-16T07:39:48.784982",
     "exception": false,
     "start_time": "2021-03-16T07:39:48.713869",
     "status": "completed"
    },
    "tags": []
   },
   "outputs": [],
   "source": []
  }
 ],
 "metadata": {
  "kernelspec": {
   "display_name": "Python 3",
   "language": "python",
   "name": "python3"
  },
  "language_info": {
   "codemirror_mode": {
    "name": "ipython",
    "version": 3
   },
   "file_extension": ".py",
   "mimetype": "text/x-python",
   "name": "python",
   "nbconvert_exporter": "python",
   "pygments_lexer": "ipython3",
   "version": "3.7.9"
  },
  "papermill": {
   "default_parameters": {},
   "duration": 97.379719,
   "end_time": "2021-03-16T07:39:49.568331",
   "environment_variables": {},
   "exception": null,
   "input_path": "__notebook__.ipynb",
   "output_path": "__notebook__.ipynb",
   "parameters": {},
   "start_time": "2021-03-16T07:38:12.188612",
   "version": "2.2.2"
  }
 },
 "nbformat": 4,
 "nbformat_minor": 4
}
