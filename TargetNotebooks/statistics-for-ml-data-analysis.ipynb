{
 "cells": [
  {
   "cell_type": "markdown",
   "metadata": {
    "papermill": {
     "duration": 0.080325,
     "end_time": "2021-03-20T15:18:17.896970",
     "exception": false,
     "start_time": "2021-03-20T15:18:17.816645",
     "status": "completed"
    },
    "tags": []
   },
   "source": [
    "## Summary => <br>\n",
    "This notebook includes the following topics. <br>"
   ]
  },
  {
   "cell_type": "markdown",
   "metadata": {
    "papermill": {
     "duration": 0.079147,
     "end_time": "2021-03-20T15:18:18.054080",
     "exception": false,
     "start_time": "2021-03-20T15:18:17.974933",
     "status": "completed"
    },
    "tags": []
   },
   "source": [
    "* Descriptive Statistics\n",
    "* Sample vs Population statistics\n",
    "* Random Variables\n",
    "* Probability Distribution Function\n",
    "* Expected Value\n",
    "* Binomial Distribution\n",
    "* Normal Distributions\n",
    "* z-score \n",
    "* Hypothesis Testing\n",
    "* z-stats vs t-stats\n",
    "* Type 1 Error; Type 2 Error\n",
    "* Confidence Interval\n",
    "* Central Limit Theorem\n",
    "* Chi Square Test\n",
    "* ANOVA Test\n",
    "* F Stats\n",
    "* Regressions (Linear, Multiple) + ROC\n",
    "* Cluster Analysis\n",
    "* CART Algorithms"
   ]
  },
  {
   "cell_type": "code",
   "execution_count": null,
   "metadata": {
    "papermill": {
     "duration": 0.077823,
     "end_time": "2021-03-20T15:18:18.210644",
     "exception": false,
     "start_time": "2021-03-20T15:18:18.132821",
     "status": "completed"
    },
    "tags": []
   },
   "outputs": [],
   "source": []
  },
  {
   "cell_type": "code",
   "execution_count": 1,
   "metadata": {
    "_cell_guid": "b1076dfc-b9ad-4769-8c92-a6c4dae69d19",
    "_uuid": "8f2839f25d086af736a60e9eeb907d3b93b6e0e5",
    "execution": {
     "iopub.execute_input": "2021-03-20T15:18:18.374179Z",
     "iopub.status.busy": "2021-03-20T15:18:18.373487Z",
     "iopub.status.idle": "2021-03-20T15:18:18.377095Z",
     "shell.execute_reply": "2021-03-20T15:18:18.376414Z"
    },
    "papermill": {
     "duration": 0.088833,
     "end_time": "2021-03-20T15:18:18.377329",
     "exception": false,
     "start_time": "2021-03-20T15:18:18.288496",
     "status": "completed"
    },
    "tags": []
   },
   "outputs": [],
   "source": [
    "import numpy as np\n",
    "import pandas as pd \n",
    "import os\n",
    "import random as rnd"
   ]
  },
  {
   "cell_type": "code",
   "execution_count": 2,
   "metadata": {
    "execution": {
     "iopub.execute_input": "2021-03-20T15:18:18.539336Z",
     "iopub.status.busy": "2021-03-20T15:18:18.538657Z",
     "iopub.status.idle": "2021-03-20T15:18:18.542011Z",
     "shell.execute_reply": "2021-03-20T15:18:18.542509Z"
    },
    "papermill": {
     "duration": 0.086487,
     "end_time": "2021-03-20T15:18:18.542769",
     "exception": false,
     "start_time": "2021-03-20T15:18:18.456282",
     "status": "completed"
    },
    "tags": []
   },
   "outputs": [],
   "source": [
    "import matplotlib.pyplot as plt"
   ]
  },
  {
   "cell_type": "markdown",
   "metadata": {
    "papermill": {
     "duration": 0.08024,
     "end_time": "2021-03-20T15:18:18.701851",
     "exception": false,
     "start_time": "2021-03-20T15:18:18.621611",
     "status": "completed"
    },
    "tags": []
   },
   "source": [
    "### 1. CART Algorithms"
   ]
  },
  {
   "cell_type": "markdown",
   "metadata": {
    "papermill": {
     "duration": 0.079167,
     "end_time": "2021-03-20T15:18:18.860594",
     "exception": false,
     "start_time": "2021-03-20T15:18:18.781427",
     "status": "completed"
    },
    "tags": []
   },
   "source": [
    "Brief Description -> "
   ]
  },
  {
   "cell_type": "markdown",
   "metadata": {
    "papermill": {
     "duration": 0.078455,
     "end_time": "2021-03-20T15:18:19.018659",
     "exception": false,
     "start_time": "2021-03-20T15:18:18.940204",
     "status": "completed"
    },
    "tags": []
   },
   "source": [
    "##### Tools Used\n",
    "\n",
    "Dataset Used -> Boston Dataset (UCI Machine Learning Repository)"
   ]
  },
  {
   "cell_type": "code",
   "execution_count": 3,
   "metadata": {
    "execution": {
     "iopub.execute_input": "2021-03-20T15:18:19.180319Z",
     "iopub.status.busy": "2021-03-20T15:18:19.179711Z",
     "iopub.status.idle": "2021-03-20T15:18:20.251474Z",
     "shell.execute_reply": "2021-03-20T15:18:20.250849Z"
    },
    "papermill": {
     "duration": 1.152938,
     "end_time": "2021-03-20T15:18:20.251627",
     "exception": false,
     "start_time": "2021-03-20T15:18:19.098689",
     "status": "completed"
    },
    "tags": []
   },
   "outputs": [],
   "source": [
    "from sklearn.datasets import load_boston\n",
    "boston_dataset = load_boston()"
   ]
  },
  {
   "cell_type": "code",
   "execution_count": 4,
   "metadata": {
    "execution": {
     "iopub.execute_input": "2021-03-20T15:18:20.416719Z",
     "iopub.status.busy": "2021-03-20T15:18:20.416054Z",
     "iopub.status.idle": "2021-03-20T15:18:20.418231Z",
     "shell.execute_reply": "2021-03-20T15:18:20.418695Z"
    },
    "papermill": {
     "duration": 0.088142,
     "end_time": "2021-03-20T15:18:20.418872",
     "exception": false,
     "start_time": "2021-03-20T15:18:20.330730",
     "status": "completed"
    },
    "tags": []
   },
   "outputs": [],
   "source": [
    "boston = pd.DataFrame(boston_dataset.data, columns = boston_dataset.feature_names)"
   ]
  },
  {
   "cell_type": "code",
   "execution_count": 5,
   "metadata": {
    "execution": {
     "iopub.execute_input": "2021-03-20T15:18:20.580771Z",
     "iopub.status.busy": "2021-03-20T15:18:20.580171Z",
     "iopub.status.idle": "2021-03-20T15:18:20.624791Z",
     "shell.execute_reply": "2021-03-20T15:18:20.625353Z"
    },
    "papermill": {
     "duration": 0.127438,
     "end_time": "2021-03-20T15:18:20.625551",
     "exception": false,
     "start_time": "2021-03-20T15:18:20.498113",
     "status": "completed"
    },
    "tags": []
   },
   "outputs": [
    {
     "data": {
      "text/html": [
       "<div>\n",
       "<style scoped>\n",
       "    .dataframe tbody tr th:only-of-type {\n",
       "        vertical-align: middle;\n",
       "    }\n",
       "\n",
       "    .dataframe tbody tr th {\n",
       "        vertical-align: top;\n",
       "    }\n",
       "\n",
       "    .dataframe thead th {\n",
       "        text-align: right;\n",
       "    }\n",
       "</style>\n",
       "<table border=\"1\" class=\"dataframe\">\n",
       "  <thead>\n",
       "    <tr style=\"text-align: right;\">\n",
       "      <th></th>\n",
       "      <th>CRIM</th>\n",
       "      <th>ZN</th>\n",
       "      <th>INDUS</th>\n",
       "      <th>CHAS</th>\n",
       "      <th>NOX</th>\n",
       "      <th>RM</th>\n",
       "      <th>AGE</th>\n",
       "      <th>DIS</th>\n",
       "      <th>RAD</th>\n",
       "      <th>TAX</th>\n",
       "      <th>PTRATIO</th>\n",
       "      <th>B</th>\n",
       "      <th>LSTAT</th>\n",
       "    </tr>\n",
       "  </thead>\n",
       "  <tbody>\n",
       "    <tr>\n",
       "      <th>0</th>\n",
       "      <td>0.00632</td>\n",
       "      <td>18.0</td>\n",
       "      <td>2.31</td>\n",
       "      <td>0.0</td>\n",
       "      <td>0.538</td>\n",
       "      <td>6.575</td>\n",
       "      <td>65.2</td>\n",
       "      <td>4.0900</td>\n",
       "      <td>1.0</td>\n",
       "      <td>296.0</td>\n",
       "      <td>15.3</td>\n",
       "      <td>396.90</td>\n",
       "      <td>4.98</td>\n",
       "    </tr>\n",
       "    <tr>\n",
       "      <th>1</th>\n",
       "      <td>0.02731</td>\n",
       "      <td>0.0</td>\n",
       "      <td>7.07</td>\n",
       "      <td>0.0</td>\n",
       "      <td>0.469</td>\n",
       "      <td>6.421</td>\n",
       "      <td>78.9</td>\n",
       "      <td>4.9671</td>\n",
       "      <td>2.0</td>\n",
       "      <td>242.0</td>\n",
       "      <td>17.8</td>\n",
       "      <td>396.90</td>\n",
       "      <td>9.14</td>\n",
       "    </tr>\n",
       "    <tr>\n",
       "      <th>2</th>\n",
       "      <td>0.02729</td>\n",
       "      <td>0.0</td>\n",
       "      <td>7.07</td>\n",
       "      <td>0.0</td>\n",
       "      <td>0.469</td>\n",
       "      <td>7.185</td>\n",
       "      <td>61.1</td>\n",
       "      <td>4.9671</td>\n",
       "      <td>2.0</td>\n",
       "      <td>242.0</td>\n",
       "      <td>17.8</td>\n",
       "      <td>392.83</td>\n",
       "      <td>4.03</td>\n",
       "    </tr>\n",
       "    <tr>\n",
       "      <th>3</th>\n",
       "      <td>0.03237</td>\n",
       "      <td>0.0</td>\n",
       "      <td>2.18</td>\n",
       "      <td>0.0</td>\n",
       "      <td>0.458</td>\n",
       "      <td>6.998</td>\n",
       "      <td>45.8</td>\n",
       "      <td>6.0622</td>\n",
       "      <td>3.0</td>\n",
       "      <td>222.0</td>\n",
       "      <td>18.7</td>\n",
       "      <td>394.63</td>\n",
       "      <td>2.94</td>\n",
       "    </tr>\n",
       "    <tr>\n",
       "      <th>4</th>\n",
       "      <td>0.06905</td>\n",
       "      <td>0.0</td>\n",
       "      <td>2.18</td>\n",
       "      <td>0.0</td>\n",
       "      <td>0.458</td>\n",
       "      <td>7.147</td>\n",
       "      <td>54.2</td>\n",
       "      <td>6.0622</td>\n",
       "      <td>3.0</td>\n",
       "      <td>222.0</td>\n",
       "      <td>18.7</td>\n",
       "      <td>396.90</td>\n",
       "      <td>5.33</td>\n",
       "    </tr>\n",
       "  </tbody>\n",
       "</table>\n",
       "</div>"
      ],
      "text/plain": [
       "      CRIM    ZN  INDUS  CHAS    NOX     RM   AGE     DIS  RAD    TAX  \\\n",
       "0  0.00632  18.0   2.31   0.0  0.538  6.575  65.2  4.0900  1.0  296.0   \n",
       "1  0.02731   0.0   7.07   0.0  0.469  6.421  78.9  4.9671  2.0  242.0   \n",
       "2  0.02729   0.0   7.07   0.0  0.469  7.185  61.1  4.9671  2.0  242.0   \n",
       "3  0.03237   0.0   2.18   0.0  0.458  6.998  45.8  6.0622  3.0  222.0   \n",
       "4  0.06905   0.0   2.18   0.0  0.458  7.147  54.2  6.0622  3.0  222.0   \n",
       "\n",
       "   PTRATIO       B  LSTAT  \n",
       "0     15.3  396.90   4.98  \n",
       "1     17.8  396.90   9.14  \n",
       "2     17.8  392.83   4.03  \n",
       "3     18.7  394.63   2.94  \n",
       "4     18.7  396.90   5.33  "
      ]
     },
     "execution_count": 5,
     "metadata": {},
     "output_type": "execute_result"
    }
   ],
   "source": [
    "boston.head()"
   ]
  },
  {
   "cell_type": "code",
   "execution_count": 6,
   "metadata": {
    "execution": {
     "iopub.execute_input": "2021-03-20T15:18:20.799296Z",
     "iopub.status.busy": "2021-03-20T15:18:20.798634Z",
     "iopub.status.idle": "2021-03-20T15:18:20.800748Z",
     "shell.execute_reply": "2021-03-20T15:18:20.801200Z"
    },
    "papermill": {
     "duration": 0.088694,
     "end_time": "2021-03-20T15:18:20.801369",
     "exception": false,
     "start_time": "2021-03-20T15:18:20.712675",
     "status": "completed"
    },
    "tags": []
   },
   "outputs": [],
   "source": [
    "boston['MEDV'] = boston_dataset.target"
   ]
  },
  {
   "cell_type": "code",
   "execution_count": 7,
   "metadata": {
    "execution": {
     "iopub.execute_input": "2021-03-20T15:18:20.965939Z",
     "iopub.status.busy": "2021-03-20T15:18:20.965271Z",
     "iopub.status.idle": "2021-03-20T15:18:20.968401Z",
     "shell.execute_reply": "2021-03-20T15:18:20.968843Z"
    },
    "papermill": {
     "duration": 0.086564,
     "end_time": "2021-03-20T15:18:20.969007",
     "exception": false,
     "start_time": "2021-03-20T15:18:20.882443",
     "status": "completed"
    },
    "tags": []
   },
   "outputs": [],
   "source": [
    "names = boston_dataset.feature_names"
   ]
  },
  {
   "cell_type": "code",
   "execution_count": 8,
   "metadata": {
    "execution": {
     "iopub.execute_input": "2021-03-20T15:18:21.132761Z",
     "iopub.status.busy": "2021-03-20T15:18:21.132142Z",
     "iopub.status.idle": "2021-03-20T15:18:21.478688Z",
     "shell.execute_reply": "2021-03-20T15:18:21.478112Z"
    },
    "papermill": {
     "duration": 0.429583,
     "end_time": "2021-03-20T15:18:21.478841",
     "exception": false,
     "start_time": "2021-03-20T15:18:21.049258",
     "status": "completed"
    },
    "tags": []
   },
   "outputs": [],
   "source": [
    "from sklearn.tree import DecisionTreeRegressor"
   ]
  },
  {
   "cell_type": "code",
   "execution_count": 9,
   "metadata": {
    "execution": {
     "iopub.execute_input": "2021-03-20T15:18:21.646646Z",
     "iopub.status.busy": "2021-03-20T15:18:21.645702Z",
     "iopub.status.idle": "2021-03-20T15:18:21.648454Z",
     "shell.execute_reply": "2021-03-20T15:18:21.648897Z"
    },
    "papermill": {
     "duration": 0.089568,
     "end_time": "2021-03-20T15:18:21.649063",
     "exception": false,
     "start_time": "2021-03-20T15:18:21.559495",
     "status": "completed"
    },
    "tags": []
   },
   "outputs": [],
   "source": [
    "array = boston.values\n",
    "\n",
    "X = array[:, 0:13]\n",
    "Y = array[:, 13]"
   ]
  },
  {
   "cell_type": "code",
   "execution_count": 10,
   "metadata": {
    "execution": {
     "iopub.execute_input": "2021-03-20T15:18:21.823244Z",
     "iopub.status.busy": "2021-03-20T15:18:21.821776Z",
     "iopub.status.idle": "2021-03-20T15:18:21.827207Z",
     "shell.execute_reply": "2021-03-20T15:18:21.827742Z"
    },
    "papermill": {
     "duration": 0.099241,
     "end_time": "2021-03-20T15:18:21.827912",
     "exception": false,
     "start_time": "2021-03-20T15:18:21.728671",
     "status": "completed"
    },
    "tags": []
   },
   "outputs": [],
   "source": [
    "from sklearn.model_selection import train_test_split\n",
    "X_train, X_test, Y_train, Y_test = train_test_split(X,Y, test_size = 0.3, random_state = 1234)"
   ]
  },
  {
   "cell_type": "code",
   "execution_count": 11,
   "metadata": {
    "execution": {
     "iopub.execute_input": "2021-03-20T15:18:22.025403Z",
     "iopub.status.busy": "2021-03-20T15:18:22.024715Z",
     "iopub.status.idle": "2021-03-20T15:18:22.028145Z",
     "shell.execute_reply": "2021-03-20T15:18:22.027349Z"
    },
    "papermill": {
     "duration": 0.09154,
     "end_time": "2021-03-20T15:18:22.028293",
     "exception": false,
     "start_time": "2021-03-20T15:18:21.936753",
     "status": "completed"
    },
    "tags": []
   },
   "outputs": [],
   "source": [
    "model = DecisionTreeRegressor(max_leaf_nodes = 20)"
   ]
  },
  {
   "cell_type": "code",
   "execution_count": 12,
   "metadata": {
    "execution": {
     "iopub.execute_input": "2021-03-20T15:18:22.197675Z",
     "iopub.status.busy": "2021-03-20T15:18:22.196788Z",
     "iopub.status.idle": "2021-03-20T15:18:22.204378Z",
     "shell.execute_reply": "2021-03-20T15:18:22.203735Z"
    },
    "papermill": {
     "duration": 0.094435,
     "end_time": "2021-03-20T15:18:22.204519",
     "exception": false,
     "start_time": "2021-03-20T15:18:22.110084",
     "status": "completed"
    },
    "tags": []
   },
   "outputs": [
    {
     "data": {
      "text/plain": [
       "DecisionTreeRegressor(max_leaf_nodes=20)"
      ]
     },
     "execution_count": 12,
     "metadata": {},
     "output_type": "execute_result"
    }
   ],
   "source": [
    "model.fit(X_train, Y_train)"
   ]
  },
  {
   "cell_type": "code",
   "execution_count": 13,
   "metadata": {
    "execution": {
     "iopub.execute_input": "2021-03-20T15:18:22.371150Z",
     "iopub.status.busy": "2021-03-20T15:18:22.370219Z",
     "iopub.status.idle": "2021-03-20T15:18:22.373478Z",
     "shell.execute_reply": "2021-03-20T15:18:22.372846Z"
    },
    "papermill": {
     "duration": 0.087836,
     "end_time": "2021-03-20T15:18:22.373626",
     "exception": false,
     "start_time": "2021-03-20T15:18:22.285790",
     "status": "completed"
    },
    "tags": []
   },
   "outputs": [],
   "source": [
    "from sklearn.metrics import r2_score"
   ]
  },
  {
   "cell_type": "code",
   "execution_count": 14,
   "metadata": {
    "execution": {
     "iopub.execute_input": "2021-03-20T15:18:22.543711Z",
     "iopub.status.busy": "2021-03-20T15:18:22.543002Z",
     "iopub.status.idle": "2021-03-20T15:18:22.545215Z",
     "shell.execute_reply": "2021-03-20T15:18:22.545655Z"
    },
    "papermill": {
     "duration": 0.089522,
     "end_time": "2021-03-20T15:18:22.545823",
     "exception": false,
     "start_time": "2021-03-20T15:18:22.456301",
     "status": "completed"
    },
    "tags": []
   },
   "outputs": [],
   "source": [
    "YHat = model.predict(X_test)"
   ]
  },
  {
   "cell_type": "code",
   "execution_count": 15,
   "metadata": {
    "execution": {
     "iopub.execute_input": "2021-03-20T15:18:22.713229Z",
     "iopub.status.busy": "2021-03-20T15:18:22.712532Z",
     "iopub.status.idle": "2021-03-20T15:18:22.718303Z",
     "shell.execute_reply": "2021-03-20T15:18:22.718901Z"
    },
    "papermill": {
     "duration": 0.091023,
     "end_time": "2021-03-20T15:18:22.719086",
     "exception": false,
     "start_time": "2021-03-20T15:18:22.628063",
     "status": "completed"
    },
    "tags": []
   },
   "outputs": [
    {
     "name": "stdout",
     "output_type": "stream",
     "text": [
      "R2 Score ->  0.8567122297482948\n"
     ]
    }
   ],
   "source": [
    "r2 = r2_score(Y_test, YHat)\n",
    "print(\"R2 Score -> \", r2)"
   ]
  },
  {
   "cell_type": "markdown",
   "metadata": {
    "papermill": {
     "duration": 0.083189,
     "end_time": "2021-03-20T15:18:22.886844",
     "exception": false,
     "start_time": "2021-03-20T15:18:22.803655",
     "status": "completed"
    },
    "tags": []
   },
   "source": [
    "### plot the decision tree as a graph "
   ]
  },
  {
   "cell_type": "code",
   "execution_count": 16,
   "metadata": {
    "execution": {
     "iopub.execute_input": "2021-03-20T15:18:23.056332Z",
     "iopub.status.busy": "2021-03-20T15:18:23.055659Z",
     "iopub.status.idle": "2021-03-20T15:18:23.072000Z",
     "shell.execute_reply": "2021-03-20T15:18:23.071320Z"
    },
    "papermill": {
     "duration": 0.102188,
     "end_time": "2021-03-20T15:18:23.072168",
     "exception": false,
     "start_time": "2021-03-20T15:18:22.969980",
     "status": "completed"
    },
    "tags": []
   },
   "outputs": [],
   "source": [
    "import graphviz\n",
    "from sklearn import tree"
   ]
  },
  {
   "cell_type": "markdown",
   "metadata": {
    "papermill": {
     "duration": 0.081369,
     "end_time": "2021-03-20T15:18:23.236323",
     "exception": false,
     "start_time": "2021-03-20T15:18:23.154954",
     "status": "completed"
    },
    "tags": []
   },
   "source": [
    "method 1"
   ]
  },
  {
   "cell_type": "code",
   "execution_count": 17,
   "metadata": {
    "execution": {
     "iopub.execute_input": "2021-03-20T15:18:23.419815Z",
     "iopub.status.busy": "2021-03-20T15:18:23.411689Z",
     "iopub.status.idle": "2021-03-20T15:18:25.079823Z",
     "shell.execute_reply": "2021-03-20T15:18:25.080597Z"
    },
    "papermill": {
     "duration": 1.76266,
     "end_time": "2021-03-20T15:18:25.080839",
     "exception": false,
     "start_time": "2021-03-20T15:18:23.318179",
     "status": "completed"
    },
    "tags": []
   },
   "outputs": [
    {
     "data": {
      "image/png": "[encoded data removed]",
      "text/plain": [
       "<Figure size 1800x1440 with 1 Axes>"
      ]
     },
     "metadata": {
      "needs_background": "light"
     },
     "output_type": "display_data"
    }
   ],
   "source": [
    "fig = plt.figure(figsize=(25,20))\n",
    "_ = tree.plot_tree(model, \n",
    "                   feature_names=names,  \n",
    "                   class_names=boston_dataset.target,\n",
    "                   filled=True)"
   ]
  },
  {
   "cell_type": "markdown",
   "metadata": {
    "papermill": {
     "duration": 0.089116,
     "end_time": "2021-03-20T15:18:25.263957",
     "exception": false,
     "start_time": "2021-03-20T15:18:25.174841",
     "status": "completed"
    },
    "tags": []
   },
   "source": [
    "method 2"
   ]
  },
  {
   "cell_type": "code",
   "execution_count": 18,
   "metadata": {
    "execution": {
     "iopub.execute_input": "2021-03-20T15:18:25.449898Z",
     "iopub.status.busy": "2021-03-20T15:18:25.449160Z",
     "iopub.status.idle": "2021-03-20T15:18:25.961610Z",
     "shell.execute_reply": "2021-03-20T15:18:25.962079Z"
    },
    "papermill": {
     "duration": 0.610098,
     "end_time": "2021-03-20T15:18:25.962283",
     "exception": false,
     "start_time": "2021-03-20T15:18:25.352185",
     "status": "completed"
    },
    "tags": []
   },
   "outputs": [
    {
     "data": {
      "image/svg+xml": [
       "<?xml version=\"1.0\" encoding=\"UTF-8\" standalone=\"no\"?>\n",
       "<!DOCTYPE svg PUBLIC \"-//W3C//DTD SVG 1.1//EN\"\n",
       " \"http://www.w3.org/Graphics/SVG/1.1/DTD/svg11.dtd\">\n",
       "<!-- Generated by graphviz version 2.42.3 (20191010.1750)\n",
       " -->\n",
       "<!-- Title: Tree Pages: 1 -->\n",
       "<svg width=\"1592pt\" height=\"789pt\"\n",
       " viewBox=\"0.00 0.00 1592.00 789.00\" xmlns=\"http://www.w3.org/2000/svg\" xmlns:xlink=\"http://www.w3.org/1999/xlink\">\n",
       "<g id=\"graph0\" class=\"graph\" transform=\"scale(1 1) rotate(0) translate(4 785)\">\n",
       "<title>Tree</title>\n",
       "<polygon fill=\"white\" stroke=\"transparent\" points=\"-4,4 -4,-785 1588,-785 1588,4 -4,4\"/>\n",
       "<!-- 0 -->\n",
       "<g id=\"node1\" class=\"node\">\n",
       "<title>0</title>\n",
       "<path fill=\"#f7d8c2\" stroke=\"black\" d=\"M867,-781C867,-781 775,-781 775,-781 769,-781 763,-775 763,-769 763,-769 763,-725 763,-725 763,-719 769,-713 775,-713 775,-713 867,-713 867,-713 873,-713 879,-719 879,-725 879,-725 879,-769 879,-769 879,-775 873,-781 867,-781\"/>\n",
       "<text text-anchor=\"middle\" x=\"821\" y=\"-765.8\" font-family=\"Helvetica,sans-Serif\" font-size=\"14.00\">LSTAT &lt;= 9.725</text>\n",
       "<text text-anchor=\"middle\" x=\"821\" y=\"-750.8\" font-family=\"Helvetica,sans-Serif\" font-size=\"14.00\">mse = 81.081</text>\n",
       "<text text-anchor=\"middle\" x=\"821\" y=\"-735.8\" font-family=\"Helvetica,sans-Serif\" font-size=\"14.00\">samples = 354</text>\n",
       "<text text-anchor=\"middle\" x=\"821\" y=\"-720.8\" font-family=\"Helvetica,sans-Serif\" font-size=\"14.00\">value = 22.488</text>\n",
       "</g>\n",
       "<!-- 1 -->\n",
       "<g id=\"node2\" class=\"node\">\n",
       "<title>1</title>\n",
       "<path fill=\"#f2c19e\" stroke=\"black\" d=\"M795,-677C795,-677 713,-677 713,-677 707,-677 701,-671 701,-665 701,-665 701,-621 701,-621 701,-615 707,-609 713,-609 713,-609 795,-609 795,-609 801,-609 807,-615 807,-621 807,-621 807,-665 807,-665 807,-671 801,-677 795,-677\"/>\n",
       "<text text-anchor=\"middle\" x=\"754\" y=\"-661.8\" font-family=\"Helvetica,sans-Serif\" font-size=\"14.00\">RM &lt;= 7.435</text>\n",
       "<text text-anchor=\"middle\" x=\"754\" y=\"-646.8\" font-family=\"Helvetica,sans-Serif\" font-size=\"14.00\">mse = 78.714</text>\n",
       "<text text-anchor=\"middle\" x=\"754\" y=\"-631.8\" font-family=\"Helvetica,sans-Serif\" font-size=\"14.00\">samples = 144</text>\n",
       "<text text-anchor=\"middle\" x=\"754\" y=\"-616.8\" font-family=\"Helvetica,sans-Serif\" font-size=\"14.00\">value = 29.715</text>\n",
       "</g>\n",
       "<!-- 0&#45;&gt;1 -->\n",
       "<g id=\"edge1\" class=\"edge\">\n",
       "<title>0&#45;&gt;1</title>\n",
       "<path fill=\"none\" stroke=\"black\" d=\"M799.25,-712.88C793.57,-704.24 787.38,-694.82 781.45,-685.79\"/>\n",
       "<polygon fill=\"black\" stroke=\"black\" points=\"784.29,-683.74 775.87,-677.3 778.44,-687.58 784.29,-683.74\"/>\n",
       "<text text-anchor=\"middle\" x=\"770.8\" y=\"-698.08\" font-family=\"Helvetica,sans-Serif\" font-size=\"14.00\">True</text>\n",
       "</g>\n",
       "<!-- 2 -->\n",
       "<g id=\"node25\" class=\"node\">\n",
       "<title>2</title>\n",
       "<path fill=\"#fae8db\" stroke=\"black\" d=\"M991,-677C991,-677 899,-677 899,-677 893,-677 887,-671 887,-665 887,-665 887,-621 887,-621 887,-615 893,-609 899,-609 899,-609 991,-609 991,-609 997,-609 1003,-615 1003,-621 1003,-621 1003,-665 1003,-665 1003,-671 997,-677 991,-677\"/>\n",
       "<text text-anchor=\"middle\" x=\"945\" y=\"-661.8\" font-family=\"Helvetica,sans-Serif\" font-size=\"14.00\">LSTAT &lt;= 16.21</text>\n",
       "<text text-anchor=\"middle\" x=\"945\" y=\"-646.8\" font-family=\"Helvetica,sans-Serif\" font-size=\"14.00\">mse = 22.34</text>\n",
       "<text text-anchor=\"middle\" x=\"945\" y=\"-631.8\" font-family=\"Helvetica,sans-Serif\" font-size=\"14.00\">samples = 210</text>\n",
       "<text text-anchor=\"middle\" x=\"945\" y=\"-616.8\" font-family=\"Helvetica,sans-Serif\" font-size=\"14.00\">value = 17.533</text>\n",
       "</g>\n",
       "<!-- 0&#45;&gt;2 -->\n",
       "<g id=\"edge24\" class=\"edge\">\n",
       "<title>0&#45;&gt;2</title>\n",
       "<path fill=\"none\" stroke=\"black\" d=\"M861.26,-712.88C872.52,-703.62 884.88,-693.45 896.56,-683.85\"/>\n",
       "<polygon fill=\"black\" stroke=\"black\" points=\"899.02,-686.36 904.52,-677.3 894.57,-680.95 899.02,-686.36\"/>\n",
       "<text text-anchor=\"middle\" x=\"902.1\" y=\"-698.48\" font-family=\"Helvetica,sans-Serif\" font-size=\"14.00\">False</text>\n",
       "</g>\n",
       "<!-- 3 -->\n",
       "<g id=\"node3\" class=\"node\">\n",
       "<title>3</title>\n",
       "<path fill=\"#f4c9aa\" stroke=\"black\" d=\"M573,-573C573,-573 491,-573 491,-573 485,-573 479,-567 479,-561 479,-561 479,-517 479,-517 479,-511 485,-505 491,-505 491,-505 573,-505 573,-505 579,-505 585,-511 585,-517 585,-517 585,-561 585,-561 585,-567 579,-573 573,-573\"/>\n",
       "<text text-anchor=\"middle\" x=\"532\" y=\"-557.8\" font-family=\"Helvetica,sans-Serif\" font-size=\"14.00\">DIS &lt;= 1.473</text>\n",
       "<text text-anchor=\"middle\" x=\"532\" y=\"-542.8\" font-family=\"Helvetica,sans-Serif\" font-size=\"14.00\">mse = 42.639</text>\n",
       "<text text-anchor=\"middle\" x=\"532\" y=\"-527.8\" font-family=\"Helvetica,sans-Serif\" font-size=\"14.00\">samples = 125</text>\n",
       "<text text-anchor=\"middle\" x=\"532\" y=\"-512.8\" font-family=\"Helvetica,sans-Serif\" font-size=\"14.00\">value = 27.394</text>\n",
       "</g>\n",
       "<!-- 1&#45;&gt;3 -->\n",
       "<g id=\"edge2\" class=\"edge\">\n",
       "<title>1&#45;&gt;3</title>\n",
       "<path fill=\"none\" stroke=\"black\" d=\"M700.83,-617.57C668.82,-602.86 627.91,-584.06 594.37,-568.66\"/>\n",
       "<polygon fill=\"black\" stroke=\"black\" points=\"595.67,-565.4 585.12,-564.41 592.75,-571.76 595.67,-565.4\"/>\n",
       "</g>\n",
       "<!-- 4 -->\n",
       "<g id=\"node20\" class=\"node\">\n",
       "<title>4</title>\n",
       "<path fill=\"#e89152\" stroke=\"black\" d=\"M805,-573C805,-573 703,-573 703,-573 697,-573 691,-567 691,-561 691,-561 691,-517 691,-517 691,-511 697,-505 703,-505 703,-505 805,-505 805,-505 811,-505 817,-511 817,-517 817,-517 817,-561 817,-561 817,-567 811,-573 805,-573\"/>\n",
       "<text text-anchor=\"middle\" x=\"754\" y=\"-557.8\" font-family=\"Helvetica,sans-Serif\" font-size=\"14.00\">PTRATIO &lt;= 18.3</text>\n",
       "<text text-anchor=\"middle\" x=\"754\" y=\"-542.8\" font-family=\"Helvetica,sans-Serif\" font-size=\"14.00\">mse = 47.634</text>\n",
       "<text text-anchor=\"middle\" x=\"754\" y=\"-527.8\" font-family=\"Helvetica,sans-Serif\" font-size=\"14.00\">samples = 19</text>\n",
       "<text text-anchor=\"middle\" x=\"754\" y=\"-512.8\" font-family=\"Helvetica,sans-Serif\" font-size=\"14.00\">value = 44.979</text>\n",
       "</g>\n",
       "<!-- 1&#45;&gt;4 -->\n",
       "<g id=\"edge19\" class=\"edge\">\n",
       "<title>1&#45;&gt;4</title>\n",
       "<path fill=\"none\" stroke=\"black\" d=\"M754,-608.88C754,-600.78 754,-591.98 754,-583.47\"/>\n",
       "<polygon fill=\"black\" stroke=\"black\" points=\"757.5,-583.3 754,-573.3 750.5,-583.3 757.5,-583.3\"/>\n",
       "</g>\n",
       "<!-- 5 -->\n",
       "<g id=\"node4\" class=\"node\">\n",
       "<title>5</title>\n",
       "<path fill=\"#e58139\" stroke=\"black\" d=\"M448.5,-461.5C448.5,-461.5 381.5,-461.5 381.5,-461.5 375.5,-461.5 369.5,-455.5 369.5,-449.5 369.5,-449.5 369.5,-420.5 369.5,-420.5 369.5,-414.5 375.5,-408.5 381.5,-408.5 381.5,-408.5 448.5,-408.5 448.5,-408.5 454.5,-408.5 460.5,-414.5 460.5,-420.5 460.5,-420.5 460.5,-449.5 460.5,-449.5 460.5,-455.5 454.5,-461.5 448.5,-461.5\"/>\n",
       "<text text-anchor=\"middle\" x=\"415\" y=\"-446.3\" font-family=\"Helvetica,sans-Serif\" font-size=\"14.00\">mse = 0.0</text>\n",
       "<text text-anchor=\"middle\" x=\"415\" y=\"-431.3\" font-family=\"Helvetica,sans-Serif\" font-size=\"14.00\">samples = 4</text>\n",
       "<text text-anchor=\"middle\" x=\"415\" y=\"-416.3\" font-family=\"Helvetica,sans-Serif\" font-size=\"14.00\">value = 50.0</text>\n",
       "</g>\n",
       "<!-- 3&#45;&gt;5 -->\n",
       "<g id=\"edge3\" class=\"edge\">\n",
       "<title>3&#45;&gt;5</title>\n",
       "<path fill=\"none\" stroke=\"black\" d=\"M494.01,-504.88C480.52,-493.12 465.35,-479.89 451.94,-468.2\"/>\n",
       "<polygon fill=\"black\" stroke=\"black\" points=\"454.11,-465.45 444.27,-461.52 449.51,-470.73 454.11,-465.45\"/>\n",
       "</g>\n",
       "<!-- 6 -->\n",
       "<g id=\"node5\" class=\"node\">\n",
       "<title>6</title>\n",
       "<path fill=\"#f4cbad\" stroke=\"black\" d=\"M573,-469C573,-469 491,-469 491,-469 485,-469 479,-463 479,-457 479,-457 479,-413 479,-413 479,-407 485,-401 491,-401 491,-401 573,-401 573,-401 579,-401 585,-407 585,-413 585,-413 585,-457 585,-457 585,-463 579,-469 573,-469\"/>\n",
       "<text text-anchor=\"middle\" x=\"532\" y=\"-453.8\" font-family=\"Helvetica,sans-Serif\" font-size=\"14.00\">RM &lt;= 6.797</text>\n",
       "<text text-anchor=\"middle\" x=\"532\" y=\"-438.8\" font-family=\"Helvetica,sans-Serif\" font-size=\"14.00\">mse = 26.597</text>\n",
       "<text text-anchor=\"middle\" x=\"532\" y=\"-423.8\" font-family=\"Helvetica,sans-Serif\" font-size=\"14.00\">samples = 121</text>\n",
       "<text text-anchor=\"middle\" x=\"532\" y=\"-408.8\" font-family=\"Helvetica,sans-Serif\" font-size=\"14.00\">value = 26.647</text>\n",
       "</g>\n",
       "<!-- 3&#45;&gt;6 -->\n",
       "<g id=\"edge4\" class=\"edge\">\n",
       "<title>3&#45;&gt;6</title>\n",
       "<path fill=\"none\" stroke=\"black\" d=\"M532,-504.88C532,-496.78 532,-487.98 532,-479.47\"/>\n",
       "<polygon fill=\"black\" stroke=\"black\" points=\"535.5,-479.3 532,-469.3 528.5,-479.3 535.5,-479.3\"/>\n",
       "</g>\n",
       "<!-- 9 -->\n",
       "<g id=\"node6\" class=\"node\">\n",
       "<title>9</title>\n",
       "<path fill=\"#f6d3b9\" stroke=\"black\" d=\"M401,-365C401,-365 319,-365 319,-365 313,-365 307,-359 307,-353 307,-353 307,-309 307,-309 307,-303 313,-297 319,-297 319,-297 401,-297 401,-297 407,-297 413,-303 413,-309 413,-309 413,-353 413,-353 413,-359 407,-365 401,-365\"/>\n",
       "<text text-anchor=\"middle\" x=\"360\" y=\"-349.8\" font-family=\"Helvetica,sans-Serif\" font-size=\"14.00\">RM &lt;= 6.428</text>\n",
       "<text text-anchor=\"middle\" x=\"360\" y=\"-334.8\" font-family=\"Helvetica,sans-Serif\" font-size=\"14.00\">mse = 11.277</text>\n",
       "<text text-anchor=\"middle\" x=\"360\" y=\"-319.8\" font-family=\"Helvetica,sans-Serif\" font-size=\"14.00\">samples = 85</text>\n",
       "<text text-anchor=\"middle\" x=\"360\" y=\"-304.8\" font-family=\"Helvetica,sans-Serif\" font-size=\"14.00\">value = 24.195</text>\n",
       "</g>\n",
       "<!-- 6&#45;&gt;9 -->\n",
       "<g id=\"edge5\" class=\"edge\">\n",
       "<title>6&#45;&gt;9</title>\n",
       "<path fill=\"none\" stroke=\"black\" d=\"M478.99,-402.56C460.93,-391.85 440.57,-379.78 421.87,-368.69\"/>\n",
       "<polygon fill=\"black\" stroke=\"black\" points=\"423.52,-365.6 413.13,-363.51 419.95,-371.62 423.52,-365.6\"/>\n",
       "</g>\n",
       "<!-- 10 -->\n",
       "<g id=\"node13\" class=\"node\">\n",
       "<title>10</title>\n",
       "<path fill=\"#f0b990\" stroke=\"black\" d=\"M592,-365C592,-365 490,-365 490,-365 484,-365 478,-359 478,-353 478,-353 478,-309 478,-309 478,-303 484,-297 490,-297 490,-297 592,-297 592,-297 598,-297 604,-303 604,-309 604,-309 604,-353 604,-353 604,-359 598,-365 592,-365\"/>\n",
       "<text text-anchor=\"middle\" x=\"541\" y=\"-349.8\" font-family=\"Helvetica,sans-Serif\" font-size=\"14.00\">PTRATIO &lt;= 19.7</text>\n",
       "<text text-anchor=\"middle\" x=\"541\" y=\"-334.8\" font-family=\"Helvetica,sans-Serif\" font-size=\"14.00\">mse = 15.065</text>\n",
       "<text text-anchor=\"middle\" x=\"541\" y=\"-319.8\" font-family=\"Helvetica,sans-Serif\" font-size=\"14.00\">samples = 36</text>\n",
       "<text text-anchor=\"middle\" x=\"541\" y=\"-304.8\" font-family=\"Helvetica,sans-Serif\" font-size=\"14.00\">value = 32.436</text>\n",
       "</g>\n",
       "<!-- 6&#45;&gt;10 -->\n",
       "<g id=\"edge12\" class=\"edge\">\n",
       "<title>6&#45;&gt;10</title>\n",
       "<path fill=\"none\" stroke=\"black\" d=\"M534.92,-400.88C535.64,-392.78 536.41,-383.98 537.16,-375.47\"/>\n",
       "<polygon fill=\"black\" stroke=\"black\" points=\"540.67,-375.57 538.06,-365.3 533.7,-374.95 540.67,-375.57\"/>\n",
       "</g>\n",
       "<!-- 15 -->\n",
       "<g id=\"node7\" class=\"node\">\n",
       "<title>15</title>\n",
       "<path fill=\"#f7d8c2\" stroke=\"black\" d=\"M219.5,-261C219.5,-261 134.5,-261 134.5,-261 128.5,-261 122.5,-255 122.5,-249 122.5,-249 122.5,-205 122.5,-205 122.5,-199 128.5,-193 134.5,-193 134.5,-193 219.5,-193 219.5,-193 225.5,-193 231.5,-199 231.5,-205 231.5,-205 231.5,-249 231.5,-249 231.5,-255 225.5,-261 219.5,-261\"/>\n",
       "<text text-anchor=\"middle\" x=\"177\" y=\"-245.8\" font-family=\"Helvetica,sans-Serif\" font-size=\"14.00\">LSTAT &lt;= 7.81</text>\n",
       "<text text-anchor=\"middle\" x=\"177\" y=\"-230.8\" font-family=\"Helvetica,sans-Serif\" font-size=\"14.00\">mse = 6.556</text>\n",
       "<text text-anchor=\"middle\" x=\"177\" y=\"-215.8\" font-family=\"Helvetica,sans-Serif\" font-size=\"14.00\">samples = 47</text>\n",
       "<text text-anchor=\"middle\" x=\"177\" y=\"-200.8\" font-family=\"Helvetica,sans-Serif\" font-size=\"14.00\">value = 22.413</text>\n",
       "</g>\n",
       "<!-- 9&#45;&gt;15 -->\n",
       "<g id=\"edge6\" class=\"edge\">\n",
       "<title>9&#45;&gt;15</title>\n",
       "<path fill=\"none\" stroke=\"black\" d=\"M306.58,-300.22C285.9,-288.7 262.07,-275.41 240.52,-263.4\"/>\n",
       "<polygon fill=\"black\" stroke=\"black\" points=\"242.2,-260.33 231.76,-258.52 238.79,-266.45 242.2,-260.33\"/>\n",
       "</g>\n",
       "<!-- 16 -->\n",
       "<g id=\"node10\" class=\"node\">\n",
       "<title>16</title>\n",
       "<path fill=\"#f4ccaf\" stroke=\"black\" d=\"M415,-261C415,-261 305,-261 305,-261 299,-261 293,-255 293,-249 293,-249 293,-205 293,-205 293,-199 299,-193 305,-193 305,-193 415,-193 415,-193 421,-193 427,-199 427,-205 427,-205 427,-249 427,-249 427,-255 421,-261 415,-261\"/>\n",
       "<text text-anchor=\"middle\" x=\"360\" y=\"-245.8\" font-family=\"Helvetica,sans-Serif\" font-size=\"14.00\">PTRATIO &lt;= 18.35</text>\n",
       "<text text-anchor=\"middle\" x=\"360\" y=\"-230.8\" font-family=\"Helvetica,sans-Serif\" font-size=\"14.00\">mse = 8.324</text>\n",
       "<text text-anchor=\"middle\" x=\"360\" y=\"-215.8\" font-family=\"Helvetica,sans-Serif\" font-size=\"14.00\">samples = 38</text>\n",
       "<text text-anchor=\"middle\" x=\"360\" y=\"-200.8\" font-family=\"Helvetica,sans-Serif\" font-size=\"14.00\">value = 26.4</text>\n",
       "</g>\n",
       "<!-- 9&#45;&gt;16 -->\n",
       "<g id=\"edge9\" class=\"edge\">\n",
       "<title>9&#45;&gt;16</title>\n",
       "<path fill=\"none\" stroke=\"black\" d=\"M360,-296.88C360,-288.78 360,-279.98 360,-271.47\"/>\n",
       "<polygon fill=\"black\" stroke=\"black\" points=\"363.5,-271.3 360,-261.3 356.5,-271.3 363.5,-271.3\"/>\n",
       "</g>\n",
       "<!-- 31 -->\n",
       "<g id=\"node8\" class=\"node\">\n",
       "<title>31</title>\n",
       "<path fill=\"#f6d4bc\" stroke=\"black\" d=\"M94,-149.5C94,-149.5 12,-149.5 12,-149.5 6,-149.5 0,-143.5 0,-137.5 0,-137.5 0,-108.5 0,-108.5 0,-102.5 6,-96.5 12,-96.5 12,-96.5 94,-96.5 94,-96.5 100,-96.5 106,-102.5 106,-108.5 106,-108.5 106,-137.5 106,-137.5 106,-143.5 100,-149.5 94,-149.5\"/>\n",
       "<text text-anchor=\"middle\" x=\"53\" y=\"-134.3\" font-family=\"Helvetica,sans-Serif\" font-size=\"14.00\">mse = 2.396</text>\n",
       "<text text-anchor=\"middle\" x=\"53\" y=\"-119.3\" font-family=\"Helvetica,sans-Serif\" font-size=\"14.00\">samples = 24</text>\n",
       "<text text-anchor=\"middle\" x=\"53\" y=\"-104.3\" font-family=\"Helvetica,sans-Serif\" font-size=\"14.00\">value = 23.717</text>\n",
       "</g>\n",
       "<!-- 15&#45;&gt;31 -->\n",
       "<g id=\"edge7\" class=\"edge\">\n",
       "<title>15&#45;&gt;31</title>\n",
       "<path fill=\"none\" stroke=\"black\" d=\"M136.74,-192.88C122.3,-181.01 106.06,-167.65 91.75,-155.88\"/>\n",
       "<polygon fill=\"black\" stroke=\"black\" points=\"93.97,-153.17 84.02,-149.52 89.52,-158.58 93.97,-153.17\"/>\n",
       "</g>\n",
       "<!-- 32 -->\n",
       "<g id=\"node9\" class=\"node\">\n",
       "<title>32</title>\n",
       "<path fill=\"#f8ddc9\" stroke=\"black\" d=\"M218,-149.5C218,-149.5 136,-149.5 136,-149.5 130,-149.5 124,-143.5 124,-137.5 124,-137.5 124,-108.5 124,-108.5 124,-102.5 130,-96.5 136,-96.5 136,-96.5 218,-96.5 218,-96.5 224,-96.5 230,-102.5 230,-108.5 230,-108.5 230,-137.5 230,-137.5 230,-143.5 224,-149.5 218,-149.5\"/>\n",
       "<text text-anchor=\"middle\" x=\"177\" y=\"-134.3\" font-family=\"Helvetica,sans-Serif\" font-size=\"14.00\">mse = 7.273</text>\n",
       "<text text-anchor=\"middle\" x=\"177\" y=\"-119.3\" font-family=\"Helvetica,sans-Serif\" font-size=\"14.00\">samples = 23</text>\n",
       "<text text-anchor=\"middle\" x=\"177\" y=\"-104.3\" font-family=\"Helvetica,sans-Serif\" font-size=\"14.00\">value = 21.052</text>\n",
       "</g>\n",
       "<!-- 15&#45;&gt;32 -->\n",
       "<g id=\"edge8\" class=\"edge\">\n",
       "<title>15&#45;&gt;32</title>\n",
       "<path fill=\"none\" stroke=\"black\" d=\"M177,-192.88C177,-182.33 177,-170.6 177,-159.85\"/>\n",
       "<polygon fill=\"black\" stroke=\"black\" points=\"180.5,-159.52 177,-149.52 173.5,-159.52 180.5,-159.52\"/>\n",
       "</g>\n",
       "<!-- 37 -->\n",
       "<g id=\"node11\" class=\"node\">\n",
       "<title>37</title>\n",
       "<path fill=\"#f4c8a8\" stroke=\"black\" d=\"M334,-149.5C334,-149.5 260,-149.5 260,-149.5 254,-149.5 248,-143.5 248,-137.5 248,-137.5 248,-108.5 248,-108.5 248,-102.5 254,-96.5 260,-96.5 260,-96.5 334,-96.5 334,-96.5 340,-96.5 346,-102.5 346,-108.5 346,-108.5 346,-137.5 346,-137.5 346,-143.5 340,-149.5 334,-149.5\"/>\n",
       "<text text-anchor=\"middle\" x=\"297\" y=\"-134.3\" font-family=\"Helvetica,sans-Serif\" font-size=\"14.00\">mse = 8.594</text>\n",
       "<text text-anchor=\"middle\" x=\"297\" y=\"-119.3\" font-family=\"Helvetica,sans-Serif\" font-size=\"14.00\">samples = 20</text>\n",
       "<text text-anchor=\"middle\" x=\"297\" y=\"-104.3\" font-family=\"Helvetica,sans-Serif\" font-size=\"14.00\">value = 27.73</text>\n",
       "</g>\n",
       "<!-- 16&#45;&gt;37 -->\n",
       "<g id=\"edge10\" class=\"edge\">\n",
       "<title>16&#45;&gt;37</title>\n",
       "<path fill=\"none\" stroke=\"black\" d=\"M339.55,-192.88C332.68,-181.78 325.02,-169.37 318.11,-158.18\"/>\n",
       "<polygon fill=\"black\" stroke=\"black\" points=\"321,-156.19 312.76,-149.52 315.04,-159.87 321,-156.19\"/>\n",
       "</g>\n",
       "<!-- 38 -->\n",
       "<g id=\"node12\" class=\"node\">\n",
       "<title>38</title>\n",
       "<path fill=\"#f5d0b6\" stroke=\"black\" d=\"M458,-149.5C458,-149.5 376,-149.5 376,-149.5 370,-149.5 364,-143.5 364,-137.5 364,-137.5 364,-108.5 364,-108.5 364,-102.5 370,-96.5 376,-96.5 376,-96.5 458,-96.5 458,-96.5 464,-96.5 470,-102.5 470,-108.5 470,-108.5 470,-137.5 470,-137.5 470,-143.5 464,-149.5 458,-149.5\"/>\n",
       "<text text-anchor=\"middle\" x=\"417\" y=\"-134.3\" font-family=\"Helvetica,sans-Serif\" font-size=\"14.00\">mse = 3.875</text>\n",
       "<text text-anchor=\"middle\" x=\"417\" y=\"-119.3\" font-family=\"Helvetica,sans-Serif\" font-size=\"14.00\">samples = 18</text>\n",
       "<text text-anchor=\"middle\" x=\"417\" y=\"-104.3\" font-family=\"Helvetica,sans-Serif\" font-size=\"14.00\">value = 24.922</text>\n",
       "</g>\n",
       "<!-- 16&#45;&gt;38 -->\n",
       "<g id=\"edge11\" class=\"edge\">\n",
       "<title>16&#45;&gt;38</title>\n",
       "<path fill=\"none\" stroke=\"black\" d=\"M378.51,-192.88C384.65,-181.89 391.51,-169.62 397.71,-158.52\"/>\n",
       "<polygon fill=\"black\" stroke=\"black\" points=\"400.92,-159.96 402.74,-149.52 394.81,-156.54 400.92,-159.96\"/>\n",
       "</g>\n",
       "<!-- 25 -->\n",
       "<g id=\"node14\" class=\"node\">\n",
       "<title>25</title>\n",
       "<path fill=\"#f0b78e\" stroke=\"black\" d=\"M582,-261C582,-261 500,-261 500,-261 494,-261 488,-255 488,-249 488,-249 488,-205 488,-205 488,-199 494,-193 500,-193 500,-193 582,-193 582,-193 588,-193 594,-199 594,-205 594,-205 594,-249 594,-249 594,-255 588,-261 582,-261\"/>\n",
       "<text text-anchor=\"middle\" x=\"541\" y=\"-245.8\" font-family=\"Helvetica,sans-Serif\" font-size=\"14.00\">TAX &lt;= 384.0</text>\n",
       "<text text-anchor=\"middle\" x=\"541\" y=\"-230.8\" font-family=\"Helvetica,sans-Serif\" font-size=\"14.00\">mse = 11.961</text>\n",
       "<text text-anchor=\"middle\" x=\"541\" y=\"-215.8\" font-family=\"Helvetica,sans-Serif\" font-size=\"14.00\">samples = 34</text>\n",
       "<text text-anchor=\"middle\" x=\"541\" y=\"-200.8\" font-family=\"Helvetica,sans-Serif\" font-size=\"14.00\">value = 32.906</text>\n",
       "</g>\n",
       "<!-- 10&#45;&gt;25 -->\n",
       "<g id=\"edge13\" class=\"edge\">\n",
       "<title>10&#45;&gt;25</title>\n",
       "<path fill=\"none\" stroke=\"black\" d=\"M541,-296.88C541,-288.78 541,-279.98 541,-271.47\"/>\n",
       "<polygon fill=\"black\" stroke=\"black\" points=\"544.5,-271.3 541,-261.3 537.5,-271.3 544.5,-271.3\"/>\n",
       "</g>\n",
       "<!-- 26 -->\n",
       "<g id=\"node19\" class=\"node\">\n",
       "<title>26</title>\n",
       "<path fill=\"#f6d2b8\" stroke=\"black\" d=\"M698,-253.5C698,-253.5 624,-253.5 624,-253.5 618,-253.5 612,-247.5 612,-241.5 612,-241.5 612,-212.5 612,-212.5 612,-206.5 618,-200.5 624,-200.5 624,-200.5 698,-200.5 698,-200.5 704,-200.5 710,-206.5 710,-212.5 710,-212.5 710,-241.5 710,-241.5 710,-247.5 704,-253.5 698,-253.5\"/>\n",
       "<text text-anchor=\"middle\" x=\"661\" y=\"-238.3\" font-family=\"Helvetica,sans-Serif\" font-size=\"14.00\">mse = 0.303</text>\n",
       "<text text-anchor=\"middle\" x=\"661\" y=\"-223.3\" font-family=\"Helvetica,sans-Serif\" font-size=\"14.00\">samples = 2</text>\n",
       "<text text-anchor=\"middle\" x=\"661\" y=\"-208.3\" font-family=\"Helvetica,sans-Serif\" font-size=\"14.00\">value = 24.45</text>\n",
       "</g>\n",
       "<!-- 10&#45;&gt;26 -->\n",
       "<g id=\"edge18\" class=\"edge\">\n",
       "<title>10&#45;&gt;26</title>\n",
       "<path fill=\"none\" stroke=\"black\" d=\"M579.96,-296.88C593.8,-285.12 609.36,-271.89 623.11,-260.2\"/>\n",
       "<polygon fill=\"black\" stroke=\"black\" points=\"625.62,-262.66 630.98,-253.52 621.09,-257.33 625.62,-262.66\"/>\n",
       "</g>\n",
       "<!-- 33 -->\n",
       "<g id=\"node15\" class=\"node\">\n",
       "<title>33</title>\n",
       "<path fill=\"#f0b990\" stroke=\"black\" d=\"M582,-157C582,-157 500,-157 500,-157 494,-157 488,-151 488,-145 488,-145 488,-101 488,-101 488,-95 494,-89 500,-89 500,-89 582,-89 582,-89 588,-89 594,-95 594,-101 594,-101 594,-145 594,-145 594,-151 588,-157 582,-157\"/>\n",
       "<text text-anchor=\"middle\" x=\"541\" y=\"-141.8\" font-family=\"Helvetica,sans-Serif\" font-size=\"14.00\">TAX &lt;= 264.5</text>\n",
       "<text text-anchor=\"middle\" x=\"541\" y=\"-126.8\" font-family=\"Helvetica,sans-Serif\" font-size=\"14.00\">mse = 9.959</text>\n",
       "<text text-anchor=\"middle\" x=\"541\" y=\"-111.8\" font-family=\"Helvetica,sans-Serif\" font-size=\"14.00\">samples = 31</text>\n",
       "<text text-anchor=\"middle\" x=\"541\" y=\"-96.8\" font-family=\"Helvetica,sans-Serif\" font-size=\"14.00\">value = 32.439</text>\n",
       "</g>\n",
       "<!-- 25&#45;&gt;33 -->\n",
       "<g id=\"edge14\" class=\"edge\">\n",
       "<title>25&#45;&gt;33</title>\n",
       "<path fill=\"none\" stroke=\"black\" d=\"M541,-192.88C541,-184.78 541,-175.98 541,-167.47\"/>\n",
       "<polygon fill=\"black\" stroke=\"black\" points=\"544.5,-167.3 541,-157.3 537.5,-167.3 544.5,-167.3\"/>\n",
       "</g>\n",
       "<!-- 34 -->\n",
       "<g id=\"node18\" class=\"node\">\n",
       "<title>34</title>\n",
       "<path fill=\"#eda876\" stroke=\"black\" d=\"M706,-149.5C706,-149.5 624,-149.5 624,-149.5 618,-149.5 612,-143.5 612,-137.5 612,-137.5 612,-108.5 612,-108.5 612,-102.5 618,-96.5 624,-96.5 624,-96.5 706,-96.5 706,-96.5 712,-96.5 718,-102.5 718,-108.5 718,-108.5 718,-137.5 718,-137.5 718,-143.5 712,-149.5 706,-149.5\"/>\n",
       "<text text-anchor=\"middle\" x=\"665\" y=\"-134.3\" font-family=\"Helvetica,sans-Serif\" font-size=\"14.00\">mse = 7.096</text>\n",
       "<text text-anchor=\"middle\" x=\"665\" y=\"-119.3\" font-family=\"Helvetica,sans-Serif\" font-size=\"14.00\">samples = 3</text>\n",
       "<text text-anchor=\"middle\" x=\"665\" y=\"-104.3\" font-family=\"Helvetica,sans-Serif\" font-size=\"14.00\">value = 37.733</text>\n",
       "</g>\n",
       "<!-- 25&#45;&gt;34 -->\n",
       "<g id=\"edge17\" class=\"edge\">\n",
       "<title>25&#45;&gt;34</title>\n",
       "<path fill=\"none\" stroke=\"black\" d=\"M581.26,-192.88C595.7,-181.01 611.94,-167.65 626.25,-155.88\"/>\n",
       "<polygon fill=\"black\" stroke=\"black\" points=\"628.48,-158.58 633.98,-149.52 624.03,-153.17 628.48,-158.58\"/>\n",
       "</g>\n",
       "<!-- 35 -->\n",
       "<g id=\"node16\" class=\"node\">\n",
       "<title>35</title>\n",
       "<path fill=\"#efb387\" stroke=\"black\" d=\"M518,-53C518,-53 444,-53 444,-53 438,-53 432,-47 432,-41 432,-41 432,-12 432,-12 432,-6 438,0 444,0 444,0 518,0 518,0 524,0 530,-6 530,-12 530,-12 530,-41 530,-41 530,-47 524,-53 518,-53\"/>\n",
       "<text text-anchor=\"middle\" x=\"481\" y=\"-37.8\" font-family=\"Helvetica,sans-Serif\" font-size=\"14.00\">mse = 6.609</text>\n",
       "<text text-anchor=\"middle\" x=\"481\" y=\"-22.8\" font-family=\"Helvetica,sans-Serif\" font-size=\"14.00\">samples = 15</text>\n",
       "<text text-anchor=\"middle\" x=\"481\" y=\"-7.8\" font-family=\"Helvetica,sans-Serif\" font-size=\"14.00\">value = 34.26</text>\n",
       "</g>\n",
       "<!-- 33&#45;&gt;35 -->\n",
       "<g id=\"edge15\" class=\"edge\">\n",
       "<title>33&#45;&gt;35</title>\n",
       "<path fill=\"none\" stroke=\"black\" d=\"M520.01,-88.95C514.44,-80.17 508.41,-70.66 502.79,-61.82\"/>\n",
       "<polygon fill=\"black\" stroke=\"black\" points=\"505.66,-59.8 497.34,-53.24 499.75,-63.55 505.66,-59.8\"/>\n",
       "</g>\n",
       "<!-- 36 -->\n",
       "<g id=\"node17\" class=\"node\">\n",
       "<title>36</title>\n",
       "<path fill=\"#f2be99\" stroke=\"black\" d=\"M642,-53C642,-53 560,-53 560,-53 554,-53 548,-47 548,-41 548,-41 548,-12 548,-12 548,-6 554,0 560,0 560,0 642,0 642,0 648,0 654,-6 654,-12 654,-12 654,-41 654,-41 654,-47 648,-53 642,-53\"/>\n",
       "<text text-anchor=\"middle\" x=\"601\" y=\"-37.8\" font-family=\"Helvetica,sans-Serif\" font-size=\"14.00\">mse = 7.073</text>\n",
       "<text text-anchor=\"middle\" x=\"601\" y=\"-22.8\" font-family=\"Helvetica,sans-Serif\" font-size=\"14.00\">samples = 16</text>\n",
       "<text text-anchor=\"middle\" x=\"601\" y=\"-7.8\" font-family=\"Helvetica,sans-Serif\" font-size=\"14.00\">value = 30.731</text>\n",
       "</g>\n",
       "<!-- 33&#45;&gt;36 -->\n",
       "<g id=\"edge16\" class=\"edge\">\n",
       "<title>33&#45;&gt;36</title>\n",
       "<path fill=\"none\" stroke=\"black\" d=\"M561.99,-88.95C567.56,-80.17 573.59,-70.66 579.21,-61.82\"/>\n",
       "<polygon fill=\"black\" stroke=\"black\" points=\"582.25,-63.55 584.66,-53.24 576.34,-59.8 582.25,-63.55\"/>\n",
       "</g>\n",
       "<!-- 11 -->\n",
       "<g id=\"node21\" class=\"node\">\n",
       "<title>11</title>\n",
       "<path fill=\"#e78b48\" stroke=\"black\" d=\"M697,-461.5C697,-461.5 615,-461.5 615,-461.5 609,-461.5 603,-455.5 603,-449.5 603,-449.5 603,-420.5 603,-420.5 603,-414.5 609,-408.5 615,-408.5 615,-408.5 697,-408.5 697,-408.5 703,-408.5 709,-414.5 709,-420.5 709,-420.5 709,-449.5 709,-449.5 709,-455.5 703,-461.5 697,-461.5\"/>\n",
       "<text text-anchor=\"middle\" x=\"656\" y=\"-446.3\" font-family=\"Helvetica,sans-Serif\" font-size=\"14.00\">mse = 12.546</text>\n",
       "<text text-anchor=\"middle\" x=\"656\" y=\"-431.3\" font-family=\"Helvetica,sans-Serif\" font-size=\"14.00\">samples = 17</text>\n",
       "<text text-anchor=\"middle\" x=\"656\" y=\"-416.3\" font-family=\"Helvetica,sans-Serif\" font-size=\"14.00\">value = 46.912</text>\n",
       "</g>\n",
       "<!-- 4&#45;&gt;11 -->\n",
       "<g id=\"edge20\" class=\"edge\">\n",
       "<title>4&#45;&gt;11</title>\n",
       "<path fill=\"none\" stroke=\"black\" d=\"M722.18,-504.88C711.09,-493.34 698.65,-480.39 687.57,-468.86\"/>\n",
       "<polygon fill=\"black\" stroke=\"black\" points=\"689.97,-466.31 680.52,-461.52 684.92,-471.16 689.97,-466.31\"/>\n",
       "</g>\n",
       "<!-- 12 -->\n",
       "<g id=\"node22\" class=\"node\">\n",
       "<title>12</title>\n",
       "<path fill=\"#f3c5a4\" stroke=\"black\" d=\"M831,-469C831,-469 739,-469 739,-469 733,-469 727,-463 727,-457 727,-457 727,-413 727,-413 727,-407 733,-401 739,-401 739,-401 831,-401 831,-401 837,-401 843,-407 843,-413 843,-413 843,-457 843,-457 843,-463 837,-469 831,-469\"/>\n",
       "<text text-anchor=\"middle\" x=\"785\" y=\"-453.8\" font-family=\"Helvetica,sans-Serif\" font-size=\"14.00\">INDUS &lt;= 12.53</text>\n",
       "<text text-anchor=\"middle\" x=\"785\" y=\"-438.8\" font-family=\"Helvetica,sans-Serif\" font-size=\"14.00\">mse = 44.223</text>\n",
       "<text text-anchor=\"middle\" x=\"785\" y=\"-423.8\" font-family=\"Helvetica,sans-Serif\" font-size=\"14.00\">samples = 2</text>\n",
       "<text text-anchor=\"middle\" x=\"785\" y=\"-408.8\" font-family=\"Helvetica,sans-Serif\" font-size=\"14.00\">value = 28.55</text>\n",
       "</g>\n",
       "<!-- 4&#45;&gt;12 -->\n",
       "<g id=\"edge21\" class=\"edge\">\n",
       "<title>4&#45;&gt;12</title>\n",
       "<path fill=\"none\" stroke=\"black\" d=\"M764.06,-504.88C766.58,-496.6 769.32,-487.6 771.96,-478.91\"/>\n",
       "<polygon fill=\"black\" stroke=\"black\" points=\"775.32,-479.89 774.88,-469.3 768.62,-477.85 775.32,-479.89\"/>\n",
       "</g>\n",
       "<!-- 29 -->\n",
       "<g id=\"node23\" class=\"node\">\n",
       "<title>29</title>\n",
       "<path fill=\"#efb083\" stroke=\"black\" d=\"M717.5,-357.5C717.5,-357.5 650.5,-357.5 650.5,-357.5 644.5,-357.5 638.5,-351.5 638.5,-345.5 638.5,-345.5 638.5,-316.5 638.5,-316.5 638.5,-310.5 644.5,-304.5 650.5,-304.5 650.5,-304.5 717.5,-304.5 717.5,-304.5 723.5,-304.5 729.5,-310.5 729.5,-316.5 729.5,-316.5 729.5,-345.5 729.5,-345.5 729.5,-351.5 723.5,-357.5 717.5,-357.5\"/>\n",
       "<text text-anchor=\"middle\" x=\"684\" y=\"-342.3\" font-family=\"Helvetica,sans-Serif\" font-size=\"14.00\">mse = 0.0</text>\n",
       "<text text-anchor=\"middle\" x=\"684\" y=\"-327.3\" font-family=\"Helvetica,sans-Serif\" font-size=\"14.00\">samples = 1</text>\n",
       "<text text-anchor=\"middle\" x=\"684\" y=\"-312.3\" font-family=\"Helvetica,sans-Serif\" font-size=\"14.00\">value = 35.2</text>\n",
       "</g>\n",
       "<!-- 12&#45;&gt;29 -->\n",
       "<g id=\"edge22\" class=\"edge\">\n",
       "<title>12&#45;&gt;29</title>\n",
       "<path fill=\"none\" stroke=\"black\" d=\"M752.21,-400.88C740.77,-389.34 727.95,-376.39 716.54,-364.86\"/>\n",
       "<polygon fill=\"black\" stroke=\"black\" points=\"718.79,-362.16 709.27,-357.52 713.82,-367.09 718.79,-362.16\"/>\n",
       "</g>\n",
       "<!-- 30 -->\n",
       "<g id=\"node24\" class=\"node\">\n",
       "<title>30</title>\n",
       "<path fill=\"#f7dac5\" stroke=\"black\" d=\"M826.5,-357.5C826.5,-357.5 759.5,-357.5 759.5,-357.5 753.5,-357.5 747.5,-351.5 747.5,-345.5 747.5,-345.5 747.5,-316.5 747.5,-316.5 747.5,-310.5 753.5,-304.5 759.5,-304.5 759.5,-304.5 826.5,-304.5 826.5,-304.5 832.5,-304.5 838.5,-310.5 838.5,-316.5 838.5,-316.5 838.5,-345.5 838.5,-345.5 838.5,-351.5 832.5,-357.5 826.5,-357.5\"/>\n",
       "<text text-anchor=\"middle\" x=\"793\" y=\"-342.3\" font-family=\"Helvetica,sans-Serif\" font-size=\"14.00\">mse = &#45;0.0</text>\n",
       "<text text-anchor=\"middle\" x=\"793\" y=\"-327.3\" font-family=\"Helvetica,sans-Serif\" font-size=\"14.00\">samples = 1</text>\n",
       "<text text-anchor=\"middle\" x=\"793\" y=\"-312.3\" font-family=\"Helvetica,sans-Serif\" font-size=\"14.00\">value = 21.9</text>\n",
       "</g>\n",
       "<!-- 12&#45;&gt;30 -->\n",
       "<g id=\"edge23\" class=\"edge\">\n",
       "<title>12&#45;&gt;30</title>\n",
       "<path fill=\"none\" stroke=\"black\" d=\"M787.6,-400.88C788.43,-390.22 789.36,-378.35 790.21,-367.52\"/>\n",
       "<polygon fill=\"black\" stroke=\"black\" points=\"793.71,-367.76 791,-357.52 786.73,-367.22 793.71,-367.76\"/>\n",
       "</g>\n",
       "<!-- 7 -->\n",
       "<g id=\"node26\" class=\"node\">\n",
       "<title>7</title>\n",
       "<path fill=\"#f8dfcc\" stroke=\"black\" d=\"M986,-573C986,-573 904,-573 904,-573 898,-573 892,-567 892,-561 892,-561 892,-517 892,-517 892,-511 898,-505 904,-505 904,-505 986,-505 986,-505 992,-505 998,-511 998,-517 998,-517 998,-561 998,-561 998,-567 992,-573 986,-573\"/>\n",
       "<text text-anchor=\"middle\" x=\"945\" y=\"-557.8\" font-family=\"Helvetica,sans-Serif\" font-size=\"14.00\">B &lt;= 116.025</text>\n",
       "<text text-anchor=\"middle\" x=\"945\" y=\"-542.8\" font-family=\"Helvetica,sans-Serif\" font-size=\"14.00\">mse = 10.347</text>\n",
       "<text text-anchor=\"middle\" x=\"945\" y=\"-527.8\" font-family=\"Helvetica,sans-Serif\" font-size=\"14.00\">samples = 115</text>\n",
       "<text text-anchor=\"middle\" x=\"945\" y=\"-512.8\" font-family=\"Helvetica,sans-Serif\" font-size=\"14.00\">value = 20.39</text>\n",
       "</g>\n",
       "<!-- 2&#45;&gt;7 -->\n",
       "<g id=\"edge25\" class=\"edge\">\n",
       "<title>2&#45;&gt;7</title>\n",
       "<path fill=\"none\" stroke=\"black\" d=\"M945,-608.88C945,-600.78 945,-591.98 945,-583.47\"/>\n",
       "<polygon fill=\"black\" stroke=\"black\" points=\"948.5,-583.3 945,-573.3 941.5,-583.3 948.5,-583.3\"/>\n",
       "</g>\n",
       "<!-- 8 -->\n",
       "<g id=\"node31\" class=\"node\">\n",
       "<title>8</title>\n",
       "<path fill=\"#fcf3ec\" stroke=\"black\" d=\"M1262,-573C1262,-573 1180,-573 1180,-573 1174,-573 1168,-567 1168,-561 1168,-561 1168,-517 1168,-517 1168,-511 1174,-505 1180,-505 1180,-505 1262,-505 1262,-505 1268,-505 1274,-511 1274,-517 1274,-517 1274,-561 1274,-561 1274,-567 1268,-573 1262,-573\"/>\n",
       "<text text-anchor=\"middle\" x=\"1221\" y=\"-557.8\" font-family=\"Helvetica,sans-Serif\" font-size=\"14.00\">DIS &lt;= 2.004</text>\n",
       "<text text-anchor=\"middle\" x=\"1221\" y=\"-542.8\" font-family=\"Helvetica,sans-Serif\" font-size=\"14.00\">mse = 15.019</text>\n",
       "<text text-anchor=\"middle\" x=\"1221\" y=\"-527.8\" font-family=\"Helvetica,sans-Serif\" font-size=\"14.00\">samples = 95</text>\n",
       "<text text-anchor=\"middle\" x=\"1221\" y=\"-512.8\" font-family=\"Helvetica,sans-Serif\" font-size=\"14.00\">value = 14.075</text>\n",
       "</g>\n",
       "<!-- 2&#45;&gt;8 -->\n",
       "<g id=\"edge30\" class=\"edge\">\n",
       "<title>2&#45;&gt;8</title>\n",
       "<path fill=\"none\" stroke=\"black\" d=\"M1003.2,-620.49C1048.52,-603.74 1111.36,-580.52 1157.89,-563.32\"/>\n",
       "<polygon fill=\"black\" stroke=\"black\" points=\"1159.39,-566.5 1167.56,-559.75 1156.97,-559.93 1159.39,-566.5\"/>\n",
       "</g>\n",
       "<!-- 17 -->\n",
       "<g id=\"node27\" class=\"node\">\n",
       "<title>17</title>\n",
       "<path fill=\"#fcf1ea\" stroke=\"black\" d=\"M955,-461.5C955,-461.5 873,-461.5 873,-461.5 867,-461.5 861,-455.5 861,-449.5 861,-449.5 861,-420.5 861,-420.5 861,-414.5 867,-408.5 873,-408.5 873,-408.5 955,-408.5 955,-408.5 961,-408.5 967,-414.5 967,-420.5 967,-420.5 967,-449.5 967,-449.5 967,-455.5 961,-461.5 955,-461.5\"/>\n",
       "<text text-anchor=\"middle\" x=\"914\" y=\"-446.3\" font-family=\"Helvetica,sans-Serif\" font-size=\"14.00\">mse = 7.859</text>\n",
       "<text text-anchor=\"middle\" x=\"914\" y=\"-431.3\" font-family=\"Helvetica,sans-Serif\" font-size=\"14.00\">samples = 6</text>\n",
       "<text text-anchor=\"middle\" x=\"914\" y=\"-416.3\" font-family=\"Helvetica,sans-Serif\" font-size=\"14.00\">value = 14.533</text>\n",
       "</g>\n",
       "<!-- 7&#45;&gt;17 -->\n",
       "<g id=\"edge26\" class=\"edge\">\n",
       "<title>7&#45;&gt;17</title>\n",
       "<path fill=\"none\" stroke=\"black\" d=\"M934.94,-504.88C931.66,-494.11 928.01,-482.11 924.69,-471.18\"/>\n",
       "<polygon fill=\"black\" stroke=\"black\" points=\"928.01,-470.07 921.76,-461.52 921.32,-472.11 928.01,-470.07\"/>\n",
       "</g>\n",
       "<!-- 18 -->\n",
       "<g id=\"node28\" class=\"node\">\n",
       "<title>18</title>\n",
       "<path fill=\"#f8decb\" stroke=\"black\" d=\"M1079,-469C1079,-469 997,-469 997,-469 991,-469 985,-463 985,-457 985,-457 985,-413 985,-413 985,-407 991,-401 997,-401 997,-401 1079,-401 1079,-401 1085,-401 1091,-407 1091,-413 1091,-413 1091,-457 1091,-457 1091,-463 1085,-469 1079,-469\"/>\n",
       "<text text-anchor=\"middle\" x=\"1038\" y=\"-453.8\" font-family=\"Helvetica,sans-Serif\" font-size=\"14.00\">RM &lt;= 6.696</text>\n",
       "<text text-anchor=\"middle\" x=\"1038\" y=\"-438.8\" font-family=\"Helvetica,sans-Serif\" font-size=\"14.00\">mse = 8.492</text>\n",
       "<text text-anchor=\"middle\" x=\"1038\" y=\"-423.8\" font-family=\"Helvetica,sans-Serif\" font-size=\"14.00\">samples = 109</text>\n",
       "<text text-anchor=\"middle\" x=\"1038\" y=\"-408.8\" font-family=\"Helvetica,sans-Serif\" font-size=\"14.00\">value = 20.712</text>\n",
       "</g>\n",
       "<!-- 7&#45;&gt;18 -->\n",
       "<g id=\"edge27\" class=\"edge\">\n",
       "<title>7&#45;&gt;18</title>\n",
       "<path fill=\"none\" stroke=\"black\" d=\"M975.19,-504.88C983.32,-495.98 992.2,-486.24 1000.66,-476.96\"/>\n",
       "<polygon fill=\"black\" stroke=\"black\" points=\"1003.49,-479.05 1007.64,-469.3 998.31,-474.33 1003.49,-479.05\"/>\n",
       "</g>\n",
       "<!-- 19 -->\n",
       "<g id=\"node29\" class=\"node\">\n",
       "<title>19</title>\n",
       "<path fill=\"#f8dfcc\" stroke=\"black\" d=\"M958,-357.5C958,-357.5 876,-357.5 876,-357.5 870,-357.5 864,-351.5 864,-345.5 864,-345.5 864,-316.5 864,-316.5 864,-310.5 870,-304.5 876,-304.5 876,-304.5 958,-304.5 958,-304.5 964,-304.5 970,-310.5 970,-316.5 970,-316.5 970,-345.5 970,-345.5 970,-351.5 964,-357.5 958,-357.5\"/>\n",
       "<text text-anchor=\"middle\" x=\"917\" y=\"-342.3\" font-family=\"Helvetica,sans-Serif\" font-size=\"14.00\">mse = 6.558</text>\n",
       "<text text-anchor=\"middle\" x=\"917\" y=\"-327.3\" font-family=\"Helvetica,sans-Serif\" font-size=\"14.00\">samples = 105</text>\n",
       "<text text-anchor=\"middle\" x=\"917\" y=\"-312.3\" font-family=\"Helvetica,sans-Serif\" font-size=\"14.00\">value = 20.453</text>\n",
       "</g>\n",
       "<!-- 18&#45;&gt;19 -->\n",
       "<g id=\"edge28\" class=\"edge\">\n",
       "<title>18&#45;&gt;19</title>\n",
       "<path fill=\"none\" stroke=\"black\" d=\"M998.71,-400.88C984.76,-389.12 969.07,-375.89 955.2,-364.2\"/>\n",
       "<polygon fill=\"black\" stroke=\"black\" points=\"957.18,-361.29 947.27,-357.52 952.66,-366.64 957.18,-361.29\"/>\n",
       "</g>\n",
       "<!-- 20 -->\n",
       "<g id=\"node30\" class=\"node\">\n",
       "<title>20</title>\n",
       "<path fill=\"#f4c8a9\" stroke=\"black\" d=\"M1076,-357.5C1076,-357.5 1000,-357.5 1000,-357.5 994,-357.5 988,-351.5 988,-345.5 988,-345.5 988,-316.5 988,-316.5 988,-310.5 994,-304.5 1000,-304.5 1000,-304.5 1076,-304.5 1076,-304.5 1082,-304.5 1088,-310.5 1088,-316.5 1088,-316.5 1088,-345.5 1088,-345.5 1088,-351.5 1082,-357.5 1076,-357.5\"/>\n",
       "<text text-anchor=\"middle\" x=\"1038\" y=\"-342.3\" font-family=\"Helvetica,sans-Serif\" font-size=\"14.00\">mse = 11.445</text>\n",
       "<text text-anchor=\"middle\" x=\"1038\" y=\"-327.3\" font-family=\"Helvetica,sans-Serif\" font-size=\"14.00\">samples = 4</text>\n",
       "<text text-anchor=\"middle\" x=\"1038\" y=\"-312.3\" font-family=\"Helvetica,sans-Serif\" font-size=\"14.00\">value = 27.5</text>\n",
       "</g>\n",
       "<!-- 18&#45;&gt;20 -->\n",
       "<g id=\"edge29\" class=\"edge\">\n",
       "<title>18&#45;&gt;20</title>\n",
       "<path fill=\"none\" stroke=\"black\" d=\"M1038,-400.88C1038,-390.33 1038,-378.6 1038,-367.85\"/>\n",
       "<polygon fill=\"black\" stroke=\"black\" points=\"1041.5,-367.52 1038,-357.52 1034.5,-367.52 1041.5,-367.52\"/>\n",
       "</g>\n",
       "<!-- 13 -->\n",
       "<g id=\"node32\" class=\"node\">\n",
       "<title>13</title>\n",
       "<path fill=\"#fefaf7\" stroke=\"black\" d=\"M1262,-469C1262,-469 1180,-469 1180,-469 1174,-469 1168,-463 1168,-457 1168,-457 1168,-413 1168,-413 1168,-407 1174,-401 1180,-401 1180,-401 1262,-401 1262,-401 1268,-401 1274,-407 1274,-413 1274,-413 1274,-457 1274,-457 1274,-463 1268,-469 1262,-469\"/>\n",
       "<text text-anchor=\"middle\" x=\"1221\" y=\"-453.8\" font-family=\"Helvetica,sans-Serif\" font-size=\"14.00\">TAX &lt;= 551.5</text>\n",
       "<text text-anchor=\"middle\" x=\"1221\" y=\"-438.8\" font-family=\"Helvetica,sans-Serif\" font-size=\"14.00\">mse = 10.93</text>\n",
       "<text text-anchor=\"middle\" x=\"1221\" y=\"-423.8\" font-family=\"Helvetica,sans-Serif\" font-size=\"14.00\">samples = 48</text>\n",
       "<text text-anchor=\"middle\" x=\"1221\" y=\"-408.8\" font-family=\"Helvetica,sans-Serif\" font-size=\"14.00\">value = 11.779</text>\n",
       "</g>\n",
       "<!-- 8&#45;&gt;13 -->\n",
       "<g id=\"edge31\" class=\"edge\">\n",
       "<title>8&#45;&gt;13</title>\n",
       "<path fill=\"none\" stroke=\"black\" d=\"M1221,-504.88C1221,-496.78 1221,-487.98 1221,-479.47\"/>\n",
       "<polygon fill=\"black\" stroke=\"black\" points=\"1224.5,-479.3 1221,-469.3 1217.5,-479.3 1224.5,-479.3\"/>\n",
       "</g>\n",
       "<!-- 14 -->\n",
       "<g id=\"node37\" class=\"node\">\n",
       "<title>14</title>\n",
       "<path fill=\"#fbebe0\" stroke=\"black\" d=\"M1450,-469C1450,-469 1364,-469 1364,-469 1358,-469 1352,-463 1352,-457 1352,-457 1352,-413 1352,-413 1352,-407 1358,-401 1364,-401 1364,-401 1450,-401 1450,-401 1456,-401 1462,-407 1462,-413 1462,-413 1462,-457 1462,-457 1462,-463 1456,-469 1450,-469\"/>\n",
       "<text text-anchor=\"middle\" x=\"1407\" y=\"-453.8\" font-family=\"Helvetica,sans-Serif\" font-size=\"14.00\">CRIM &lt;= 0.767</text>\n",
       "<text text-anchor=\"middle\" x=\"1407\" y=\"-438.8\" font-family=\"Helvetica,sans-Serif\" font-size=\"14.00\">mse = 8.317</text>\n",
       "<text text-anchor=\"middle\" x=\"1407\" y=\"-423.8\" font-family=\"Helvetica,sans-Serif\" font-size=\"14.00\">samples = 47</text>\n",
       "<text text-anchor=\"middle\" x=\"1407\" y=\"-408.8\" font-family=\"Helvetica,sans-Serif\" font-size=\"14.00\">value = 16.419</text>\n",
       "</g>\n",
       "<!-- 8&#45;&gt;14 -->\n",
       "<g id=\"edge36\" class=\"edge\">\n",
       "<title>8&#45;&gt;14</title>\n",
       "<path fill=\"none\" stroke=\"black\" d=\"M1274.3,-508.77C1295.72,-497.03 1320.59,-483.38 1342.98,-471.11\"/>\n",
       "<polygon fill=\"black\" stroke=\"black\" points=\"1344.67,-474.18 1351.75,-466.3 1341.3,-468.04 1344.67,-474.18\"/>\n",
       "</g>\n",
       "<!-- 21 -->\n",
       "<g id=\"node33\" class=\"node\">\n",
       "<title>21</title>\n",
       "<path fill=\"#fcf0e7\" stroke=\"black\" d=\"M1200,-357.5C1200,-357.5 1118,-357.5 1118,-357.5 1112,-357.5 1106,-351.5 1106,-345.5 1106,-345.5 1106,-316.5 1106,-316.5 1106,-310.5 1112,-304.5 1118,-304.5 1118,-304.5 1200,-304.5 1200,-304.5 1206,-304.5 1212,-310.5 1212,-316.5 1212,-316.5 1212,-345.5 1212,-345.5 1212,-351.5 1206,-357.5 1200,-357.5\"/>\n",
       "<text text-anchor=\"middle\" x=\"1159\" y=\"-342.3\" font-family=\"Helvetica,sans-Serif\" font-size=\"14.00\">mse = 2.871</text>\n",
       "<text text-anchor=\"middle\" x=\"1159\" y=\"-327.3\" font-family=\"Helvetica,sans-Serif\" font-size=\"14.00\">samples = 11</text>\n",
       "<text text-anchor=\"middle\" x=\"1159\" y=\"-312.3\" font-family=\"Helvetica,sans-Serif\" font-size=\"14.00\">value = 15.082</text>\n",
       "</g>\n",
       "<!-- 13&#45;&gt;21 -->\n",
       "<g id=\"edge32\" class=\"edge\">\n",
       "<title>13&#45;&gt;21</title>\n",
       "<path fill=\"none\" stroke=\"black\" d=\"M1200.87,-400.88C1194.12,-389.78 1186.58,-377.37 1179.78,-366.18\"/>\n",
       "<polygon fill=\"black\" stroke=\"black\" points=\"1182.7,-364.25 1174.51,-357.52 1176.72,-367.88 1182.7,-364.25\"/>\n",
       "</g>\n",
       "<!-- 22 -->\n",
       "<g id=\"node34\" class=\"node\">\n",
       "<title>22</title>\n",
       "<path fill=\"#fffdfc\" stroke=\"black\" d=\"M1324,-365C1324,-365 1242,-365 1242,-365 1236,-365 1230,-359 1230,-353 1230,-353 1230,-309 1230,-309 1230,-303 1236,-297 1242,-297 1242,-297 1324,-297 1324,-297 1330,-297 1336,-303 1336,-309 1336,-309 1336,-353 1336,-353 1336,-359 1330,-365 1324,-365\"/>\n",
       "<text text-anchor=\"middle\" x=\"1283\" y=\"-349.8\" font-family=\"Helvetica,sans-Serif\" font-size=\"14.00\">NOX &lt;= 0.603</text>\n",
       "<text text-anchor=\"middle\" x=\"1283\" y=\"-334.8\" font-family=\"Helvetica,sans-Serif\" font-size=\"14.00\">mse = 9.12</text>\n",
       "<text text-anchor=\"middle\" x=\"1283\" y=\"-319.8\" font-family=\"Helvetica,sans-Serif\" font-size=\"14.00\">samples = 37</text>\n",
       "<text text-anchor=\"middle\" x=\"1283\" y=\"-304.8\" font-family=\"Helvetica,sans-Serif\" font-size=\"14.00\">value = 10.797</text>\n",
       "</g>\n",
       "<!-- 13&#45;&gt;22 -->\n",
       "<g id=\"edge33\" class=\"edge\">\n",
       "<title>13&#45;&gt;22</title>\n",
       "<path fill=\"none\" stroke=\"black\" d=\"M1241.13,-400.88C1246.33,-392.33 1251.99,-383.01 1257.43,-374.07\"/>\n",
       "<polygon fill=\"black\" stroke=\"black\" points=\"1260.56,-375.66 1262.76,-365.3 1254.57,-372.03 1260.56,-375.66\"/>\n",
       "</g>\n",
       "<!-- 27 -->\n",
       "<g id=\"node35\" class=\"node\">\n",
       "<title>27</title>\n",
       "<path fill=\"#fae9dd\" stroke=\"black\" d=\"M1262,-253.5C1262,-253.5 1180,-253.5 1180,-253.5 1174,-253.5 1168,-247.5 1168,-241.5 1168,-241.5 1168,-212.5 1168,-212.5 1168,-206.5 1174,-200.5 1180,-200.5 1180,-200.5 1262,-200.5 1262,-200.5 1268,-200.5 1274,-206.5 1274,-212.5 1274,-212.5 1274,-241.5 1274,-241.5 1274,-247.5 1268,-253.5 1262,-253.5\"/>\n",
       "<text text-anchor=\"middle\" x=\"1221\" y=\"-238.3\" font-family=\"Helvetica,sans-Serif\" font-size=\"14.00\">mse = 0.429</text>\n",
       "<text text-anchor=\"middle\" x=\"1221\" y=\"-223.3\" font-family=\"Helvetica,sans-Serif\" font-size=\"14.00\">samples = 3</text>\n",
       "<text text-anchor=\"middle\" x=\"1221\" y=\"-208.3\" font-family=\"Helvetica,sans-Serif\" font-size=\"14.00\">value = 17.133</text>\n",
       "</g>\n",
       "<!-- 22&#45;&gt;27 -->\n",
       "<g id=\"edge34\" class=\"edge\">\n",
       "<title>22&#45;&gt;27</title>\n",
       "<path fill=\"none\" stroke=\"black\" d=\"M1262.87,-296.88C1256.12,-285.78 1248.58,-273.37 1241.78,-262.18\"/>\n",
       "<polygon fill=\"black\" stroke=\"black\" points=\"1244.7,-260.25 1236.51,-253.52 1238.72,-263.88 1244.7,-260.25\"/>\n",
       "</g>\n",
       "<!-- 28 -->\n",
       "<g id=\"node36\" class=\"node\">\n",
       "<title>28</title>\n",
       "<path fill=\"#ffffff\" stroke=\"black\" d=\"M1386,-253.5C1386,-253.5 1304,-253.5 1304,-253.5 1298,-253.5 1292,-247.5 1292,-241.5 1292,-241.5 1292,-212.5 1292,-212.5 1292,-206.5 1298,-200.5 1304,-200.5 1304,-200.5 1386,-200.5 1386,-200.5 1392,-200.5 1398,-206.5 1398,-212.5 1398,-212.5 1398,-241.5 1398,-241.5 1398,-247.5 1392,-253.5 1386,-253.5\"/>\n",
       "<text text-anchor=\"middle\" x=\"1345\" y=\"-238.3\" font-family=\"Helvetica,sans-Serif\" font-size=\"14.00\">mse = 6.032</text>\n",
       "<text text-anchor=\"middle\" x=\"1345\" y=\"-223.3\" font-family=\"Helvetica,sans-Serif\" font-size=\"14.00\">samples = 34</text>\n",
       "<text text-anchor=\"middle\" x=\"1345\" y=\"-208.3\" font-family=\"Helvetica,sans-Serif\" font-size=\"14.00\">value = 10.238</text>\n",
       "</g>\n",
       "<!-- 22&#45;&gt;28 -->\n",
       "<g id=\"edge35\" class=\"edge\">\n",
       "<title>22&#45;&gt;28</title>\n",
       "<path fill=\"none\" stroke=\"black\" d=\"M1303.13,-296.88C1309.88,-285.78 1317.42,-273.37 1324.22,-262.18\"/>\n",
       "<polygon fill=\"black\" stroke=\"black\" points=\"1327.28,-263.88 1329.49,-253.52 1321.3,-260.25 1327.28,-263.88\"/>\n",
       "</g>\n",
       "<!-- 23 -->\n",
       "<g id=\"node38\" class=\"node\">\n",
       "<title>23</title>\n",
       "<path fill=\"#f9e4d4\" stroke=\"black\" d=\"M1448,-357.5C1448,-357.5 1366,-357.5 1366,-357.5 1360,-357.5 1354,-351.5 1354,-345.5 1354,-345.5 1354,-316.5 1354,-316.5 1354,-310.5 1360,-304.5 1366,-304.5 1366,-304.5 1448,-304.5 1448,-304.5 1454,-304.5 1460,-310.5 1460,-316.5 1460,-316.5 1460,-345.5 1460,-345.5 1460,-351.5 1454,-357.5 1448,-357.5\"/>\n",
       "<text text-anchor=\"middle\" x=\"1407\" y=\"-342.3\" font-family=\"Helvetica,sans-Serif\" font-size=\"14.00\">mse = 6.193</text>\n",
       "<text text-anchor=\"middle\" x=\"1407\" y=\"-327.3\" font-family=\"Helvetica,sans-Serif\" font-size=\"14.00\">samples = 16</text>\n",
       "<text text-anchor=\"middle\" x=\"1407\" y=\"-312.3\" font-family=\"Helvetica,sans-Serif\" font-size=\"14.00\">value = 18.831</text>\n",
       "</g>\n",
       "<!-- 14&#45;&gt;23 -->\n",
       "<g id=\"edge37\" class=\"edge\">\n",
       "<title>14&#45;&gt;23</title>\n",
       "<path fill=\"none\" stroke=\"black\" d=\"M1407,-400.88C1407,-390.33 1407,-378.6 1407,-367.85\"/>\n",
       "<polygon fill=\"black\" stroke=\"black\" points=\"1410.5,-367.52 1407,-357.52 1403.5,-367.52 1410.5,-367.52\"/>\n",
       "</g>\n",
       "<!-- 24 -->\n",
       "<g id=\"node39\" class=\"node\">\n",
       "<title>24</title>\n",
       "<path fill=\"#fcefe6\" stroke=\"black\" d=\"M1572,-357.5C1572,-357.5 1490,-357.5 1490,-357.5 1484,-357.5 1478,-351.5 1478,-345.5 1478,-345.5 1478,-316.5 1478,-316.5 1478,-310.5 1484,-304.5 1490,-304.5 1490,-304.5 1572,-304.5 1572,-304.5 1578,-304.5 1584,-310.5 1584,-316.5 1584,-316.5 1584,-345.5 1584,-345.5 1584,-351.5 1578,-357.5 1572,-357.5\"/>\n",
       "<text text-anchor=\"middle\" x=\"1531\" y=\"-342.3\" font-family=\"Helvetica,sans-Serif\" font-size=\"14.00\">mse = 4.861</text>\n",
       "<text text-anchor=\"middle\" x=\"1531\" y=\"-327.3\" font-family=\"Helvetica,sans-Serif\" font-size=\"14.00\">samples = 31</text>\n",
       "<text text-anchor=\"middle\" x=\"1531\" y=\"-312.3\" font-family=\"Helvetica,sans-Serif\" font-size=\"14.00\">value = 15.174</text>\n",
       "</g>\n",
       "<!-- 14&#45;&gt;24 -->\n",
       "<g id=\"edge38\" class=\"edge\">\n",
       "<title>14&#45;&gt;24</title>\n",
       "<path fill=\"none\" stroke=\"black\" d=\"M1447.26,-400.88C1461.7,-389.01 1477.94,-375.65 1492.25,-363.88\"/>\n",
       "<polygon fill=\"black\" stroke=\"black\" points=\"1494.48,-366.58 1499.98,-357.52 1490.03,-361.17 1494.48,-366.58\"/>\n",
       "</g>\n",
       "</g>\n",
       "</svg>\n"
      ],
      "text/plain": [
       "<graphviz.files.Source at 0x7fac722e7190>"
      ]
     },
     "execution_count": 18,
     "metadata": {},
     "output_type": "execute_result"
    },
    {
     "data": {
      "text/plain": [
       "<Figure size 1440x1440 with 0 Axes>"
      ]
     },
     "metadata": {},
     "output_type": "display_data"
    }
   ],
   "source": [
    "plt.figure(figsize = (20,20))\n",
    "dot_data = tree.export_graphviz(model, out_file=None, \n",
    "                                feature_names=names,  \n",
    "                                class_names=boston_dataset.target,\n",
    "                                filled=True, rounded= True)\n",
    "\n",
    "# Draw graph\n",
    "graph = graphviz.Source(dot_data, format=\"png\") \n",
    "graph"
   ]
  },
  {
   "cell_type": "markdown",
   "metadata": {
    "papermill": {
     "duration": 0.091216,
     "end_time": "2021-03-20T15:18:26.144089",
     "exception": false,
     "start_time": "2021-03-20T15:18:26.052873",
     "status": "completed"
    },
    "tags": []
   },
   "source": [
    "We'll learn how to custom paint your graph from the default settings (coming soon)"
   ]
  },
  {
   "cell_type": "code",
   "execution_count": null,
   "metadata": {
    "papermill": {
     "duration": 0.089519,
     "end_time": "2021-03-20T15:18:26.323805",
     "exception": false,
     "start_time": "2021-03-20T15:18:26.234286",
     "status": "completed"
    },
    "tags": []
   },
   "outputs": [],
   "source": []
  },
  {
   "cell_type": "code",
   "execution_count": 19,
   "metadata": {
    "execution": {
     "iopub.execute_input": "2021-03-20T15:18:26.509701Z",
     "iopub.status.busy": "2021-03-20T15:18:26.508848Z",
     "iopub.status.idle": "2021-03-20T15:18:26.513195Z",
     "shell.execute_reply": "2021-03-20T15:18:26.513725Z"
    },
    "papermill": {
     "duration": 0.099935,
     "end_time": "2021-03-20T15:18:26.513901",
     "exception": false,
     "start_time": "2021-03-20T15:18:26.413966",
     "status": "completed"
    },
    "tags": []
   },
   "outputs": [
    {
     "data": {
      "text/plain": [
       "\"import pydotplus\\ngraph = pydotplus.graph_from_dot_data(dot_data)\\nnodes = graph.get_node_list()\\n\\nfor node in nodes:\\n    if node.get_label():\\n        print(node.get_label())\\n        node.set_fillcolor('yellow')\\n        \\n\\ngraph.write_png('colored_tree.png')\\n\""
      ]
     },
     "execution_count": 19,
     "metadata": {},
     "output_type": "execute_result"
    }
   ],
   "source": [
    "\"\"\"import pydotplus\n",
    "graph = pydotplus.graph_from_dot_data(dot_data)\n",
    "nodes = graph.get_node_list()\n",
    "\n",
    "for node in nodes:\n",
    "    if node.get_label():\n",
    "        print(node.get_label())\n",
    "        node.set_fillcolor('yellow')\n",
    "        \n",
    "\n",
    "graph.write_png('colored_tree.png')\n",
    "\"\"\""
   ]
  },
  {
   "cell_type": "code",
   "execution_count": null,
   "metadata": {
    "papermill": {
     "duration": 0.091362,
     "end_time": "2021-03-20T15:18:26.698498",
     "exception": false,
     "start_time": "2021-03-20T15:18:26.607136",
     "status": "completed"
    },
    "tags": []
   },
   "outputs": [],
   "source": []
  },
  {
   "cell_type": "markdown",
   "metadata": {
    "papermill": {
     "duration": 0.091056,
     "end_time": "2021-03-20T15:18:26.881514",
     "exception": false,
     "start_time": "2021-03-20T15:18:26.790458",
     "status": "completed"
    },
    "tags": []
   },
   "source": [
    "### 2. Regressions"
   ]
  },
  {
   "cell_type": "markdown",
   "metadata": {
    "papermill": {
     "duration": 0.089949,
     "end_time": "2021-03-20T15:18:27.063301",
     "exception": false,
     "start_time": "2021-03-20T15:18:26.973352",
     "status": "completed"
    },
    "tags": []
   },
   "source": [
    "Useful Resources -> <br>\n",
    "\n",
    "* https://www.maths.usyd.edu.au/u/UG/SM/STAT3022/r/current/Lecture/lecture03_2020JC.html#1\n",
    "* https://towardsdatascience.com/maximum-likelihood-estimation-explained-normal-distribution-6207b322e47f#:~:text=%E2%80%9CA%20method%20of%20estimating%20the,observed%20data%20is%20most%20probable.%E2%80%9D&text=By%20assuming%20normality%2C%20we%20simply,the%20popular%20Gaussian%20bell%20curve.\n",
    "* https://online.stat.psu.edu/stat462/node/207/\n",
    "* https://psychscenehub.com/psychpedia/odds-ratio-2/\n",
    "* http://statkat.com/stat-tests/logistic-regression.php#:~:text=Logistic%20regression%20analysis%20tests%20the,%3D%CE%B2K%3D0"
   ]
  },
  {
   "cell_type": "markdown",
   "metadata": {
    "papermill": {
     "duration": 0.089768,
     "end_time": "2021-03-20T15:18:27.243860",
     "exception": false,
     "start_time": "2021-03-20T15:18:27.154092",
     "status": "completed"
    },
    "tags": []
   },
   "source": [
    "1. Linear Regression Analysis"
   ]
  },
  {
   "cell_type": "code",
   "execution_count": null,
   "metadata": {
    "papermill": {
     "duration": 0.089581,
     "end_time": "2021-03-20T15:18:27.423517",
     "exception": false,
     "start_time": "2021-03-20T15:18:27.333936",
     "status": "completed"
    },
    "tags": []
   },
   "outputs": [],
   "source": []
  },
  {
   "cell_type": "markdown",
   "metadata": {
    "papermill": {
     "duration": 0.089538,
     "end_time": "2021-03-20T15:18:27.604387",
     "exception": false,
     "start_time": "2021-03-20T15:18:27.514849",
     "status": "completed"
    },
    "tags": []
   },
   "source": [
    "2. Multiple Regression Analysis"
   ]
  },
  {
   "cell_type": "code",
   "execution_count": null,
   "metadata": {
    "papermill": {
     "duration": 0.089618,
     "end_time": "2021-03-20T15:18:27.783952",
     "exception": false,
     "start_time": "2021-03-20T15:18:27.694334",
     "status": "completed"
    },
    "tags": []
   },
   "outputs": [],
   "source": []
  },
  {
   "cell_type": "markdown",
   "metadata": {
    "papermill": {
     "duration": 0.089604,
     "end_time": "2021-03-20T15:18:27.964304",
     "exception": false,
     "start_time": "2021-03-20T15:18:27.874700",
     "status": "completed"
    },
    "tags": []
   },
   "source": [
    "### 3. Chi Square Test"
   ]
  },
  {
   "cell_type": "markdown",
   "metadata": {
    "papermill": {
     "duration": 0.091925,
     "end_time": "2021-03-20T15:18:28.147557",
     "exception": false,
     "start_time": "2021-03-20T15:18:28.055632",
     "status": "completed"
    },
    "tags": []
   },
   "source": [
    "background -> "
   ]
  },
  {
   "cell_type": "markdown",
   "metadata": {
    "papermill": {
     "duration": 0.089419,
     "end_time": "2021-03-20T15:18:28.326796",
     "exception": false,
     "start_time": "2021-03-20T15:18:28.237377",
     "status": "completed"
    },
    "tags": []
   },
   "source": [
    "degrees of freedom for the chi-squared distribution -> (rows -1) * (cols -1)"
   ]
  },
  {
   "cell_type": "markdown",
   "metadata": {
    "papermill": {
     "duration": 0.089117,
     "end_time": "2021-03-20T15:18:28.505699",
     "exception": false,
     "start_time": "2021-03-20T15:18:28.416582",
     "status": "completed"
    },
    "tags": []
   },
   "source": [
    "a. Understanding Contigency Tables (also known as crosstab)"
   ]
  },
  {
   "cell_type": "markdown",
   "metadata": {
    "papermill": {
     "duration": 0.0897,
     "end_time": "2021-03-20T15:18:28.685184",
     "exception": false,
     "start_time": "2021-03-20T15:18:28.595484",
     "status": "completed"
    },
    "tags": []
   },
   "source": [
    "Contigency tables are the pivot tables obtained by utilizing the categorical variable. The contigency here is whether a variable affects the values of the caegorical variable. <br>\n"
   ]
  },
  {
   "cell_type": "code",
   "execution_count": null,
   "metadata": {
    "papermill": {
     "duration": 0.089297,
     "end_time": "2021-03-20T15:18:28.864225",
     "exception": false,
     "start_time": "2021-03-20T15:18:28.774928",
     "status": "completed"
    },
    "tags": []
   },
   "outputs": [],
   "source": []
  },
  {
   "cell_type": "markdown",
   "metadata": {
    "papermill": {
     "duration": 0.089342,
     "end_time": "2021-03-20T15:18:29.044160",
     "exception": false,
     "start_time": "2021-03-20T15:18:28.954818",
     "status": "completed"
    },
    "tags": []
   },
   "source": [
    "b. Performing Chi-Square Tests"
   ]
  },
  {
   "cell_type": "code",
   "execution_count": null,
   "metadata": {
    "papermill": {
     "duration": 0.089633,
     "end_time": "2021-03-20T15:18:29.224821",
     "exception": false,
     "start_time": "2021-03-20T15:18:29.135188",
     "status": "completed"
    },
    "tags": []
   },
   "outputs": [],
   "source": []
  },
  {
   "cell_type": "markdown",
   "metadata": {
    "papermill": {
     "duration": 0.089314,
     "end_time": "2021-03-20T15:18:29.404052",
     "exception": false,
     "start_time": "2021-03-20T15:18:29.314738",
     "status": "completed"
    },
    "tags": []
   },
   "source": [
    "c. Chi-Square Tests for Feature Selection"
   ]
  },
  {
   "cell_type": "markdown",
   "metadata": {
    "papermill": {
     "duration": 0.089255,
     "end_time": "2021-03-20T15:18:29.583283",
     "exception": false,
     "start_time": "2021-03-20T15:18:29.494028",
     "status": "completed"
    },
    "tags": []
   },
   "source": [
    "![](https://media.geeksforgeeks.org/wp-content/uploads/Capture-214.png)"
   ]
  },
  {
   "cell_type": "markdown",
   "metadata": {
    "papermill": {
     "duration": 0.088973,
     "end_time": "2021-03-20T15:18:29.762361",
     "exception": false,
     "start_time": "2021-03-20T15:18:29.673388",
     "status": "completed"
    },
    "tags": []
   },
   "source": [
    "#### Note:- Used only for Categorical Features."
   ]
  },
  {
   "cell_type": "markdown",
   "metadata": {
    "papermill": {
     "duration": 0.092672,
     "end_time": "2021-03-20T15:18:29.949394",
     "exception": false,
     "start_time": "2021-03-20T15:18:29.856722",
     "status": "completed"
    },
    "tags": []
   },
   "source": [
    "Dataset used -> https://www.kaggle.com/c/cat-in-the-dat"
   ]
  },
  {
   "cell_type": "code",
   "execution_count": 20,
   "metadata": {
    "execution": {
     "iopub.execute_input": "2021-03-20T15:18:30.135483Z",
     "iopub.status.busy": "2021-03-20T15:18:30.134740Z",
     "iopub.status.idle": "2021-03-20T15:18:31.660907Z",
     "shell.execute_reply": "2021-03-20T15:18:31.660111Z"
    },
    "papermill": {
     "duration": 1.621205,
     "end_time": "2021-03-20T15:18:31.661056",
     "exception": false,
     "start_time": "2021-03-20T15:18:30.039851",
     "status": "completed"
    },
    "tags": []
   },
   "outputs": [],
   "source": [
    "from sklearn.feature_selection import SelectKBest \n",
    "from sklearn.feature_selection import chi2 \n",
    "\n",
    "\n",
    "data = pd.read_csv('../input/cat-in-the-dat/train.csv')"
   ]
  },
  {
   "cell_type": "code",
   "execution_count": 21,
   "metadata": {
    "execution": {
     "iopub.execute_input": "2021-03-20T15:18:31.873059Z",
     "iopub.status.busy": "2021-03-20T15:18:31.872381Z",
     "iopub.status.idle": "2021-03-20T15:18:31.877296Z",
     "shell.execute_reply": "2021-03-20T15:18:31.876693Z"
    },
    "papermill": {
     "duration": 0.125593,
     "end_time": "2021-03-20T15:18:31.877480",
     "exception": false,
     "start_time": "2021-03-20T15:18:31.751887",
     "status": "completed"
    },
    "tags": []
   },
   "outputs": [
    {
     "data": {
      "text/html": [
       "<div>\n",
       "<style scoped>\n",
       "    .dataframe tbody tr th:only-of-type {\n",
       "        vertical-align: middle;\n",
       "    }\n",
       "\n",
       "    .dataframe tbody tr th {\n",
       "        vertical-align: top;\n",
       "    }\n",
       "\n",
       "    .dataframe thead th {\n",
       "        text-align: right;\n",
       "    }\n",
       "</style>\n",
       "<table border=\"1\" class=\"dataframe\">\n",
       "  <thead>\n",
       "    <tr style=\"text-align: right;\">\n",
       "      <th></th>\n",
       "      <th>id</th>\n",
       "      <th>bin_0</th>\n",
       "      <th>bin_1</th>\n",
       "      <th>bin_2</th>\n",
       "      <th>bin_3</th>\n",
       "      <th>bin_4</th>\n",
       "      <th>nom_0</th>\n",
       "      <th>nom_1</th>\n",
       "      <th>nom_2</th>\n",
       "      <th>nom_3</th>\n",
       "      <th>...</th>\n",
       "      <th>nom_9</th>\n",
       "      <th>ord_0</th>\n",
       "      <th>ord_1</th>\n",
       "      <th>ord_2</th>\n",
       "      <th>ord_3</th>\n",
       "      <th>ord_4</th>\n",
       "      <th>ord_5</th>\n",
       "      <th>day</th>\n",
       "      <th>month</th>\n",
       "      <th>target</th>\n",
       "    </tr>\n",
       "  </thead>\n",
       "  <tbody>\n",
       "    <tr>\n",
       "      <th>0</th>\n",
       "      <td>0</td>\n",
       "      <td>0</td>\n",
       "      <td>0</td>\n",
       "      <td>0</td>\n",
       "      <td>T</td>\n",
       "      <td>Y</td>\n",
       "      <td>Green</td>\n",
       "      <td>Triangle</td>\n",
       "      <td>Snake</td>\n",
       "      <td>Finland</td>\n",
       "      <td>...</td>\n",
       "      <td>2f4cb3d51</td>\n",
       "      <td>2</td>\n",
       "      <td>Grandmaster</td>\n",
       "      <td>Cold</td>\n",
       "      <td>h</td>\n",
       "      <td>D</td>\n",
       "      <td>kr</td>\n",
       "      <td>2</td>\n",
       "      <td>2</td>\n",
       "      <td>0</td>\n",
       "    </tr>\n",
       "    <tr>\n",
       "      <th>1</th>\n",
       "      <td>1</td>\n",
       "      <td>0</td>\n",
       "      <td>1</td>\n",
       "      <td>0</td>\n",
       "      <td>T</td>\n",
       "      <td>Y</td>\n",
       "      <td>Green</td>\n",
       "      <td>Trapezoid</td>\n",
       "      <td>Hamster</td>\n",
       "      <td>Russia</td>\n",
       "      <td>...</td>\n",
       "      <td>f83c56c21</td>\n",
       "      <td>1</td>\n",
       "      <td>Grandmaster</td>\n",
       "      <td>Hot</td>\n",
       "      <td>a</td>\n",
       "      <td>A</td>\n",
       "      <td>bF</td>\n",
       "      <td>7</td>\n",
       "      <td>8</td>\n",
       "      <td>0</td>\n",
       "    </tr>\n",
       "    <tr>\n",
       "      <th>2</th>\n",
       "      <td>2</td>\n",
       "      <td>0</td>\n",
       "      <td>0</td>\n",
       "      <td>0</td>\n",
       "      <td>F</td>\n",
       "      <td>Y</td>\n",
       "      <td>Blue</td>\n",
       "      <td>Trapezoid</td>\n",
       "      <td>Lion</td>\n",
       "      <td>Russia</td>\n",
       "      <td>...</td>\n",
       "      <td>ae6800dd0</td>\n",
       "      <td>1</td>\n",
       "      <td>Expert</td>\n",
       "      <td>Lava Hot</td>\n",
       "      <td>h</td>\n",
       "      <td>R</td>\n",
       "      <td>Jc</td>\n",
       "      <td>7</td>\n",
       "      <td>2</td>\n",
       "      <td>0</td>\n",
       "    </tr>\n",
       "    <tr>\n",
       "      <th>3</th>\n",
       "      <td>3</td>\n",
       "      <td>0</td>\n",
       "      <td>1</td>\n",
       "      <td>0</td>\n",
       "      <td>F</td>\n",
       "      <td>Y</td>\n",
       "      <td>Red</td>\n",
       "      <td>Trapezoid</td>\n",
       "      <td>Snake</td>\n",
       "      <td>Canada</td>\n",
       "      <td>...</td>\n",
       "      <td>8270f0d71</td>\n",
       "      <td>1</td>\n",
       "      <td>Grandmaster</td>\n",
       "      <td>Boiling Hot</td>\n",
       "      <td>i</td>\n",
       "      <td>D</td>\n",
       "      <td>kW</td>\n",
       "      <td>2</td>\n",
       "      <td>1</td>\n",
       "      <td>1</td>\n",
       "    </tr>\n",
       "    <tr>\n",
       "      <th>4</th>\n",
       "      <td>4</td>\n",
       "      <td>0</td>\n",
       "      <td>0</td>\n",
       "      <td>0</td>\n",
       "      <td>F</td>\n",
       "      <td>N</td>\n",
       "      <td>Red</td>\n",
       "      <td>Trapezoid</td>\n",
       "      <td>Lion</td>\n",
       "      <td>Canada</td>\n",
       "      <td>...</td>\n",
       "      <td>b164b72a7</td>\n",
       "      <td>1</td>\n",
       "      <td>Grandmaster</td>\n",
       "      <td>Freezing</td>\n",
       "      <td>a</td>\n",
       "      <td>R</td>\n",
       "      <td>qP</td>\n",
       "      <td>7</td>\n",
       "      <td>8</td>\n",
       "      <td>0</td>\n",
       "    </tr>\n",
       "  </tbody>\n",
       "</table>\n",
       "<p>5 rows × 25 columns</p>\n",
       "</div>"
      ],
      "text/plain": [
       "   id  bin_0  bin_1  bin_2 bin_3 bin_4  nom_0      nom_1    nom_2    nom_3  \\\n",
       "0   0      0      0      0     T     Y  Green   Triangle    Snake  Finland   \n",
       "1   1      0      1      0     T     Y  Green  Trapezoid  Hamster   Russia   \n",
       "2   2      0      0      0     F     Y   Blue  Trapezoid     Lion   Russia   \n",
       "3   3      0      1      0     F     Y    Red  Trapezoid    Snake   Canada   \n",
       "4   4      0      0      0     F     N    Red  Trapezoid     Lion   Canada   \n",
       "\n",
       "   ...      nom_9 ord_0        ord_1        ord_2 ord_3 ord_4  ord_5 day  \\\n",
       "0  ...  2f4cb3d51     2  Grandmaster         Cold     h     D     kr   2   \n",
       "1  ...  f83c56c21     1  Grandmaster          Hot     a     A     bF   7   \n",
       "2  ...  ae6800dd0     1       Expert     Lava Hot     h     R     Jc   7   \n",
       "3  ...  8270f0d71     1  Grandmaster  Boiling Hot     i     D     kW   2   \n",
       "4  ...  b164b72a7     1  Grandmaster     Freezing     a     R     qP   7   \n",
       "\n",
       "  month target  \n",
       "0     2      0  \n",
       "1     8      0  \n",
       "2     2      0  \n",
       "3     1      1  \n",
       "4     8      0  \n",
       "\n",
       "[5 rows x 25 columns]"
      ]
     },
     "execution_count": 21,
     "metadata": {},
     "output_type": "execute_result"
    }
   ],
   "source": [
    "data.head()"
   ]
  },
  {
   "cell_type": "code",
   "execution_count": 22,
   "metadata": {
    "execution": {
     "iopub.execute_input": "2021-03-20T15:18:32.113376Z",
     "iopub.status.busy": "2021-03-20T15:18:32.112636Z",
     "iopub.status.idle": "2021-03-20T15:18:32.116762Z",
     "shell.execute_reply": "2021-03-20T15:18:32.116106Z"
    },
    "papermill": {
     "duration": 0.145862,
     "end_time": "2021-03-20T15:18:32.116900",
     "exception": false,
     "start_time": "2021-03-20T15:18:31.971038",
     "status": "completed"
    },
    "tags": []
   },
   "outputs": [],
   "source": [
    "data.drop(['id'], axis = 1, inplace = True)"
   ]
  },
  {
   "cell_type": "code",
   "execution_count": 23,
   "metadata": {
    "execution": {
     "iopub.execute_input": "2021-03-20T15:18:32.306953Z",
     "iopub.status.busy": "2021-03-20T15:18:32.306295Z",
     "iopub.status.idle": "2021-03-20T15:18:32.309992Z",
     "shell.execute_reply": "2021-03-20T15:18:32.309416Z"
    },
    "papermill": {
     "duration": 0.101765,
     "end_time": "2021-03-20T15:18:32.310155",
     "exception": false,
     "start_time": "2021-03-20T15:18:32.208390",
     "status": "completed"
    },
    "tags": []
   },
   "outputs": [
    {
     "data": {
      "text/plain": [
       "bin_0      int64\n",
       "bin_1      int64\n",
       "bin_2      int64\n",
       "bin_3     object\n",
       "bin_4     object\n",
       "nom_0     object\n",
       "nom_1     object\n",
       "nom_2     object\n",
       "nom_3     object\n",
       "nom_4     object\n",
       "nom_5     object\n",
       "nom_6     object\n",
       "nom_7     object\n",
       "nom_8     object\n",
       "nom_9     object\n",
       "ord_0      int64\n",
       "ord_1     object\n",
       "ord_2     object\n",
       "ord_3     object\n",
       "ord_4     object\n",
       "ord_5     object\n",
       "day        int64\n",
       "month      int64\n",
       "target     int64\n",
       "dtype: object"
      ]
     },
     "execution_count": 23,
     "metadata": {},
     "output_type": "execute_result"
    }
   ],
   "source": [
    "data.dtypes"
   ]
  },
  {
   "cell_type": "code",
   "execution_count": 24,
   "metadata": {
    "execution": {
     "iopub.execute_input": "2021-03-20T15:18:32.500111Z",
     "iopub.status.busy": "2021-03-20T15:18:32.499008Z",
     "iopub.status.idle": "2021-03-20T15:18:33.522440Z",
     "shell.execute_reply": "2021-03-20T15:18:33.521740Z"
    },
    "papermill": {
     "duration": 1.120548,
     "end_time": "2021-03-20T15:18:33.522602",
     "exception": false,
     "start_time": "2021-03-20T15:18:32.402054",
     "status": "completed"
    },
    "tags": []
   },
   "outputs": [
    {
     "name": "stdout",
     "output_type": "stream",
     "text": [
      "bin_0 2\n",
      "bin_1 2\n",
      "bin_2 2\n",
      "bin_3 2\n",
      "bin_4 2\n",
      "nom_0 3\n",
      "nom_1 6\n",
      "nom_2 6\n",
      "nom_3 6\n",
      "nom_4 4\n",
      "nom_5 222\n",
      "nom_6 522\n",
      "nom_7 1220\n",
      "nom_8 2215\n",
      "nom_9 11981\n",
      "ord_0 3\n",
      "ord_1 5\n",
      "ord_2 6\n",
      "ord_3 15\n",
      "ord_4 26\n",
      "ord_5 192\n",
      "day 7\n",
      "month 12\n",
      "target 2\n"
     ]
    }
   ],
   "source": [
    "for col in data.columns:\n",
    "    print(col, data[col].nunique())"
   ]
  },
  {
   "cell_type": "code",
   "execution_count": 25,
   "metadata": {
    "execution": {
     "iopub.execute_input": "2021-03-20T15:18:33.722194Z",
     "iopub.status.busy": "2021-03-20T15:18:33.721488Z",
     "iopub.status.idle": "2021-03-20T15:18:35.031350Z",
     "shell.execute_reply": "2021-03-20T15:18:35.030768Z"
    },
    "papermill": {
     "duration": 1.4131,
     "end_time": "2021-03-20T15:18:35.031504",
     "exception": false,
     "start_time": "2021-03-20T15:18:33.618404",
     "status": "completed"
    },
    "tags": []
   },
   "outputs": [
    {
     "name": "stdout",
     "output_type": "stream",
     "text": [
      "bin_0 \n",
      "\n",
      " 0    261749\n",
      "1     38251\n",
      "Name: bin_0, dtype: int64\n",
      "----------\n",
      "bin_1 \n",
      "\n",
      " 0    223018\n",
      "1     76982\n",
      "Name: bin_1, dtype: int64\n",
      "----------\n",
      "bin_2 \n",
      "\n",
      " 0    185033\n",
      "1    114967\n",
      "Name: bin_2, dtype: int64\n",
      "----------\n",
      "bin_3 \n",
      "\n",
      " T    153535\n",
      "F    146465\n",
      "Name: bin_3, dtype: int64\n",
      "----------\n",
      "bin_4 \n",
      "\n",
      " Y    191633\n",
      "N    108367\n",
      "Name: bin_4, dtype: int64\n",
      "----------\n",
      "nom_0 \n",
      "\n",
      " Green    127341\n",
      "Blue      96166\n",
      "Red       76493\n",
      "Name: nom_0, dtype: int64\n",
      "----------\n",
      "nom_1 \n",
      "\n",
      " Trapezoid    101181\n",
      "Square        49597\n",
      "Star          45904\n",
      "Circle        37320\n",
      "Polygon       36143\n",
      "Triangle      29855\n",
      "Name: nom_1, dtype: int64\n",
      "----------\n",
      "nom_2 \n",
      "\n",
      " Lion       101295\n",
      "Cat         49659\n",
      "Snake       45979\n",
      "Dog         37444\n",
      "Axolotl     36136\n",
      "Hamster     29487\n",
      "Name: nom_2, dtype: int64\n",
      "----------\n",
      "nom_3 \n",
      "\n",
      " Russia        101123\n",
      "Canada         49951\n",
      "China          46044\n",
      "Finland        36942\n",
      "Costa Rica     35988\n",
      "India          29952\n",
      "Name: nom_3, dtype: int64\n",
      "----------\n",
      "nom_4 \n",
      "\n",
      " Oboe        92293\n",
      "Piano       84517\n",
      "Bassoon     68448\n",
      "Theremin    54742\n",
      "Name: nom_4, dtype: int64\n",
      "----------\n",
      "nom_5 \n",
      "\n",
      " f7821e391    2801\n",
      "06eeaf0aa    2750\n",
      "472efea17    2729\n",
      "20b10a832    2725\n",
      "b97f51ac4    2717\n",
      "             ... \n",
      "91c80026f      64\n",
      "88f104c00      59\n",
      "f802a9849      46\n",
      "1fd0233cd      41\n",
      "f710fca39      26\n",
      "Name: nom_5, Length: 222, dtype: int64\n",
      "----------\n",
      "nom_6 \n",
      "\n",
      " d173ac7ca    1218\n",
      "2ed5a94b0    1210\n",
      "c9eedfbc2    1193\n",
      "50d7ad46a    1175\n",
      "0922e3cb8    1169\n",
      "             ... \n",
      "26bf5ddd9      16\n",
      "28630a5c8      12\n",
      "8367b78fc      11\n",
      "e97824431       8\n",
      "4dcab4fc8       5\n",
      "Name: nom_6, Length: 522, dtype: int64\n",
      "----------\n",
      "nom_7 \n",
      "\n",
      " 3a114adea    534\n",
      "3b679e531    518\n",
      "6f3940b72    518\n",
      "fcf2b8dce    517\n",
      "fe27cc23d    515\n",
      "            ... \n",
      "bc05442e1      3\n",
      "446df0c98      3\n",
      "f718e6e9c      3\n",
      "74a1b69b1      2\n",
      "3460d7c4b      1\n",
      "Name: nom_7, Length: 1220, dtype: int64\n",
      "----------\n",
      "nom_8 \n",
      "\n",
      " c720f85ca    299\n",
      "9ff6898e5    294\n",
      "3cec7c3f5    292\n",
      "d69adef8b    288\n",
      "fdcd0dada    287\n",
      "            ... \n",
      "dc9f5c70f      2\n",
      "5361d3b53      2\n",
      "40b8df5b6      1\n",
      "4b30750de      1\n",
      "83a266f13      1\n",
      "Name: nom_8, Length: 2215, dtype: int64\n",
      "----------\n",
      "nom_9 \n",
      "\n",
      " 163cc60fa    72\n",
      "21578b358    70\n",
      "412859a59    67\n",
      "e8be2364b    67\n",
      "f12f038cc    66\n",
      "             ..\n",
      "31d4b6b54     1\n",
      "cee1a4bb4     1\n",
      "dd31bfa46     1\n",
      "d7a7311ad     1\n",
      "48ef9057c     1\n",
      "Name: nom_9, Length: 11981, dtype: int64\n",
      "----------\n",
      "ord_0 \n",
      "\n",
      " 1    194846\n",
      "2     66438\n",
      "3     38716\n",
      "Name: ord_0, dtype: int64\n",
      "----------\n",
      "ord_1 \n",
      "\n",
      " Novice         126583\n",
      "Grandmaster     77428\n",
      "Contributor     42871\n",
      "Master          28053\n",
      "Expert          25065\n",
      "Name: ord_1, dtype: int64\n",
      "----------\n",
      "ord_2 \n",
      "\n",
      " Freezing       99816\n",
      "Lava Hot       63908\n",
      "Boiling Hot    60627\n",
      "Cold           33768\n",
      "Hot            22227\n",
      "Warm           19654\n",
      "Name: ord_2, dtype: int64\n",
      "----------\n",
      "ord_3 \n",
      "\n",
      " g    36405\n",
      "l    36124\n",
      "a    35276\n",
      "k    28619\n",
      "i    28048\n",
      "h    24740\n",
      "j    24647\n",
      "f    22384\n",
      "e    21331\n",
      "b    11916\n",
      "o    11320\n",
      "d     7904\n",
      "c     6944\n",
      "n     4014\n",
      "m      328\n",
      "Name: ord_3, dtype: int64\n",
      "----------\n",
      "ord_4 \n",
      "\n",
      " L    19066\n",
      "G    18899\n",
      "S    18875\n",
      "A    18258\n",
      "R    16927\n",
      "Q    15925\n",
      "K    14698\n",
      "I    14644\n",
      "Z    14232\n",
      "T    14220\n",
      "V    14143\n",
      "J    12878\n",
      "P    12839\n",
      "U    12775\n",
      "H    12743\n",
      "F    11717\n",
      "E    11303\n",
      "W     9197\n",
      "Y     8490\n",
      "X     6292\n",
      "B     6169\n",
      "O     5836\n",
      "D     3974\n",
      "C     3575\n",
      "N     2166\n",
      "M      159\n",
      "Name: ord_4, dtype: int64\n",
      "----------\n",
      "ord_5 \n",
      "\n",
      " od    5019\n",
      "fO    3435\n",
      "Zq    2926\n",
      "sD    2880\n",
      "qP    2854\n",
      "      ... \n",
      "eg      47\n",
      "tv      40\n",
      "kU      37\n",
      "vq      35\n",
      "Cl      28\n",
      "Name: ord_5, Length: 192, dtype: int64\n",
      "----------\n",
      "day \n",
      "\n",
      " 2    74315\n",
      "1    67144\n",
      "3    66357\n",
      "4    40434\n",
      "7    33051\n",
      "5    17787\n",
      "6      912\n",
      "Name: day, dtype: int64\n",
      "----------\n",
      "month \n",
      "\n",
      " 2     45305\n",
      "3     40867\n",
      "1     40848\n",
      "11    25732\n",
      "12    25204\n",
      "4     24920\n",
      "9     24857\n",
      "10    22112\n",
      "7     19867\n",
      "8     18730\n",
      "5     10995\n",
      "6       563\n",
      "Name: month, dtype: int64\n",
      "----------\n",
      "target \n",
      "\n",
      " 0    208236\n",
      "1     91764\n",
      "Name: target, dtype: int64\n",
      "----------\n"
     ]
    }
   ],
   "source": [
    "for col in data.columns:\n",
    "    print(col, '\\n\\n',data[col].value_counts())\n",
    "    print('-'*10)"
   ]
  },
  {
   "cell_type": "markdown",
   "metadata": {
    "papermill": {
     "duration": 0.095218,
     "end_time": "2021-03-20T15:18:35.224421",
     "exception": false,
     "start_time": "2021-03-20T15:18:35.129203",
     "status": "completed"
    },
    "tags": []
   },
   "source": [
    "bin_3, bin_4 has T/F values. <br>\n",
    "nom_0, nom_1, nom_2, nom_3, nom_4 have 3-6 unique values. <br>\n",
    "nom_5, nom_6, nom_7, nom_8, nom_9 have many unique values <br>\n",
    "THen comes the ordinal variables"
   ]
  },
  {
   "cell_type": "code",
   "execution_count": null,
   "metadata": {
    "papermill": {
     "duration": 0.096127,
     "end_time": "2021-03-20T15:18:35.416341",
     "exception": false,
     "start_time": "2021-03-20T15:18:35.320214",
     "status": "completed"
    },
    "tags": []
   },
   "outputs": [],
   "source": []
  },
  {
   "cell_type": "code",
   "execution_count": 26,
   "metadata": {
    "execution": {
     "iopub.execute_input": "2021-03-20T15:18:35.639081Z",
     "iopub.status.busy": "2021-03-20T15:18:35.638447Z",
     "iopub.status.idle": "2021-03-20T15:18:35.801180Z",
     "shell.execute_reply": "2021-03-20T15:18:35.800401Z"
    },
    "papermill": {
     "duration": 0.289538,
     "end_time": "2021-03-20T15:18:35.801336",
     "exception": false,
     "start_time": "2021-03-20T15:18:35.511798",
     "status": "completed"
    },
    "tags": []
   },
   "outputs": [],
   "source": [
    "data['bin_3'] = data['bin_3'].map({\"T\" : 1, \"F\" : 0})\n",
    "data['bin_4'] = data['bin_4'].map({\"Y\" : 1, \"N\" : 0})"
   ]
  },
  {
   "cell_type": "code",
   "execution_count": 27,
   "metadata": {
    "execution": {
     "iopub.execute_input": "2021-03-20T15:18:36.020325Z",
     "iopub.status.busy": "2021-03-20T15:18:36.019342Z",
     "iopub.status.idle": "2021-03-20T15:18:36.023660Z",
     "shell.execute_reply": "2021-03-20T15:18:36.024111Z"
    },
    "papermill": {
     "duration": 0.127322,
     "end_time": "2021-03-20T15:18:36.024310",
     "exception": false,
     "start_time": "2021-03-20T15:18:35.896988",
     "status": "completed"
    },
    "tags": []
   },
   "outputs": [
    {
     "data": {
      "text/html": [
       "<div>\n",
       "<style scoped>\n",
       "    .dataframe tbody tr th:only-of-type {\n",
       "        vertical-align: middle;\n",
       "    }\n",
       "\n",
       "    .dataframe tbody tr th {\n",
       "        vertical-align: top;\n",
       "    }\n",
       "\n",
       "    .dataframe thead th {\n",
       "        text-align: right;\n",
       "    }\n",
       "</style>\n",
       "<table border=\"1\" class=\"dataframe\">\n",
       "  <thead>\n",
       "    <tr style=\"text-align: right;\">\n",
       "      <th></th>\n",
       "      <th>bin_0</th>\n",
       "      <th>bin_1</th>\n",
       "      <th>bin_2</th>\n",
       "      <th>bin_3</th>\n",
       "      <th>bin_4</th>\n",
       "      <th>nom_0</th>\n",
       "      <th>nom_1</th>\n",
       "      <th>nom_2</th>\n",
       "      <th>nom_3</th>\n",
       "      <th>nom_4</th>\n",
       "      <th>...</th>\n",
       "      <th>nom_9</th>\n",
       "      <th>ord_0</th>\n",
       "      <th>ord_1</th>\n",
       "      <th>ord_2</th>\n",
       "      <th>ord_3</th>\n",
       "      <th>ord_4</th>\n",
       "      <th>ord_5</th>\n",
       "      <th>day</th>\n",
       "      <th>month</th>\n",
       "      <th>target</th>\n",
       "    </tr>\n",
       "  </thead>\n",
       "  <tbody>\n",
       "    <tr>\n",
       "      <th>0</th>\n",
       "      <td>0</td>\n",
       "      <td>0</td>\n",
       "      <td>0</td>\n",
       "      <td>1</td>\n",
       "      <td>1</td>\n",
       "      <td>Green</td>\n",
       "      <td>Triangle</td>\n",
       "      <td>Snake</td>\n",
       "      <td>Finland</td>\n",
       "      <td>Bassoon</td>\n",
       "      <td>...</td>\n",
       "      <td>2f4cb3d51</td>\n",
       "      <td>2</td>\n",
       "      <td>Grandmaster</td>\n",
       "      <td>Cold</td>\n",
       "      <td>h</td>\n",
       "      <td>D</td>\n",
       "      <td>kr</td>\n",
       "      <td>2</td>\n",
       "      <td>2</td>\n",
       "      <td>0</td>\n",
       "    </tr>\n",
       "    <tr>\n",
       "      <th>1</th>\n",
       "      <td>0</td>\n",
       "      <td>1</td>\n",
       "      <td>0</td>\n",
       "      <td>1</td>\n",
       "      <td>1</td>\n",
       "      <td>Green</td>\n",
       "      <td>Trapezoid</td>\n",
       "      <td>Hamster</td>\n",
       "      <td>Russia</td>\n",
       "      <td>Piano</td>\n",
       "      <td>...</td>\n",
       "      <td>f83c56c21</td>\n",
       "      <td>1</td>\n",
       "      <td>Grandmaster</td>\n",
       "      <td>Hot</td>\n",
       "      <td>a</td>\n",
       "      <td>A</td>\n",
       "      <td>bF</td>\n",
       "      <td>7</td>\n",
       "      <td>8</td>\n",
       "      <td>0</td>\n",
       "    </tr>\n",
       "    <tr>\n",
       "      <th>2</th>\n",
       "      <td>0</td>\n",
       "      <td>0</td>\n",
       "      <td>0</td>\n",
       "      <td>0</td>\n",
       "      <td>1</td>\n",
       "      <td>Blue</td>\n",
       "      <td>Trapezoid</td>\n",
       "      <td>Lion</td>\n",
       "      <td>Russia</td>\n",
       "      <td>Theremin</td>\n",
       "      <td>...</td>\n",
       "      <td>ae6800dd0</td>\n",
       "      <td>1</td>\n",
       "      <td>Expert</td>\n",
       "      <td>Lava Hot</td>\n",
       "      <td>h</td>\n",
       "      <td>R</td>\n",
       "      <td>Jc</td>\n",
       "      <td>7</td>\n",
       "      <td>2</td>\n",
       "      <td>0</td>\n",
       "    </tr>\n",
       "    <tr>\n",
       "      <th>3</th>\n",
       "      <td>0</td>\n",
       "      <td>1</td>\n",
       "      <td>0</td>\n",
       "      <td>0</td>\n",
       "      <td>1</td>\n",
       "      <td>Red</td>\n",
       "      <td>Trapezoid</td>\n",
       "      <td>Snake</td>\n",
       "      <td>Canada</td>\n",
       "      <td>Oboe</td>\n",
       "      <td>...</td>\n",
       "      <td>8270f0d71</td>\n",
       "      <td>1</td>\n",
       "      <td>Grandmaster</td>\n",
       "      <td>Boiling Hot</td>\n",
       "      <td>i</td>\n",
       "      <td>D</td>\n",
       "      <td>kW</td>\n",
       "      <td>2</td>\n",
       "      <td>1</td>\n",
       "      <td>1</td>\n",
       "    </tr>\n",
       "    <tr>\n",
       "      <th>4</th>\n",
       "      <td>0</td>\n",
       "      <td>0</td>\n",
       "      <td>0</td>\n",
       "      <td>0</td>\n",
       "      <td>0</td>\n",
       "      <td>Red</td>\n",
       "      <td>Trapezoid</td>\n",
       "      <td>Lion</td>\n",
       "      <td>Canada</td>\n",
       "      <td>Oboe</td>\n",
       "      <td>...</td>\n",
       "      <td>b164b72a7</td>\n",
       "      <td>1</td>\n",
       "      <td>Grandmaster</td>\n",
       "      <td>Freezing</td>\n",
       "      <td>a</td>\n",
       "      <td>R</td>\n",
       "      <td>qP</td>\n",
       "      <td>7</td>\n",
       "      <td>8</td>\n",
       "      <td>0</td>\n",
       "    </tr>\n",
       "  </tbody>\n",
       "</table>\n",
       "<p>5 rows × 24 columns</p>\n",
       "</div>"
      ],
      "text/plain": [
       "   bin_0  bin_1  bin_2  bin_3  bin_4  nom_0      nom_1    nom_2    nom_3  \\\n",
       "0      0      0      0      1      1  Green   Triangle    Snake  Finland   \n",
       "1      0      1      0      1      1  Green  Trapezoid  Hamster   Russia   \n",
       "2      0      0      0      0      1   Blue  Trapezoid     Lion   Russia   \n",
       "3      0      1      0      0      1    Red  Trapezoid    Snake   Canada   \n",
       "4      0      0      0      0      0    Red  Trapezoid     Lion   Canada   \n",
       "\n",
       "      nom_4  ...      nom_9 ord_0        ord_1        ord_2 ord_3  ord_4  \\\n",
       "0   Bassoon  ...  2f4cb3d51     2  Grandmaster         Cold     h      D   \n",
       "1     Piano  ...  f83c56c21     1  Grandmaster          Hot     a      A   \n",
       "2  Theremin  ...  ae6800dd0     1       Expert     Lava Hot     h      R   \n",
       "3      Oboe  ...  8270f0d71     1  Grandmaster  Boiling Hot     i      D   \n",
       "4      Oboe  ...  b164b72a7     1  Grandmaster     Freezing     a      R   \n",
       "\n",
       "  ord_5 day month target  \n",
       "0    kr   2     2      0  \n",
       "1    bF   7     8      0  \n",
       "2    Jc   7     2      0  \n",
       "3    kW   2     1      1  \n",
       "4    qP   7     8      0  \n",
       "\n",
       "[5 rows x 24 columns]"
      ]
     },
     "execution_count": 27,
     "metadata": {},
     "output_type": "execute_result"
    }
   ],
   "source": [
    "data.head()"
   ]
  },
  {
   "cell_type": "markdown",
   "metadata": {
    "papermill": {
     "duration": 0.096851,
     "end_time": "2021-03-20T15:18:36.219861",
     "exception": false,
     "start_time": "2021-03-20T15:18:36.123010",
     "status": "completed"
    },
    "tags": []
   },
   "source": [
    "We're done with dealing of binary variables. <br>\n",
    "Now we're left to deal with the nominals & ordinals."
   ]
  },
  {
   "cell_type": "code",
   "execution_count": null,
   "metadata": {
    "papermill": {
     "duration": 0.096194,
     "end_time": "2021-03-20T15:18:36.412685",
     "exception": false,
     "start_time": "2021-03-20T15:18:36.316491",
     "status": "completed"
    },
    "tags": []
   },
   "outputs": [],
   "source": []
  },
  {
   "cell_type": "markdown",
   "metadata": {
    "papermill": {
     "duration": 0.09623,
     "end_time": "2021-03-20T15:18:36.605381",
     "exception": false,
     "start_time": "2021-03-20T15:18:36.509151",
     "status": "completed"
    },
    "tags": []
   },
   "source": [
    "We have 5 ordinal variables of which 4 have few unique values and can be dealt in a similar manner. <br>\n",
    "ord_5 has multiple unique values and needs to be handled separately. "
   ]
  },
  {
   "cell_type": "code",
   "execution_count": 28,
   "metadata": {
    "execution": {
     "iopub.execute_input": "2021-03-20T15:18:36.804584Z",
     "iopub.status.busy": "2021-03-20T15:18:36.803690Z",
     "iopub.status.idle": "2021-03-20T15:18:38.418614Z",
     "shell.execute_reply": "2021-03-20T15:18:38.418068Z"
    },
    "papermill": {
     "duration": 1.716829,
     "end_time": "2021-03-20T15:18:38.418761",
     "exception": false,
     "start_time": "2021-03-20T15:18:36.701932",
     "status": "completed"
    },
    "tags": []
   },
   "outputs": [
    {
     "name": "stdout",
     "output_type": "stream",
     "text": [
      "ord_1 ['Contributor', 'Expert', 'Grandmaster', 'Master', 'Novice']\n",
      "ord_2 ['Boiling Hot', 'Cold', 'Freezing', 'Hot', 'Lava Hot', 'Warm']\n",
      "ord_3 ['a', 'b', 'c', 'd', 'e', 'f', 'g', 'h', 'i', 'j', 'k', 'l', 'm', 'n', 'o']\n",
      "ord_4 ['A', 'B', 'C', 'D', 'E', 'F', 'G', 'H', 'I', 'J', 'K', 'L', 'M', 'N', 'O', 'P', 'Q', 'R', 'S', 'T', 'U', 'V', 'W', 'X', 'Y', 'Z']\n"
     ]
    }
   ],
   "source": [
    "for col in ['ord_1', 'ord_2', 'ord_3', 'ord_4']:\n",
    "    print(col, list(np.unique(data[col])))"
   ]
  },
  {
   "cell_type": "code",
   "execution_count": 29,
   "metadata": {
    "execution": {
     "iopub.execute_input": "2021-03-20T15:18:38.656389Z",
     "iopub.status.busy": "2021-03-20T15:18:38.655668Z",
     "iopub.status.idle": "2021-03-20T15:18:38.709848Z",
     "shell.execute_reply": "2021-03-20T15:18:38.709234Z"
    },
    "papermill": {
     "duration": 0.193436,
     "end_time": "2021-03-20T15:18:38.710000",
     "exception": false,
     "start_time": "2021-03-20T15:18:38.516564",
     "status": "completed"
    },
    "tags": []
   },
   "outputs": [],
   "source": [
    "m1_ord1 = {'Novice' : 0, 'Contributor' : 1, 'Expert' : 2, 'Master' : 3, 'Grandmaster' : 4}\n",
    "\n",
    "data['ord_1'] = data['ord_1'].map(m1_ord1)"
   ]
  },
  {
   "cell_type": "code",
   "execution_count": 30,
   "metadata": {
    "execution": {
     "iopub.execute_input": "2021-03-20T15:18:38.939053Z",
     "iopub.status.busy": "2021-03-20T15:18:38.937912Z",
     "iopub.status.idle": "2021-03-20T15:18:38.942727Z",
     "shell.execute_reply": "2021-03-20T15:18:38.942094Z"
    },
    "papermill": {
     "duration": 0.133363,
     "end_time": "2021-03-20T15:18:38.942871",
     "exception": false,
     "start_time": "2021-03-20T15:18:38.809508",
     "status": "completed"
    },
    "tags": []
   },
   "outputs": [
    {
     "data": {
      "text/html": [
       "<div>\n",
       "<style scoped>\n",
       "    .dataframe tbody tr th:only-of-type {\n",
       "        vertical-align: middle;\n",
       "    }\n",
       "\n",
       "    .dataframe tbody tr th {\n",
       "        vertical-align: top;\n",
       "    }\n",
       "\n",
       "    .dataframe thead th {\n",
       "        text-align: right;\n",
       "    }\n",
       "</style>\n",
       "<table border=\"1\" class=\"dataframe\">\n",
       "  <thead>\n",
       "    <tr style=\"text-align: right;\">\n",
       "      <th></th>\n",
       "      <th>bin_0</th>\n",
       "      <th>bin_1</th>\n",
       "      <th>bin_2</th>\n",
       "      <th>bin_3</th>\n",
       "      <th>bin_4</th>\n",
       "      <th>nom_0</th>\n",
       "      <th>nom_1</th>\n",
       "      <th>nom_2</th>\n",
       "      <th>nom_3</th>\n",
       "      <th>nom_4</th>\n",
       "      <th>...</th>\n",
       "      <th>nom_9</th>\n",
       "      <th>ord_0</th>\n",
       "      <th>ord_1</th>\n",
       "      <th>ord_2</th>\n",
       "      <th>ord_3</th>\n",
       "      <th>ord_4</th>\n",
       "      <th>ord_5</th>\n",
       "      <th>day</th>\n",
       "      <th>month</th>\n",
       "      <th>target</th>\n",
       "    </tr>\n",
       "  </thead>\n",
       "  <tbody>\n",
       "    <tr>\n",
       "      <th>0</th>\n",
       "      <td>0</td>\n",
       "      <td>0</td>\n",
       "      <td>0</td>\n",
       "      <td>1</td>\n",
       "      <td>1</td>\n",
       "      <td>Green</td>\n",
       "      <td>Triangle</td>\n",
       "      <td>Snake</td>\n",
       "      <td>Finland</td>\n",
       "      <td>Bassoon</td>\n",
       "      <td>...</td>\n",
       "      <td>2f4cb3d51</td>\n",
       "      <td>2</td>\n",
       "      <td>4</td>\n",
       "      <td>Cold</td>\n",
       "      <td>h</td>\n",
       "      <td>D</td>\n",
       "      <td>kr</td>\n",
       "      <td>2</td>\n",
       "      <td>2</td>\n",
       "      <td>0</td>\n",
       "    </tr>\n",
       "    <tr>\n",
       "      <th>1</th>\n",
       "      <td>0</td>\n",
       "      <td>1</td>\n",
       "      <td>0</td>\n",
       "      <td>1</td>\n",
       "      <td>1</td>\n",
       "      <td>Green</td>\n",
       "      <td>Trapezoid</td>\n",
       "      <td>Hamster</td>\n",
       "      <td>Russia</td>\n",
       "      <td>Piano</td>\n",
       "      <td>...</td>\n",
       "      <td>f83c56c21</td>\n",
       "      <td>1</td>\n",
       "      <td>4</td>\n",
       "      <td>Hot</td>\n",
       "      <td>a</td>\n",
       "      <td>A</td>\n",
       "      <td>bF</td>\n",
       "      <td>7</td>\n",
       "      <td>8</td>\n",
       "      <td>0</td>\n",
       "    </tr>\n",
       "    <tr>\n",
       "      <th>2</th>\n",
       "      <td>0</td>\n",
       "      <td>0</td>\n",
       "      <td>0</td>\n",
       "      <td>0</td>\n",
       "      <td>1</td>\n",
       "      <td>Blue</td>\n",
       "      <td>Trapezoid</td>\n",
       "      <td>Lion</td>\n",
       "      <td>Russia</td>\n",
       "      <td>Theremin</td>\n",
       "      <td>...</td>\n",
       "      <td>ae6800dd0</td>\n",
       "      <td>1</td>\n",
       "      <td>2</td>\n",
       "      <td>Lava Hot</td>\n",
       "      <td>h</td>\n",
       "      <td>R</td>\n",
       "      <td>Jc</td>\n",
       "      <td>7</td>\n",
       "      <td>2</td>\n",
       "      <td>0</td>\n",
       "    </tr>\n",
       "    <tr>\n",
       "      <th>3</th>\n",
       "      <td>0</td>\n",
       "      <td>1</td>\n",
       "      <td>0</td>\n",
       "      <td>0</td>\n",
       "      <td>1</td>\n",
       "      <td>Red</td>\n",
       "      <td>Trapezoid</td>\n",
       "      <td>Snake</td>\n",
       "      <td>Canada</td>\n",
       "      <td>Oboe</td>\n",
       "      <td>...</td>\n",
       "      <td>8270f0d71</td>\n",
       "      <td>1</td>\n",
       "      <td>4</td>\n",
       "      <td>Boiling Hot</td>\n",
       "      <td>i</td>\n",
       "      <td>D</td>\n",
       "      <td>kW</td>\n",
       "      <td>2</td>\n",
       "      <td>1</td>\n",
       "      <td>1</td>\n",
       "    </tr>\n",
       "    <tr>\n",
       "      <th>4</th>\n",
       "      <td>0</td>\n",
       "      <td>0</td>\n",
       "      <td>0</td>\n",
       "      <td>0</td>\n",
       "      <td>0</td>\n",
       "      <td>Red</td>\n",
       "      <td>Trapezoid</td>\n",
       "      <td>Lion</td>\n",
       "      <td>Canada</td>\n",
       "      <td>Oboe</td>\n",
       "      <td>...</td>\n",
       "      <td>b164b72a7</td>\n",
       "      <td>1</td>\n",
       "      <td>4</td>\n",
       "      <td>Freezing</td>\n",
       "      <td>a</td>\n",
       "      <td>R</td>\n",
       "      <td>qP</td>\n",
       "      <td>7</td>\n",
       "      <td>8</td>\n",
       "      <td>0</td>\n",
       "    </tr>\n",
       "  </tbody>\n",
       "</table>\n",
       "<p>5 rows × 24 columns</p>\n",
       "</div>"
      ],
      "text/plain": [
       "   bin_0  bin_1  bin_2  bin_3  bin_4  nom_0      nom_1    nom_2    nom_3  \\\n",
       "0      0      0      0      1      1  Green   Triangle    Snake  Finland   \n",
       "1      0      1      0      1      1  Green  Trapezoid  Hamster   Russia   \n",
       "2      0      0      0      0      1   Blue  Trapezoid     Lion   Russia   \n",
       "3      0      1      0      0      1    Red  Trapezoid    Snake   Canada   \n",
       "4      0      0      0      0      0    Red  Trapezoid     Lion   Canada   \n",
       "\n",
       "      nom_4  ...      nom_9 ord_0 ord_1        ord_2 ord_3  ord_4  ord_5 day  \\\n",
       "0   Bassoon  ...  2f4cb3d51     2     4         Cold     h      D     kr   2   \n",
       "1     Piano  ...  f83c56c21     1     4          Hot     a      A     bF   7   \n",
       "2  Theremin  ...  ae6800dd0     1     2     Lava Hot     h      R     Jc   7   \n",
       "3      Oboe  ...  8270f0d71     1     4  Boiling Hot     i      D     kW   2   \n",
       "4      Oboe  ...  b164b72a7     1     4     Freezing     a      R     qP   7   \n",
       "\n",
       "  month target  \n",
       "0     2      0  \n",
       "1     8      0  \n",
       "2     2      0  \n",
       "3     1      1  \n",
       "4     8      0  \n",
       "\n",
       "[5 rows x 24 columns]"
      ]
     },
     "execution_count": 30,
     "metadata": {},
     "output_type": "execute_result"
    }
   ],
   "source": [
    "data.head()"
   ]
  },
  {
   "cell_type": "code",
   "execution_count": 31,
   "metadata": {
    "execution": {
     "iopub.execute_input": "2021-03-20T15:18:39.187777Z",
     "iopub.status.busy": "2021-03-20T15:18:39.186554Z",
     "iopub.status.idle": "2021-03-20T15:18:39.240567Z",
     "shell.execute_reply": "2021-03-20T15:18:39.239909Z"
    },
    "papermill": {
     "duration": 0.198527,
     "end_time": "2021-03-20T15:18:39.240713",
     "exception": false,
     "start_time": "2021-03-20T15:18:39.042186",
     "status": "completed"
    },
    "tags": []
   },
   "outputs": [],
   "source": [
    "m2_ord2 = {'Boiling Hot' : 0, 'Cold' : 1, 'Freezing' : 2, 'Hot' : 3, 'Lava Hot' : 4, 'Warm' : 5}\n",
    "\n",
    "data['ord_2'] = data['ord_2'].map(m2_ord2)"
   ]
  },
  {
   "cell_type": "code",
   "execution_count": 32,
   "metadata": {
    "execution": {
     "iopub.execute_input": "2021-03-20T15:18:39.464248Z",
     "iopub.status.busy": "2021-03-20T15:18:39.463582Z",
     "iopub.status.idle": "2021-03-20T15:18:39.467774Z",
     "shell.execute_reply": "2021-03-20T15:18:39.467198Z"
    },
    "papermill": {
     "duration": 0.127319,
     "end_time": "2021-03-20T15:18:39.467911",
     "exception": false,
     "start_time": "2021-03-20T15:18:39.340592",
     "status": "completed"
    },
    "tags": []
   },
   "outputs": [
    {
     "data": {
      "text/html": [
       "<div>\n",
       "<style scoped>\n",
       "    .dataframe tbody tr th:only-of-type {\n",
       "        vertical-align: middle;\n",
       "    }\n",
       "\n",
       "    .dataframe tbody tr th {\n",
       "        vertical-align: top;\n",
       "    }\n",
       "\n",
       "    .dataframe thead th {\n",
       "        text-align: right;\n",
       "    }\n",
       "</style>\n",
       "<table border=\"1\" class=\"dataframe\">\n",
       "  <thead>\n",
       "    <tr style=\"text-align: right;\">\n",
       "      <th></th>\n",
       "      <th>bin_0</th>\n",
       "      <th>bin_1</th>\n",
       "      <th>bin_2</th>\n",
       "      <th>bin_3</th>\n",
       "      <th>bin_4</th>\n",
       "      <th>nom_0</th>\n",
       "      <th>nom_1</th>\n",
       "      <th>nom_2</th>\n",
       "      <th>nom_3</th>\n",
       "      <th>nom_4</th>\n",
       "      <th>...</th>\n",
       "      <th>nom_9</th>\n",
       "      <th>ord_0</th>\n",
       "      <th>ord_1</th>\n",
       "      <th>ord_2</th>\n",
       "      <th>ord_3</th>\n",
       "      <th>ord_4</th>\n",
       "      <th>ord_5</th>\n",
       "      <th>day</th>\n",
       "      <th>month</th>\n",
       "      <th>target</th>\n",
       "    </tr>\n",
       "  </thead>\n",
       "  <tbody>\n",
       "    <tr>\n",
       "      <th>0</th>\n",
       "      <td>0</td>\n",
       "      <td>0</td>\n",
       "      <td>0</td>\n",
       "      <td>1</td>\n",
       "      <td>1</td>\n",
       "      <td>Green</td>\n",
       "      <td>Triangle</td>\n",
       "      <td>Snake</td>\n",
       "      <td>Finland</td>\n",
       "      <td>Bassoon</td>\n",
       "      <td>...</td>\n",
       "      <td>2f4cb3d51</td>\n",
       "      <td>2</td>\n",
       "      <td>4</td>\n",
       "      <td>1</td>\n",
       "      <td>h</td>\n",
       "      <td>D</td>\n",
       "      <td>kr</td>\n",
       "      <td>2</td>\n",
       "      <td>2</td>\n",
       "      <td>0</td>\n",
       "    </tr>\n",
       "    <tr>\n",
       "      <th>1</th>\n",
       "      <td>0</td>\n",
       "      <td>1</td>\n",
       "      <td>0</td>\n",
       "      <td>1</td>\n",
       "      <td>1</td>\n",
       "      <td>Green</td>\n",
       "      <td>Trapezoid</td>\n",
       "      <td>Hamster</td>\n",
       "      <td>Russia</td>\n",
       "      <td>Piano</td>\n",
       "      <td>...</td>\n",
       "      <td>f83c56c21</td>\n",
       "      <td>1</td>\n",
       "      <td>4</td>\n",
       "      <td>3</td>\n",
       "      <td>a</td>\n",
       "      <td>A</td>\n",
       "      <td>bF</td>\n",
       "      <td>7</td>\n",
       "      <td>8</td>\n",
       "      <td>0</td>\n",
       "    </tr>\n",
       "    <tr>\n",
       "      <th>2</th>\n",
       "      <td>0</td>\n",
       "      <td>0</td>\n",
       "      <td>0</td>\n",
       "      <td>0</td>\n",
       "      <td>1</td>\n",
       "      <td>Blue</td>\n",
       "      <td>Trapezoid</td>\n",
       "      <td>Lion</td>\n",
       "      <td>Russia</td>\n",
       "      <td>Theremin</td>\n",
       "      <td>...</td>\n",
       "      <td>ae6800dd0</td>\n",
       "      <td>1</td>\n",
       "      <td>2</td>\n",
       "      <td>4</td>\n",
       "      <td>h</td>\n",
       "      <td>R</td>\n",
       "      <td>Jc</td>\n",
       "      <td>7</td>\n",
       "      <td>2</td>\n",
       "      <td>0</td>\n",
       "    </tr>\n",
       "    <tr>\n",
       "      <th>3</th>\n",
       "      <td>0</td>\n",
       "      <td>1</td>\n",
       "      <td>0</td>\n",
       "      <td>0</td>\n",
       "      <td>1</td>\n",
       "      <td>Red</td>\n",
       "      <td>Trapezoid</td>\n",
       "      <td>Snake</td>\n",
       "      <td>Canada</td>\n",
       "      <td>Oboe</td>\n",
       "      <td>...</td>\n",
       "      <td>8270f0d71</td>\n",
       "      <td>1</td>\n",
       "      <td>4</td>\n",
       "      <td>0</td>\n",
       "      <td>i</td>\n",
       "      <td>D</td>\n",
       "      <td>kW</td>\n",
       "      <td>2</td>\n",
       "      <td>1</td>\n",
       "      <td>1</td>\n",
       "    </tr>\n",
       "    <tr>\n",
       "      <th>4</th>\n",
       "      <td>0</td>\n",
       "      <td>0</td>\n",
       "      <td>0</td>\n",
       "      <td>0</td>\n",
       "      <td>0</td>\n",
       "      <td>Red</td>\n",
       "      <td>Trapezoid</td>\n",
       "      <td>Lion</td>\n",
       "      <td>Canada</td>\n",
       "      <td>Oboe</td>\n",
       "      <td>...</td>\n",
       "      <td>b164b72a7</td>\n",
       "      <td>1</td>\n",
       "      <td>4</td>\n",
       "      <td>2</td>\n",
       "      <td>a</td>\n",
       "      <td>R</td>\n",
       "      <td>qP</td>\n",
       "      <td>7</td>\n",
       "      <td>8</td>\n",
       "      <td>0</td>\n",
       "    </tr>\n",
       "  </tbody>\n",
       "</table>\n",
       "<p>5 rows × 24 columns</p>\n",
       "</div>"
      ],
      "text/plain": [
       "   bin_0  bin_1  bin_2  bin_3  bin_4  nom_0      nom_1    nom_2    nom_3  \\\n",
       "0      0      0      0      1      1  Green   Triangle    Snake  Finland   \n",
       "1      0      1      0      1      1  Green  Trapezoid  Hamster   Russia   \n",
       "2      0      0      0      0      1   Blue  Trapezoid     Lion   Russia   \n",
       "3      0      1      0      0      1    Red  Trapezoid    Snake   Canada   \n",
       "4      0      0      0      0      0    Red  Trapezoid     Lion   Canada   \n",
       "\n",
       "      nom_4  ...      nom_9 ord_0 ord_1 ord_2 ord_3  ord_4  ord_5  day month  \\\n",
       "0   Bassoon  ...  2f4cb3d51     2     4     1     h      D     kr    2     2   \n",
       "1     Piano  ...  f83c56c21     1     4     3     a      A     bF    7     8   \n",
       "2  Theremin  ...  ae6800dd0     1     2     4     h      R     Jc    7     2   \n",
       "3      Oboe  ...  8270f0d71     1     4     0     i      D     kW    2     1   \n",
       "4      Oboe  ...  b164b72a7     1     4     2     a      R     qP    7     8   \n",
       "\n",
       "  target  \n",
       "0      0  \n",
       "1      0  \n",
       "2      0  \n",
       "3      1  \n",
       "4      0  \n",
       "\n",
       "[5 rows x 24 columns]"
      ]
     },
     "execution_count": 32,
     "metadata": {},
     "output_type": "execute_result"
    }
   ],
   "source": [
    "data.head()"
   ]
  },
  {
   "cell_type": "code",
   "execution_count": null,
   "metadata": {
    "papermill": {
     "duration": 0.098915,
     "end_time": "2021-03-20T15:18:39.666081",
     "exception": false,
     "start_time": "2021-03-20T15:18:39.567166",
     "status": "completed"
    },
    "tags": []
   },
   "outputs": [],
   "source": []
  },
  {
   "cell_type": "code",
   "execution_count": 33,
   "metadata": {
    "execution": {
     "iopub.execute_input": "2021-03-20T15:18:39.873991Z",
     "iopub.status.busy": "2021-03-20T15:18:39.873355Z",
     "iopub.status.idle": "2021-03-20T15:18:40.402022Z",
     "shell.execute_reply": "2021-03-20T15:18:40.401272Z"
    },
    "papermill": {
     "duration": 0.636718,
     "end_time": "2021-03-20T15:18:40.402191",
     "exception": false,
     "start_time": "2021-03-20T15:18:39.765473",
     "status": "completed"
    },
    "tags": []
   },
   "outputs": [],
   "source": [
    "data['ord_3'] = data['ord_3'].apply(lambda x : ord(x) - ord('a'))\n",
    "data['ord_4'] = data['ord_4'].apply(lambda x : ord(x) - ord('A'))"
   ]
  },
  {
   "cell_type": "code",
   "execution_count": 34,
   "metadata": {
    "execution": {
     "iopub.execute_input": "2021-03-20T15:18:40.625772Z",
     "iopub.status.busy": "2021-03-20T15:18:40.614796Z",
     "iopub.status.idle": "2021-03-20T15:18:40.629503Z",
     "shell.execute_reply": "2021-03-20T15:18:40.630023Z"
    },
    "papermill": {
     "duration": 0.128414,
     "end_time": "2021-03-20T15:18:40.630225",
     "exception": false,
     "start_time": "2021-03-20T15:18:40.501811",
     "status": "completed"
    },
    "tags": []
   },
   "outputs": [
    {
     "data": {
      "text/html": [
       "<div>\n",
       "<style scoped>\n",
       "    .dataframe tbody tr th:only-of-type {\n",
       "        vertical-align: middle;\n",
       "    }\n",
       "\n",
       "    .dataframe tbody tr th {\n",
       "        vertical-align: top;\n",
       "    }\n",
       "\n",
       "    .dataframe thead th {\n",
       "        text-align: right;\n",
       "    }\n",
       "</style>\n",
       "<table border=\"1\" class=\"dataframe\">\n",
       "  <thead>\n",
       "    <tr style=\"text-align: right;\">\n",
       "      <th></th>\n",
       "      <th>bin_0</th>\n",
       "      <th>bin_1</th>\n",
       "      <th>bin_2</th>\n",
       "      <th>bin_3</th>\n",
       "      <th>bin_4</th>\n",
       "      <th>nom_0</th>\n",
       "      <th>nom_1</th>\n",
       "      <th>nom_2</th>\n",
       "      <th>nom_3</th>\n",
       "      <th>nom_4</th>\n",
       "      <th>...</th>\n",
       "      <th>nom_9</th>\n",
       "      <th>ord_0</th>\n",
       "      <th>ord_1</th>\n",
       "      <th>ord_2</th>\n",
       "      <th>ord_3</th>\n",
       "      <th>ord_4</th>\n",
       "      <th>ord_5</th>\n",
       "      <th>day</th>\n",
       "      <th>month</th>\n",
       "      <th>target</th>\n",
       "    </tr>\n",
       "  </thead>\n",
       "  <tbody>\n",
       "    <tr>\n",
       "      <th>0</th>\n",
       "      <td>0</td>\n",
       "      <td>0</td>\n",
       "      <td>0</td>\n",
       "      <td>1</td>\n",
       "      <td>1</td>\n",
       "      <td>Green</td>\n",
       "      <td>Triangle</td>\n",
       "      <td>Snake</td>\n",
       "      <td>Finland</td>\n",
       "      <td>Bassoon</td>\n",
       "      <td>...</td>\n",
       "      <td>2f4cb3d51</td>\n",
       "      <td>2</td>\n",
       "      <td>4</td>\n",
       "      <td>1</td>\n",
       "      <td>7</td>\n",
       "      <td>3</td>\n",
       "      <td>kr</td>\n",
       "      <td>2</td>\n",
       "      <td>2</td>\n",
       "      <td>0</td>\n",
       "    </tr>\n",
       "    <tr>\n",
       "      <th>1</th>\n",
       "      <td>0</td>\n",
       "      <td>1</td>\n",
       "      <td>0</td>\n",
       "      <td>1</td>\n",
       "      <td>1</td>\n",
       "      <td>Green</td>\n",
       "      <td>Trapezoid</td>\n",
       "      <td>Hamster</td>\n",
       "      <td>Russia</td>\n",
       "      <td>Piano</td>\n",
       "      <td>...</td>\n",
       "      <td>f83c56c21</td>\n",
       "      <td>1</td>\n",
       "      <td>4</td>\n",
       "      <td>3</td>\n",
       "      <td>0</td>\n",
       "      <td>0</td>\n",
       "      <td>bF</td>\n",
       "      <td>7</td>\n",
       "      <td>8</td>\n",
       "      <td>0</td>\n",
       "    </tr>\n",
       "    <tr>\n",
       "      <th>2</th>\n",
       "      <td>0</td>\n",
       "      <td>0</td>\n",
       "      <td>0</td>\n",
       "      <td>0</td>\n",
       "      <td>1</td>\n",
       "      <td>Blue</td>\n",
       "      <td>Trapezoid</td>\n",
       "      <td>Lion</td>\n",
       "      <td>Russia</td>\n",
       "      <td>Theremin</td>\n",
       "      <td>...</td>\n",
       "      <td>ae6800dd0</td>\n",
       "      <td>1</td>\n",
       "      <td>2</td>\n",
       "      <td>4</td>\n",
       "      <td>7</td>\n",
       "      <td>17</td>\n",
       "      <td>Jc</td>\n",
       "      <td>7</td>\n",
       "      <td>2</td>\n",
       "      <td>0</td>\n",
       "    </tr>\n",
       "    <tr>\n",
       "      <th>3</th>\n",
       "      <td>0</td>\n",
       "      <td>1</td>\n",
       "      <td>0</td>\n",
       "      <td>0</td>\n",
       "      <td>1</td>\n",
       "      <td>Red</td>\n",
       "      <td>Trapezoid</td>\n",
       "      <td>Snake</td>\n",
       "      <td>Canada</td>\n",
       "      <td>Oboe</td>\n",
       "      <td>...</td>\n",
       "      <td>8270f0d71</td>\n",
       "      <td>1</td>\n",
       "      <td>4</td>\n",
       "      <td>0</td>\n",
       "      <td>8</td>\n",
       "      <td>3</td>\n",
       "      <td>kW</td>\n",
       "      <td>2</td>\n",
       "      <td>1</td>\n",
       "      <td>1</td>\n",
       "    </tr>\n",
       "    <tr>\n",
       "      <th>4</th>\n",
       "      <td>0</td>\n",
       "      <td>0</td>\n",
       "      <td>0</td>\n",
       "      <td>0</td>\n",
       "      <td>0</td>\n",
       "      <td>Red</td>\n",
       "      <td>Trapezoid</td>\n",
       "      <td>Lion</td>\n",
       "      <td>Canada</td>\n",
       "      <td>Oboe</td>\n",
       "      <td>...</td>\n",
       "      <td>b164b72a7</td>\n",
       "      <td>1</td>\n",
       "      <td>4</td>\n",
       "      <td>2</td>\n",
       "      <td>0</td>\n",
       "      <td>17</td>\n",
       "      <td>qP</td>\n",
       "      <td>7</td>\n",
       "      <td>8</td>\n",
       "      <td>0</td>\n",
       "    </tr>\n",
       "  </tbody>\n",
       "</table>\n",
       "<p>5 rows × 24 columns</p>\n",
       "</div>"
      ],
      "text/plain": [
       "   bin_0  bin_1  bin_2  bin_3  bin_4  nom_0      nom_1    nom_2    nom_3  \\\n",
       "0      0      0      0      1      1  Green   Triangle    Snake  Finland   \n",
       "1      0      1      0      1      1  Green  Trapezoid  Hamster   Russia   \n",
       "2      0      0      0      0      1   Blue  Trapezoid     Lion   Russia   \n",
       "3      0      1      0      0      1    Red  Trapezoid    Snake   Canada   \n",
       "4      0      0      0      0      0    Red  Trapezoid     Lion   Canada   \n",
       "\n",
       "      nom_4  ...      nom_9 ord_0 ord_1 ord_2 ord_3  ord_4  ord_5  day  month  \\\n",
       "0   Bassoon  ...  2f4cb3d51     2     4     1     7      3     kr    2      2   \n",
       "1     Piano  ...  f83c56c21     1     4     3     0      0     bF    7      8   \n",
       "2  Theremin  ...  ae6800dd0     1     2     4     7     17     Jc    7      2   \n",
       "3      Oboe  ...  8270f0d71     1     4     0     8      3     kW    2      1   \n",
       "4      Oboe  ...  b164b72a7     1     4     2     0     17     qP    7      8   \n",
       "\n",
       "   target  \n",
       "0       0  \n",
       "1       0  \n",
       "2       0  \n",
       "3       1  \n",
       "4       0  \n",
       "\n",
       "[5 rows x 24 columns]"
      ]
     },
     "execution_count": 34,
     "metadata": {},
     "output_type": "execute_result"
    }
   ],
   "source": [
    "data.head()"
   ]
  },
  {
   "cell_type": "code",
   "execution_count": 35,
   "metadata": {
    "execution": {
     "iopub.execute_input": "2021-03-20T15:18:40.869103Z",
     "iopub.status.busy": "2021-03-20T15:18:40.868398Z",
     "iopub.status.idle": "2021-03-20T15:18:42.103162Z",
     "shell.execute_reply": "2021-03-20T15:18:42.102073Z"
    },
    "papermill": {
     "duration": 1.372578,
     "end_time": "2021-03-20T15:18:42.103321",
     "exception": false,
     "start_time": "2021-03-20T15:18:40.730743",
     "status": "completed"
    },
    "tags": []
   },
   "outputs": [],
   "source": [
    "data['ord_5a'] = data['ord_5'].str[0]\n",
    "data['ord_5b'] = data['ord_5'].str[1]\n",
    "\n",
    "data['ord_5a'] = data['ord_5a'].map({val : idx for idx, val in enumerate(np.unique(data['ord_5a']))})\n",
    "data['ord_5b'] = data['ord_5b'].map({val : idx for idx, val in enumerate(np.unique(data['ord_5b']))})"
   ]
  },
  {
   "cell_type": "code",
   "execution_count": 36,
   "metadata": {
    "execution": {
     "iopub.execute_input": "2021-03-20T15:18:42.328861Z",
     "iopub.status.busy": "2021-03-20T15:18:42.311404Z",
     "iopub.status.idle": "2021-03-20T15:18:42.333573Z",
     "shell.execute_reply": "2021-03-20T15:18:42.332979Z"
    },
    "papermill": {
     "duration": 0.129451,
     "end_time": "2021-03-20T15:18:42.333731",
     "exception": false,
     "start_time": "2021-03-20T15:18:42.204280",
     "status": "completed"
    },
    "tags": []
   },
   "outputs": [
    {
     "data": {
      "text/html": [
       "<div>\n",
       "<style scoped>\n",
       "    .dataframe tbody tr th:only-of-type {\n",
       "        vertical-align: middle;\n",
       "    }\n",
       "\n",
       "    .dataframe tbody tr th {\n",
       "        vertical-align: top;\n",
       "    }\n",
       "\n",
       "    .dataframe thead th {\n",
       "        text-align: right;\n",
       "    }\n",
       "</style>\n",
       "<table border=\"1\" class=\"dataframe\">\n",
       "  <thead>\n",
       "    <tr style=\"text-align: right;\">\n",
       "      <th></th>\n",
       "      <th>bin_0</th>\n",
       "      <th>bin_1</th>\n",
       "      <th>bin_2</th>\n",
       "      <th>bin_3</th>\n",
       "      <th>bin_4</th>\n",
       "      <th>nom_0</th>\n",
       "      <th>nom_1</th>\n",
       "      <th>nom_2</th>\n",
       "      <th>nom_3</th>\n",
       "      <th>nom_4</th>\n",
       "      <th>...</th>\n",
       "      <th>ord_1</th>\n",
       "      <th>ord_2</th>\n",
       "      <th>ord_3</th>\n",
       "      <th>ord_4</th>\n",
       "      <th>ord_5</th>\n",
       "      <th>day</th>\n",
       "      <th>month</th>\n",
       "      <th>target</th>\n",
       "      <th>ord_5a</th>\n",
       "      <th>ord_5b</th>\n",
       "    </tr>\n",
       "  </thead>\n",
       "  <tbody>\n",
       "    <tr>\n",
       "      <th>0</th>\n",
       "      <td>0</td>\n",
       "      <td>0</td>\n",
       "      <td>0</td>\n",
       "      <td>1</td>\n",
       "      <td>1</td>\n",
       "      <td>Green</td>\n",
       "      <td>Triangle</td>\n",
       "      <td>Snake</td>\n",
       "      <td>Finland</td>\n",
       "      <td>Bassoon</td>\n",
       "      <td>...</td>\n",
       "      <td>4</td>\n",
       "      <td>1</td>\n",
       "      <td>7</td>\n",
       "      <td>3</td>\n",
       "      <td>kr</td>\n",
       "      <td>2</td>\n",
       "      <td>2</td>\n",
       "      <td>0</td>\n",
       "      <td>36</td>\n",
       "      <td>43</td>\n",
       "    </tr>\n",
       "    <tr>\n",
       "      <th>1</th>\n",
       "      <td>0</td>\n",
       "      <td>1</td>\n",
       "      <td>0</td>\n",
       "      <td>1</td>\n",
       "      <td>1</td>\n",
       "      <td>Green</td>\n",
       "      <td>Trapezoid</td>\n",
       "      <td>Hamster</td>\n",
       "      <td>Russia</td>\n",
       "      <td>Piano</td>\n",
       "      <td>...</td>\n",
       "      <td>4</td>\n",
       "      <td>3</td>\n",
       "      <td>0</td>\n",
       "      <td>0</td>\n",
       "      <td>bF</td>\n",
       "      <td>7</td>\n",
       "      <td>8</td>\n",
       "      <td>0</td>\n",
       "      <td>27</td>\n",
       "      <td>5</td>\n",
       "    </tr>\n",
       "    <tr>\n",
       "      <th>2</th>\n",
       "      <td>0</td>\n",
       "      <td>0</td>\n",
       "      <td>0</td>\n",
       "      <td>0</td>\n",
       "      <td>1</td>\n",
       "      <td>Blue</td>\n",
       "      <td>Trapezoid</td>\n",
       "      <td>Lion</td>\n",
       "      <td>Russia</td>\n",
       "      <td>Theremin</td>\n",
       "      <td>...</td>\n",
       "      <td>2</td>\n",
       "      <td>4</td>\n",
       "      <td>7</td>\n",
       "      <td>17</td>\n",
       "      <td>Jc</td>\n",
       "      <td>7</td>\n",
       "      <td>2</td>\n",
       "      <td>0</td>\n",
       "      <td>9</td>\n",
       "      <td>28</td>\n",
       "    </tr>\n",
       "    <tr>\n",
       "      <th>3</th>\n",
       "      <td>0</td>\n",
       "      <td>1</td>\n",
       "      <td>0</td>\n",
       "      <td>0</td>\n",
       "      <td>1</td>\n",
       "      <td>Red</td>\n",
       "      <td>Trapezoid</td>\n",
       "      <td>Snake</td>\n",
       "      <td>Canada</td>\n",
       "      <td>Oboe</td>\n",
       "      <td>...</td>\n",
       "      <td>4</td>\n",
       "      <td>0</td>\n",
       "      <td>8</td>\n",
       "      <td>3</td>\n",
       "      <td>kW</td>\n",
       "      <td>2</td>\n",
       "      <td>1</td>\n",
       "      <td>1</td>\n",
       "      <td>36</td>\n",
       "      <td>22</td>\n",
       "    </tr>\n",
       "    <tr>\n",
       "      <th>4</th>\n",
       "      <td>0</td>\n",
       "      <td>0</td>\n",
       "      <td>0</td>\n",
       "      <td>0</td>\n",
       "      <td>0</td>\n",
       "      <td>Red</td>\n",
       "      <td>Trapezoid</td>\n",
       "      <td>Lion</td>\n",
       "      <td>Canada</td>\n",
       "      <td>Oboe</td>\n",
       "      <td>...</td>\n",
       "      <td>4</td>\n",
       "      <td>2</td>\n",
       "      <td>0</td>\n",
       "      <td>17</td>\n",
       "      <td>qP</td>\n",
       "      <td>7</td>\n",
       "      <td>8</td>\n",
       "      <td>0</td>\n",
       "      <td>42</td>\n",
       "      <td>15</td>\n",
       "    </tr>\n",
       "  </tbody>\n",
       "</table>\n",
       "<p>5 rows × 26 columns</p>\n",
       "</div>"
      ],
      "text/plain": [
       "   bin_0  bin_1  bin_2  bin_3  bin_4  nom_0      nom_1    nom_2    nom_3  \\\n",
       "0      0      0      0      1      1  Green   Triangle    Snake  Finland   \n",
       "1      0      1      0      1      1  Green  Trapezoid  Hamster   Russia   \n",
       "2      0      0      0      0      1   Blue  Trapezoid     Lion   Russia   \n",
       "3      0      1      0      0      1    Red  Trapezoid    Snake   Canada   \n",
       "4      0      0      0      0      0    Red  Trapezoid     Lion   Canada   \n",
       "\n",
       "      nom_4  ... ord_1 ord_2 ord_3 ord_4 ord_5  day  month  target  ord_5a  \\\n",
       "0   Bassoon  ...     4     1     7     3    kr    2      2       0      36   \n",
       "1     Piano  ...     4     3     0     0    bF    7      8       0      27   \n",
       "2  Theremin  ...     2     4     7    17    Jc    7      2       0       9   \n",
       "3      Oboe  ...     4     0     8     3    kW    2      1       1      36   \n",
       "4      Oboe  ...     4     2     0    17    qP    7      8       0      42   \n",
       "\n",
       "   ord_5b  \n",
       "0      43  \n",
       "1       5  \n",
       "2      28  \n",
       "3      22  \n",
       "4      15  \n",
       "\n",
       "[5 rows x 26 columns]"
      ]
     },
     "execution_count": 36,
     "metadata": {},
     "output_type": "execute_result"
    }
   ],
   "source": [
    "data.head()"
   ]
  },
  {
   "cell_type": "markdown",
   "metadata": {
    "papermill": {
     "duration": 0.102079,
     "end_time": "2021-03-20T15:18:42.539233",
     "exception": false,
     "start_time": "2021-03-20T15:18:42.437154",
     "status": "completed"
    },
    "tags": []
   },
   "source": [
    "Let's deal the nominal variables."
   ]
  },
  {
   "cell_type": "code",
   "execution_count": 37,
   "metadata": {
    "execution": {
     "iopub.execute_input": "2021-03-20T15:18:42.748559Z",
     "iopub.status.busy": "2021-03-20T15:18:42.747909Z",
     "iopub.status.idle": "2021-03-20T15:18:42.828497Z",
     "shell.execute_reply": "2021-03-20T15:18:42.827711Z"
    },
    "papermill": {
     "duration": 0.187877,
     "end_time": "2021-03-20T15:18:42.828683",
     "exception": false,
     "start_time": "2021-03-20T15:18:42.640806",
     "status": "completed"
    },
    "tags": []
   },
   "outputs": [
    {
     "data": {
      "text/html": [
       "<div>\n",
       "<style scoped>\n",
       "    .dataframe tbody tr th:only-of-type {\n",
       "        vertical-align: middle;\n",
       "    }\n",
       "\n",
       "    .dataframe tbody tr th {\n",
       "        vertical-align: top;\n",
       "    }\n",
       "\n",
       "    .dataframe thead th {\n",
       "        text-align: right;\n",
       "    }\n",
       "</style>\n",
       "<table border=\"1\" class=\"dataframe\">\n",
       "  <thead>\n",
       "    <tr style=\"text-align: right;\">\n",
       "      <th></th>\n",
       "      <th>nom_0</th>\n",
       "      <th>nom_2</th>\n",
       "      <th>nom_3</th>\n",
       "      <th>nom_4</th>\n",
       "      <th>nom_5</th>\n",
       "      <th>nom_6</th>\n",
       "      <th>nom_7</th>\n",
       "      <th>nom_8</th>\n",
       "      <th>nom_9</th>\n",
       "    </tr>\n",
       "  </thead>\n",
       "  <tbody>\n",
       "    <tr>\n",
       "      <th>0</th>\n",
       "      <td>Green</td>\n",
       "      <td>Snake</td>\n",
       "      <td>Finland</td>\n",
       "      <td>Bassoon</td>\n",
       "      <td>50f116bcf</td>\n",
       "      <td>3ac1b8814</td>\n",
       "      <td>68f6ad3e9</td>\n",
       "      <td>c389000ab</td>\n",
       "      <td>2f4cb3d51</td>\n",
       "    </tr>\n",
       "    <tr>\n",
       "      <th>1</th>\n",
       "      <td>Green</td>\n",
       "      <td>Hamster</td>\n",
       "      <td>Russia</td>\n",
       "      <td>Piano</td>\n",
       "      <td>b3b4d25d0</td>\n",
       "      <td>fbcb50fc1</td>\n",
       "      <td>3b6dd5612</td>\n",
       "      <td>4cd920251</td>\n",
       "      <td>f83c56c21</td>\n",
       "    </tr>\n",
       "    <tr>\n",
       "      <th>2</th>\n",
       "      <td>Blue</td>\n",
       "      <td>Lion</td>\n",
       "      <td>Russia</td>\n",
       "      <td>Theremin</td>\n",
       "      <td>3263bdce5</td>\n",
       "      <td>0922e3cb8</td>\n",
       "      <td>a6a36f527</td>\n",
       "      <td>de9c9f684</td>\n",
       "      <td>ae6800dd0</td>\n",
       "    </tr>\n",
       "    <tr>\n",
       "      <th>3</th>\n",
       "      <td>Red</td>\n",
       "      <td>Snake</td>\n",
       "      <td>Canada</td>\n",
       "      <td>Oboe</td>\n",
       "      <td>f12246592</td>\n",
       "      <td>50d7ad46a</td>\n",
       "      <td>ec69236eb</td>\n",
       "      <td>4ade6ab69</td>\n",
       "      <td>8270f0d71</td>\n",
       "    </tr>\n",
       "    <tr>\n",
       "      <th>4</th>\n",
       "      <td>Red</td>\n",
       "      <td>Lion</td>\n",
       "      <td>Canada</td>\n",
       "      <td>Oboe</td>\n",
       "      <td>5b0f5acd5</td>\n",
       "      <td>1fe17a1fd</td>\n",
       "      <td>04ddac2be</td>\n",
       "      <td>cb43ab175</td>\n",
       "      <td>b164b72a7</td>\n",
       "    </tr>\n",
       "    <tr>\n",
       "      <th>...</th>\n",
       "      <td>...</td>\n",
       "      <td>...</td>\n",
       "      <td>...</td>\n",
       "      <td>...</td>\n",
       "      <td>...</td>\n",
       "      <td>...</td>\n",
       "      <td>...</td>\n",
       "      <td>...</td>\n",
       "      <td>...</td>\n",
       "    </tr>\n",
       "    <tr>\n",
       "      <th>299995</th>\n",
       "      <td>Red</td>\n",
       "      <td>Snake</td>\n",
       "      <td>India</td>\n",
       "      <td>Oboe</td>\n",
       "      <td>35f65a9bf</td>\n",
       "      <td>788ba7aea</td>\n",
       "      <td>86a8e4ca0</td>\n",
       "      <td>7508f4ef1</td>\n",
       "      <td>e027decef</td>\n",
       "    </tr>\n",
       "    <tr>\n",
       "      <th>299996</th>\n",
       "      <td>Green</td>\n",
       "      <td>Lion</td>\n",
       "      <td>Russia</td>\n",
       "      <td>Piano</td>\n",
       "      <td>472efea17</td>\n",
       "      <td>3b9693870</td>\n",
       "      <td>c4455f4a8</td>\n",
       "      <td>397dd0274</td>\n",
       "      <td>80f1411c8</td>\n",
       "    </tr>\n",
       "    <tr>\n",
       "      <th>299997</th>\n",
       "      <td>Blue</td>\n",
       "      <td>Axolotl</td>\n",
       "      <td>Russia</td>\n",
       "      <td>Oboe</td>\n",
       "      <td>0dee9b39a</td>\n",
       "      <td>6046454de</td>\n",
       "      <td>ba9901303</td>\n",
       "      <td>5d7806f53</td>\n",
       "      <td>314dcc15b</td>\n",
       "    </tr>\n",
       "    <tr>\n",
       "      <th>299998</th>\n",
       "      <td>Green</td>\n",
       "      <td>Axolotl</td>\n",
       "      <td>Costa Rica</td>\n",
       "      <td>Piano</td>\n",
       "      <td>e1558b071</td>\n",
       "      <td>0000ee65f</td>\n",
       "      <td>c8ae4ea14</td>\n",
       "      <td>1f820c7ce</td>\n",
       "      <td>ab0ce192b</td>\n",
       "    </tr>\n",
       "    <tr>\n",
       "      <th>299999</th>\n",
       "      <td>Blue</td>\n",
       "      <td>Dog</td>\n",
       "      <td>Russia</td>\n",
       "      <td>Bassoon</td>\n",
       "      <td>416a8f3ab</td>\n",
       "      <td>8d1b72979</td>\n",
       "      <td>c073efb40</td>\n",
       "      <td>c13d3ebdf</td>\n",
       "      <td>ad1af2b45</td>\n",
       "    </tr>\n",
       "  </tbody>\n",
       "</table>\n",
       "<p>300000 rows × 9 columns</p>\n",
       "</div>"
      ],
      "text/plain": [
       "        nom_0    nom_2       nom_3     nom_4      nom_5      nom_6      nom_7  \\\n",
       "0       Green    Snake     Finland   Bassoon  50f116bcf  3ac1b8814  68f6ad3e9   \n",
       "1       Green  Hamster      Russia     Piano  b3b4d25d0  fbcb50fc1  3b6dd5612   \n",
       "2        Blue     Lion      Russia  Theremin  3263bdce5  0922e3cb8  a6a36f527   \n",
       "3         Red    Snake      Canada      Oboe  f12246592  50d7ad46a  ec69236eb   \n",
       "4         Red     Lion      Canada      Oboe  5b0f5acd5  1fe17a1fd  04ddac2be   \n",
       "...       ...      ...         ...       ...        ...        ...        ...   \n",
       "299995    Red    Snake       India      Oboe  35f65a9bf  788ba7aea  86a8e4ca0   \n",
       "299996  Green     Lion      Russia     Piano  472efea17  3b9693870  c4455f4a8   \n",
       "299997   Blue  Axolotl      Russia      Oboe  0dee9b39a  6046454de  ba9901303   \n",
       "299998  Green  Axolotl  Costa Rica     Piano  e1558b071  0000ee65f  c8ae4ea14   \n",
       "299999   Blue      Dog      Russia   Bassoon  416a8f3ab  8d1b72979  c073efb40   \n",
       "\n",
       "            nom_8      nom_9  \n",
       "0       c389000ab  2f4cb3d51  \n",
       "1       4cd920251  f83c56c21  \n",
       "2       de9c9f684  ae6800dd0  \n",
       "3       4ade6ab69  8270f0d71  \n",
       "4       cb43ab175  b164b72a7  \n",
       "...           ...        ...  \n",
       "299995  7508f4ef1  e027decef  \n",
       "299996  397dd0274  80f1411c8  \n",
       "299997  5d7806f53  314dcc15b  \n",
       "299998  1f820c7ce  ab0ce192b  \n",
       "299999  c13d3ebdf  ad1af2b45  \n",
       "\n",
       "[300000 rows x 9 columns]"
      ]
     },
     "execution_count": 37,
     "metadata": {},
     "output_type": "execute_result"
    }
   ],
   "source": [
    "data[['nom_0', 'nom_2', 'nom_3', 'nom_4', 'nom_5', 'nom_6', 'nom_7', 'nom_8', 'nom_9']]"
   ]
  },
  {
   "cell_type": "code",
   "execution_count": 38,
   "metadata": {
    "execution": {
     "iopub.execute_input": "2021-03-20T15:18:43.117054Z",
     "iopub.status.busy": "2021-03-20T15:18:43.114196Z",
     "iopub.status.idle": "2021-03-20T15:18:43.121695Z",
     "shell.execute_reply": "2021-03-20T15:18:43.121034Z"
    },
    "papermill": {
     "duration": 0.188596,
     "end_time": "2021-03-20T15:18:43.121841",
     "exception": false,
     "start_time": "2021-03-20T15:18:42.933245",
     "status": "completed"
    },
    "tags": []
   },
   "outputs": [
    {
     "data": {
      "text/plain": [
       "Trapezoid    101181\n",
       "Square        49597\n",
       "Star          45904\n",
       "Circle        37320\n",
       "Polygon       36143\n",
       "Triangle      29855\n",
       "Name: nom_1, dtype: int64"
      ]
     },
     "execution_count": 38,
     "metadata": {},
     "output_type": "execute_result"
    }
   ],
   "source": [
    "data['nom_1'].value_counts()"
   ]
  },
  {
   "cell_type": "code",
   "execution_count": 39,
   "metadata": {
    "execution": {
     "iopub.execute_input": "2021-03-20T15:18:43.406081Z",
     "iopub.status.busy": "2021-03-20T15:18:43.405381Z",
     "iopub.status.idle": "2021-03-20T15:18:43.413349Z",
     "shell.execute_reply": "2021-03-20T15:18:43.412692Z"
    },
    "papermill": {
     "duration": 0.18931,
     "end_time": "2021-03-20T15:18:43.413509",
     "exception": false,
     "start_time": "2021-03-20T15:18:43.224199",
     "status": "completed"
    },
    "tags": []
   },
   "outputs": [
    {
     "data": {
      "text/plain": [
       "Lion       101295\n",
       "Cat         49659\n",
       "Snake       45979\n",
       "Dog         37444\n",
       "Axolotl     36136\n",
       "Hamster     29487\n",
       "Name: nom_2, dtype: int64"
      ]
     },
     "execution_count": 39,
     "metadata": {},
     "output_type": "execute_result"
    }
   ],
   "source": [
    "data['nom_2'].value_counts()"
   ]
  },
  {
   "cell_type": "code",
   "execution_count": 40,
   "metadata": {
    "execution": {
     "iopub.execute_input": "2021-03-20T15:18:43.699627Z",
     "iopub.status.busy": "2021-03-20T15:18:43.697428Z",
     "iopub.status.idle": "2021-03-20T15:18:43.703164Z",
     "shell.execute_reply": "2021-03-20T15:18:43.703688Z"
    },
    "papermill": {
     "duration": 0.187143,
     "end_time": "2021-03-20T15:18:43.703916",
     "exception": false,
     "start_time": "2021-03-20T15:18:43.516773",
     "status": "completed"
    },
    "tags": []
   },
   "outputs": [
    {
     "data": {
      "text/plain": [
       "Russia        101123\n",
       "Canada         49951\n",
       "China          46044\n",
       "Finland        36942\n",
       "Costa Rica     35988\n",
       "India          29952\n",
       "Name: nom_3, dtype: int64"
      ]
     },
     "execution_count": 40,
     "metadata": {},
     "output_type": "execute_result"
    }
   ],
   "source": [
    "data['nom_3'].value_counts()"
   ]
  },
  {
   "cell_type": "code",
   "execution_count": 41,
   "metadata": {
    "execution": {
     "iopub.execute_input": "2021-03-20T15:18:44.026006Z",
     "iopub.status.busy": "2021-03-20T15:18:44.023497Z",
     "iopub.status.idle": "2021-03-20T15:18:44.030105Z",
     "shell.execute_reply": "2021-03-20T15:18:44.030646Z"
    },
    "papermill": {
     "duration": 0.213133,
     "end_time": "2021-03-20T15:18:44.030831",
     "exception": false,
     "start_time": "2021-03-20T15:18:43.817698",
     "status": "completed"
    },
    "tags": []
   },
   "outputs": [
    {
     "data": {
      "text/plain": [
       "Oboe        92293\n",
       "Piano       84517\n",
       "Bassoon     68448\n",
       "Theremin    54742\n",
       "Name: nom_4, dtype: int64"
      ]
     },
     "execution_count": 41,
     "metadata": {},
     "output_type": "execute_result"
    }
   ],
   "source": [
    "data['nom_4'].value_counts()"
   ]
  },
  {
   "cell_type": "code",
   "execution_count": 42,
   "metadata": {
    "execution": {
     "iopub.execute_input": "2021-03-20T15:18:44.320648Z",
     "iopub.status.busy": "2021-03-20T15:18:44.317431Z",
     "iopub.status.idle": "2021-03-20T15:18:44.325191Z",
     "shell.execute_reply": "2021-03-20T15:18:44.324554Z"
    },
    "papermill": {
     "duration": 0.189316,
     "end_time": "2021-03-20T15:18:44.325373",
     "exception": false,
     "start_time": "2021-03-20T15:18:44.136057",
     "status": "completed"
    },
    "tags": []
   },
   "outputs": [
    {
     "data": {
      "text/plain": [
       "f7821e391    2801\n",
       "06eeaf0aa    2750\n",
       "472efea17    2729\n",
       "20b10a832    2725\n",
       "b97f51ac4    2717\n",
       "             ... \n",
       "91c80026f      64\n",
       "88f104c00      59\n",
       "f802a9849      46\n",
       "1fd0233cd      41\n",
       "f710fca39      26\n",
       "Name: nom_5, Length: 222, dtype: int64"
      ]
     },
     "execution_count": 42,
     "metadata": {},
     "output_type": "execute_result"
    }
   ],
   "source": [
    "data['nom_5'].value_counts()"
   ]
  },
  {
   "cell_type": "code",
   "execution_count": 43,
   "metadata": {
    "execution": {
     "iopub.execute_input": "2021-03-20T15:18:44.613821Z",
     "iopub.status.busy": "2021-03-20T15:18:44.613134Z",
     "iopub.status.idle": "2021-03-20T15:18:44.621885Z",
     "shell.execute_reply": "2021-03-20T15:18:44.621151Z"
    },
    "papermill": {
     "duration": 0.191402,
     "end_time": "2021-03-20T15:18:44.622066",
     "exception": false,
     "start_time": "2021-03-20T15:18:44.430664",
     "status": "completed"
    },
    "tags": []
   },
   "outputs": [
    {
     "data": {
      "text/plain": [
       "d173ac7ca    1218\n",
       "2ed5a94b0    1210\n",
       "c9eedfbc2    1193\n",
       "50d7ad46a    1175\n",
       "0922e3cb8    1169\n",
       "             ... \n",
       "26bf5ddd9      16\n",
       "28630a5c8      12\n",
       "8367b78fc      11\n",
       "e97824431       8\n",
       "4dcab4fc8       5\n",
       "Name: nom_6, Length: 522, dtype: int64"
      ]
     },
     "execution_count": 43,
     "metadata": {},
     "output_type": "execute_result"
    }
   ],
   "source": [
    "data['nom_6'].value_counts()"
   ]
  },
  {
   "cell_type": "code",
   "execution_count": 44,
   "metadata": {
    "execution": {
     "iopub.execute_input": "2021-03-20T15:18:44.919528Z",
     "iopub.status.busy": "2021-03-20T15:18:44.918789Z",
     "iopub.status.idle": "2021-03-20T15:18:44.927287Z",
     "shell.execute_reply": "2021-03-20T15:18:44.926579Z"
    },
    "papermill": {
     "duration": 0.197301,
     "end_time": "2021-03-20T15:18:44.927432",
     "exception": false,
     "start_time": "2021-03-20T15:18:44.730131",
     "status": "completed"
    },
    "tags": []
   },
   "outputs": [
    {
     "data": {
      "text/plain": [
       "3a114adea    534\n",
       "3b679e531    518\n",
       "6f3940b72    518\n",
       "fcf2b8dce    517\n",
       "fe27cc23d    515\n",
       "            ... \n",
       "bc05442e1      3\n",
       "446df0c98      3\n",
       "f718e6e9c      3\n",
       "74a1b69b1      2\n",
       "3460d7c4b      1\n",
       "Name: nom_7, Length: 1220, dtype: int64"
      ]
     },
     "execution_count": 44,
     "metadata": {},
     "output_type": "execute_result"
    }
   ],
   "source": [
    "data['nom_7'].value_counts()"
   ]
  },
  {
   "cell_type": "code",
   "execution_count": 45,
   "metadata": {
    "execution": {
     "iopub.execute_input": "2021-03-20T15:18:45.181231Z",
     "iopub.status.busy": "2021-03-20T15:18:45.174610Z",
     "iopub.status.idle": "2021-03-20T15:18:45.190434Z",
     "shell.execute_reply": "2021-03-20T15:18:45.189728Z"
    },
    "papermill": {
     "duration": 0.153189,
     "end_time": "2021-03-20T15:18:45.190584",
     "exception": false,
     "start_time": "2021-03-20T15:18:45.037395",
     "status": "completed"
    },
    "tags": []
   },
   "outputs": [],
   "source": [
    "data.drop(['ord_5', 'nom_5', 'nom_6', 'nom_7', 'nom_8', 'nom_9'], axis = 1, inplace = True)"
   ]
  },
  {
   "cell_type": "code",
   "execution_count": null,
   "metadata": {
    "papermill": {
     "duration": 0.105049,
     "end_time": "2021-03-20T15:18:45.401229",
     "exception": false,
     "start_time": "2021-03-20T15:18:45.296180",
     "status": "completed"
    },
    "tags": []
   },
   "outputs": [],
   "source": []
  },
  {
   "cell_type": "code",
   "execution_count": 46,
   "metadata": {
    "execution": {
     "iopub.execute_input": "2021-03-20T15:18:45.623046Z",
     "iopub.status.busy": "2021-03-20T15:18:45.622329Z",
     "iopub.status.idle": "2021-03-20T15:18:45.626581Z",
     "shell.execute_reply": "2021-03-20T15:18:45.625914Z"
    },
    "papermill": {
     "duration": 0.11774,
     "end_time": "2021-03-20T15:18:45.626732",
     "exception": false,
     "start_time": "2021-03-20T15:18:45.508992",
     "status": "completed"
    },
    "tags": []
   },
   "outputs": [
    {
     "data": {
      "text/plain": [
       "\"data['day'] = data['day'] / 7.0\\n\\ndata['month'] = data['month'] / 12.0\""
      ]
     },
     "execution_count": 46,
     "metadata": {},
     "output_type": "execute_result"
    }
   ],
   "source": [
    "\"\"\"data['day'] = data['day'] / 7.0\n",
    "\n",
    "data['month'] = data['month'] / 12.0\"\"\""
   ]
  },
  {
   "cell_type": "code",
   "execution_count": 47,
   "metadata": {
    "execution": {
     "iopub.execute_input": "2021-03-20T15:18:45.865987Z",
     "iopub.status.busy": "2021-03-20T15:18:45.865085Z",
     "iopub.status.idle": "2021-03-20T15:18:45.870348Z",
     "shell.execute_reply": "2021-03-20T15:18:45.869574Z"
    },
    "papermill": {
     "duration": 0.133111,
     "end_time": "2021-03-20T15:18:45.870497",
     "exception": false,
     "start_time": "2021-03-20T15:18:45.737386",
     "status": "completed"
    },
    "tags": []
   },
   "outputs": [
    {
     "data": {
      "text/html": [
       "<div>\n",
       "<style scoped>\n",
       "    .dataframe tbody tr th:only-of-type {\n",
       "        vertical-align: middle;\n",
       "    }\n",
       "\n",
       "    .dataframe tbody tr th {\n",
       "        vertical-align: top;\n",
       "    }\n",
       "\n",
       "    .dataframe thead th {\n",
       "        text-align: right;\n",
       "    }\n",
       "</style>\n",
       "<table border=\"1\" class=\"dataframe\">\n",
       "  <thead>\n",
       "    <tr style=\"text-align: right;\">\n",
       "      <th></th>\n",
       "      <th>bin_0</th>\n",
       "      <th>bin_1</th>\n",
       "      <th>bin_2</th>\n",
       "      <th>bin_3</th>\n",
       "      <th>bin_4</th>\n",
       "      <th>nom_0</th>\n",
       "      <th>nom_1</th>\n",
       "      <th>nom_2</th>\n",
       "      <th>nom_3</th>\n",
       "      <th>nom_4</th>\n",
       "      <th>ord_0</th>\n",
       "      <th>ord_1</th>\n",
       "      <th>ord_2</th>\n",
       "      <th>ord_3</th>\n",
       "      <th>ord_4</th>\n",
       "      <th>day</th>\n",
       "      <th>month</th>\n",
       "      <th>target</th>\n",
       "      <th>ord_5a</th>\n",
       "      <th>ord_5b</th>\n",
       "    </tr>\n",
       "  </thead>\n",
       "  <tbody>\n",
       "    <tr>\n",
       "      <th>0</th>\n",
       "      <td>0</td>\n",
       "      <td>0</td>\n",
       "      <td>0</td>\n",
       "      <td>1</td>\n",
       "      <td>1</td>\n",
       "      <td>Green</td>\n",
       "      <td>Triangle</td>\n",
       "      <td>Snake</td>\n",
       "      <td>Finland</td>\n",
       "      <td>Bassoon</td>\n",
       "      <td>2</td>\n",
       "      <td>4</td>\n",
       "      <td>1</td>\n",
       "      <td>7</td>\n",
       "      <td>3</td>\n",
       "      <td>2</td>\n",
       "      <td>2</td>\n",
       "      <td>0</td>\n",
       "      <td>36</td>\n",
       "      <td>43</td>\n",
       "    </tr>\n",
       "    <tr>\n",
       "      <th>1</th>\n",
       "      <td>0</td>\n",
       "      <td>1</td>\n",
       "      <td>0</td>\n",
       "      <td>1</td>\n",
       "      <td>1</td>\n",
       "      <td>Green</td>\n",
       "      <td>Trapezoid</td>\n",
       "      <td>Hamster</td>\n",
       "      <td>Russia</td>\n",
       "      <td>Piano</td>\n",
       "      <td>1</td>\n",
       "      <td>4</td>\n",
       "      <td>3</td>\n",
       "      <td>0</td>\n",
       "      <td>0</td>\n",
       "      <td>7</td>\n",
       "      <td>8</td>\n",
       "      <td>0</td>\n",
       "      <td>27</td>\n",
       "      <td>5</td>\n",
       "    </tr>\n",
       "    <tr>\n",
       "      <th>2</th>\n",
       "      <td>0</td>\n",
       "      <td>0</td>\n",
       "      <td>0</td>\n",
       "      <td>0</td>\n",
       "      <td>1</td>\n",
       "      <td>Blue</td>\n",
       "      <td>Trapezoid</td>\n",
       "      <td>Lion</td>\n",
       "      <td>Russia</td>\n",
       "      <td>Theremin</td>\n",
       "      <td>1</td>\n",
       "      <td>2</td>\n",
       "      <td>4</td>\n",
       "      <td>7</td>\n",
       "      <td>17</td>\n",
       "      <td>7</td>\n",
       "      <td>2</td>\n",
       "      <td>0</td>\n",
       "      <td>9</td>\n",
       "      <td>28</td>\n",
       "    </tr>\n",
       "    <tr>\n",
       "      <th>3</th>\n",
       "      <td>0</td>\n",
       "      <td>1</td>\n",
       "      <td>0</td>\n",
       "      <td>0</td>\n",
       "      <td>1</td>\n",
       "      <td>Red</td>\n",
       "      <td>Trapezoid</td>\n",
       "      <td>Snake</td>\n",
       "      <td>Canada</td>\n",
       "      <td>Oboe</td>\n",
       "      <td>1</td>\n",
       "      <td>4</td>\n",
       "      <td>0</td>\n",
       "      <td>8</td>\n",
       "      <td>3</td>\n",
       "      <td>2</td>\n",
       "      <td>1</td>\n",
       "      <td>1</td>\n",
       "      <td>36</td>\n",
       "      <td>22</td>\n",
       "    </tr>\n",
       "    <tr>\n",
       "      <th>4</th>\n",
       "      <td>0</td>\n",
       "      <td>0</td>\n",
       "      <td>0</td>\n",
       "      <td>0</td>\n",
       "      <td>0</td>\n",
       "      <td>Red</td>\n",
       "      <td>Trapezoid</td>\n",
       "      <td>Lion</td>\n",
       "      <td>Canada</td>\n",
       "      <td>Oboe</td>\n",
       "      <td>1</td>\n",
       "      <td>4</td>\n",
       "      <td>2</td>\n",
       "      <td>0</td>\n",
       "      <td>17</td>\n",
       "      <td>7</td>\n",
       "      <td>8</td>\n",
       "      <td>0</td>\n",
       "      <td>42</td>\n",
       "      <td>15</td>\n",
       "    </tr>\n",
       "  </tbody>\n",
       "</table>\n",
       "</div>"
      ],
      "text/plain": [
       "   bin_0  bin_1  bin_2  bin_3  bin_4  nom_0      nom_1    nom_2    nom_3  \\\n",
       "0      0      0      0      1      1  Green   Triangle    Snake  Finland   \n",
       "1      0      1      0      1      1  Green  Trapezoid  Hamster   Russia   \n",
       "2      0      0      0      0      1   Blue  Trapezoid     Lion   Russia   \n",
       "3      0      1      0      0      1    Red  Trapezoid    Snake   Canada   \n",
       "4      0      0      0      0      0    Red  Trapezoid     Lion   Canada   \n",
       "\n",
       "      nom_4  ord_0  ord_1  ord_2  ord_3  ord_4  day  month  target  ord_5a  \\\n",
       "0   Bassoon      2      4      1      7      3    2      2       0      36   \n",
       "1     Piano      1      4      3      0      0    7      8       0      27   \n",
       "2  Theremin      1      2      4      7     17    7      2       0       9   \n",
       "3      Oboe      1      4      0      8      3    2      1       1      36   \n",
       "4      Oboe      1      4      2      0     17    7      8       0      42   \n",
       "\n",
       "   ord_5b  \n",
       "0      43  \n",
       "1       5  \n",
       "2      28  \n",
       "3      22  \n",
       "4      15  "
      ]
     },
     "execution_count": 47,
     "metadata": {},
     "output_type": "execute_result"
    }
   ],
   "source": [
    "data.head()"
   ]
  },
  {
   "cell_type": "markdown",
   "metadata": {
    "papermill": {
     "duration": 0.112448,
     "end_time": "2021-03-20T15:18:46.143604",
     "exception": false,
     "start_time": "2021-03-20T15:18:46.031156",
     "status": "completed"
    },
    "tags": []
   },
   "source": [
    "Let's encode the remaining of the nominal values"
   ]
  },
  {
   "cell_type": "code",
   "execution_count": 48,
   "metadata": {
    "execution": {
     "iopub.execute_input": "2021-03-20T15:18:46.444354Z",
     "iopub.status.busy": "2021-03-20T15:18:46.413235Z",
     "iopub.status.idle": "2021-03-20T15:18:46.452513Z",
     "shell.execute_reply": "2021-03-20T15:18:46.451710Z"
    },
    "papermill": {
     "duration": 0.198326,
     "end_time": "2021-03-20T15:18:46.452659",
     "exception": false,
     "start_time": "2021-03-20T15:18:46.254333",
     "status": "completed"
    },
    "tags": []
   },
   "outputs": [
    {
     "data": {
      "text/plain": [
       "Trapezoid    101181\n",
       "Square        49597\n",
       "Star          45904\n",
       "Circle        37320\n",
       "Polygon       36143\n",
       "Triangle      29855\n",
       "Name: nom_1, dtype: int64"
      ]
     },
     "execution_count": 48,
     "metadata": {},
     "output_type": "execute_result"
    }
   ],
   "source": [
    "data['nom_1'].value_counts()"
   ]
  },
  {
   "cell_type": "code",
   "execution_count": 49,
   "metadata": {
    "execution": {
     "iopub.execute_input": "2021-03-20T15:18:46.735249Z",
     "iopub.status.busy": "2021-03-20T15:18:46.734152Z",
     "iopub.status.idle": "2021-03-20T15:18:46.755289Z",
     "shell.execute_reply": "2021-03-20T15:18:46.755794Z"
    },
    "papermill": {
     "duration": 0.187492,
     "end_time": "2021-03-20T15:18:46.756017",
     "exception": false,
     "start_time": "2021-03-20T15:18:46.568525",
     "status": "completed"
    },
    "tags": []
   },
   "outputs": [],
   "source": [
    "m1_nom1 = {'Trapezoid' : 0, 'Square' : 1, 'Star' : 2, 'Circle' : 3, 'Polygon' : 4, 'Triangle' : 5}\n",
    "\n",
    "data['nom_1'] = data['nom_1'].map(m1_nom1)"
   ]
  },
  {
   "cell_type": "code",
   "execution_count": 50,
   "metadata": {
    "execution": {
     "iopub.execute_input": "2021-03-20T15:18:47.028164Z",
     "iopub.status.busy": "2021-03-20T15:18:47.027201Z",
     "iopub.status.idle": "2021-03-20T15:18:47.067733Z",
     "shell.execute_reply": "2021-03-20T15:18:47.067216Z"
    },
    "papermill": {
     "duration": 0.200979,
     "end_time": "2021-03-20T15:18:47.067882",
     "exception": false,
     "start_time": "2021-03-20T15:18:46.866903",
     "status": "completed"
    },
    "tags": []
   },
   "outputs": [
    {
     "data": {
      "text/plain": [
       "Lion       101295\n",
       "Cat         49659\n",
       "Snake       45979\n",
       "Dog         37444\n",
       "Axolotl     36136\n",
       "Hamster     29487\n",
       "Name: nom_2, dtype: int64"
      ]
     },
     "execution_count": 50,
     "metadata": {},
     "output_type": "execute_result"
    }
   ],
   "source": [
    "data['nom_2'].value_counts()"
   ]
  },
  {
   "cell_type": "code",
   "execution_count": 51,
   "metadata": {
    "execution": {
     "iopub.execute_input": "2021-03-20T15:18:47.343515Z",
     "iopub.status.busy": "2021-03-20T15:18:47.342810Z",
     "iopub.status.idle": "2021-03-20T15:18:47.362028Z",
     "shell.execute_reply": "2021-03-20T15:18:47.361434Z"
    },
    "papermill": {
     "duration": 0.181043,
     "end_time": "2021-03-20T15:18:47.362191",
     "exception": false,
     "start_time": "2021-03-20T15:18:47.181148",
     "status": "completed"
    },
    "tags": []
   },
   "outputs": [],
   "source": [
    "m2_nom2 = {'Lion' : 0, 'Cat' : 1, 'Snake' : 2, 'Dog' : 3, 'Axolotl' : 4, 'Hamster' : 5}\n",
    "data['nom_2'] = data['nom_2'].map(m2_nom2)"
   ]
  },
  {
   "cell_type": "code",
   "execution_count": 52,
   "metadata": {
    "execution": {
     "iopub.execute_input": "2021-03-20T15:18:47.666273Z",
     "iopub.status.busy": "2021-03-20T15:18:47.663635Z",
     "iopub.status.idle": "2021-03-20T15:18:47.671229Z",
     "shell.execute_reply": "2021-03-20T15:18:47.670624Z"
    },
    "papermill": {
     "duration": 0.199456,
     "end_time": "2021-03-20T15:18:47.671374",
     "exception": false,
     "start_time": "2021-03-20T15:18:47.471918",
     "status": "completed"
    },
    "tags": []
   },
   "outputs": [
    {
     "data": {
      "text/plain": [
       "Russia        101123\n",
       "Canada         49951\n",
       "China          46044\n",
       "Finland        36942\n",
       "Costa Rica     35988\n",
       "India          29952\n",
       "Name: nom_3, dtype: int64"
      ]
     },
     "execution_count": 52,
     "metadata": {},
     "output_type": "execute_result"
    }
   ],
   "source": [
    "data['nom_3'].value_counts()"
   ]
  },
  {
   "cell_type": "code",
   "execution_count": 53,
   "metadata": {
    "execution": {
     "iopub.execute_input": "2021-03-20T15:18:47.946103Z",
     "iopub.status.busy": "2021-03-20T15:18:47.910244Z",
     "iopub.status.idle": "2021-03-20T15:18:47.955627Z",
     "shell.execute_reply": "2021-03-20T15:18:47.955045Z"
    },
    "papermill": {
     "duration": 0.170471,
     "end_time": "2021-03-20T15:18:47.955771",
     "exception": false,
     "start_time": "2021-03-20T15:18:47.785300",
     "status": "completed"
    },
    "tags": []
   },
   "outputs": [],
   "source": [
    "m3_nom3 = {'Russia' : 0, 'Canada' : 1, 'China' : 2, 'Finland' : 3, 'Costa Rica' : 4, 'India' : 5}\n",
    "\n",
    "data['nom_3'] = data['nom_3'].map(m3_nom3)"
   ]
  },
  {
   "cell_type": "code",
   "execution_count": 54,
   "metadata": {
    "execution": {
     "iopub.execute_input": "2021-03-20T15:18:48.254289Z",
     "iopub.status.busy": "2021-03-20T15:18:48.253567Z",
     "iopub.status.idle": "2021-03-20T15:18:48.260515Z",
     "shell.execute_reply": "2021-03-20T15:18:48.259969Z"
    },
    "papermill": {
     "duration": 0.194,
     "end_time": "2021-03-20T15:18:48.260666",
     "exception": false,
     "start_time": "2021-03-20T15:18:48.066666",
     "status": "completed"
    },
    "tags": []
   },
   "outputs": [
    {
     "data": {
      "text/plain": [
       "Oboe        92293\n",
       "Piano       84517\n",
       "Bassoon     68448\n",
       "Theremin    54742\n",
       "Name: nom_4, dtype: int64"
      ]
     },
     "execution_count": 54,
     "metadata": {},
     "output_type": "execute_result"
    }
   ],
   "source": [
    "data['nom_4'].value_counts()"
   ]
  },
  {
   "cell_type": "code",
   "execution_count": 55,
   "metadata": {
    "execution": {
     "iopub.execute_input": "2021-03-20T15:18:48.522381Z",
     "iopub.status.busy": "2021-03-20T15:18:48.521078Z",
     "iopub.status.idle": "2021-03-20T15:18:48.528662Z",
     "shell.execute_reply": "2021-03-20T15:18:48.528154Z"
    },
    "papermill": {
     "duration": 0.158256,
     "end_time": "2021-03-20T15:18:48.528809",
     "exception": false,
     "start_time": "2021-03-20T15:18:48.370553",
     "status": "completed"
    },
    "tags": []
   },
   "outputs": [],
   "source": [
    "m4_nom4 = {'Oboe' : 0, 'Piano' : 1, 'Bassoon' : 2, 'Theremin' : 3}\n",
    "\n",
    "data['nom_4'] = data['nom_4'].map(m4_nom4)"
   ]
  },
  {
   "cell_type": "code",
   "execution_count": 56,
   "metadata": {
    "execution": {
     "iopub.execute_input": "2021-03-20T15:18:48.767609Z",
     "iopub.status.busy": "2021-03-20T15:18:48.766768Z",
     "iopub.status.idle": "2021-03-20T15:18:48.771227Z",
     "shell.execute_reply": "2021-03-20T15:18:48.770635Z"
    },
    "papermill": {
     "duration": 0.131119,
     "end_time": "2021-03-20T15:18:48.771370",
     "exception": false,
     "start_time": "2021-03-20T15:18:48.640251",
     "status": "completed"
    },
    "tags": []
   },
   "outputs": [
    {
     "data": {
      "text/html": [
       "<div>\n",
       "<style scoped>\n",
       "    .dataframe tbody tr th:only-of-type {\n",
       "        vertical-align: middle;\n",
       "    }\n",
       "\n",
       "    .dataframe tbody tr th {\n",
       "        vertical-align: top;\n",
       "    }\n",
       "\n",
       "    .dataframe thead th {\n",
       "        text-align: right;\n",
       "    }\n",
       "</style>\n",
       "<table border=\"1\" class=\"dataframe\">\n",
       "  <thead>\n",
       "    <tr style=\"text-align: right;\">\n",
       "      <th></th>\n",
       "      <th>bin_0</th>\n",
       "      <th>bin_1</th>\n",
       "      <th>bin_2</th>\n",
       "      <th>bin_3</th>\n",
       "      <th>bin_4</th>\n",
       "      <th>nom_0</th>\n",
       "      <th>nom_1</th>\n",
       "      <th>nom_2</th>\n",
       "      <th>nom_3</th>\n",
       "      <th>nom_4</th>\n",
       "      <th>ord_0</th>\n",
       "      <th>ord_1</th>\n",
       "      <th>ord_2</th>\n",
       "      <th>ord_3</th>\n",
       "      <th>ord_4</th>\n",
       "      <th>day</th>\n",
       "      <th>month</th>\n",
       "      <th>target</th>\n",
       "      <th>ord_5a</th>\n",
       "      <th>ord_5b</th>\n",
       "    </tr>\n",
       "  </thead>\n",
       "  <tbody>\n",
       "    <tr>\n",
       "      <th>0</th>\n",
       "      <td>0</td>\n",
       "      <td>0</td>\n",
       "      <td>0</td>\n",
       "      <td>1</td>\n",
       "      <td>1</td>\n",
       "      <td>Green</td>\n",
       "      <td>5</td>\n",
       "      <td>2</td>\n",
       "      <td>3</td>\n",
       "      <td>2</td>\n",
       "      <td>2</td>\n",
       "      <td>4</td>\n",
       "      <td>1</td>\n",
       "      <td>7</td>\n",
       "      <td>3</td>\n",
       "      <td>2</td>\n",
       "      <td>2</td>\n",
       "      <td>0</td>\n",
       "      <td>36</td>\n",
       "      <td>43</td>\n",
       "    </tr>\n",
       "    <tr>\n",
       "      <th>1</th>\n",
       "      <td>0</td>\n",
       "      <td>1</td>\n",
       "      <td>0</td>\n",
       "      <td>1</td>\n",
       "      <td>1</td>\n",
       "      <td>Green</td>\n",
       "      <td>0</td>\n",
       "      <td>5</td>\n",
       "      <td>0</td>\n",
       "      <td>1</td>\n",
       "      <td>1</td>\n",
       "      <td>4</td>\n",
       "      <td>3</td>\n",
       "      <td>0</td>\n",
       "      <td>0</td>\n",
       "      <td>7</td>\n",
       "      <td>8</td>\n",
       "      <td>0</td>\n",
       "      <td>27</td>\n",
       "      <td>5</td>\n",
       "    </tr>\n",
       "    <tr>\n",
       "      <th>2</th>\n",
       "      <td>0</td>\n",
       "      <td>0</td>\n",
       "      <td>0</td>\n",
       "      <td>0</td>\n",
       "      <td>1</td>\n",
       "      <td>Blue</td>\n",
       "      <td>0</td>\n",
       "      <td>0</td>\n",
       "      <td>0</td>\n",
       "      <td>3</td>\n",
       "      <td>1</td>\n",
       "      <td>2</td>\n",
       "      <td>4</td>\n",
       "      <td>7</td>\n",
       "      <td>17</td>\n",
       "      <td>7</td>\n",
       "      <td>2</td>\n",
       "      <td>0</td>\n",
       "      <td>9</td>\n",
       "      <td>28</td>\n",
       "    </tr>\n",
       "    <tr>\n",
       "      <th>3</th>\n",
       "      <td>0</td>\n",
       "      <td>1</td>\n",
       "      <td>0</td>\n",
       "      <td>0</td>\n",
       "      <td>1</td>\n",
       "      <td>Red</td>\n",
       "      <td>0</td>\n",
       "      <td>2</td>\n",
       "      <td>1</td>\n",
       "      <td>0</td>\n",
       "      <td>1</td>\n",
       "      <td>4</td>\n",
       "      <td>0</td>\n",
       "      <td>8</td>\n",
       "      <td>3</td>\n",
       "      <td>2</td>\n",
       "      <td>1</td>\n",
       "      <td>1</td>\n",
       "      <td>36</td>\n",
       "      <td>22</td>\n",
       "    </tr>\n",
       "    <tr>\n",
       "      <th>4</th>\n",
       "      <td>0</td>\n",
       "      <td>0</td>\n",
       "      <td>0</td>\n",
       "      <td>0</td>\n",
       "      <td>0</td>\n",
       "      <td>Red</td>\n",
       "      <td>0</td>\n",
       "      <td>0</td>\n",
       "      <td>1</td>\n",
       "      <td>0</td>\n",
       "      <td>1</td>\n",
       "      <td>4</td>\n",
       "      <td>2</td>\n",
       "      <td>0</td>\n",
       "      <td>17</td>\n",
       "      <td>7</td>\n",
       "      <td>8</td>\n",
       "      <td>0</td>\n",
       "      <td>42</td>\n",
       "      <td>15</td>\n",
       "    </tr>\n",
       "  </tbody>\n",
       "</table>\n",
       "</div>"
      ],
      "text/plain": [
       "   bin_0  bin_1  bin_2  bin_3  bin_4  nom_0  nom_1  nom_2  nom_3  nom_4  \\\n",
       "0      0      0      0      1      1  Green      5      2      3      2   \n",
       "1      0      1      0      1      1  Green      0      5      0      1   \n",
       "2      0      0      0      0      1   Blue      0      0      0      3   \n",
       "3      0      1      0      0      1    Red      0      2      1      0   \n",
       "4      0      0      0      0      0    Red      0      0      1      0   \n",
       "\n",
       "   ord_0  ord_1  ord_2  ord_3  ord_4  day  month  target  ord_5a  ord_5b  \n",
       "0      2      4      1      7      3    2      2       0      36      43  \n",
       "1      1      4      3      0      0    7      8       0      27       5  \n",
       "2      1      2      4      7     17    7      2       0       9      28  \n",
       "3      1      4      0      8      3    2      1       1      36      22  \n",
       "4      1      4      2      0     17    7      8       0      42      15  "
      ]
     },
     "execution_count": 56,
     "metadata": {},
     "output_type": "execute_result"
    }
   ],
   "source": [
    "data.head()"
   ]
  },
  {
   "cell_type": "code",
   "execution_count": 57,
   "metadata": {
    "execution": {
     "iopub.execute_input": "2021-03-20T15:18:49.073963Z",
     "iopub.status.busy": "2021-03-20T15:18:49.071512Z",
     "iopub.status.idle": "2021-03-20T15:18:49.078091Z",
     "shell.execute_reply": "2021-03-20T15:18:49.078646Z"
    },
    "papermill": {
     "duration": 0.196533,
     "end_time": "2021-03-20T15:18:49.078835",
     "exception": false,
     "start_time": "2021-03-20T15:18:48.882302",
     "status": "completed"
    },
    "tags": []
   },
   "outputs": [
    {
     "data": {
      "text/plain": [
       "Green    127341\n",
       "Blue      96166\n",
       "Red       76493\n",
       "Name: nom_0, dtype: int64"
      ]
     },
     "execution_count": 57,
     "metadata": {},
     "output_type": "execute_result"
    }
   ],
   "source": [
    "data['nom_0'].value_counts()"
   ]
  },
  {
   "cell_type": "code",
   "execution_count": 58,
   "metadata": {
    "execution": {
     "iopub.execute_input": "2021-03-20T15:18:49.342660Z",
     "iopub.status.busy": "2021-03-20T15:18:49.341946Z",
     "iopub.status.idle": "2021-03-20T15:18:49.347285Z",
     "shell.execute_reply": "2021-03-20T15:18:49.346627Z"
    },
    "papermill": {
     "duration": 0.156643,
     "end_time": "2021-03-20T15:18:49.347428",
     "exception": false,
     "start_time": "2021-03-20T15:18:49.190785",
     "status": "completed"
    },
    "tags": []
   },
   "outputs": [],
   "source": [
    "m0_nom0 = {'Green' : 0, 'Blue' : 1, 'Red' : 2}\n",
    "\n",
    "data['nom_0'] = data['nom_0'].map(m0_nom0)"
   ]
  },
  {
   "cell_type": "code",
   "execution_count": null,
   "metadata": {
    "papermill": {
     "duration": 0.110301,
     "end_time": "2021-03-20T15:18:49.569411",
     "exception": false,
     "start_time": "2021-03-20T15:18:49.459110",
     "status": "completed"
    },
    "tags": []
   },
   "outputs": [],
   "source": []
  },
  {
   "cell_type": "markdown",
   "metadata": {
    "papermill": {
     "duration": 0.111121,
     "end_time": "2021-03-20T15:18:49.791023",
     "exception": false,
     "start_time": "2021-03-20T15:18:49.679902",
     "status": "completed"
    },
    "tags": []
   },
   "source": [
    "Perform One Hot Encoding of the ordinal features"
   ]
  },
  {
   "cell_type": "markdown",
   "metadata": {
    "papermill": {
     "duration": 0.111401,
     "end_time": "2021-03-20T15:18:50.013132",
     "exception": false,
     "start_time": "2021-03-20T15:18:49.901731",
     "status": "completed"
    },
    "tags": []
   },
   "source": [
    "Label Encoding multiple columns"
   ]
  },
  {
   "cell_type": "code",
   "execution_count": 59,
   "metadata": {
    "execution": {
     "iopub.execute_input": "2021-03-20T15:18:50.245194Z",
     "iopub.status.busy": "2021-03-20T15:18:50.243574Z",
     "iopub.status.idle": "2021-03-20T15:18:50.374061Z",
     "shell.execute_reply": "2021-03-20T15:18:50.373407Z"
    },
    "papermill": {
     "duration": 0.247362,
     "end_time": "2021-03-20T15:18:50.374222",
     "exception": false,
     "start_time": "2021-03-20T15:18:50.126860",
     "status": "completed"
    },
    "tags": []
   },
   "outputs": [],
   "source": [
    "df_copy = data.copy()\n",
    "df_copy.drop(['target'], axis = 1, inplace = True)"
   ]
  },
  {
   "cell_type": "code",
   "execution_count": 60,
   "metadata": {
    "execution": {
     "iopub.execute_input": "2021-03-20T15:18:50.627099Z",
     "iopub.status.busy": "2021-03-20T15:18:50.625902Z",
     "iopub.status.idle": "2021-03-20T15:18:50.942904Z",
     "shell.execute_reply": "2021-03-20T15:18:50.943435Z"
    },
    "papermill": {
     "duration": 0.458088,
     "end_time": "2021-03-20T15:18:50.943606",
     "exception": false,
     "start_time": "2021-03-20T15:18:50.485518",
     "status": "completed"
    },
    "tags": []
   },
   "outputs": [
    {
     "data": {
      "text/html": [
       "<div>\n",
       "<style scoped>\n",
       "    .dataframe tbody tr th:only-of-type {\n",
       "        vertical-align: middle;\n",
       "    }\n",
       "\n",
       "    .dataframe tbody tr th {\n",
       "        vertical-align: top;\n",
       "    }\n",
       "\n",
       "    .dataframe thead th {\n",
       "        text-align: right;\n",
       "    }\n",
       "</style>\n",
       "<table border=\"1\" class=\"dataframe\">\n",
       "  <thead>\n",
       "    <tr style=\"text-align: right;\">\n",
       "      <th></th>\n",
       "      <th>bin_0_0</th>\n",
       "      <th>bin_0_1</th>\n",
       "      <th>bin_1_0</th>\n",
       "      <th>bin_1_1</th>\n",
       "      <th>bin_2_0</th>\n",
       "      <th>bin_2_1</th>\n",
       "      <th>bin_3_0</th>\n",
       "      <th>bin_3_1</th>\n",
       "      <th>bin_4_0</th>\n",
       "      <th>bin_4_1</th>\n",
       "      <th>...</th>\n",
       "      <th>ord_5b_41</th>\n",
       "      <th>ord_5b_42</th>\n",
       "      <th>ord_5b_43</th>\n",
       "      <th>ord_5b_44</th>\n",
       "      <th>ord_5b_45</th>\n",
       "      <th>ord_5b_46</th>\n",
       "      <th>ord_5b_47</th>\n",
       "      <th>ord_5b_48</th>\n",
       "      <th>ord_5b_49</th>\n",
       "      <th>ord_5b_50</th>\n",
       "    </tr>\n",
       "  </thead>\n",
       "  <tbody>\n",
       "    <tr>\n",
       "      <th>0</th>\n",
       "      <td>1</td>\n",
       "      <td>0</td>\n",
       "      <td>1</td>\n",
       "      <td>0</td>\n",
       "      <td>1</td>\n",
       "      <td>0</td>\n",
       "      <td>0</td>\n",
       "      <td>1</td>\n",
       "      <td>0</td>\n",
       "      <td>1</td>\n",
       "      <td>...</td>\n",
       "      <td>0</td>\n",
       "      <td>0</td>\n",
       "      <td>1</td>\n",
       "      <td>0</td>\n",
       "      <td>0</td>\n",
       "      <td>0</td>\n",
       "      <td>0</td>\n",
       "      <td>0</td>\n",
       "      <td>0</td>\n",
       "      <td>0</td>\n",
       "    </tr>\n",
       "    <tr>\n",
       "      <th>1</th>\n",
       "      <td>1</td>\n",
       "      <td>0</td>\n",
       "      <td>0</td>\n",
       "      <td>1</td>\n",
       "      <td>1</td>\n",
       "      <td>0</td>\n",
       "      <td>0</td>\n",
       "      <td>1</td>\n",
       "      <td>0</td>\n",
       "      <td>1</td>\n",
       "      <td>...</td>\n",
       "      <td>0</td>\n",
       "      <td>0</td>\n",
       "      <td>0</td>\n",
       "      <td>0</td>\n",
       "      <td>0</td>\n",
       "      <td>0</td>\n",
       "      <td>0</td>\n",
       "      <td>0</td>\n",
       "      <td>0</td>\n",
       "      <td>0</td>\n",
       "    </tr>\n",
       "    <tr>\n",
       "      <th>2</th>\n",
       "      <td>1</td>\n",
       "      <td>0</td>\n",
       "      <td>1</td>\n",
       "      <td>0</td>\n",
       "      <td>1</td>\n",
       "      <td>0</td>\n",
       "      <td>1</td>\n",
       "      <td>0</td>\n",
       "      <td>0</td>\n",
       "      <td>1</td>\n",
       "      <td>...</td>\n",
       "      <td>0</td>\n",
       "      <td>0</td>\n",
       "      <td>0</td>\n",
       "      <td>0</td>\n",
       "      <td>0</td>\n",
       "      <td>0</td>\n",
       "      <td>0</td>\n",
       "      <td>0</td>\n",
       "      <td>0</td>\n",
       "      <td>0</td>\n",
       "    </tr>\n",
       "    <tr>\n",
       "      <th>3</th>\n",
       "      <td>1</td>\n",
       "      <td>0</td>\n",
       "      <td>0</td>\n",
       "      <td>1</td>\n",
       "      <td>1</td>\n",
       "      <td>0</td>\n",
       "      <td>1</td>\n",
       "      <td>0</td>\n",
       "      <td>0</td>\n",
       "      <td>1</td>\n",
       "      <td>...</td>\n",
       "      <td>0</td>\n",
       "      <td>0</td>\n",
       "      <td>0</td>\n",
       "      <td>0</td>\n",
       "      <td>0</td>\n",
       "      <td>0</td>\n",
       "      <td>0</td>\n",
       "      <td>0</td>\n",
       "      <td>0</td>\n",
       "      <td>0</td>\n",
       "    </tr>\n",
       "    <tr>\n",
       "      <th>4</th>\n",
       "      <td>1</td>\n",
       "      <td>0</td>\n",
       "      <td>1</td>\n",
       "      <td>0</td>\n",
       "      <td>1</td>\n",
       "      <td>0</td>\n",
       "      <td>1</td>\n",
       "      <td>0</td>\n",
       "      <td>1</td>\n",
       "      <td>0</td>\n",
       "      <td>...</td>\n",
       "      <td>0</td>\n",
       "      <td>0</td>\n",
       "      <td>0</td>\n",
       "      <td>0</td>\n",
       "      <td>0</td>\n",
       "      <td>0</td>\n",
       "      <td>0</td>\n",
       "      <td>0</td>\n",
       "      <td>0</td>\n",
       "      <td>0</td>\n",
       "    </tr>\n",
       "    <tr>\n",
       "      <th>...</th>\n",
       "      <td>...</td>\n",
       "      <td>...</td>\n",
       "      <td>...</td>\n",
       "      <td>...</td>\n",
       "      <td>...</td>\n",
       "      <td>...</td>\n",
       "      <td>...</td>\n",
       "      <td>...</td>\n",
       "      <td>...</td>\n",
       "      <td>...</td>\n",
       "      <td>...</td>\n",
       "      <td>...</td>\n",
       "      <td>...</td>\n",
       "      <td>...</td>\n",
       "      <td>...</td>\n",
       "      <td>...</td>\n",
       "      <td>...</td>\n",
       "      <td>...</td>\n",
       "      <td>...</td>\n",
       "      <td>...</td>\n",
       "      <td>...</td>\n",
       "    </tr>\n",
       "    <tr>\n",
       "      <th>299995</th>\n",
       "      <td>1</td>\n",
       "      <td>0</td>\n",
       "      <td>1</td>\n",
       "      <td>0</td>\n",
       "      <td>1</td>\n",
       "      <td>0</td>\n",
       "      <td>0</td>\n",
       "      <td>1</td>\n",
       "      <td>1</td>\n",
       "      <td>0</td>\n",
       "      <td>...</td>\n",
       "      <td>0</td>\n",
       "      <td>0</td>\n",
       "      <td>0</td>\n",
       "      <td>0</td>\n",
       "      <td>0</td>\n",
       "      <td>0</td>\n",
       "      <td>0</td>\n",
       "      <td>0</td>\n",
       "      <td>0</td>\n",
       "      <td>0</td>\n",
       "    </tr>\n",
       "    <tr>\n",
       "      <th>299996</th>\n",
       "      <td>1</td>\n",
       "      <td>0</td>\n",
       "      <td>1</td>\n",
       "      <td>0</td>\n",
       "      <td>1</td>\n",
       "      <td>0</td>\n",
       "      <td>1</td>\n",
       "      <td>0</td>\n",
       "      <td>0</td>\n",
       "      <td>1</td>\n",
       "      <td>...</td>\n",
       "      <td>0</td>\n",
       "      <td>0</td>\n",
       "      <td>0</td>\n",
       "      <td>0</td>\n",
       "      <td>0</td>\n",
       "      <td>0</td>\n",
       "      <td>0</td>\n",
       "      <td>0</td>\n",
       "      <td>0</td>\n",
       "      <td>0</td>\n",
       "    </tr>\n",
       "    <tr>\n",
       "      <th>299997</th>\n",
       "      <td>1</td>\n",
       "      <td>0</td>\n",
       "      <td>1</td>\n",
       "      <td>0</td>\n",
       "      <td>1</td>\n",
       "      <td>0</td>\n",
       "      <td>1</td>\n",
       "      <td>0</td>\n",
       "      <td>0</td>\n",
       "      <td>1</td>\n",
       "      <td>...</td>\n",
       "      <td>0</td>\n",
       "      <td>0</td>\n",
       "      <td>0</td>\n",
       "      <td>0</td>\n",
       "      <td>0</td>\n",
       "      <td>0</td>\n",
       "      <td>0</td>\n",
       "      <td>0</td>\n",
       "      <td>0</td>\n",
       "      <td>0</td>\n",
       "    </tr>\n",
       "    <tr>\n",
       "      <th>299998</th>\n",
       "      <td>1</td>\n",
       "      <td>0</td>\n",
       "      <td>0</td>\n",
       "      <td>1</td>\n",
       "      <td>1</td>\n",
       "      <td>0</td>\n",
       "      <td>1</td>\n",
       "      <td>0</td>\n",
       "      <td>0</td>\n",
       "      <td>1</td>\n",
       "      <td>...</td>\n",
       "      <td>0</td>\n",
       "      <td>0</td>\n",
       "      <td>0</td>\n",
       "      <td>0</td>\n",
       "      <td>0</td>\n",
       "      <td>0</td>\n",
       "      <td>0</td>\n",
       "      <td>0</td>\n",
       "      <td>0</td>\n",
       "      <td>0</td>\n",
       "    </tr>\n",
       "    <tr>\n",
       "      <th>299999</th>\n",
       "      <td>1</td>\n",
       "      <td>0</td>\n",
       "      <td>1</td>\n",
       "      <td>0</td>\n",
       "      <td>1</td>\n",
       "      <td>0</td>\n",
       "      <td>1</td>\n",
       "      <td>0</td>\n",
       "      <td>0</td>\n",
       "      <td>1</td>\n",
       "      <td>...</td>\n",
       "      <td>0</td>\n",
       "      <td>0</td>\n",
       "      <td>0</td>\n",
       "      <td>0</td>\n",
       "      <td>0</td>\n",
       "      <td>0</td>\n",
       "      <td>0</td>\n",
       "      <td>0</td>\n",
       "      <td>0</td>\n",
       "      <td>0</td>\n",
       "    </tr>\n",
       "  </tbody>\n",
       "</table>\n",
       "<p>300000 rows × 212 columns</p>\n",
       "</div>"
      ],
      "text/plain": [
       "        bin_0_0  bin_0_1  bin_1_0  bin_1_1  bin_2_0  bin_2_1  bin_3_0  \\\n",
       "0             1        0        1        0        1        0        0   \n",
       "1             1        0        0        1        1        0        0   \n",
       "2             1        0        1        0        1        0        1   \n",
       "3             1        0        0        1        1        0        1   \n",
       "4             1        0        1        0        1        0        1   \n",
       "...         ...      ...      ...      ...      ...      ...      ...   \n",
       "299995        1        0        1        0        1        0        0   \n",
       "299996        1        0        1        0        1        0        1   \n",
       "299997        1        0        1        0        1        0        1   \n",
       "299998        1        0        0        1        1        0        1   \n",
       "299999        1        0        1        0        1        0        1   \n",
       "\n",
       "        bin_3_1  bin_4_0  bin_4_1  ...  ord_5b_41  ord_5b_42  ord_5b_43  \\\n",
       "0             1        0        1  ...          0          0          1   \n",
       "1             1        0        1  ...          0          0          0   \n",
       "2             0        0        1  ...          0          0          0   \n",
       "3             0        0        1  ...          0          0          0   \n",
       "4             0        1        0  ...          0          0          0   \n",
       "...         ...      ...      ...  ...        ...        ...        ...   \n",
       "299995        1        1        0  ...          0          0          0   \n",
       "299996        0        0        1  ...          0          0          0   \n",
       "299997        0        0        1  ...          0          0          0   \n",
       "299998        0        0        1  ...          0          0          0   \n",
       "299999        0        0        1  ...          0          0          0   \n",
       "\n",
       "        ord_5b_44  ord_5b_45  ord_5b_46  ord_5b_47  ord_5b_48  ord_5b_49  \\\n",
       "0               0          0          0          0          0          0   \n",
       "1               0          0          0          0          0          0   \n",
       "2               0          0          0          0          0          0   \n",
       "3               0          0          0          0          0          0   \n",
       "4               0          0          0          0          0          0   \n",
       "...           ...        ...        ...        ...        ...        ...   \n",
       "299995          0          0          0          0          0          0   \n",
       "299996          0          0          0          0          0          0   \n",
       "299997          0          0          0          0          0          0   \n",
       "299998          0          0          0          0          0          0   \n",
       "299999          0          0          0          0          0          0   \n",
       "\n",
       "        ord_5b_50  \n",
       "0               0  \n",
       "1               0  \n",
       "2               0  \n",
       "3               0  \n",
       "4               0  \n",
       "...           ...  \n",
       "299995          0  \n",
       "299996          0  \n",
       "299997          0  \n",
       "299998          0  \n",
       "299999          0  \n",
       "\n",
       "[300000 rows x 212 columns]"
      ]
     },
     "execution_count": 60,
     "metadata": {},
     "output_type": "execute_result"
    }
   ],
   "source": [
    "df_copy = pd.get_dummies(df_copy, columns = df_copy.columns)\n",
    "df_copy"
   ]
  },
  {
   "cell_type": "code",
   "execution_count": null,
   "metadata": {
    "papermill": {
     "duration": 0.11399,
     "end_time": "2021-03-20T15:18:51.171296",
     "exception": false,
     "start_time": "2021-03-20T15:18:51.057306",
     "status": "completed"
    },
    "tags": []
   },
   "outputs": [],
   "source": []
  },
  {
   "cell_type": "code",
   "execution_count": 61,
   "metadata": {
    "execution": {
     "iopub.execute_input": "2021-03-20T15:18:51.411641Z",
     "iopub.status.busy": "2021-03-20T15:18:51.410897Z",
     "iopub.status.idle": "2021-03-20T15:18:51.415177Z",
     "shell.execute_reply": "2021-03-20T15:18:51.414652Z"
    },
    "papermill": {
     "duration": 0.132054,
     "end_time": "2021-03-20T15:18:51.415332",
     "exception": false,
     "start_time": "2021-03-20T15:18:51.283278",
     "status": "completed"
    },
    "tags": []
   },
   "outputs": [
    {
     "data": {
      "text/html": [
       "<div>\n",
       "<style scoped>\n",
       "    .dataframe tbody tr th:only-of-type {\n",
       "        vertical-align: middle;\n",
       "    }\n",
       "\n",
       "    .dataframe tbody tr th {\n",
       "        vertical-align: top;\n",
       "    }\n",
       "\n",
       "    .dataframe thead th {\n",
       "        text-align: right;\n",
       "    }\n",
       "</style>\n",
       "<table border=\"1\" class=\"dataframe\">\n",
       "  <thead>\n",
       "    <tr style=\"text-align: right;\">\n",
       "      <th></th>\n",
       "      <th>bin_0</th>\n",
       "      <th>bin_1</th>\n",
       "      <th>bin_2</th>\n",
       "      <th>bin_3</th>\n",
       "      <th>bin_4</th>\n",
       "      <th>nom_0</th>\n",
       "      <th>nom_1</th>\n",
       "      <th>nom_2</th>\n",
       "      <th>nom_3</th>\n",
       "      <th>nom_4</th>\n",
       "      <th>ord_0</th>\n",
       "      <th>ord_1</th>\n",
       "      <th>ord_2</th>\n",
       "      <th>ord_3</th>\n",
       "      <th>ord_4</th>\n",
       "      <th>day</th>\n",
       "      <th>month</th>\n",
       "      <th>target</th>\n",
       "      <th>ord_5a</th>\n",
       "      <th>ord_5b</th>\n",
       "    </tr>\n",
       "  </thead>\n",
       "  <tbody>\n",
       "    <tr>\n",
       "      <th>0</th>\n",
       "      <td>0</td>\n",
       "      <td>0</td>\n",
       "      <td>0</td>\n",
       "      <td>1</td>\n",
       "      <td>1</td>\n",
       "      <td>0</td>\n",
       "      <td>5</td>\n",
       "      <td>2</td>\n",
       "      <td>3</td>\n",
       "      <td>2</td>\n",
       "      <td>2</td>\n",
       "      <td>4</td>\n",
       "      <td>1</td>\n",
       "      <td>7</td>\n",
       "      <td>3</td>\n",
       "      <td>2</td>\n",
       "      <td>2</td>\n",
       "      <td>0</td>\n",
       "      <td>36</td>\n",
       "      <td>43</td>\n",
       "    </tr>\n",
       "    <tr>\n",
       "      <th>1</th>\n",
       "      <td>0</td>\n",
       "      <td>1</td>\n",
       "      <td>0</td>\n",
       "      <td>1</td>\n",
       "      <td>1</td>\n",
       "      <td>0</td>\n",
       "      <td>0</td>\n",
       "      <td>5</td>\n",
       "      <td>0</td>\n",
       "      <td>1</td>\n",
       "      <td>1</td>\n",
       "      <td>4</td>\n",
       "      <td>3</td>\n",
       "      <td>0</td>\n",
       "      <td>0</td>\n",
       "      <td>7</td>\n",
       "      <td>8</td>\n",
       "      <td>0</td>\n",
       "      <td>27</td>\n",
       "      <td>5</td>\n",
       "    </tr>\n",
       "    <tr>\n",
       "      <th>2</th>\n",
       "      <td>0</td>\n",
       "      <td>0</td>\n",
       "      <td>0</td>\n",
       "      <td>0</td>\n",
       "      <td>1</td>\n",
       "      <td>1</td>\n",
       "      <td>0</td>\n",
       "      <td>0</td>\n",
       "      <td>0</td>\n",
       "      <td>3</td>\n",
       "      <td>1</td>\n",
       "      <td>2</td>\n",
       "      <td>4</td>\n",
       "      <td>7</td>\n",
       "      <td>17</td>\n",
       "      <td>7</td>\n",
       "      <td>2</td>\n",
       "      <td>0</td>\n",
       "      <td>9</td>\n",
       "      <td>28</td>\n",
       "    </tr>\n",
       "    <tr>\n",
       "      <th>3</th>\n",
       "      <td>0</td>\n",
       "      <td>1</td>\n",
       "      <td>0</td>\n",
       "      <td>0</td>\n",
       "      <td>1</td>\n",
       "      <td>2</td>\n",
       "      <td>0</td>\n",
       "      <td>2</td>\n",
       "      <td>1</td>\n",
       "      <td>0</td>\n",
       "      <td>1</td>\n",
       "      <td>4</td>\n",
       "      <td>0</td>\n",
       "      <td>8</td>\n",
       "      <td>3</td>\n",
       "      <td>2</td>\n",
       "      <td>1</td>\n",
       "      <td>1</td>\n",
       "      <td>36</td>\n",
       "      <td>22</td>\n",
       "    </tr>\n",
       "    <tr>\n",
       "      <th>4</th>\n",
       "      <td>0</td>\n",
       "      <td>0</td>\n",
       "      <td>0</td>\n",
       "      <td>0</td>\n",
       "      <td>0</td>\n",
       "      <td>2</td>\n",
       "      <td>0</td>\n",
       "      <td>0</td>\n",
       "      <td>1</td>\n",
       "      <td>0</td>\n",
       "      <td>1</td>\n",
       "      <td>4</td>\n",
       "      <td>2</td>\n",
       "      <td>0</td>\n",
       "      <td>17</td>\n",
       "      <td>7</td>\n",
       "      <td>8</td>\n",
       "      <td>0</td>\n",
       "      <td>42</td>\n",
       "      <td>15</td>\n",
       "    </tr>\n",
       "  </tbody>\n",
       "</table>\n",
       "</div>"
      ],
      "text/plain": [
       "   bin_0  bin_1  bin_2  bin_3  bin_4  nom_0  nom_1  nom_2  nom_3  nom_4  \\\n",
       "0      0      0      0      1      1      0      5      2      3      2   \n",
       "1      0      1      0      1      1      0      0      5      0      1   \n",
       "2      0      0      0      0      1      1      0      0      0      3   \n",
       "3      0      1      0      0      1      2      0      2      1      0   \n",
       "4      0      0      0      0      0      2      0      0      1      0   \n",
       "\n",
       "   ord_0  ord_1  ord_2  ord_3  ord_4  day  month  target  ord_5a  ord_5b  \n",
       "0      2      4      1      7      3    2      2       0      36      43  \n",
       "1      1      4      3      0      0    7      8       0      27       5  \n",
       "2      1      2      4      7     17    7      2       0       9      28  \n",
       "3      1      4      0      8      3    2      1       1      36      22  \n",
       "4      1      4      2      0     17    7      8       0      42      15  "
      ]
     },
     "execution_count": 61,
     "metadata": {},
     "output_type": "execute_result"
    }
   ],
   "source": [
    "data.head()"
   ]
  },
  {
   "cell_type": "code",
   "execution_count": null,
   "metadata": {
    "papermill": {
     "duration": 0.113837,
     "end_time": "2021-03-20T15:18:51.641910",
     "exception": false,
     "start_time": "2021-03-20T15:18:51.528073",
     "status": "completed"
    },
    "tags": []
   },
   "outputs": [],
   "source": []
  },
  {
   "cell_type": "code",
   "execution_count": 62,
   "metadata": {
    "execution": {
     "iopub.execute_input": "2021-03-20T15:18:51.872853Z",
     "iopub.status.busy": "2021-03-20T15:18:51.871938Z",
     "iopub.status.idle": "2021-03-20T15:18:51.875209Z",
     "shell.execute_reply": "2021-03-20T15:18:51.874562Z"
    },
    "papermill": {
     "duration": 0.120097,
     "end_time": "2021-03-20T15:18:51.875350",
     "exception": false,
     "start_time": "2021-03-20T15:18:51.755253",
     "status": "completed"
    },
    "tags": []
   },
   "outputs": [],
   "source": [
    "#X = data.drop(['target'], axis = 1)\n",
    "X = df_copy\n",
    "y = data.target"
   ]
  },
  {
   "cell_type": "code",
   "execution_count": 63,
   "metadata": {
    "execution": {
     "iopub.execute_input": "2021-03-20T15:18:52.107528Z",
     "iopub.status.busy": "2021-03-20T15:18:52.106859Z",
     "iopub.status.idle": "2021-03-20T15:18:52.109601Z",
     "shell.execute_reply": "2021-03-20T15:18:52.110038Z"
    },
    "papermill": {
     "duration": 0.12117,
     "end_time": "2021-03-20T15:18:52.110265",
     "exception": false,
     "start_time": "2021-03-20T15:18:51.989095",
     "status": "completed"
    },
    "tags": []
   },
   "outputs": [],
   "source": [
    "# perform feature engineering to encode categorical variables so as to be processed by chi2_feature transform"
   ]
  },
  {
   "cell_type": "code",
   "execution_count": null,
   "metadata": {
    "papermill": {
     "duration": 0.112434,
     "end_time": "2021-03-20T15:18:52.339324",
     "exception": false,
     "start_time": "2021-03-20T15:18:52.226890",
     "status": "completed"
    },
    "tags": []
   },
   "outputs": [],
   "source": []
  },
  {
   "cell_type": "code",
   "execution_count": 64,
   "metadata": {
    "execution": {
     "iopub.execute_input": "2021-03-20T15:18:52.575718Z",
     "iopub.status.busy": "2021-03-20T15:18:52.574921Z",
     "iopub.status.idle": "2021-03-20T15:18:54.965657Z",
     "shell.execute_reply": "2021-03-20T15:18:54.964986Z"
    },
    "papermill": {
     "duration": 2.5131,
     "end_time": "2021-03-20T15:18:54.965810",
     "exception": false,
     "start_time": "2021-03-20T15:18:52.452710",
     "status": "completed"
    },
    "tags": []
   },
   "outputs": [
    {
     "name": "stdout",
     "output_type": "stream",
     "text": [
      "Original Number of Features -> (shape) 212\n",
      "K Best Features (shape)->  10\n"
     ]
    }
   ],
   "source": [
    "chi2_features = SelectKBest(chi2, k = 10)\n",
    "X_kbest_features = chi2_features.fit_transform(X,y)\n",
    "\n",
    "print(\"Original Number of Features -> (shape)\", X.shape[1])\n",
    "\n",
    "print(\"K Best Features (shape)-> \",X_kbest_features.shape[1])\n",
    "\n"
   ]
  },
  {
   "cell_type": "code",
   "execution_count": 65,
   "metadata": {
    "execution": {
     "iopub.execute_input": "2021-03-20T15:18:55.202173Z",
     "iopub.status.busy": "2021-03-20T15:18:55.201225Z",
     "iopub.status.idle": "2021-03-20T15:18:55.205390Z",
     "shell.execute_reply": "2021-03-20T15:18:55.205861Z"
    },
    "papermill": {
     "duration": 0.124512,
     "end_time": "2021-03-20T15:18:55.206038",
     "exception": false,
     "start_time": "2021-03-20T15:18:55.081526",
     "status": "completed"
    },
    "tags": []
   },
   "outputs": [
    {
     "data": {
      "text/plain": [
       "array([[0, 0, 1, ..., 0, 0, 0],\n",
       "       [1, 0, 0, ..., 0, 1, 1],\n",
       "       [0, 1, 0, ..., 1, 0, 0],\n",
       "       ...,\n",
       "       [0, 1, 0, ..., 0, 0, 1],\n",
       "       [1, 0, 0, ..., 0, 0, 0],\n",
       "       [0, 1, 1, ..., 0, 0, 0]], dtype=uint8)"
      ]
     },
     "execution_count": 65,
     "metadata": {},
     "output_type": "execute_result"
    }
   ],
   "source": [
    "X_kbest_features"
   ]
  },
  {
   "cell_type": "code",
   "execution_count": null,
   "metadata": {
    "papermill": {
     "duration": 0.113366,
     "end_time": "2021-03-20T15:18:55.434207",
     "exception": false,
     "start_time": "2021-03-20T15:18:55.320841",
     "status": "completed"
    },
    "tags": []
   },
   "outputs": [],
   "source": []
  },
  {
   "cell_type": "markdown",
   "metadata": {
    "papermill": {
     "duration": 0.113228,
     "end_time": "2021-03-20T15:18:55.661081",
     "exception": false,
     "start_time": "2021-03-20T15:18:55.547853",
     "status": "completed"
    },
    "tags": []
   },
   "source": [
    "### 4. T-Test"
   ]
  },
  {
   "cell_type": "markdown",
   "metadata": {
    "papermill": {
     "duration": 0.113581,
     "end_time": "2021-03-20T15:18:55.888182",
     "exception": false,
     "start_time": "2021-03-20T15:18:55.774601",
     "status": "completed"
    },
    "tags": []
   },
   "source": [
    "t-test also known as Student's t-test compares the two averages (means) and tells you if they are different from each other. <br>\n",
    "Can also tell you how significant the differences are. "
   ]
  },
  {
   "cell_type": "markdown",
   "metadata": {
    "papermill": {
     "duration": 0.114592,
     "end_time": "2021-03-20T15:18:56.117934",
     "exception": false,
     "start_time": "2021-03-20T15:18:56.003342",
     "status": "completed"
    },
    "tags": []
   },
   "source": [
    "**t-score**"
   ]
  },
  {
   "cell_type": "markdown",
   "metadata": {
    "papermill": {
     "duration": 0.1132,
     "end_time": "2021-03-20T15:18:56.345526",
     "exception": false,
     "start_time": "2021-03-20T15:18:56.232326",
     "status": "completed"
    },
    "tags": []
   },
   "source": [
    "**T-Values vs P-Values**"
   ]
  },
  {
   "cell_type": "code",
   "execution_count": null,
   "metadata": {
    "papermill": {
     "duration": 0.113212,
     "end_time": "2021-03-20T15:18:56.572508",
     "exception": false,
     "start_time": "2021-03-20T15:18:56.459296",
     "status": "completed"
    },
    "tags": []
   },
   "outputs": [],
   "source": []
  },
  {
   "cell_type": "markdown",
   "metadata": {
    "papermill": {
     "duration": 0.112977,
     "end_time": "2021-03-20T15:18:56.799516",
     "exception": false,
     "start_time": "2021-03-20T15:18:56.686539",
     "status": "completed"
    },
    "tags": []
   },
   "source": [
    "Types of T-Test <br>\n",
    "* Independent Samples t-test\n",
    "* Paired Sample t-test\n",
    "* One Sample t-test"
   ]
  },
  {
   "cell_type": "markdown",
   "metadata": {
    "papermill": {
     "duration": 0.128431,
     "end_time": "2021-03-20T15:18:57.041853",
     "exception": false,
     "start_time": "2021-03-20T15:18:56.913422",
     "status": "completed"
    },
    "tags": []
   },
   "source": [
    "### 5. Z-Test"
   ]
  },
  {
   "cell_type": "code",
   "execution_count": null,
   "metadata": {
    "papermill": {
     "duration": 0.130951,
     "end_time": "2021-03-20T15:18:57.305511",
     "exception": false,
     "start_time": "2021-03-20T15:18:57.174560",
     "status": "completed"
    },
    "tags": []
   },
   "outputs": [],
   "source": []
  },
  {
   "cell_type": "markdown",
   "metadata": {
    "papermill": {
     "duration": 0.114798,
     "end_time": "2021-03-20T15:18:57.536480",
     "exception": false,
     "start_time": "2021-03-20T15:18:57.421682",
     "status": "completed"
    },
    "tags": []
   },
   "source": [
    "### 6. ANOVA Test"
   ]
  },
  {
   "cell_type": "markdown",
   "metadata": {
    "papermill": {
     "duration": 0.116721,
     "end_time": "2021-03-20T15:18:57.767658",
     "exception": false,
     "start_time": "2021-03-20T15:18:57.650937",
     "status": "completed"
    },
    "tags": []
   },
   "source": [
    "ANOVA -> Analysis of Variance. <br>\n",
    "Helps to compare the means of more than 2 groups. <br>\n",
    "ANOVA F Test is also called omnibus test. <br><br><br>\n",
    "\n",
    "Main types of ANOVA Test -> \n",
    "* One-way or One-factor \n",
    "* Two-way or Two-factor"
   ]
  },
  {
   "cell_type": "markdown",
   "metadata": {
    "papermill": {
     "duration": 0.114387,
     "end_time": "2021-03-20T15:18:57.995857",
     "exception": false,
     "start_time": "2021-03-20T15:18:57.881470",
     "status": "completed"
    },
    "tags": []
   },
   "source": [
    "ANOVA Hypotheses -> <br>\n",
    "* Null Hypotheses = Group means are equal. No variation in the groups. \n",
    "* Alternative Hypothesis = At least, one group is different from other groups."
   ]
  },
  {
   "cell_type": "markdown",
   "metadata": {
    "papermill": {
     "duration": 0.114052,
     "end_time": "2021-03-20T15:18:58.226499",
     "exception": false,
     "start_time": "2021-03-20T15:18:58.112447",
     "status": "completed"
    },
    "tags": []
   },
   "source": [
    "ANOVA Assumptions -> <br><br>\n",
    "* Residuals(experimental error) are normally distributed.(Shapiro-Wilks Test)\n",
    "* Homogenity of variances (variances are equal between treatment groups) (Levene's or Bartlett's Test)\n",
    "* Observations are sampled independently from each other. "
   ]
  },
  {
   "cell_type": "markdown",
   "metadata": {
    "papermill": {
     "duration": 0.113451,
     "end_time": "2021-03-20T15:18:58.453753",
     "exception": false,
     "start_time": "2021-03-20T15:18:58.340302",
     "status": "completed"
    },
    "tags": []
   },
   "source": [
    "ANOVA Working -> <br><br>\n",
    "* Check sample sizes, i.e., Equal number of observations in each group. \n",
    "* Calculate Mean Square for each group (MS) (SS of group/degrees of freedom-1)\n",
    "* Calc Mean Sq. Error (SS Error / df of residuals)\n",
    "* Calc F value (MS of group / MSE)"
   ]
  },
  {
   "cell_type": "markdown",
   "metadata": {
    "papermill": {
     "duration": 0.113777,
     "end_time": "2021-03-20T15:18:58.681155",
     "exception": false,
     "start_time": "2021-03-20T15:18:58.567378",
     "status": "completed"
    },
    "tags": []
   },
   "source": [
    "#### 6.1 One-Way ANOVA Test"
   ]
  },
  {
   "cell_type": "code",
   "execution_count": 66,
   "metadata": {
    "execution": {
     "iopub.execute_input": "2021-03-20T15:18:58.913936Z",
     "iopub.status.busy": "2021-03-20T15:18:58.913303Z",
     "iopub.status.idle": "2021-03-20T15:18:58.916249Z",
     "shell.execute_reply": "2021-03-20T15:18:58.915705Z"
    },
    "papermill": {
     "duration": 0.12145,
     "end_time": "2021-03-20T15:18:58.916392",
     "exception": false,
     "start_time": "2021-03-20T15:18:58.794942",
     "status": "completed"
    },
    "tags": []
   },
   "outputs": [],
   "source": [
    "import random"
   ]
  },
  {
   "cell_type": "code",
   "execution_count": 67,
   "metadata": {
    "execution": {
     "iopub.execute_input": "2021-03-20T15:18:59.157008Z",
     "iopub.status.busy": "2021-03-20T15:18:59.156041Z",
     "iopub.status.idle": "2021-03-20T15:18:59.158750Z",
     "shell.execute_reply": "2021-03-20T15:18:59.158238Z"
    },
    "papermill": {
     "duration": 0.126006,
     "end_time": "2021-03-20T15:18:59.158901",
     "exception": false,
     "start_time": "2021-03-20T15:18:59.032895",
     "status": "completed"
    },
    "tags": []
   },
   "outputs": [],
   "source": [
    "df = pd.DataFrame([random.sample(range(1, 1000), 4) , random.sample(range(1, 1000), 4), random.sample(range(1, 1000), 4), random.sample(range(1, 1000), 4)], columns = ['A', 'B', 'C', \"D\"])"
   ]
  },
  {
   "cell_type": "code",
   "execution_count": 68,
   "metadata": {
    "execution": {
     "iopub.execute_input": "2021-03-20T15:18:59.397481Z",
     "iopub.status.busy": "2021-03-20T15:18:59.396423Z",
     "iopub.status.idle": "2021-03-20T15:18:59.400915Z",
     "shell.execute_reply": "2021-03-20T15:18:59.400439Z"
    },
    "papermill": {
     "duration": 0.127078,
     "end_time": "2021-03-20T15:18:59.401068",
     "exception": false,
     "start_time": "2021-03-20T15:18:59.273990",
     "status": "completed"
    },
    "tags": []
   },
   "outputs": [
    {
     "data": {
      "text/html": [
       "<div>\n",
       "<style scoped>\n",
       "    .dataframe tbody tr th:only-of-type {\n",
       "        vertical-align: middle;\n",
       "    }\n",
       "\n",
       "    .dataframe tbody tr th {\n",
       "        vertical-align: top;\n",
       "    }\n",
       "\n",
       "    .dataframe thead th {\n",
       "        text-align: right;\n",
       "    }\n",
       "</style>\n",
       "<table border=\"1\" class=\"dataframe\">\n",
       "  <thead>\n",
       "    <tr style=\"text-align: right;\">\n",
       "      <th></th>\n",
       "      <th>A</th>\n",
       "      <th>B</th>\n",
       "      <th>C</th>\n",
       "      <th>D</th>\n",
       "    </tr>\n",
       "  </thead>\n",
       "  <tbody>\n",
       "    <tr>\n",
       "      <th>0</th>\n",
       "      <td>729</td>\n",
       "      <td>320</td>\n",
       "      <td>63</td>\n",
       "      <td>104</td>\n",
       "    </tr>\n",
       "    <tr>\n",
       "      <th>1</th>\n",
       "      <td>959</td>\n",
       "      <td>155</td>\n",
       "      <td>794</td>\n",
       "      <td>59</td>\n",
       "    </tr>\n",
       "    <tr>\n",
       "      <th>2</th>\n",
       "      <td>268</td>\n",
       "      <td>988</td>\n",
       "      <td>636</td>\n",
       "      <td>655</td>\n",
       "    </tr>\n",
       "    <tr>\n",
       "      <th>3</th>\n",
       "      <td>167</td>\n",
       "      <td>782</td>\n",
       "      <td>235</td>\n",
       "      <td>854</td>\n",
       "    </tr>\n",
       "  </tbody>\n",
       "</table>\n",
       "</div>"
      ],
      "text/plain": [
       "     A    B    C    D\n",
       "0  729  320   63  104\n",
       "1  959  155  794   59\n",
       "2  268  988  636  655\n",
       "3  167  782  235  854"
      ]
     },
     "execution_count": 68,
     "metadata": {},
     "output_type": "execute_result"
    }
   ],
   "source": [
    "df"
   ]
  },
  {
   "cell_type": "code",
   "execution_count": null,
   "metadata": {
    "papermill": {
     "duration": 0.11539,
     "end_time": "2021-03-20T15:18:59.631065",
     "exception": false,
     "start_time": "2021-03-20T15:18:59.515675",
     "status": "completed"
    },
    "tags": []
   },
   "outputs": [],
   "source": []
  },
  {
   "cell_type": "code",
   "execution_count": null,
   "metadata": {
    "papermill": {
     "duration": 0.117383,
     "end_time": "2021-03-20T15:18:59.863185",
     "exception": false,
     "start_time": "2021-03-20T15:18:59.745802",
     "status": "completed"
    },
    "tags": []
   },
   "outputs": [],
   "source": []
  },
  {
   "cell_type": "markdown",
   "metadata": {
    "papermill": {
     "duration": 0.117469,
     "end_time": "2021-03-20T15:19:00.095817",
     "exception": false,
     "start_time": "2021-03-20T15:18:59.978348",
     "status": "completed"
    },
    "tags": []
   },
   "source": [
    "##### Interpretation"
   ]
  },
  {
   "cell_type": "markdown",
   "metadata": {
    "papermill": {
     "duration": 0.117014,
     "end_time": "2021-03-20T15:19:00.335294",
     "exception": false,
     "start_time": "2021-03-20T15:19:00.218280",
     "status": "completed"
    },
    "tags": []
   },
   "source": [
    "p-value obtained from ANOVA Analysis is significant (p < 0.05), and therefore, we conclude that there are significant differences amongst the groups. "
   ]
  },
  {
   "cell_type": "markdown",
   "metadata": {
    "papermill": {
     "duration": 0.113458,
     "end_time": "2021-03-20T15:19:00.563541",
     "exception": false,
     "start_time": "2021-03-20T15:19:00.450083",
     "status": "completed"
    },
    "tags": []
   },
   "source": [
    "#### 6.2 Two-Way ANOVA Test"
   ]
  },
  {
   "cell_type": "markdown",
   "metadata": {
    "papermill": {
     "duration": 0.113838,
     "end_time": "2021-03-20T15:19:00.791498",
     "exception": false,
     "start_time": "2021-03-20T15:19:00.677660",
     "status": "completed"
    },
    "tags": []
   },
   "source": [
    "In Two-Way ANOVA Test, we have 2 independent variables and their different levels"
   ]
  },
  {
   "cell_type": "code",
   "execution_count": null,
   "metadata": {
    "papermill": {
     "duration": 0.114744,
     "end_time": "2021-03-20T15:19:01.020990",
     "exception": false,
     "start_time": "2021-03-20T15:19:00.906246",
     "status": "completed"
    },
    "tags": []
   },
   "outputs": [],
   "source": []
  },
  {
   "cell_type": "code",
   "execution_count": null,
   "metadata": {
    "papermill": {
     "duration": 0.113365,
     "end_time": "2021-03-20T15:19:01.249914",
     "exception": false,
     "start_time": "2021-03-20T15:19:01.136549",
     "status": "completed"
    },
    "tags": []
   },
   "outputs": [],
   "source": []
  },
  {
   "cell_type": "markdown",
   "metadata": {
    "papermill": {
     "duration": 0.113584,
     "end_time": "2021-03-20T15:19:01.477217",
     "exception": false,
     "start_time": "2021-03-20T15:19:01.363633",
     "status": "completed"
    },
    "tags": []
   },
   "source": []
  },
  {
   "cell_type": "markdown",
   "metadata": {
    "papermill": {
     "duration": 0.114655,
     "end_time": "2021-03-20T15:19:01.706241",
     "exception": false,
     "start_time": "2021-03-20T15:19:01.591586",
     "status": "completed"
    },
    "tags": []
   },
   "source": [
    "### 7. F Stats Test"
   ]
  },
  {
   "cell_type": "code",
   "execution_count": null,
   "metadata": {
    "papermill": {
     "duration": 0.114769,
     "end_time": "2021-03-20T15:19:01.935040",
     "exception": false,
     "start_time": "2021-03-20T15:19:01.820271",
     "status": "completed"
    },
    "tags": []
   },
   "outputs": [],
   "source": []
  },
  {
   "cell_type": "markdown",
   "metadata": {
    "papermill": {
     "duration": 0.151954,
     "end_time": "2021-03-20T15:19:02.202320",
     "exception": false,
     "start_time": "2021-03-20T15:19:02.050366",
     "status": "completed"
    },
    "tags": []
   },
   "source": [
    "### 8. Binomial Distribution"
   ]
  },
  {
   "cell_type": "code",
   "execution_count": null,
   "metadata": {
    "papermill": {
     "duration": 0.112912,
     "end_time": "2021-03-20T15:19:02.428799",
     "exception": false,
     "start_time": "2021-03-20T15:19:02.315887",
     "status": "completed"
    },
    "tags": []
   },
   "outputs": [],
   "source": []
  },
  {
   "cell_type": "code",
   "execution_count": null,
   "metadata": {
    "papermill": {
     "duration": 0.113335,
     "end_time": "2021-03-20T15:19:02.656056",
     "exception": false,
     "start_time": "2021-03-20T15:19:02.542721",
     "status": "completed"
    },
    "tags": []
   },
   "outputs": [],
   "source": []
  },
  {
   "cell_type": "markdown",
   "metadata": {
    "papermill": {
     "duration": 0.113192,
     "end_time": "2021-03-20T15:19:02.883279",
     "exception": false,
     "start_time": "2021-03-20T15:19:02.770087",
     "status": "completed"
    },
    "tags": []
   },
   "source": [
    "### 9. Normal Distribution"
   ]
  },
  {
   "cell_type": "code",
   "execution_count": null,
   "metadata": {
    "papermill": {
     "duration": 0.115313,
     "end_time": "2021-03-20T15:19:03.112583",
     "exception": false,
     "start_time": "2021-03-20T15:19:02.997270",
     "status": "completed"
    },
    "tags": []
   },
   "outputs": [],
   "source": []
  },
  {
   "cell_type": "code",
   "execution_count": null,
   "metadata": {
    "papermill": {
     "duration": 0.113567,
     "end_time": "2021-03-20T15:19:03.340001",
     "exception": false,
     "start_time": "2021-03-20T15:19:03.226434",
     "status": "completed"
    },
    "tags": []
   },
   "outputs": [],
   "source": []
  },
  {
   "cell_type": "markdown",
   "metadata": {
    "papermill": {
     "duration": 0.114525,
     "end_time": "2021-03-20T15:19:03.568785",
     "exception": false,
     "start_time": "2021-03-20T15:19:03.454260",
     "status": "completed"
    },
    "tags": []
   },
   "source": [
    "### 10. Central Limit Theorem"
   ]
  },
  {
   "cell_type": "markdown",
   "metadata": {
    "papermill": {
     "duration": 0.114551,
     "end_time": "2021-03-20T15:19:03.797367",
     "exception": false,
     "start_time": "2021-03-20T15:19:03.682816",
     "status": "completed"
    },
    "tags": []
   },
   "source": [
    "**What it states?** <br><br>\n",
    "Even when a sample is not normally distributed, if you draw multiple samples and take each of their averages, the averages will represent a normal distribution.<br><br>\n",
    "Which means repeated sampling from a not normally distributed sample and taking the means of those repeated samples will end up being a normally distributed sample. <br><br>\n",
    "\n",
    "100 samples in total which are not normally distributed. Take random 10 samples say 50 times and take the mean of these samples. It will come out to be a normally distributed sample."
   ]
  },
  {
   "cell_type": "code",
   "execution_count": null,
   "metadata": {
    "papermill": {
     "duration": 0.114518,
     "end_time": "2021-03-20T15:19:04.025800",
     "exception": false,
     "start_time": "2021-03-20T15:19:03.911282",
     "status": "completed"
    },
    "tags": []
   },
   "outputs": [],
   "source": []
  },
  {
   "cell_type": "markdown",
   "metadata": {
    "papermill": {
     "duration": 0.113788,
     "end_time": "2021-03-20T15:19:04.255092",
     "exception": false,
     "start_time": "2021-03-20T15:19:04.141304",
     "status": "completed"
    },
    "tags": []
   },
   "source": [
    "The following is an experiment of dice roll for 1000 times. <br>\n",
    "for 1000 times, we make samples of samples size 100 where possible outcomes are 1,2,3,4,5,6 <br><br>\n",
    "By plotting the histogram of the sample means, we obtain a normally distributed plot. <br>\n",
    "This is Central Limit Theorem"
   ]
  },
  {
   "cell_type": "code",
   "execution_count": 69,
   "metadata": {
    "execution": {
     "iopub.execute_input": "2021-03-20T15:19:04.491581Z",
     "iopub.status.busy": "2021-03-20T15:19:04.490259Z",
     "iopub.status.idle": "2021-03-20T15:19:04.694302Z",
     "shell.execute_reply": "2021-03-20T15:19:04.693707Z"
    },
    "papermill": {
     "duration": 0.324571,
     "end_time": "2021-03-20T15:19:04.694449",
     "exception": false,
     "start_time": "2021-03-20T15:19:04.369878",
     "status": "completed"
    },
    "tags": []
   },
   "outputs": [
    {
     "data": {
      "image/png": "[encoded data removed]",
      "text/plain": [
       "<Figure size 432x288 with 1 Axes>"
      ]
     },
     "metadata": {
      "needs_background": "light"
     },
     "output_type": "display_data"
    }
   ],
   "source": [
    "\n",
    "means = [np.mean(np.random.randint(1, 7, 100)) for _ in range(1000)]\n",
    "\n",
    "plt.hist(means)\n",
    "plt.show()"
   ]
  },
  {
   "cell_type": "markdown",
   "metadata": {
    "papermill": {
     "duration": 0.117424,
     "end_time": "2021-03-20T15:19:04.928785",
     "exception": false,
     "start_time": "2021-03-20T15:19:04.811361",
     "status": "completed"
    },
    "tags": []
   },
   "source": [
    "##### Key Takeaways :- <br><br>\n",
    "\n",
    "![](https://miro.medium.com/max/366/1*RdIQG331j0tayi50asTOIw.png)\n",
    "\n",
    "![](https://miro.medium.com/max/418/1*dCxzo7E6lmKxHLEg2xZSoQ.png)"
   ]
  },
  {
   "cell_type": "markdown",
   "metadata": {
    "papermill": {
     "duration": 0.118461,
     "end_time": "2021-03-20T15:19:05.162955",
     "exception": false,
     "start_time": "2021-03-20T15:19:05.044494",
     "status": "completed"
    },
    "tags": []
   },
   "source": [
    "You can never experiment with all your customers (population). However, to draw a conclusion for an experiment which is a good representaion of your customers, you need to perform repeated experiments on different set of customers (different samples of the not normally distributed population/sample as per the context) and confirm your hypotheses. "
   ]
  },
  {
   "cell_type": "code",
   "execution_count": null,
   "metadata": {
    "papermill": {
     "duration": 0.115142,
     "end_time": "2021-03-20T15:19:05.395361",
     "exception": false,
     "start_time": "2021-03-20T15:19:05.280219",
     "status": "completed"
    },
    "tags": []
   },
   "outputs": [],
   "source": []
  },
  {
   "cell_type": "code",
   "execution_count": null,
   "metadata": {
    "papermill": {
     "duration": 0.115767,
     "end_time": "2021-03-20T15:19:05.627313",
     "exception": false,
     "start_time": "2021-03-20T15:19:05.511546",
     "status": "completed"
    },
    "tags": []
   },
   "outputs": [],
   "source": []
  },
  {
   "cell_type": "markdown",
   "metadata": {
    "papermill": {
     "duration": 0.13152,
     "end_time": "2021-03-20T15:19:05.874519",
     "exception": false,
     "start_time": "2021-03-20T15:19:05.742999",
     "status": "completed"
    },
    "tags": []
   },
   "source": [
    "### 11. Sample Statistics"
   ]
  },
  {
   "cell_type": "code",
   "execution_count": null,
   "metadata": {
    "papermill": {
     "duration": 0.117164,
     "end_time": "2021-03-20T15:19:06.115074",
     "exception": false,
     "start_time": "2021-03-20T15:19:05.997910",
     "status": "completed"
    },
    "tags": []
   },
   "outputs": [],
   "source": []
  },
  {
   "cell_type": "code",
   "execution_count": null,
   "metadata": {
    "papermill": {
     "duration": 0.114905,
     "end_time": "2021-03-20T15:19:06.345936",
     "exception": false,
     "start_time": "2021-03-20T15:19:06.231031",
     "status": "completed"
    },
    "tags": []
   },
   "outputs": [],
   "source": []
  },
  {
   "cell_type": "code",
   "execution_count": null,
   "metadata": {
    "papermill": {
     "duration": 0.115091,
     "end_time": "2021-03-20T15:19:06.576320",
     "exception": false,
     "start_time": "2021-03-20T15:19:06.461229",
     "status": "completed"
    },
    "tags": []
   },
   "outputs": [],
   "source": []
  },
  {
   "cell_type": "markdown",
   "metadata": {
    "papermill": {
     "duration": 0.115016,
     "end_time": "2021-03-20T15:19:06.806430",
     "exception": false,
     "start_time": "2021-03-20T15:19:06.691414",
     "status": "completed"
    },
    "tags": []
   },
   "source": [
    "### 12. Population Statistics"
   ]
  },
  {
   "cell_type": "code",
   "execution_count": null,
   "metadata": {
    "papermill": {
     "duration": 0.11606,
     "end_time": "2021-03-20T15:19:07.038523",
     "exception": false,
     "start_time": "2021-03-20T15:19:06.922463",
     "status": "completed"
    },
    "tags": []
   },
   "outputs": [],
   "source": []
  },
  {
   "cell_type": "code",
   "execution_count": null,
   "metadata": {
    "papermill": {
     "duration": 0.114881,
     "end_time": "2021-03-20T15:19:07.270621",
     "exception": false,
     "start_time": "2021-03-20T15:19:07.155740",
     "status": "completed"
    },
    "tags": []
   },
   "outputs": [],
   "source": []
  },
  {
   "cell_type": "markdown",
   "metadata": {
    "papermill": {
     "duration": 0.115023,
     "end_time": "2021-03-20T15:19:07.500607",
     "exception": false,
     "start_time": "2021-03-20T15:19:07.385584",
     "status": "completed"
    },
    "tags": []
   },
   "source": [
    "### Notebook in Making.  <br>\n",
    "Est. Date of Completion - 28-03-2021"
   ]
  }
 ],
 "metadata": {
  "kernelspec": {
   "display_name": "Python 3",
   "language": "python",
   "name": "python3"
  },
  "language_info": {
   "codemirror_mode": {
    "name": "ipython",
    "version": 3
   },
   "file_extension": ".py",
   "mimetype": "text/x-python",
   "name": "python",
   "nbconvert_exporter": "python",
   "pygments_lexer": "ipython3",
   "version": "3.7.9"
  },
  "papermill": {
   "default_parameters": {},
   "duration": 56.410711,
   "end_time": "2021-03-20T15:19:08.326907",
   "environment_variables": {},
   "exception": null,
   "input_path": "__notebook__.ipynb",
   "output_path": "__notebook__.ipynb",
   "parameters": {},
   "start_time": "2021-03-20T15:18:11.916196",
   "version": "2.2.2"
  }
 },
 "nbformat": 4,
 "nbformat_minor": 4
}
