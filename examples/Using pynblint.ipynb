{
 "cells": [
  {
   "cell_type": "markdown",
   "metadata": {},
   "source": [
    "# Using pynblint"
   ]
  },
  {
   "cell_type": "markdown",
   "metadata": {},
   "source": [
    "### Imports"
   ]
  },
  {
   "cell_type": "code",
   "execution_count": 1,
   "metadata": {},
   "outputs": [],
   "source": [
    "import pandas as pd\n",
    "import os\n",
    "from pathlib import Path\n",
    "\n",
    "from pynblint.repository import LocalRepository, GitHubRepository"
   ]
  },
  {
   "cell_type": "code",
   "execution_count": 2,
   "metadata": {},
   "outputs": [],
   "source": [
    "cols = [\n",
    "    \"Notebook Name\", \n",
    "    \"Total cells\",\n",
    "    \"MD cells\",\n",
    "    \"Code cells\",\n",
    "    \"Raw cells\",\n",
    "    \"Linear Execution Order\",\n",
    "    \"Classes\",\n",
    "    \"Functions\",\n",
    "    \"Imports in First Cell\",\n",
    "    \"Markdown Lines\",\n",
    "    \"Markdown Titles\",\n",
    "    \"Bottom MD Lines Ratio\",\n",
    "    \"Non-executed Cells\",\n",
    "    \"Empty Cells\",\n",
    "    \"Bottom Non-executed Cells\",\n",
    "    \"Bottom Empty Cells\", \n",
    "    \"Untitled notebook\",\n",
    "    \"Restricted filename charset\",\n",
    "    \"Short filename\"\n",
    "]"
   ]
  },
  {
   "cell_type": "markdown",
   "metadata": {},
   "source": [
    "## Analysis of a github repository"
   ]
  },
  {
   "cell_type": "code",
   "execution_count": null,
   "metadata": {},
   "outputs": [],
   "source": [
    "repo = GitHubRepository('https://github.com/collab-uniba/Sentiment_Analysis_4SE_BERT')"
   ]
  },
  {
   "cell_type": "code",
   "execution_count": null,
   "metadata": {
    "scrolled": true
   },
   "outputs": [],
   "source": [
    "df = pd.DataFrame()\n",
    "\n",
    "for notebook in repo.notebooks:\n",
    "    df_row = pd.json_normalize(notebook.get_pynblint_results(filename_max_length=20))\n",
    "    df_row.columns = cols\n",
    "    df = pd.concat([df, df_row])\n",
    "    \n",
    "repo_linting = repo.get_repo_results()[\"lintingResults\"]\n",
    "if len(repo_linting[\"duplicateFilenames\"])>0:\n",
    "    print(\"There are two or more notebooks called: \")\n",
    "    for filename in repo_linting[\"duplicateFilenames\"]:\n",
    "        print(\"\\\"\"+filename+\"\\\"\"+\" \")\n",
    "else:\n",
    "    print(\"There are no duplicate filenames\")\n",
    "print(\"\\n\")\n",
    "if len(repo_linting[\"untitledNotebooks\"])>0:\n",
    "    print(\"There one or more notebooks at these paths: \")\n",
    "    for path in repo_linting[\"untitledNotebooks\"]:\n",
    "        print(\"\\\"\"+str(path)+\"\\\"\"+\" \")\n",
    "else:\n",
    "    print(\"There are no untitled notebooks\")\n",
    "\n",
    "df"
   ]
  },
  {
   "cell_type": "markdown",
   "metadata": {},
   "source": [
    "## Analysis of a local folder"
   ]
  },
  {
   "cell_type": "code",
   "execution_count": null,
   "metadata": {
    "scrolled": true
   },
   "outputs": [],
   "source": [
    "repo = LocalRepository(Path('../'))\n",
    "\n",
    "df = pd.DataFrame()\n",
    "\n",
    "for notebook in repo.notebooks:\n",
    "    df_row = pd.json_normalize(notebook.get_pynblint_results(filename_max_length=20))\n",
    "    df_row.columns = cols\n",
    "    df = pd.concat([df, df_row])\n",
    "    \n",
    "repo_linting = repo.get_repo_results()[\"lintingResults\"]\n",
    "if len(repo_linting[\"duplicateFilenames\"])>0:\n",
    "    print(\"There are two or more notebooks called: \")\n",
    "    for filename in repo_linting[\"duplicateFilenames\"]:\n",
    "        print(\"\\\"\"+str(filename)+\"\\\"\"+\" \")\n",
    "else:\n",
    "    print(\"There are no duplicate filenames\")\n",
    "print(\"\\n\")\n",
    "if len(repo_linting[\"untitledNotebooks\"])>0:\n",
    "    print(\"There one or more notebooks at these paths that are untitled: \")\n",
    "    for path in repo_linting[\"untitledNotebooks\"]:\n",
    "        print(\"\\\"\"+str(path)+\"\\\"\"+\" \")\n",
    "else:\n",
    "    print(\"There are no untitled notebooks\")\n",
    "print(\"\\n\")\n",
    "if repo_linting[\"isVersioned\"]:\n",
    "    print(\"The current repository is versioned\")\n",
    "else:\n",
    "    print(\"The current repository is not versioned\")\n",
    "print(\"\\n\")  \n",
    "df"
   ]
  }
 ],
 "metadata": {
  "kernelspec": {
   "display_name": "myenv",
   "language": "python",
   "name": "myenv"
  },
  "language_info": {
   "codemirror_mode": {
    "name": "ipython",
    "version": 3
   },
   "file_extension": ".py",
   "mimetype": "text/x-python",
   "name": "python",
   "nbconvert_exporter": "python",
   "pygments_lexer": "ipython3",
   "version": "3.9.5"
  },
  "toc": {
   "base_numbering": 1,
   "nav_menu": {},
   "number_sections": false,
   "sideBar": true,
   "skip_h1_title": false,
   "title_cell": "Table of Contents",
   "title_sidebar": "Contents",
   "toc_cell": false,
   "toc_position": {},
   "toc_section_display": true,
   "toc_window_display": false
  },
  "varInspector": {
   "cols": {
    "lenName": 16,
    "lenType": 16,
    "lenVar": 40
   },
   "kernels_config": {
    "python": {
     "delete_cmd_postfix": "",
     "delete_cmd_prefix": "del ",
     "library": "var_list.py",
     "varRefreshCmd": "print(var_dic_list())"
    },
    "r": {
     "delete_cmd_postfix": ") ",
     "delete_cmd_prefix": "rm(",
     "library": "var_list.r",
     "varRefreshCmd": "cat(var_dic_list()) "
    }
   },
   "types_to_exclude": [
    "module",
    "function",
    "builtin_function_or_method",
    "instance",
    "_Feature"
   ],
   "window_display": false
  }
 },
 "nbformat": 4,
 "nbformat_minor": 1
}
