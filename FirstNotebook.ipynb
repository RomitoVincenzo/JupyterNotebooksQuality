{
 "cells": [
  {
   "cell_type": "code",
   "execution_count": 1,
   "id": "knowing-telescope",
   "metadata": {},
   "outputs": [
    {
     "name": "stdout",
     "output_type": "stream",
     "text": [
      "Hello, this is a jupyter notebook that uses the testEnvKernel from testEnv virtual environment I created with Conda\n"
     ]
    }
   ],
   "source": [
    "print(\"Hello, this is a jupyter notebook that uses the testEnvKernel from testEnv virtual environment I created with Conda\")"
   ]
  },
  {
   "cell_type": "code",
   "execution_count": null,
   "id": "quarterly-wholesale",
   "metadata": {},
   "outputs": [],
   "source": []
  }
 ],
 "metadata": {
  "kernelspec": {
   "display_name": "testEnvKernel",
   "language": "python",
   "name": "testenvkernel"
  },
  "language_info": {
   "codemirror_mode": {
    "name": "ipython",
    "version": 3
   },
   "file_extension": ".py",
   "mimetype": "text/x-python",
   "name": "python",
   "nbconvert_exporter": "python",
   "pygments_lexer": "ipython3",
   "version": "3.6.13"
  }
 },
 "nbformat": 4,
 "nbformat_minor": 5
}
