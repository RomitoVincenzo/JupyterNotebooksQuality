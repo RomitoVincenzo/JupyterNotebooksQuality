{
  "cells": [
    {
      "cell_type": "markdown",
      "metadata": {},
      "source": [
        "# Invalid Syntax\n",
        "\n",
        "This notebook contains invalid Python syntax.\n",
        "\n",
        "It is meant to test the robustness of Pynblint."
      ]
    },
    {
      "cell_type": "code",
      "execution_count": 1,
      "metadata": {},
      "outputs": [
        {
          "name": "stdout",
          "output_type": "stream",
          "text": [
            "Test invalid syntax\n"
          ]
        }
      ],
      "source": [
        "print(\"Test invalid syntax\")"
      ]
    },
    {
      "cell_type": "code",
      "execution_count": null,
      "metadata": {},
      "outputs": [],
      "source": [
        "x = "
      ]
    }
  ],
  "metadata": {
    "interpreter": {
      "hash": "610977a96a05ebdfcd21668b3e0264e9d8733b5a64fd7351248315a5aac06b05"
    },
    "kernelspec": {
      "display_name": "Python 3.7.12 ('pynblint-SWRkmaaF-py3.7')",
      "language": "python",
      "name": "python3"
    },
    "language_info": {
      "codemirror_mode": {
        "name": "ipython",
        "version": 3
      },
      "file_extension": ".py",
      "mimetype": "text/x-python",
      "name": "python",
      "nbconvert_exporter": "python",
      "pygments_lexer": "ipython3",
      "version": "3.7.12"
    },
    "orig_nbformat": 4
  },
  "nbformat": 4,
  "nbformat_minor": 2
}
