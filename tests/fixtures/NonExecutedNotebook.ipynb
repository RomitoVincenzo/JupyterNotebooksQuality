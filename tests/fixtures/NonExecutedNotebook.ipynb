{
 "cells": [
  {
   "cell_type": "markdown",
   "id": "b4b5721f",
   "metadata": {},
   "source": [
    "# All non-executed cells\n",
    "\n",
    "This is a notebook in which all code cells are non executed."
   ]
  },
  {
   "cell_type": "code",
   "execution_count": null,
   "id": "c3be32d4",
   "metadata": {},
   "outputs": [],
   "source": [
    "print (\"This is a non-executed cell\")"
   ]
  },
  {
   "cell_type": "code",
   "execution_count": null,
   "id": "74eb4935",
   "metadata": {},
   "outputs": [],
   "source": [
    "print (\"This is another non-executed cell\")"
   ]
  },
  {
   "cell_type": "markdown",
   "id": "6458c97a",
   "metadata": {},
   "source": [
    "Some more non-executed cells..."
   ]
  },
  {
   "cell_type": "code",
   "execution_count": null,
   "id": "c3de39fc",
   "metadata": {},
   "outputs": [],
   "source": [
    "print (\"This is another non-executed cell\")"
   ]
  },
  {
   "cell_type": "code",
   "execution_count": null,
   "id": "05bae835",
   "metadata": {},
   "outputs": [],
   "source": [
    "print (\"This is another non-executed cell\")"
   ]
  },
  {
   "cell_type": "code",
   "execution_count": null,
   "id": "4b8903fe",
   "metadata": {},
   "outputs": [],
   "source": [
    "print (\"This is another non-executed cell\")"
   ]
  }
 ],
 "metadata": {
  "kernelspec": {
   "display_name": "Python 3 (ipykernel)",
   "language": "python",
   "name": "python3"
  },
  "language_info": {
   "codemirror_mode": {
    "name": "ipython",
    "version": 3
   },
   "file_extension": ".py",
   "mimetype": "text/x-python",
   "name": "python",
   "nbconvert_exporter": "python",
   "pygments_lexer": "ipython3",
   "version": "3.7.12"
  }
 },
 "nbformat": 4,
 "nbformat_minor": 5
}
