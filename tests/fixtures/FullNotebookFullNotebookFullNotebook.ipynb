{
  "cells": [
    {
      "cell_type": "code",
      "execution_count": 1,
      "id": "2a69614d",
      "metadata": {},
      "outputs": [
        {
          "name": "stdout",
          "output_type": "stream",
          "text": [
            "hello\n"
          ]
        }
      ],
      "source": [
        "print(\"hello\")\n",
        "import os"
      ]
    },
    {
      "cell_type": "markdown",
      "id": "0441338e",
      "metadata": {},
      "source": [
        "# hello"
      ]
    },
    {
      "cell_type": "code",
      "execution_count": 2,
      "id": "05b90eb6",
      "metadata": {},
      "outputs": [],
      "source": [
        "def function():\n",
        "    x = \"hello\""
      ]
    },
    {
      "cell_type": "code",
      "execution_count": 3,
      "id": "dcd34cb2",
      "metadata": {},
      "outputs": [
        {
          "name": "stdout",
          "output_type": "stream",
          "text": [
            "hello\n"
          ]
        }
      ],
      "source": [
        "print(\"hello\")"
      ]
    },
    {
      "cell_type": "raw",
      "id": "7a0580bc",
      "metadata": {},
      "source": []
    },
    {
      "cell_type": "markdown",
      "id": "03ed093f",
      "metadata": {},
      "source": [
        "hello"
      ]
    },
    {
      "cell_type": "markdown",
      "id": "af8dc130",
      "metadata": {},
      "source": [
        "hello<br>\n",
        "hello"
      ]
    },
    {
      "cell_type": "markdown",
      "id": "86c9a84b",
      "metadata": {},
      "source": [
        "hello"
      ]
    },
    {
      "cell_type": "code",
      "execution_count": 4,
      "id": "3935a2f7",
      "metadata": {},
      "outputs": [
        {
          "name": "stdout",
          "output_type": "stream",
          "text": [
            "hello\n"
          ]
        }
      ],
      "source": [
        "print(\"hello\")"
      ]
    },
    {
      "cell_type": "code",
      "execution_count": 5,
      "id": "5e4eb2fb",
      "metadata": {},
      "outputs": [
        {
          "name": "stdout",
          "output_type": "stream",
          "text": [
            "hello\n"
          ]
        }
      ],
      "source": [
        "print(\"hello\")"
      ]
    },
    {
      "cell_type": "code",
      "execution_count": 6,
      "id": "fe96018d",
      "metadata": {},
      "outputs": [
        {
          "name": "stdout",
          "output_type": "stream",
          "text": [
            "hello\n"
          ]
        }
      ],
      "source": [
        "print(\"hello\")"
      ]
    },
    {
      "cell_type": "code",
      "execution_count": 7,
      "id": "34083d72",
      "metadata": {},
      "outputs": [
        {
          "name": "stdout",
          "output_type": "stream",
          "text": [
            "hello\n"
          ]
        }
      ],
      "source": [
        "print(\"hello\")"
      ]
    },
    {
      "cell_type": "code",
      "execution_count": 8,
      "id": "3731a3df",
      "metadata": {},
      "outputs": [
        {
          "name": "stdout",
          "output_type": "stream",
          "text": [
            "hello\n"
          ]
        }
      ],
      "source": [
        "print(\"hello\")"
      ]
    },
    {
      "cell_type": "code",
      "execution_count": 9,
      "id": "cb6de946",
      "metadata": {},
      "outputs": [
        {
          "name": "stdout",
          "output_type": "stream",
          "text": [
            "hello\n"
          ]
        }
      ],
      "source": [
        "print(\"hello\")"
      ]
    },
    {
      "cell_type": "markdown",
      "id": "5d1b6e63",
      "metadata": {},
      "source": [
        "hello<br>\n",
        "hello<br>\n",
        "hello"
      ]
    }
  ],
  "metadata": {
    "kernelspec": {
      "display_name": "myenv",
      "language": "python",
      "name": "myenv"
    },
    "language_info": {
      "codemirror_mode": {
        "name": "ipython",
        "version": 3
      },
      "file_extension": ".py",
      "mimetype": "text/x-python",
      "name": "python",
      "nbconvert_exporter": "python",
      "pygments_lexer": "ipython3",
      "version": "3.9.5"
    }
  },
  "nbformat": 4,
  "nbformat_minor": 5
}
