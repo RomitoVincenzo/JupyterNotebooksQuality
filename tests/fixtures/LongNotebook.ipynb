{
  "cells": [
    {
      "cell_type": "code",
      "execution_count": null,
      "metadata": {},
      "outputs": [],
      "source": [
        "print(\"Hello\")\n",
        "print(\"This is a looong cell.\")\n",
        "\n",
        "print(\"Hello\")\n",
        "print(\"This is a looong cell.\")\n",
        "\n",
        "print(\"Hello\")\n",
        "print(\"This is a looong cell.\")\n",
        "\n",
        "print(\"Hello\")\n",
        "print(\"This is a looong cell.\")\n",
        "\n",
        "print(\"Hello\")\n",
        "print(\"This is a looong cell.\")\n",
        "\n",
        "print(\"Hello\")\n",
        "print(\"This is a looong cell.\")\n",
        "\n",
        "print(\"Hello\")\n",
        "print(\"This is a looong cell.\")\n",
        "\n",
        "print(\"Hello\")\n",
        "print(\"This is a looong cell.\")\n",
        "\n",
        "print(\"Hello\")\n",
        "print(\"This is a looong cell.\")\n",
        "\n",
        "print(\"Hello\")\n",
        "print(\"This is a looong cell.\")\n",
        "\n",
        "print(\"Hello\")\n",
        "print(\"This is a looong cell.\")"
      ]
    }
  ],
  "metadata": {
    "language_info": {
      "name": "python"
    },
    "orig_nbformat": 4
  },
  "nbformat": 4,
  "nbformat_minor": 2
}
